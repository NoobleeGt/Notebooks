{
 "cells": [
  {
   "cell_type": "markdown",
   "metadata": {},
   "source": [
    "# Analyse Fréquentielle du RC"
   ]
  },
  {
   "cell_type": "markdown",
   "metadata": {},
   "source": [
    "Soit un circuit RC, dont la constante de temps vaut $\\tau = 20\\, \\mathrm{s}$, de fonction de transfert:"
   ]
  },
  {
   "cell_type": "markdown",
   "metadata": {},
   "source": [
    "$$ H(s) = \\frac{1}{20s + 1} $$"
   ]
  },
  {
   "cell_type": "markdown",
   "metadata": {},
   "source": [
    "On demande de:\n",
    "\n",
    "- Tracer les diagrammes de Bode numériquement en créant votre propre code\n",
    "- Simuler la sortie de ce circuit pour une entrée cosinusoïdale de fréquence $f=0.5\\, \\mathrm{Hz}$ sur 100 secondes avec 10001 points.\n",
    "- Justifier le comportement temporel du circuit RC grâce aux diagrammes de Bode"
   ]
  },
  {
   "cell_type": "markdown",
   "metadata": {},
   "source": [
    "L'exercice peut être réalisé sur Excel ou à l'aide d'un langage de programmation (Python, C++, Java)."
   ]
  },
  {
   "cell_type": "markdown",
   "metadata": {},
   "source": [
    "---"
   ]
  }
 ],
 "metadata": {
  "kernelspec": {
   "display_name": "Python 3",
   "language": "python",
   "name": "python3"
  },
  "language_info": {
   "codemirror_mode": {
    "name": "ipython",
    "version": 3
   },
   "file_extension": ".py",
   "mimetype": "text/x-python",
   "name": "python",
   "nbconvert_exporter": "python",
   "pygments_lexer": "ipython3",
   "version": "3.7.3"
  }
 },
 "nbformat": 4,
 "nbformat_minor": 4
}
