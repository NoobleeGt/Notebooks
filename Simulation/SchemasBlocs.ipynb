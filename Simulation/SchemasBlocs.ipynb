{
 "cells": [
  {
   "cell_type": "markdown",
   "metadata": {},
   "source": [
    "# Schémas blocs"
   ]
  },
  {
   "cell_type": "markdown",
   "metadata": {},
   "source": [
    "Les schémas blocs ou schémas fonctionnels sont une représentation graphique du fonctionnement d'un système physique."
   ]
  },
  {
   "cell_type": "markdown",
   "metadata": {},
   "source": [
    "Ces schémas sont possibles grâce aux propriétés des transformées en S, permettant de transformer un produit de convolution en simple produit."
   ]
  },
  {
   "cell_type": "markdown",
   "metadata": {},
   "source": [
    "Voici un exemple très simple de schéma bloc:"
   ]
  },
  {
   "cell_type": "markdown",
   "metadata": {},
   "source": [
    "<img src=\"./Images/Modelisation/systeme.png\" alt=\"Schéma bloc simple avec 1 système, 1 signal d'entrée et 1 signal de sortie\" width=300>"
   ]
  },
  {
   "cell_type": "markdown",
   "metadata": {},
   "source": [
    "Dans ce schéma, les blocs représentent des systèmes alors que les flèches représentent des signaux. On y retrouve aussi des sommateurs permettant de sommer 2 signaux."
   ]
  },
  {
   "cell_type": "markdown",
   "metadata": {},
   "source": [
    "## Algèbre des schémas"
   ]
  },
  {
   "cell_type": "markdown",
   "metadata": {},
   "source": [
    "Les schémas blocs sont régis par l'algèbre des schémas. Elle permet de déterminer aisément la relation entre les signaux d'entrée et de sortie, même lorsque le système est relativement complexe."
   ]
  },
  {
   "cell_type": "markdown",
   "metadata": {},
   "source": [
    "### Blocs en série"
   ]
  },
  {
   "cell_type": "markdown",
   "metadata": {},
   "source": [
    "Voici la représentation de 2 blocs en série:"
   ]
  },
  {
   "cell_type": "markdown",
   "metadata": {},
   "source": [
    "<img src=\"./Images/SchemasBlocs/blocs_serie.png\" alt=\"Blocs en série\" width=350>"
   ]
  },
  {
   "cell_type": "markdown",
   "metadata": {},
   "source": [
    "Le signal $x$ entre dans le système $S_1$, produisant le signal $y$. Ce dernier alimente le système $S_2$, produisant le signal $z$."
   ]
  },
  {
   "cell_type": "markdown",
   "metadata": {},
   "source": [
    "Mathématiquement, cela donne:\n",
    "\n",
    "\\begin{align}\n",
    "  y &= x * S_1 \\\\\n",
    "  z &= y * S_2\n",
    "\\end{align}\n",
    "\n",
    "En remplaçant $y$ dans la seconde équation, on obtient:\n",
    "$$ z = x * S_1 * S_2 $$"
   ]
  },
  {
   "cell_type": "markdown",
   "metadata": {},
   "source": [
    "Autrement dit, il est possible de voir l'ensemble des 2 systèmes comme un seul système équivalent dont l'entrée serait $x$, la sortie $z$ et le système $S_{eq}=S_1*S_2$."
   ]
  },
  {
   "cell_type": "markdown",
   "metadata": {},
   "source": [
    "### Blocs en parallèle"
   ]
  },
  {
   "cell_type": "markdown",
   "metadata": {},
   "source": [
    "Voici la représentation de 2 blocs en parallèle:"
   ]
  },
  {
   "cell_type": "markdown",
   "metadata": {},
   "source": [
    "<img src=\"./Images/SchemasBlocs/blocs_parallele.png\" alt=\"Blocs en parallèle\" width=350>"
   ]
  },
  {
   "cell_type": "markdown",
   "metadata": {},
   "source": [
    "Le signal $x$ entre dans les système $S_1$ et $S_2$, produisant respectivement les signaux $y_1$ et $y_2$. Ces derniers sont sommés pour donner le signal $z$."
   ]
  },
  {
   "cell_type": "markdown",
   "metadata": {},
   "source": [
    "Mathématiquement, cela donne:\n",
    "\n",
    "\\begin{align}\n",
    "  y_1 &= x * S_1 \\\\\n",
    "  y_2 &= x * S_2 \\\\\n",
    "  z &= y_1 + y_2\n",
    "\\end{align}\n",
    "\n",
    "En remplaçant $y_1$ et $y_2$ dans la troisième équation, on obtient:\n",
    "\n",
    "\\begin{align}\n",
    "  z &= x * S_1 + x * S_2 \\\\\n",
    "  z &= x * (S_1 + S_2)\n",
    "\\end{align}"
   ]
  },
  {
   "cell_type": "markdown",
   "metadata": {},
   "source": [
    "Autrement dit, il est possible de voir l'ensemble des 2 systèmes comme un seul système équivalent dont l'entrée serait $x$, la sortie $z$ et le système $S_{eq}=S_1+S_2$."
   ]
  },
  {
   "cell_type": "markdown",
   "metadata": {},
   "source": [
    "### Blocs en contre-réaction"
   ]
  },
  {
   "cell_type": "markdown",
   "metadata": {},
   "source": [
    "Voici la représentation de 2 blocs en contre-réaction:"
   ]
  },
  {
   "cell_type": "markdown",
   "metadata": {},
   "source": [
    "<img src=\"./Images/SchemasBlocs/blocs_reaction.png\" alt=\"Blocs en contre-réaction\" width=350>"
   ]
  },
  {
   "cell_type": "markdown",
   "metadata": {},
   "source": [
    "Le signal $x$ est sommé au signal $z$, produisant le signal $\\varepsilon$. Celui-ci alimente le système $S_1$ pour donner le signal $y$. Un branchement est alors utilisé sur ce dernier signal pour alimenter le système $S_2$, produisant finalement le signal $z$."
   ]
  },
  {
   "cell_type": "markdown",
   "metadata": {},
   "source": [
    "Mathématiquement, cela donne:\n",
    "\n",
    "\\begin{align}\n",
    "  \\varepsilon &= x - z \\\\\n",
    "  y &= \\varepsilon * S_1 \\\\\n",
    "  z &= y * S_2\n",
    "\\end{align}\n",
    "\n",
    "En remplaçant $z$ dans la première équation, puis $\\varepsilon$ dans la seconde, on obtient:\n",
    "\n",
    "\\begin{align}\n",
    "  \\varepsilon &= x - y * S_2 \\\\\n",
    "  y &= x * S_1 - y * S_1 * S_2\n",
    "\\end{align}\n",
    "\n",
    "En isolant $y$, on obtient finalement:\n",
    "\n",
    "$$ y = \\frac{x * S_1}{1 + S_1 * S_2} $$"
   ]
  },
  {
   "cell_type": "markdown",
   "metadata": {},
   "source": [
    "Autrement dit, il est possible de voir l'ensemble des 2 systèmes comme un seul système équivalent dont l'entrée serait $x$, la sortie $y$ et le système $S_{eq}=\\frac{S_1}{1 + S_1 * S_2}$."
   ]
  },
  {
   "cell_type": "markdown",
   "metadata": {},
   "source": [
    "Si le signe '$-$' du sommateur est remplacé par le signe '$+$', on obtient:\n",
    "\n",
    "$$ y = \\frac{x * S_1}{1 - S_1 * S_2} $$"
   ]
  },
  {
   "cell_type": "markdown",
   "metadata": {},
   "source": [
    "## Réduction de schémas"
   ]
  },
  {
   "cell_type": "markdown",
   "metadata": {},
   "source": [
    "Il existe 7 règles de réduction de schémas blocs. Celles-ci peuvent être utiles lorsque le schéma construit est complexe."
   ]
  },
  {
   "cell_type": "markdown",
   "metadata": {},
   "source": [
    "Plutôt que de les énoncer et les retenir, l'exemple suivant montre la logique de réduction, basée uniquement sur l'équivalence de 2 schémas."
   ]
  },
  {
   "cell_type": "markdown",
   "metadata": {},
   "source": [
    "### Exemple"
   ]
  },
  {
   "cell_type": "markdown",
   "metadata": {},
   "source": [
    "Soit à simplifier le schéma suivant:"
   ]
  },
  {
   "cell_type": "markdown",
   "metadata": {},
   "source": [
    "<img src=\"./Images/SchemasBlocs/exemple_reduction.png\" alt=\"\" width=600>"
   ]
  },
  {
   "cell_type": "markdown",
   "metadata": {},
   "source": [
    "A partir de ce schéma, il n'est pas possible d'appliquer les règles d'algèbres vues précédemment. Il faut donc y apporter des modifications"
   ]
  },
  {
   "cell_type": "markdown",
   "metadata": {},
   "source": [
    "Le déplacement des signaux d'entrée et de sortie du système $S_7$ est représenté à la figure suivante."
   ]
  },
  {
   "cell_type": "markdown",
   "metadata": {},
   "source": [
    "<img src=\"./Images/SchemasBlocs/exemple_reduction_etape1.png\" alt=\"\" width=600>"
   ]
  },
  {
   "cell_type": "markdown",
   "metadata": {},
   "source": [
    "Afin de garder l'équivalence entre les 2 schémas, on remarque que:\n",
    "\n",
    "- l'entrée de $S_7$, appelé $y$, devient le signal $z$\n",
    "- la sortie de $S_7$, soustraite à la sortie de $S_2$, est maintenant soustraite à la sortie de $S_1$"
   ]
  },
  {
   "cell_type": "markdown",
   "metadata": {},
   "source": [
    "Pour garder l'équivalence, il faut alors diviser $S_7$ par $S_5$ et $S_2$."
   ]
  },
  {
   "cell_type": "markdown",
   "metadata": {},
   "source": [
    "A ce stade, 2 schémas blocs en contre-réaction apparaissent:\n",
    "\n",
    "- l'ensemble $S_2$ et $S_3$\n",
    "- l'ensemble $S_5$ et $S_6$"
   ]
  },
  {
   "cell_type": "markdown",
   "metadata": {},
   "source": [
    "Le résultat apparaît à la figure suivante."
   ]
  },
  {
   "cell_type": "markdown",
   "metadata": {},
   "source": [
    "<img src=\"./Images/SchemasBlocs/exemple_reduction_etape2.png\" alt=\"\" width=600>"
   ]
  },
  {
   "cell_type": "markdown",
   "metadata": {},
   "source": [
    "Le schéma devient beaucoup plus simple et on voit à nouveau apparaître une contre-réaction se dessiner. Sa simplification est donnée à la figure suivante."
   ]
  },
  {
   "cell_type": "markdown",
   "metadata": {},
   "source": [
    "<img src=\"./Images/SchemasBlocs/exemple_reduction_etape3.png\" alt=\"\" width=500>"
   ]
  },
  {
   "cell_type": "markdown",
   "metadata": {},
   "source": [
    "Enfin, il est possible de calculer la relation finale:\n",
    "\n",
    "$$ z = v * \\left( S_1 + \\frac{\\frac{S_4 * S_2 * S_5}{(1 + S_2 * S_3) * (1 + S_5 * S_6)}}{1 + \\frac{S_4 * S_2 * S_5 * S_7}{(1 + S_2 * S_3) * (1 + S_5 * S_6) * S_2 * S_5}} \\right) $$"
   ]
  },
  {
   "cell_type": "markdown",
   "metadata": {},
   "source": [
    "## Schémas à base d'intégrateurs"
   ]
  },
  {
   "cell_type": "markdown",
   "metadata": {},
   "source": [
    "Les blocs *systèmes* peuvent souvent contenir des fonctions de transfert. Cependant, ce n'est pas toujours le cas."
   ]
  },
  {
   "cell_type": "markdown",
   "metadata": {},
   "source": [
    "Par exemple, si l'on représente un modèle d'état par les schémas blocs, on n'y retrouvera que des simples additions, multiplications et intégrations."
   ]
  },
  {
   "cell_type": "markdown",
   "metadata": {},
   "source": [
    "Aussi, le matériel industriel possède un langage sous forme de schémas blocs, appelé FBD, ne contenant souvant que les opérations élémentaires citées plus haut."
   ]
  },
  {
   "cell_type": "markdown",
   "metadata": {},
   "source": [
    "Il faut alors être capable de représenter n'importe quel système sous forme de schéma bloc."
   ]
  },
  {
   "cell_type": "markdown",
   "metadata": {},
   "source": [
    "### Exemples"
   ]
  },
  {
   "cell_type": "markdown",
   "metadata": {},
   "source": [
    "#### Fonction de transfert"
   ]
  },
  {
   "cell_type": "markdown",
   "metadata": {},
   "source": [
    "Soit la fonction de transfert suivante:\n",
    "\n",
    "$$ H(s) = \\frac{s^2 + 3s + 1}{s^5 + 3s^4 + 2s^2 + 1} $$"
   ]
  },
  {
   "cell_type": "markdown",
   "metadata": {},
   "source": [
    "Avant de se lancer dans un schéma, il faut faire apparaître des intégrales. Celles-ci sont représentées dans le domaine de Laplace par le facteur $\\frac{1}{s}$."
   ]
  },
  {
   "cell_type": "markdown",
   "metadata": {},
   "source": [
    "En mettant les $s$ d'ordre le plus élevé en évidence au numérateur et au dénominateur, on obtient:\n",
    "\n",
    "$$ H(s) = \\frac{s^2}{s^5} \\frac{1 + \\frac{3}{s} + \\frac{1}{s^2}}{1 + \\frac{3}{s} + \\frac{2}{s^3} + \\frac{1}{s^5}} $$"
   ]
  },
  {
   "cell_type": "markdown",
   "metadata": {},
   "source": [
    "La fonction de transfert étant, par définition, égale à la sortie sur l'entrée, on a:\n",
    "\n",
    "$$ \\frac{Y(s)}{X(s)} = \\frac{1}{s^3} \\frac{1 + \\frac{3}{s} + \\frac{1}{s^2}}{1 + \\frac{3}{s} + \\frac{2}{s^3} + \\frac{1}{s^5}} $$"
   ]
  },
  {
   "cell_type": "markdown",
   "metadata": {},
   "source": [
    "A partir de là, il faut isoler $y(t)$. On obtient cela par les transformations successives suivantes:\n",
    "\n",
    "\\begin{align}\n",
    "  Y(s) \\left(1 + \\frac{3}{s} + \\frac{2}{s^3} + \\frac{1}{s^5}\\right) &= \\frac{X(s)}{s^3} \\left(1 + \\frac{3}{s} + \\frac{1}{s^2}\\right) \\\\\n",
    "  Y(s) + \\frac{3Y(s)}{s} + \\frac{2Y(s)}{s^3} + \\frac{Y(s)}{s^5} &= \\frac{X(s)}{s^3} + \\frac{3X(s)}{s^4} + \\frac{X(s)}{s^5} \\\\\n",
    "  Y(s) &= \\frac{X(s)}{s^3} + \\frac{3X(s)}{s^4} + \\frac{X(s)}{s^5} - \\frac{3Y(s)}{s} - \\frac{2Y(s)}{s^3} - \\frac{Y(s)}{s^5} \\\\\n",
    "  Y(s) &= \\frac{1}{s} \\left( \\frac{X(s)}{s^2} + \\frac{3X(s)}{s^3} + \\frac{X(s)}{s^4} - 3Y(s) - \\frac{2Y(s)}{s^2} - \\frac{Y(s)}{s^4} \\right) \\\\\n",
    "  Y(s) &= \\frac{1}{s} \\left( - 3Y(s) + \\frac{1}{s^2} \\left( X(s) - 2Y(s) + \\frac{3X(s)}{s} + \\frac{X(s)}{s^2}  - \\frac{Y(s)}{s^2} \\right) \\right) \\\\\n",
    "  Y(s) &= \\frac{1}{s} \\left( - 3Y(s) + \\frac{1}{s^2} \\left( X(s) - 2Y(s) + \\frac{1}{s} \\left( 3X(s) + \\frac{1}{s} \\left( X(s) - Y(s) \\right) \\right) \\right) \\right)\n",
    "\\end{align}"
   ]
  },
  {
   "cell_type": "markdown",
   "metadata": {},
   "source": [
    "A partir de la dernière équation, il est facile de construire le schéma bloc liant l'entrée $X(s)$ à la sortie $Y(s)$ en commençant par la parenthèse la plus profonde. Le résultat est donné à la figure suivante:"
   ]
  },
  {
   "cell_type": "markdown",
   "metadata": {},
   "source": [
    "<img src=\"./Images/SchemasBlocs/schema_integrateur.png\" alt=\"Schéma bloc à base d'intégrateurs\" width=800>"
   ]
  },
  {
   "cell_type": "markdown",
   "metadata": {},
   "source": [
    "#### Modèle d'état"
   ]
  },
  {
   "cell_type": "markdown",
   "metadata": {},
   "source": [
    "Soit le modèle d'état suivant:\n",
    "\n",
    "\\begin{align}\n",
    "  \\left[\n",
    "    \\begin{array}{c}\n",
    "      \\dot{x}_1 \\\\\n",
    "      \\dot{x}_2\n",
    "    \\end{array}\n",
    "  \\right]\n",
    "  &= \\left[\n",
    "    \\begin{array}{cc}\n",
    "      0 & 1 \\\\\n",
    "      -40 & -4 \n",
    "    \\end{array}\n",
    "  \\right]\n",
    "  \\left[\n",
    "    \\begin{array}{c}\n",
    "      x_1 \\\\\n",
    "      x_2 \n",
    "    \\end{array}\n",
    "  \\right]\n",
    "  + \\left[\n",
    "    \\begin{array}{c}\n",
    "      0  \\\\\n",
    "      1 \n",
    "    \\end{array}\n",
    "  \\right] u \\\\\n",
    "  y &= \\left[\n",
    "    \\begin{array}{cc}\n",
    "      1 & 0\n",
    "    \\end{array}\n",
    "  \\right]\n",
    "  \\left[\n",
    "    \\begin{array}{c}\n",
    "      x_1 \\\\\n",
    "      x_2 \n",
    "    \\end{array}\n",
    "  \\right]\n",
    "\\end{align}"
   ]
  },
  {
   "cell_type": "markdown",
   "metadata": {},
   "source": [
    "L'équation montre que $\\dot{x}_1=x_2$. Cela signfie que $\\dot{x}_2=\\ddot{x}_1$. Il faut donc intégrer 2 fois $x_2$ pour obtenir $x_2$ et $x_1$."
   ]
  },
  {
   "cell_type": "markdown",
   "metadata": {},
   "source": [
    "Le résultat est présenté à la figure suivante:"
   ]
  },
  {
   "cell_type": "markdown",
   "metadata": {},
   "source": [
    "<img src=\"./Images/SchemasBlocs/schema_integrateur_ss.png\" alt=\"Schéma bloc d'un modèle d'état\" width=400>"
   ]
  }
 ],
 "metadata": {
  "kernelspec": {
   "display_name": "Python 3",
   "language": "python",
   "name": "python3"
  },
  "language_info": {
   "codemirror_mode": {
    "name": "ipython",
    "version": 3
   },
   "file_extension": ".py",
   "mimetype": "text/x-python",
   "name": "python",
   "nbconvert_exporter": "python",
   "pygments_lexer": "ipython3",
   "version": "3.7.3"
  }
 },
 "nbformat": 4,
 "nbformat_minor": 4
}
