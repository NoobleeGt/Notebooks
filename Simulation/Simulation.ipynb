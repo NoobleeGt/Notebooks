{
 "cells": [
  {
   "cell_type": "markdown",
   "metadata": {},
   "source": [
    "# Simulation"
   ]
  },
  {
   "cell_type": "markdown",
   "metadata": {},
   "source": [
    "La simulation du comportement d'un système dynamique consiste à résoudre son équation différentielle en fonction du temps pour des entrées données."
   ]
  },
  {
   "cell_type": "markdown",
   "metadata": {},
   "source": [
    "Pour ce faire, 2 solutions sont possibles:\n",
    "\n",
    "- simulation de la solution obtenue analytiquement\n",
    "- simulation de la solution obtenue numériquement"
   ]
  },
  {
   "cell_type": "markdown",
   "metadata": {},
   "source": [
    "Dans le premier cas, il suffit, pour une entrée donnée, d'utiliser les méthodes mathématiques pour résoudre le problème. Cependant, lorsque le système devient très complexe, la tâche peut être lourde et difficile. C'est la raison pour laquelle elle n'est souvent pas choisie."
   ]
  },
  {
   "cell_type": "markdown",
   "metadata": {},
   "source": [
    "La seconde méthode réalise une approximation numérique de l'équation différentielle, qui est ensuite résolue itérativement. Elle est beaucoup plus simple à mettre en oeuvre mais souffre d'erreurs d'approximations pouvant, dans certains cas, rendre le résultat de la simulation inutilisable."
   ]
  },
  {
   "cell_type": "markdown",
   "metadata": {},
   "source": [
    "Il existe de nombreux algorithmes numériques de résolution d'équations différentielles. Dans le cadre de cette activité, seules les méthodes les plus simples et connues seront vues:\n",
    "\n",
    "- la méthode d'Euler\n",
    "- la méthode de Runge-Kutta 4"
   ]
  },
  {
   "cell_type": "markdown",
   "metadata": {},
   "source": [
    "## Méthodes numériques"
   ]
  },
  {
   "cell_type": "markdown",
   "metadata": {},
   "source": [
    "Les méthodes numériques se basent souvent sur la résolution d'une équation mise sous la forme:\n",
    "\n",
    "$$ \\dot{x} = f(x, u, t) $$"
   ]
  },
  {
   "cell_type": "markdown",
   "metadata": {},
   "source": [
    "C'est donc l'équation d'état sous sa forme générale."
   ]
  },
  {
   "cell_type": "markdown",
   "metadata": {},
   "source": [
    "Les méthodes numériques résolvent l'équation d'état par une approximation numérique de manière itérative, souvent pour un pas de temps fixe imposé."
   ]
  },
  {
   "cell_type": "markdown",
   "metadata": {},
   "source": [
    "### Méthode d'Euler"
   ]
  },
  {
   "cell_type": "markdown",
   "metadata": {},
   "source": [
    "La méthode d'Euler est la méthode la plus simple. Elle résoud directement l'équation en estimant l'état à l'instant suivant grâce à la dérivée à l'instant actuel:\n",
    "\n",
    "$$ x_{i+1} = x_{i} + h * f(x_{i}, u_{i}, i*h) $$\n",
    "\n",
    "avec $h$ le pas de simulation et $i$ l'itération actuelle."
   ]
  },
  {
   "cell_type": "markdown",
   "metadata": {},
   "source": [
    "### Méthode de Runge-Kutta 4"
   ]
  },
  {
   "cell_type": "markdown",
   "metadata": {},
   "source": [
    "La méthode de RK4 est plus complexe et permet d'obtenir des résultats plus précis. Elle se base sur une meilleure estimation de la dérivée."
   ]
  },
  {
   "cell_type": "markdown",
   "metadata": {},
   "source": [
    "Voici l'algorithme complet:\n",
    "\n",
    "\\begin{align}\n",
    "  c_1 &= h * f(x_i, u_i, i * h) \\\\\n",
    "  c_2 &= h * f\\left(x_i + \\frac{1}{2} c_1, u_i, \\left(i + \\frac{1}{2}\\right) * h\\right) \\\\\n",
    "  c_3 &= h * f\\left(x_i + \\frac{1}{2} c_2, u_i, \\left(i + \\frac{1}{2}\\right) * h\\right) \\\\\n",
    "  c_4 &= h * f\\left(x_i + c_3, u_i, (i + 1) * h\\right) \\\\\n",
    "  x_{i+1} &= x_i + \\frac{1}{6} (c_1 + 2c_2 + 2c_3 + c_4)\n",
    "\\end{align}\n",
    "\n",
    "avec $h$ le pas de simulation et $i$ l'itération actuelle."
   ]
  },
  {
   "cell_type": "markdown",
   "metadata": {},
   "source": [
    "### Discussion du pas de simulation"
   ]
  },
  {
   "cell_type": "markdown",
   "metadata": {},
   "source": [
    "Il est assez instinctif de se dire qu'au plus $h$ est petit, au plus les approximations de nos dérivées seront précises. Le résultat final ne pourra qu'être meilleur."
   ]
  },
  {
   "cell_type": "markdown",
   "metadata": {},
   "source": [
    "Cependant, il faut garder à l'esprit les éléments suivants:\n",
    "\n",
    "- au plus $h$ est petit, au plus il faudra d'itérations et la simulation sera trop gourmande en ressources\n",
    "- au plus $h$ est petit, au plus il faut de mémoire pour stocker le résultat de la simulation\n",
    "- en fonction du hardware utilisé et de l'équation à résoudre, si $h$ est très petit, il se peut que la valeur approximée de $\\frac{dx}{dt}$ soit trop petite que pour pouvoir être représentée numériquement par le hardware; l'état n'évolue donc pas et on a l'impression que rien ne se passe"
   ]
  },
  {
   "cell_type": "markdown",
   "metadata": {},
   "source": [
    "## Exercice"
   ]
  },
  {
   "cell_type": "markdown",
   "metadata": {},
   "source": [
    "Soit un circuit RC décrit par l'équation différentielle suivante:\n",
    "\n",
    "$$ 20 \\dot{y} + y = u $$"
   ]
  },
  {
   "cell_type": "markdown",
   "metadata": {},
   "source": [
    "Simuler la sortie du circuit RC pour une entrée échelon unité sur 100 secondes et un pas de simulation $h=0.01\\, \\mathrm{s}$ par les 3 méthodes:\n",
    "\n",
    "- par la solution analytique: pour rappel, la solution de l'équation est $y(t) = 1 - e^{-\\frac{t}{\\tau}}$\n",
    "- par la méthode d'Euler\n",
    "- par la méthode de Runge-Kutta 4"
   ]
  },
  {
   "cell_type": "markdown",
   "metadata": {},
   "source": [
    "Comparer les résultats obtenus entre-eux."
   ]
  },
  {
   "cell_type": "markdown",
   "metadata": {},
   "source": [
    "L'exercice peut être résolu sur Excel."
   ]
  }
 ],
 "metadata": {
  "kernelspec": {
   "display_name": "Python 3",
   "language": "python",
   "name": "python3"
  },
  "language_info": {
   "codemirror_mode": {
    "name": "ipython",
    "version": 3
   },
   "file_extension": ".py",
   "mimetype": "text/x-python",
   "name": "python",
   "nbconvert_exporter": "python",
   "pygments_lexer": "ipython3",
   "version": "3.7.3"
  }
 },
 "nbformat": 4,
 "nbformat_minor": 4
}
