{
 "cells": [
  {
   "cell_type": "markdown",
   "metadata": {},
   "source": [
    "# Solutions Modélisation"
   ]
  },
  {
   "cell_type": "markdown",
   "metadata": {},
   "source": [
    "## Transformées de Laplace"
   ]
  },
  {
   "cell_type": "markdown",
   "metadata": {},
   "source": [
    "#### Exercice 1:"
   ]
  },
  {
   "cell_type": "markdown",
   "metadata": {},
   "source": [
    "En supposant toutes les conditions initiales nulles, la solution est directe en appliquant le théorème de la linéarité ainsi que la transformée de Laplace d'une dérivée:\n",
    "\n",
    "$$ s^2 Y(s) + 2 \\xi \\omega_n s Y(s) + \\omega_n^2 Y(s) = \\omega_n^2 U(s) $$ "
   ]
  },
  {
   "cell_type": "markdown",
   "metadata": {},
   "source": [
    "---"
   ]
  },
  {
   "cell_type": "markdown",
   "metadata": {},
   "source": [
    "#### Exercice 2:"
   ]
  },
  {
   "cell_type": "markdown",
   "metadata": {},
   "source": [
    "1. $F(s) = \\dfrac{1}{s^2 - 3}$"
   ]
  },
  {
   "cell_type": "markdown",
   "metadata": {},
   "source": [
    "Décomposons d'abord la fonction de transfert en somme de fractions simples:\n",
    "\n",
    "\\begin{align}\n",
    "  F(s) &= \\frac{1}{(s-\\sqrt 3)(s+\\sqrt 3)} \\\\\n",
    "  &= \\frac{A}{s - \\sqrt 3} + \\frac{B}{s + \\sqrt 3}\n",
    "\\end{align}"
   ]
  },
  {
   "cell_type": "markdown",
   "metadata": {},
   "source": [
    "Appliquons les limites pour déterminer $A$ et $B$:"
   ]
  },
  {
   "cell_type": "markdown",
   "metadata": {},
   "source": [
    "\\begin{align}\n",
    "  A &= \\lim_{s \\rightarrow \\sqrt 3} F(s) * (s - \\sqrt 3) \\\\\n",
    "  &= \\frac{(s-\\sqrt 3)}{(s-\\sqrt 3)(s+\\sqrt 3)} \\\\\n",
    "  &= \\frac{1}{(s+\\sqrt 3)} \\\\\n",
    "  &= \\frac{\\sqrt 3}{6}\n",
    "\\end{align}"
   ]
  },
  {
   "cell_type": "markdown",
   "metadata": {},
   "source": [
    "\\begin{align}\n",
    "  B &= \\lim_{s \\rightarrow -\\sqrt 3} F(s) * (s + \\sqrt 3) \\\\\n",
    "  &= \\lim_{s \\rightarrow -\\sqrt 3} \\frac{(s+\\sqrt 3)}{(s-\\sqrt 3)(s+\\sqrt 3)} \\\\\n",
    "  &= \\lim_{s \\rightarrow -\\sqrt 3} \\frac{1}{(s-\\sqrt 3)} \\\\\n",
    "  &= -\\frac{\\sqrt 3}{6}\n",
    "\\end{align}"
   ]
  },
  {
   "cell_type": "markdown",
   "metadata": {},
   "source": [
    "La décomposition devient donc:\n",
    "\n",
    "$$ F(s) = \\frac{\\sqrt 3}{2} \\frac{1}{s - \\sqrt 3} - \\frac{\\sqrt 3}{2} \\frac{1}{s + \\sqrt 3} $$"
   ]
  },
  {
   "cell_type": "markdown",
   "metadata": {},
   "source": [
    "En appliquant le résultat de la ligne 6 de la table des transformées, ainsi que le théorème de la linéarité, on obtient:\n",
    "\n",
    "$$ f(t) = \\frac{\\sqrt 3}{2} e^{\\sqrt{3} t} - \\frac{\\sqrt 3}{2} e^{-\\sqrt{3} t} $$"
   ]
  },
  {
   "cell_type": "markdown",
   "metadata": {},
   "source": [
    "---"
   ]
  },
  {
   "cell_type": "markdown",
   "metadata": {},
   "source": [
    "2. $F(s) = \\dfrac{1}{(s + a)^2}$"
   ]
  },
  {
   "cell_type": "markdown",
   "metadata": {},
   "source": [
    "En appliquant la ligne 7 de la table des transformées, la solution est direct:\n",
    "\n",
    "$$ f(t) = t e^{-at} $$"
   ]
  },
  {
   "cell_type": "markdown",
   "metadata": {},
   "source": [
    "---"
   ]
  },
  {
   "cell_type": "markdown",
   "metadata": {},
   "source": [
    "3. $F(s) = \\dfrac{s}{(s+1)^2}$"
   ]
  },
  {
   "cell_type": "markdown",
   "metadata": {},
   "source": [
    "En appliquant la décomposition en sommes de fractions simples, on a:"
   ]
  },
  {
   "cell_type": "markdown",
   "metadata": {},
   "source": [
    "\\begin{align}\n",
    "  F(s) &= \\frac{A}{s+1} + \\frac{B}{(s+1)^2} \\\\\n",
    "  &= \\frac{A(s+1) + B}{(s+1)^2} \\\\\n",
    "  &= \\frac{As + A + B}{(s+1)^2}\n",
    "\\end{align}"
   ]
  },
  {
   "cell_type": "markdown",
   "metadata": {},
   "source": [
    "En égalant des termes de même puissance:"
   ]
  },
  {
   "cell_type": "markdown",
   "metadata": {},
   "source": [
    "\\begin{align}\n",
    "  &\\left\\{ \\begin{array}{l}\n",
    "    1 = A \\\\\n",
    "    0 = A + B \n",
    "  \\end{array} \\right. \\\\\n",
    "  &\\left\\{ \\begin{array}{l}\n",
    "    1 = A \\\\\n",
    "    -1 = B \n",
    "  \\end{array} \\right.\n",
    "\\end{align}"
   ]
  },
  {
   "cell_type": "markdown",
   "metadata": {},
   "source": [
    "On a donc la somme de fractions suivantes:\n",
    "\n",
    "$$ F(s) = \\frac{1}{s+1} + \\frac{-1}{(s+1)^2} $$"
   ]
  },
  {
   "cell_type": "markdown",
   "metadata": {},
   "source": [
    "En appliquant les réultats des lignes 6 et 7 du tableau, on a:\n",
    "\n",
    "$$ f(t) = e^{-t} -te^{-t} = (1 - t) e^{-t} $$"
   ]
  },
  {
   "cell_type": "markdown",
   "metadata": {},
   "source": [
    "---"
   ]
  },
  {
   "cell_type": "markdown",
   "metadata": {},
   "source": [
    "4. $F(s) = \\dfrac{3s}{(s+2)^2(s+1)}$"
   ]
  },
  {
   "cell_type": "markdown",
   "metadata": {},
   "source": [
    "On a, en appliquant les mêmes méthodes que précédemment:"
   ]
  },
  {
   "cell_type": "markdown",
   "metadata": {},
   "source": [
    "\\begin{align}\n",
    "  F(s) &= \\frac{A}{s+2} + \\frac{B}{(s+2)^2} + \\frac{C}{s+1} \\\\\n",
    "  &= \\frac{A(s+2)(s+1) + B(s+1) + C(s+2)^2}{(s+2)^2(s+1)} \\\\\n",
    "  &= \\frac{As^2 + 3As + 2A + Bs + B + Cs^2 + 4Cs + 4C}{(s+2)^2(s+1)}\n",
    "\\end{align}"
   ]
  },
  {
   "cell_type": "markdown",
   "metadata": {},
   "source": [
    "\\begin{align}\n",
    "  & \\left\\{ \\begin{array}{l}\n",
    "    A + C = 0 \\\\\n",
    "    3A + B + 4C = 3 \\\\\n",
    "    2A + B + 4C = 0\n",
    "  \\end{array} \\right. \\\\\n",
    "  & \\left\\{ \\begin{array}{l}\n",
    "    A = -C \\\\\n",
    "    B + C = 3 \\\\\n",
    "    B + 2C = 0\n",
    "  \\end{array} \\right. \\\\\n",
    "  & \\left\\{ \\begin{array}{l}\n",
    "    A = -C \\\\\n",
    "    B = -2C \\\\\n",
    "    -C = 3\n",
    "  \\end{array} \\right. \\\\\n",
    "  & \\left\\{ \\begin{array}{l}\n",
    "    C = -3 \\\\\n",
    "    A = 3 \\\\\n",
    "    B = 6\n",
    "  \\end{array} \\right. \\\\\n",
    "\\end{align}"
   ]
  },
  {
   "cell_type": "markdown",
   "metadata": {},
   "source": [
    "$$ F(s) = \\frac{3}{s+2} + \\frac{6}{(s+2)^2} + \\frac{-3}{s+1} $$"
   ]
  },
  {
   "cell_type": "markdown",
   "metadata": {},
   "source": [
    "$$ f(t) = 3e^{-2t} + 6te^{-2t} -3e^{-t} $$"
   ]
  },
  {
   "cell_type": "markdown",
   "metadata": {},
   "source": [
    "---"
   ]
  },
  {
   "cell_type": "markdown",
   "metadata": {},
   "source": [
    "#### Exercice 3:"
   ]
  },
  {
   "cell_type": "markdown",
   "metadata": {},
   "source": [
    "1. $\\dfrac{dy(t)}{dt} + ay(t) = u(t)$"
   ]
  },
  {
   "cell_type": "markdown",
   "metadata": {},
   "source": [
    "En appliquant le théorème de linéarité, on a:"
   ]
  },
  {
   "cell_type": "markdown",
   "metadata": {},
   "source": [
    "\\begin{align}\n",
    "  sY(s) + aY(s) = U(s) \\\\\n",
    "  (s + a) Y(s) = U(s)\n",
    "\\end{align}"
   ]
  },
  {
   "cell_type": "markdown",
   "metadata": {},
   "source": [
    "En divisant la sortie par l'entrée:"
   ]
  },
  {
   "cell_type": "markdown",
   "metadata": {},
   "source": [
    "$$ \\frac{Y(s)}{U(s)} = \\frac{1}{s + a} $$"
   ]
  },
  {
   "cell_type": "markdown",
   "metadata": {},
   "source": [
    "---"
   ]
  },
  {
   "cell_type": "markdown",
   "metadata": {},
   "source": [
    "2. $\\dfrac{d^2 y(t)}{dt^2} + 2 \\xi \\omega_n \\dfrac{d y(t)}{dt} + \\omega_n^2 y(t) = \\omega_n^2 u(t)$"
   ]
  },
  {
   "cell_type": "markdown",
   "metadata": {},
   "source": [
    "En appliquant les mêmes étapes qu'à l'exercice précédent, on a:\n",
    "\n",
    "\\begin{align}\n",
    "  s^2 Y(s) + 2 \\xi \\omega_n s Y(s) + \\omega_n^2 Y(s) = \\omega_n^2 U(s) \\\\\n",
    "  (s^2 + 2 \\xi \\omega_n s + \\omega_n^2) Y(s) = \\omega_n^2 U(s)\n",
    "\\end{align}"
   ]
  },
  {
   "cell_type": "markdown",
   "metadata": {},
   "source": [
    "La fonction de transfert est donc:"
   ]
  },
  {
   "cell_type": "markdown",
   "metadata": {},
   "source": [
    "$$ \\frac{Y(s)}{U(s)} = \\frac{1}{s^2 + 2 \\xi \\omega_n s + \\omega_n^2} $$"
   ]
  },
  {
   "cell_type": "markdown",
   "metadata": {},
   "source": [
    "---"
   ]
  },
  {
   "cell_type": "markdown",
   "metadata": {},
   "source": [
    "3. $\\dfrac{dy(t)}{dt} + ay(t) = u(t-T)$"
   ]
  },
  {
   "cell_type": "markdown",
   "metadata": {},
   "source": [
    "La transformée de Laplace donne:"
   ]
  },
  {
   "cell_type": "markdown",
   "metadata": {},
   "source": [
    "\\begin{align}\n",
    "  sY(s) + aY(s) = U(s)e^{-sT} \\\\\n",
    "  (s + a) Y(s) = U(s)e^{-sT}\n",
    "\\end{align}"
   ]
  },
  {
   "cell_type": "markdown",
   "metadata": {},
   "source": [
    "D'où, la fonction de transfert suivante:"
   ]
  },
  {
   "cell_type": "markdown",
   "metadata": {},
   "source": [
    "$$ \\frac{Y(s)}{U(s)} = \\frac{e^{-sT}}{s + a} $$"
   ]
  },
  {
   "cell_type": "markdown",
   "metadata": {},
   "source": [
    "---"
   ]
  },
  {
   "cell_type": "markdown",
   "metadata": {},
   "source": [
    "## Modélisation"
   ]
  },
  {
   "cell_type": "markdown",
   "metadata": {},
   "source": [
    "#### Exercice 1:"
   ]
  },
  {
   "cell_type": "markdown",
   "metadata": {},
   "source": [
    "1. Déterminez la fonction de transfert et le modèle d'état lorsque la sortie est $u_c(t)$"
   ]
  },
  {
   "cell_type": "markdown",
   "metadata": {},
   "source": [
    "Recherche de la fonction de transfert:"
   ]
  },
  {
   "cell_type": "markdown",
   "metadata": {},
   "source": [
    "Par la loi des mailles, on a:"
   ]
  },
  {
   "cell_type": "markdown",
   "metadata": {},
   "source": [
    "\\begin{align}\n",
    "  u_{in}(t) &= u_r(t) + u_c(t) \\\\\n",
    "  &= Ri(t) + u_c(t) \\\\\n",
    "  &= RC\\frac{du_c(t)}{dt} + u_c(t) \\\\\n",
    "  U_{in}(s) &= RC s U_c(s) + U_c(s)\n",
    "\\end{align}"
   ]
  },
  {
   "cell_type": "markdown",
   "metadata": {},
   "source": [
    "La fonction de transfert est donc:"
   ]
  },
  {
   "cell_type": "markdown",
   "metadata": {},
   "source": [
    "$$ \\frac{U_c(s)}{U_{in}(s)} = \\frac{1}{RCs + 1} $$"
   ]
  },
  {
   "cell_type": "markdown",
   "metadata": {},
   "source": [
    "Par le diviseur de tension et les impédances, le résultat est assez rapide:"
   ]
  },
  {
   "cell_type": "markdown",
   "metadata": {},
   "source": [
    "\\begin{align}\n",
    "  U_c &= U_{in} \\frac{\\dfrac{1}{j\\omega C}}{R + \\dfrac{1}{j\\omega C}} \\\\\n",
    "  \\frac{U_c}{U_{in}} &= \\frac{1}{RCj\\omega + 1}\n",
    "\\end{align}"
   ]
  },
  {
   "cell_type": "markdown",
   "metadata": {},
   "source": [
    "En remplaçant $j\\omega$ par $s$:"
   ]
  },
  {
   "cell_type": "markdown",
   "metadata": {},
   "source": [
    "$$ \\frac{U_c(s)}{U_{in}(s)} = \\frac{1}{RCs + 1} $$"
   ]
  },
  {
   "cell_type": "markdown",
   "metadata": {},
   "source": [
    "Recherche du modèle d'état:"
   ]
  },
  {
   "cell_type": "markdown",
   "metadata": {},
   "source": [
    "Reprenons la loi des mailles:"
   ]
  },
  {
   "cell_type": "markdown",
   "metadata": {},
   "source": [
    "$$ u_{in}(t) = RC\\frac{du_c(t)}{dt} + u_c(t) $$ "
   ]
  },
  {
   "cell_type": "markdown",
   "metadata": {},
   "source": [
    "En posant $x=u_c$, $y=u_c$, $u=u_{in}$, l'équation devient:"
   ]
  },
  {
   "cell_type": "markdown",
   "metadata": {},
   "source": [
    "$$  u = RC \\dot{x} + x $$"
   ]
  },
  {
   "cell_type": "markdown",
   "metadata": {},
   "source": [
    "En remettant de l'ordre et en ajoutant l'équation de sortie, on a:"
   ]
  },
  {
   "cell_type": "markdown",
   "metadata": {},
   "source": [
    "$$\n",
    "  \\left\\{ \\begin{array}{l}\n",
    "    \\dot{x} = -\\frac{1}{RC} x + \\frac{1}{RC} u \\\\\n",
    "    y = x\n",
    "  \\end{array} \\right.\n",
    "$$"
   ]
  },
  {
   "cell_type": "markdown",
   "metadata": {},
   "source": [
    "---"
   ]
  },
  {
   "cell_type": "markdown",
   "metadata": {},
   "source": [
    "2. Déterminez la fonction de transfert et le modèle d'état lorsque la sortie est $u_r(t)$"
   ]
  },
  {
   "cell_type": "markdown",
   "metadata": {},
   "source": [
    "Recherche de la fonction de transfert:"
   ]
  },
  {
   "cell_type": "markdown",
   "metadata": {},
   "source": [
    "Par la loi des mailles, on a:"
   ]
  },
  {
   "cell_type": "markdown",
   "metadata": {},
   "source": [
    "\\begin{align}\n",
    "  u_{in}(t) &= u_r(t) + u_c(t) \\\\\n",
    "  u_{in}(t) &= u_r(t) + \\frac{1}{C}\\int i(t)dt \\\\\n",
    "  u_{in}(t) &= u_r(t) + \\frac{1}{RC}\\int u_r(t)dt \\\\\n",
    "  U_{in}(s) &= U_r(s) + \\frac{1}{RC} \\frac{U_r(s)}{s} \\\\\n",
    "  RCs U_{in}(s) &= RCs U_r(s) + U_r(s)\n",
    "\\end{align}"
   ]
  },
  {
   "cell_type": "markdown",
   "metadata": {},
   "source": [
    "La fonction de transfert est donc:"
   ]
  },
  {
   "cell_type": "markdown",
   "metadata": {},
   "source": [
    "$$ \\frac{U_r(s)}{U_{in}(s)} = \\frac{RCs}{RCs + 1} $$"
   ]
  },
  {
   "cell_type": "markdown",
   "metadata": {},
   "source": [
    "Par le diviseur de tension et les impédances, le résultat est assez rapide:"
   ]
  },
  {
   "cell_type": "markdown",
   "metadata": {},
   "source": [
    "\\begin{align}\n",
    "  U_r &= U_{in} \\frac{R}{R + \\dfrac{1}{j\\omega C}} \\\\\n",
    "  \\frac{U_r}{U_{in}} &= \\frac{RCj\\omega}{RCj\\omega + 1}\n",
    "\\end{align}"
   ]
  },
  {
   "cell_type": "markdown",
   "metadata": {},
   "source": [
    "En remplaçant $j\\omega$ par $s$:"
   ]
  },
  {
   "cell_type": "markdown",
   "metadata": {},
   "source": [
    "$$ \\frac{U_r(s)}{U_{in}(s)} = \\frac{RCs}{RCs + 1} $$"
   ]
  },
  {
   "cell_type": "markdown",
   "metadata": {},
   "source": [
    "Recherche du modèle d'état:"
   ]
  },
  {
   "cell_type": "markdown",
   "metadata": {},
   "source": [
    "Reprenons la loi des mailles:"
   ]
  },
  {
   "cell_type": "markdown",
   "metadata": {},
   "source": [
    "$$ u_{in}(t) = RC\\frac{du_c(t)}{dt} + u_c(t) $$ "
   ]
  },
  {
   "cell_type": "markdown",
   "metadata": {},
   "source": [
    "En posant $x=u_c$, $y=u_r$, $u=u_{in}$, l'équation devient:"
   ]
  },
  {
   "cell_type": "markdown",
   "metadata": {},
   "source": [
    "$$  u = RC \\dot{x} + x $$"
   ]
  },
  {
   "cell_type": "markdown",
   "metadata": {},
   "source": [
    "En remettant de l'ordre et en ajoutant l'équation de sortie, on a:"
   ]
  },
  {
   "cell_type": "markdown",
   "metadata": {},
   "source": [
    "$$\n",
    "  \\left\\{ \\begin{array}{l}\n",
    "    \\dot{x} = -\\frac{1}{RC} x + \\frac{1}{RC} u \\\\\n",
    "    y = -x + u\n",
    "  \\end{array} \\right.\n",
    "$$"
   ]
  },
  {
   "cell_type": "markdown",
   "metadata": {},
   "source": [
    "---"
   ]
  },
  {
   "cell_type": "markdown",
   "metadata": {},
   "source": [
    "3. Déterminez le modèle d'état lorsque les sorties sont $u_c(t)$ et $u_r(t)$"
   ]
  },
  {
   "cell_type": "markdown",
   "metadata": {},
   "source": [
    "Comme l'état est toujours le même, l'équation d'état ne change pas. Par contre, le système possède 2 sorties."
   ]
  },
  {
   "cell_type": "markdown",
   "metadata": {},
   "source": [
    "$$\n",
    "  \\left\\{ \\begin{array}{l}\n",
    "    \\dot{x} = -\\frac{1}{RC} x + \\frac{1}{RC} u \\\\\n",
    "    y_1 = x \\\\\n",
    "    y_2 = -x + u\n",
    "  \\end{array} \\right.\n",
    "$$"
   ]
  },
  {
   "cell_type": "markdown",
   "metadata": {},
   "source": [
    "Sous forme vectorielle, on a:"
   ]
  },
  {
   "cell_type": "markdown",
   "metadata": {},
   "source": [
    "$$\n",
    "  \\left\\{ \\begin{array}{l}\n",
    "    \\dot{x} = -\\frac{1}{RC} x + \\frac{1}{RC} u \\\\\n",
    "    \\left[ \\begin{array}{c}\n",
    "      y_1 \\\\\n",
    "      y_2\n",
    "    \\end{array} \\right] = \\left[ \\begin{array}{c}\n",
    "      1 \\\\\n",
    "      -1\n",
    "    \\end{array} \\right] x + \\left[ \\begin{array}{c}\n",
    "      0 \\\\\n",
    "      1\n",
    "    \\end{array} \\right] u    \n",
    "  \\end{array} \\right.\n",
    "$$"
   ]
  },
  {
   "cell_type": "markdown",
   "metadata": {},
   "source": [
    "---"
   ]
  },
  {
   "cell_type": "markdown",
   "metadata": {},
   "source": [
    "4. Calculez la sortie $u_c(t)$ pour $u_{in}(t)$ égal à une impuslion unité"
   ]
  },
  {
   "cell_type": "markdown",
   "metadata": {},
   "source": [
    "La sortie dans le domaine de Laplace, en reprenant la fonction de transfert, s'écrit:"
   ]
  },
  {
   "cell_type": "markdown",
   "metadata": {},
   "source": [
    "$$ U_c(s) = \\frac{1}{RCs + 1} U_{in}(s) $$"
   ]
  },
  {
   "cell_type": "markdown",
   "metadata": {},
   "source": [
    "Pour une impulsion, $U_{in}(s) = 1$ et donc:"
   ]
  },
  {
   "cell_type": "markdown",
   "metadata": {},
   "source": [
    "$$ U_c(s) = \\frac{1}{RCs + 1} $$"
   ]
  },
  {
   "cell_type": "markdown",
   "metadata": {},
   "source": [
    "La transformée inverse est obtenue grâce à la table des transformées:"
   ]
  },
  {
   "cell_type": "markdown",
   "metadata": {},
   "source": [
    "\\begin{align}\n",
    "  U_c(s) &= \\frac{1}{RC} \\frac{1}{s + \\frac{1}{RC}} \\\\\n",
    "  u_c(t) &= \\frac{1}{RC} e^{-\\frac{t}{RC}}\n",
    "\\end{align}"
   ]
  },
  {
   "cell_type": "markdown",
   "metadata": {},
   "source": [
    "---"
   ]
  },
  {
   "cell_type": "markdown",
   "metadata": {},
   "source": [
    "5. Calculez la sortie $u_c(t)$ pour $u_{in}(t)$ égal à un échelon unité"
   ]
  },
  {
   "cell_type": "markdown",
   "metadata": {},
   "source": [
    "Pour un échelon, $U_{in}(s) = \\dfrac{1}{s}$ et donc:"
   ]
  },
  {
   "cell_type": "markdown",
   "metadata": {},
   "source": [
    "$$ U_c(s) = \\frac{1}{RCs + 1}\\frac{1}{s} $$"
   ]
  },
  {
   "cell_type": "markdown",
   "metadata": {},
   "source": [
    "La transformée inverse est obtenue grâce à la table des transformées, après avoir effectué une décomposition en sommes de fractions simples:"
   ]
  },
  {
   "cell_type": "markdown",
   "metadata": {},
   "source": [
    "\\begin{align}\n",
    "  U_c(s) &= \\frac{1}{RC} \\frac{1}{s + \\frac{1}{RC}} \\frac{1}{s} \\\\\n",
    "  &= \\frac{A}{s} + \\frac{B}{s + \\frac{1}{RC}}\n",
    "\\end{align}"
   ]
  },
  {
   "cell_type": "markdown",
   "metadata": {},
   "source": [
    "On obtient les termes A et B aisément par les limites:"
   ]
  },
  {
   "cell_type": "markdown",
   "metadata": {},
   "source": [
    "\\begin{align}\n",
    "  A &= \\lim_{s \\rightarrow 0} F(s)*s \\\\\n",
    "  &= 1 \\\\\n",
    "  B &= \\lim_{s \\rightarrow -\\frac{1}{RC}} F(s)*(s + \\frac{1}{RC}) \\\\\n",
    "  &= -1\n",
    "\\end{align}"
   ]
  },
  {
   "cell_type": "markdown",
   "metadata": {},
   "source": [
    "On a alors:"
   ]
  },
  {
   "cell_type": "markdown",
   "metadata": {},
   "source": [
    "\\begin{align}\n",
    "  U_c(s) &= \\frac{1}{s} - \\frac{1}{s + \\frac{1}{RC}} \\\\\n",
    "  u_c(t) &= 1 - e^{-\\frac{t}{RC}}\n",
    "\\end{align}"
   ]
  },
  {
   "cell_type": "markdown",
   "metadata": {},
   "source": [
    "---"
   ]
  },
  {
   "cell_type": "markdown",
   "metadata": {},
   "source": [
    "#### Exercice 2:"
   ]
  },
  {
   "cell_type": "markdown",
   "metadata": {},
   "source": [
    "1. Déterminez la fonction de transfert et le modèle d'état lorsque la sortie est $u_l(t)$"
   ]
  },
  {
   "cell_type": "markdown",
   "metadata": {},
   "source": [
    "Par la loi des mailles, on a:"
   ]
  },
  {
   "cell_type": "markdown",
   "metadata": {},
   "source": [
    "\\begin{align}\n",
    "  u_{in}(t) &= u_r(t) + u_l(t) \\\\\n",
    "  &= Ri(t) + u_l(t) \\\\\n",
    "  &= \\frac{R}{L} \\int u_l(t)dt + u_l(t)\n",
    "\\end{align}"
   ]
  },
  {
   "cell_type": "markdown",
   "metadata": {},
   "source": [
    "Par la transformée de Laplace, l'équation devient:"
   ]
  },
  {
   "cell_type": "markdown",
   "metadata": {},
   "source": [
    "\\begin{align}\n",
    "  U_{in}(s) &= \\frac{R}{L} \\frac{U_l(s)}{s} + U_l(s) \\\\\n",
    "  s U_{in}(s) &= \\frac{R}{L} U_l(s) + s U_l(s) \\\\\n",
    "  s U_{in}(s) &= (\\frac{R}{L} + s) U_l(s) \\\\\n",
    "  \\frac{U_l(s)}{U_{in}(s)} &= \\frac{s}{\\frac{R}{L} + s} \\\\\n",
    "  \\frac{U_l(s)}{U_{in}(s)} &= \\frac{L}{R} \\frac{s}{1 + \\frac{L}{R}s}\n",
    "\\end{align}"
   ]
  },
  {
   "cell_type": "markdown",
   "metadata": {},
   "source": [
    "Pour obtenir le modèle d'état, reprenons l'équation différentielle:"
   ]
  },
  {
   "cell_type": "markdown",
   "metadata": {},
   "source": [
    "$$ u_{in}(t) = Ri(t) + u_l(t) $$"
   ]
  },
  {
   "cell_type": "markdown",
   "metadata": {},
   "source": [
    "En posant $u=u_{in}(t)$, $x=i(t)$ et $y=u_l(t)$, on peut écrire:"
   ]
  },
  {
   "cell_type": "markdown",
   "metadata": {},
   "source": [
    "$$ u = Rx + y $$"
   ]
  },
  {
   "cell_type": "markdown",
   "metadata": {},
   "source": [
    "Cependant, nous savons que $u_l(t) = L \\frac{di(t)}{dt}$. On a alors:"
   ]
  },
  {
   "cell_type": "markdown",
   "metadata": {},
   "source": [
    "\\begin{align}\n",
    "  u &= Rx + L\\dot{x} \\\\\n",
    "  \\dot{x} &= -\\frac{R}{L}x + \\frac{1}{L} u\n",
    "\\end{align}"
   ]
  },
  {
   "cell_type": "markdown",
   "metadata": {},
   "source": [
    "Le modèle d'état s'écrit alors:"
   ]
  },
  {
   "cell_type": "markdown",
   "metadata": {},
   "source": [
    "$$\n",
    "  \\left\\{ \\begin{array}{l}\n",
    "    \\dot{x} = -\\frac{R}{L}x + \\frac{1}{L}u \\\\\n",
    "    y = -Rx + u\n",
    "  \\end{array} \\right.\n",
    "$$"
   ]
  },
  {
   "cell_type": "markdown",
   "metadata": {},
   "source": [
    "---"
   ]
  },
  {
   "cell_type": "markdown",
   "metadata": {},
   "source": [
    "2. Déterminez la fonction de transfert et le modèle d'état lorsque la sortie est $u_r(t)$"
   ]
  },
  {
   "cell_type": "markdown",
   "metadata": {},
   "source": [
    "Par la loi des mailles, on a:"
   ]
  },
  {
   "cell_type": "markdown",
   "metadata": {},
   "source": [
    "\\begin{align}\n",
    "  u_{in}(t) &= u_r(t) + u_l(t) \\\\\n",
    "  &= u_r(t) + L \\frac{di(t)}{dt} \\\\\n",
    "  &= u_r(t) + \\frac{L}{R} \\frac{du_r(t)}{dt}\n",
    "\\end{align}"
   ]
  },
  {
   "cell_type": "markdown",
   "metadata": {},
   "source": [
    "Par la transformée de Laplace, l'équation devient:"
   ]
  },
  {
   "cell_type": "markdown",
   "metadata": {},
   "source": [
    "\\begin{align}\n",
    "  U_{in}(s) &= U_r(s) + \\frac{L}{R} sU_r(s) \\\\\n",
    "  U_{in}(s) &= (1 + \\frac{L}{R} s) U_r(s) \\\\\n",
    "  \\frac{U_r(s)}{U_{in}(s)} &= \\frac{1}{1 + \\frac{L}{R} s}\n",
    "\\end{align}"
   ]
  },
  {
   "cell_type": "markdown",
   "metadata": {},
   "source": [
    "Pour obtenir le modèle d'état, reprenons l'équation différentielle:"
   ]
  },
  {
   "cell_type": "markdown",
   "metadata": {},
   "source": [
    "$$ u_{in}(t) = u_r(t) + L \\frac{di(t)}{dt} $$"
   ]
  },
  {
   "cell_type": "markdown",
   "metadata": {},
   "source": [
    "En posant $u=u_{in}(t)$, $x=i(t)$ et $y=u_r(t)$, on peut écrire:"
   ]
  },
  {
   "cell_type": "markdown",
   "metadata": {},
   "source": [
    "\\begin{align}\n",
    "  u &= Ri(t) + L\\frac{di(t)}{dt} \\\\\n",
    "  \\dot{x} &= -\\frac{R}{L}x + \\frac{1}{L}u\n",
    "\\end{align}"
   ]
  },
  {
   "cell_type": "markdown",
   "metadata": {},
   "source": [
    "Nous savons que $u_r(t) = Ri(t)$. L'équation de sortie s'écrit alors:"
   ]
  },
  {
   "cell_type": "markdown",
   "metadata": {},
   "source": [
    "$$ y = Rx $$"
   ]
  },
  {
   "cell_type": "markdown",
   "metadata": {},
   "source": [
    "Le modèle d'état s'écrit alors:"
   ]
  },
  {
   "cell_type": "markdown",
   "metadata": {},
   "source": [
    "$$\n",
    "  \\left\\{ \\begin{array}{l}\n",
    "    \\dot{x} = -\\frac{R}{L}x + \\frac{1}{L}u \\\\\n",
    "    y = Rx\n",
    "  \\end{array} \\right.\n",
    "$$"
   ]
  },
  {
   "cell_type": "markdown",
   "metadata": {},
   "source": [
    "---"
   ]
  },
  {
   "cell_type": "markdown",
   "metadata": {},
   "source": [
    "3. Déterminez le modèle d'état lorsque les sorties sont $u_l(t)$ et $u_r(t)$"
   ]
  },
  {
   "cell_type": "markdown",
   "metadata": {},
   "source": [
    "Comme l'état est toujours le même, l'équation d'état ne change pas. Par contre, le système possède 2 sorties."
   ]
  },
  {
   "cell_type": "markdown",
   "metadata": {},
   "source": [
    "$$\n",
    "  \\left\\{ \\begin{array}{l}\n",
    "    \\dot{x} = -\\frac{R}{L}x + \\frac{1}{L}u \\\\\n",
    "    y_1 = Rx \\\\\n",
    "    y_2 = -Rx + u\n",
    "  \\end{array} \\right.\n",
    "$$"
   ]
  },
  {
   "cell_type": "markdown",
   "metadata": {},
   "source": [
    "Sous forme vectorielle, on a:"
   ]
  },
  {
   "cell_type": "markdown",
   "metadata": {},
   "source": [
    "$$\n",
    "  \\left\\{ \\begin{array}{l}\n",
    "    \\dot{x} = -\\frac{R}{L} x + \\frac{1}{L} u \\\\\n",
    "    \\left[ \\begin{array}{c}\n",
    "      y_1 \\\\\n",
    "      y_2\n",
    "    \\end{array} \\right] = \\left[ \\begin{array}{c}\n",
    "      R \\\\\n",
    "      -R\n",
    "    \\end{array} \\right] x + \\left[ \\begin{array}{c}\n",
    "      0 \\\\\n",
    "      1\n",
    "    \\end{array} \\right] u    \n",
    "  \\end{array} \\right.\n",
    "$$"
   ]
  }
 ],
 "metadata": {
  "kernelspec": {
   "display_name": "Python 3",
   "language": "python",
   "name": "python3"
  },
  "language_info": {
   "codemirror_mode": {
    "name": "ipython",
    "version": 3
   },
   "file_extension": ".py",
   "mimetype": "text/x-python",
   "name": "python",
   "nbconvert_exporter": "python",
   "pygments_lexer": "ipython3",
   "version": "3.7.3"
  }
 },
 "nbformat": 4,
 "nbformat_minor": 4
}
