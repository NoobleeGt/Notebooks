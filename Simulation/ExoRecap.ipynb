{
 "cells": [
  {
   "cell_type": "markdown",
   "metadata": {},
   "source": [
    "# Exercice récapitulatif"
   ]
  },
  {
   "cell_type": "markdown",
   "metadata": {},
   "source": [
    "Soit le circuit suivant, représentant un transformateur monophasé alimentant une charge RC:"
   ]
  },
  {
   "cell_type": "markdown",
   "metadata": {},
   "source": [
    "<img src=\"./Images/ExoRecap/exo_recap.png\" alt=\"Schéma équivalent d'un transformateur monophasé sur charge RC\" width=700>"
   ]
  },
  {
   "cell_type": "markdown",
   "metadata": {},
   "source": [
    "Les différents éléments possèdent les valeurs suivantes:\n",
    "\n",
    "- $R_1 = R_2 = 0.4\\, \\Omega$\n",
    "- $L_1 = L_2 = 700\\, \\mu\\mathrm{H}$\n",
    "- $R_3 = 1.19\\, \\mathrm{k}\\Omega$\n",
    "- $L_3 = 1.175\\, \\mathrm{H}$\n",
    "- $R = 38.44\\, \\Omega$\n",
    "- $C = 56.8\\, \\mu\\mathrm{F}$"
   ]
  },
  {
   "cell_type": "markdown",
   "metadata": {},
   "source": [
    "On demande de:\n",
    "\n",
    "1. Déterminer la fonction de transfert reliant $U_o$ et $U_i$\n",
    "2. Déterminer le modèle d'état du système en considérant la tension $U_C$, le courant $I_C$ et le courant $I_R$ comme sorties"
   ]
  },
  {
   "cell_type": "markdown",
   "metadata": {},
   "source": [
    "---"
   ]
  },
  {
   "cell_type": "markdown",
   "metadata": {},
   "source": [
    "1. Déterminer la fonction de transfert reliant $U_o$ et $U_i$"
   ]
  },
  {
   "cell_type": "markdown",
   "metadata": {},
   "source": [
    "Le schéma suivant représente la méthodologie adoptée pour arriver au résultat voulu:"
   ]
  },
  {
   "cell_type": "markdown",
   "metadata": {},
   "source": [
    "<img src=\"./Images/ExoRecap/exo_recap_strat.png\" alt=\"Méthodologie de résolution\" width=700>"
   ]
  },
  {
   "cell_type": "markdown",
   "metadata": {},
   "source": [
    "L'idée est de commencer par déterminer la tension $E$ par un premier diviseur de tension. La tension $U_o$ sera dérivée ensuite par un second diviseur de tension avec $E$ comme tension d'entrée de ce diviseur."
   ]
  },
  {
   "cell_type": "markdown",
   "metadata": {},
   "source": [
    "Déterminons les différentes impédances montrées dans le schéma précédent:"
   ]
  },
  {
   "cell_type": "markdown",
   "metadata": {},
   "source": [
    "\\begin{align}\n",
    "  Z_1 &= R_1 + j \\omega L_1 \\\\\n",
    "  Z_2 &= R_2 + j \\omega L_2 \\\\\n",
    "  Z_3 &= \\frac{R_3 L_3 j \\omega}{R_3 + j \\omega L_3} \\\\\n",
    "  Z &= \\frac{R \\dfrac{1}{j \\omega C}}{R + \\dfrac{1}{j \\omega C}} \\\\\n",
    "  &= \\frac{R}{R C j \\omega + 1}\n",
    "\\end{align}"
   ]
  },
  {
   "cell_type": "markdown",
   "metadata": {},
   "source": [
    "Déterminons la mise en série de $Z_2$ et $Z$, qu'on nommera $Z_s$:"
   ]
  },
  {
   "cell_type": "markdown",
   "metadata": {},
   "source": [
    "\\begin{align}\n",
    "  Z_s &= R_2 + j \\omega L_2 + \\frac{R}{R C j \\omega + 1} \\\\\n",
    "  &= \\frac{(R_2 + j \\omega L_2) (R C j \\omega + 1) + R}{R C j \\omega + 1}\n",
    "\\end{align}"
   ]
  },
  {
   "cell_type": "markdown",
   "metadata": {},
   "source": [
    "Les impédances $Z_s$ et $Z_3$ sont maintenant mises en parallèle; le résultat est appelé $Z_p$:"
   ]
  },
  {
   "cell_type": "markdown",
   "metadata": {},
   "source": [
    "$$ Z_p = \\frac{Z_s Z_3}{Z_s + Z_3} $$"
   ]
  },
  {
   "cell_type": "markdown",
   "metadata": {},
   "source": [
    "Cette expression n'est pas développée davantage à ce stade, car l'expression obtenue devient trop complexe et risque de rendre le développement obscure."
   ]
  },
  {
   "cell_type": "markdown",
   "metadata": {},
   "source": [
    "La tension $E$ est alors obtenue aisément en appliquant le diviseur de tension sur la mise en série de $Z_1$ et $Z_p$:"
   ]
  },
  {
   "cell_type": "markdown",
   "metadata": {},
   "source": [
    "$$ E = U_i \\dfrac{Z_p}{Z_1 + Z_p} $$"
   ]
  },
  {
   "cell_type": "markdown",
   "metadata": {},
   "source": [
    "La tension $U_o$ est obtenue en appliquant à nouveau le diviseur de tension sur la mise en série de $Z_2$ et $Z$:"
   ]
  },
  {
   "cell_type": "markdown",
   "metadata": {},
   "source": [
    "\\begin{align}\n",
    "  U_o &= E \\dfrac{Z}{Z + Z_2} \\\\\n",
    "  &= U_i \\dfrac{Z_p}{Z_1 + Z_p} \\dfrac{Z}{Z + Z_2} \\\\\n",
    "  &= U_i \\dfrac{\\dfrac{Z_s Z_3}{Z_s + Z_3}}{Z_1 + \\dfrac{Z_s Z_3}{Z_s + Z_3}} \\dfrac{Z}{Z + Z_2} \\\\\n",
    "  &= U_i \\dfrac{Z_s Z_3}{Z_1 (Z_s + Z_3) + Z_s Z_3} \\dfrac{Z}{Z + Z_2} \\\\\n",
    "  &= U_i \\dfrac{\\dfrac{(R_2 + j \\omega L_2) (R C j \\omega + 1) + R}{R C j \\omega + 1} \\dfrac{R_3 L_3 j \\omega}{R_3 + j \\omega L_3}}{(R_1 + j \\omega L_1) \\left(\\dfrac{(R_2 + j \\omega L_2) (R C j \\omega + 1) + R}{R C j \\omega + 1} + \\dfrac{R_3 L_3 j \\omega}{R_3 + j \\omega L_3}\\right) + \\dfrac{(R_2 + j \\omega L_2) (R C j \\omega + 1) + R}{R C j \\omega + 1} \\dfrac{R_3 L_3 j \\omega}{R_3 + j \\omega L_3}} \\dfrac{\\dfrac{R}{R C j \\omega + 1}}{\\dfrac{R}{R C j \\omega + 1} + R_2 + j \\omega L_2} \\\\\n",
    "  &= U_i \\dfrac{\\dfrac{(R_2 + j \\omega L_2) (R C j \\omega + 1) + R}{R C j \\omega + 1} \\dfrac{R_3 L_3 j \\omega}{R_3 + j \\omega L_3}}{(R_1 + j \\omega L_1) \\left(\\dfrac{((R_2 + j \\omega L_2) (R C j \\omega + 1) + R) (R_3 + j \\omega L_3) + (R C j \\omega + 1) (R_3 L_3 j \\omega)}{(R C j \\omega + 1) (R_3 + j \\omega L_3)}\\right) + \\dfrac{(R_2 + j \\omega L_2) (R C j \\omega + 1) + R}{R C j \\omega + 1} \\dfrac{R_3 L_3 j \\omega}{R_3 + j \\omega L_3}} \\dfrac{\\dfrac{R}{R C j \\omega + 1}}{\\dfrac{R + (R_2 + j \\omega L_2) (R C j \\omega + 1)}{R C j \\omega + 1}} \\\\\n",
    "  &= U_i \\dfrac{((R_2 + j \\omega L_2) (R C j \\omega + 1) + R) (R_3 L_3 j \\omega)}{(R_1 + j \\omega L_1) \\left(((R_2 + j \\omega L_2) (R C j \\omega + 1) + R) (R_3 + j \\omega L_3) + (R C j \\omega + 1) (R_3 L_3 j \\omega)\\right) + ((R_2 + j \\omega L_2) (R C j \\omega + 1) + R) (R_3 L_3 j \\omega)} \\dfrac{R}{R + (R_2 + j \\omega L_2) (R C j \\omega + 1)} \\\\\n",
    "  &= U_i \\dfrac{R R_3 L_3 j \\omega}{(R_1 + j \\omega L_1) \\left(((R_2 + j \\omega L_2) (R C j \\omega + 1) + R) (R_3 + j \\omega L_3) + (R C j \\omega + 1) (R_3 L_3 j \\omega)\\right) + ((R_2 + j \\omega L_2) (R C j \\omega + 1) + R) (R_3 L_3 j \\omega)} \\\\\n",
    "  &= U_i \\dfrac{R R_3 L_3 s}{(R_1 + s L_1) \\left(((R_2 + s L_2) (R C s + 1) + R) (R_3 + s L_3) + (R C s + 1) (R_3 L_3 s)\\right) + ((R_2 + s L_2) (R C s + 1) + R) (R_3 L_3 s)} \\\\\n",
    "  &= U_i \\dfrac{R R_3 L_3 s}{(R_1 + s L_1) \\left(\\left(L_2 R C s^2 + (R_2 R C + L_2) s + R_2 + R\\right) (R_3 + s L_3) + R C R_3 L_3 s^2 + R_3 L_3 s \\right) + \\left(L_2 R C s^2 + (R_2 R C + L_2) s + R_2 + R\\right) (R_3 L_3 s)} \\\\\n",
    "  &= U_i \\frac{R R_3 L_3 s}{(R_1 + s L_1) \\left(\\left(L_2 R C R_3 s^2 + (R_2 R C + L_2) R_3 s + (R_2 + R) R_3\\right)  + \\left(L_2 R C L_3 s^3 + (R_2 R C + L_2) L_3 s^2 + (R_2 + R) L_3 s \\right) + R C R_3 L_3 s^2 + R_3 L_3 s \\right) + L_2 R C R_3 L_3 s^3 + (R_2 R C + L_2) R_3 L_3 s^2 + (R_2 + R) R_3 L_3 s} \\\\\n",
    "  &= U_i \\frac{R R_3 L_3 s}{(R_1 + s L_1) \\left(L_2 R C L_3 s^3 + (L_2 R C R_3 + R C R_3 L_3 + (R_2 R C + L_2) L_3) s^2 + ((R_2 R C + L_2) R_3 + (R_2 + R) L_3 + R_3 L_3) s + (R_2 + R) R_3 \\right) + L_2 R C R_3 L_3 s^3 + (R_2 R C + L_2) R_3 L_3 s^2 + (R_2 + R) R_3 L_3 s} \\\\\n",
    "  &= U_i \\frac{R R_3 L_3 s}{R_1 L_2 R C L_3 s^3 + R_1 (L_2 R C R_3 + R C R_3 L_3 + (R_2 R C + L_2) L_3) s^2 + ((R_2 R C + L_2) R_3 + (R_2 + R) L_3 + R_3 L_3) R_1 s + (R_2 + R) R_1 R_3 + L_2 R C L_3 L_1 s^4 + (L_2 R C R_3 + R C R_3 L_3 + (R_2 R C + L_2) L_3) L_1 s^3 + ((R_2 R C + L_2) R_3 + (R_2 + R) L_3 + R_3 L_3) L_1 s^2 + (R_2 + R) R_3 L_1 s + L_2 R C R_3 L_3 s^3 + (R_2 R C + L_2) R_3 L_3 s^2 + (R_2 + R) R_3 L_3 s} \\\\\n",
    "  &= U_i \\frac{R R_3 L_3 s}{L_2 R C L_3 L_1 s^4 + ((L_2 R C R_3 + R C R_3 L_3 + (R_2 R C + L_2) L_3) L_1 + R_1 L_2 R C L_3 + L_2 R C R_3 L_3) s^3 + (R_1 (L_2 R C R_3 + R C R_3 L_3 + (R_2 R C + L_2) L_3) + ((R_2 R C + L_2) R_3 + (R_2 + R) L_3 + R_3 L_3) L_1 + (R_2 R C + L_2) R_3 L_3 ) s^2 + ((R_2 R C + L_2) R_3 + ((R_2 + R) L_3 + R_3 L_3) R_1  + (R_2 + R) R_3 (L_1 + L_3)) s + (R_2 + R) R_1 R_3}\n",
    "\\end{align}"
   ]
  },
  {
   "cell_type": "markdown",
   "metadata": {},
   "source": [
    "En remplaçant finalement chaque paramètre par sa valeur: "
   ]
  },
  {
   "cell_type": "markdown",
   "metadata": {},
   "source": [
    "$$\n",
    "  H(s) = \\frac{U_o(s)}{U_i(s)} = \\frac{53748.73 s}{1.26e^{-9} s^4 + 0.0043 s^3 + 4.43 s^2 + 54919.8 s + 18487.8}\n",
    "$$"
   ]
  },
  {
   "cell_type": "markdown",
   "metadata": {},
   "source": [
    "---"
   ]
  },
  {
   "cell_type": "markdown",
   "metadata": {},
   "source": [
    "2. Déterminer le modèle d'état du système en considérant la tension $U_C$, le courant $I_C$ et le courant $I_R$ comme sorties"
   ]
  },
  {
   "cell_type": "markdown",
   "metadata": {},
   "source": [
    "Tout d'abord, les grandeurs sont définies:\n",
    "\n",
    "- $u = U_i$\n",
    "- $x_1 = I_{L_1}$\n",
    "- $x_2 = I_{L_2}$\n",
    "- $x_3 = I_{L_3}$\n",
    "- $x_4 = U_{C}$\n",
    "- $y_1 = U_{C}$\n",
    "- $y_2 = I_C$\n",
    "- $y_3 = I_R$"
   ]
  },
  {
   "cell_type": "markdown",
   "metadata": {},
   "source": [
    "A ce stade, il faut déterminer les équations d'états. Pour y arriver, essayons d'écrire les lois des mailles du circuit faisant intervenir le moins d'inductances et condensateurs possible car ces derniers génèrent souvent des dérivées ou des intégrales. Comme une équation d'état ne doit contenir qu'une dérivée, il faut essayer au mieux de n'avoir qu'une inductance par maille."
   ]
  },
  {
   "cell_type": "markdown",
   "metadata": {},
   "source": [
    "- Déterminons l'équation d'état liée à $x_1$:"
   ]
  },
  {
   "cell_type": "markdown",
   "metadata": {},
   "source": [
    "\\begin{align}\n",
    "  U_i &= R_1 I_{L_1} + L_1 \\frac{dI_{L_1}}{dt} + U_{R_3} \\\\\n",
    "  &= R_1 I_{L_1} + L_1 \\frac{dI_{L_1}}{dt} + R_3 (I_{L_1} - I_{L_2} - I_{L_3}) \\\\\n",
    "  \\Rightarrow L_1 \\frac{dI_{L_1}}{dt} &= U_i - R_1 I_{L_1} - R_3 (I_{L_1} - I_{L_2} - I_{L_3}) \\\\\n",
    "  \\dot{x}_1 &= \\frac{1}{L_1} \\left(-(R_1 + R_3) x_1 + R_3 x_2 + R_3 x_3 + u \\right) \\\\\n",
    "  &=  -\\frac{R_1 + R_3}{L_1} x_1 + \\frac{R_3}{L_1} x_2 + \\frac{R_3}{L_1} x_3 + \\frac{1}{L_1}u\n",
    "\\end{align}"
   ]
  },
  {
   "cell_type": "markdown",
   "metadata": {},
   "source": [
    "- Déterminons l'équation d'état liée à $x_2$:"
   ]
  },
  {
   "cell_type": "markdown",
   "metadata": {},
   "source": [
    "\\begin{align}\n",
    "  U_{R_3} &= R_2 I_{L_2} + L_2 \\frac{dI_{L_2}}{dt} + U_C \\\\\n",
    "  \\Rightarrow L_2 \\frac{dI_{L_2}}{dt} &= R_3 (I_{L_1} - I_{L_2} - I_{L_3}) - R_2 I_{L_2} - U_C \\\\\n",
    "  \\dot{x}_2 &= \\frac{1}{L_2} \\left(R_3 x_1 - (R_2 + R_3) x_2 - R_3 x_3 - x_4 \\right) \\\\\n",
    "  &=  \\frac{R_3}{L_2} x_1 - \\frac{R_2 + R_3}{L_2} x_2 - \\frac{R_3}{L_2} x_3 - \\frac{1}{L_2}x_4\n",
    "\\end{align}"
   ]
  },
  {
   "cell_type": "markdown",
   "metadata": {},
   "source": [
    "- Déterminons l'équation d'état liée à $x_3$:"
   ]
  },
  {
   "cell_type": "markdown",
   "metadata": {},
   "source": [
    "\\begin{align}\n",
    "  U_{R_3} &= L_3 \\frac{dI_{L_3}}{dt} \\\\\n",
    "  \\Rightarrow \\frac{dI_{L_3}}{dt} &= \\frac{R_3}{L_3} (I_{L_1} - I_{L_2} - I_{L_3}) \\\\\n",
    "  \\dot{x}_3 &= \\frac{R_3}{L_3} x_1 - \\frac{R_3}{L_3} x_2 - \\frac{R_3}{L_3} x_3\n",
    "\\end{align}"
   ]
  },
  {
   "cell_type": "markdown",
   "metadata": {},
   "source": [
    "- Déterminons l'équation d'état liée à $x_4$:"
   ]
  },
  {
   "cell_type": "markdown",
   "metadata": {},
   "source": [
    "\\begin{align}\n",
    "  U_C &= U_R \\\\\n",
    "  &= R (I_{L_2} - I_c) \\\\\n",
    "  &= R \\left(I_{L_2} - C \\frac{dU_C}{dt} \\right) \\\\\n",
    "  &= R I_{L_2} - RC \\frac{dU_C}{dt} \\\\\n",
    "  \\Rightarrow \\frac{dU_C}{dt} &= \\frac{1}{RC} ( R I_{L_2} - U_C ) \\\\\n",
    "  \\dot{x}_4 &= \\frac{1}{C} x_2 - \\frac{1}{RC} x_4\n",
    "\\end{align}"
   ]
  },
  {
   "cell_type": "markdown",
   "metadata": {},
   "source": [
    "- Déterminons l'équation de la sortie $y_1$:"
   ]
  },
  {
   "cell_type": "markdown",
   "metadata": {},
   "source": [
    "$$ y_1 = U_C = x_4 $$"
   ]
  },
  {
   "cell_type": "markdown",
   "metadata": {},
   "source": [
    "- Déterminons l'équation de la sortie $y_2$:"
   ]
  },
  {
   "cell_type": "markdown",
   "metadata": {},
   "source": [
    "\\begin{align}\n",
    "  y_2 &= I_C \\\\\n",
    "  &= I_2 - I_R \\\\\n",
    "  &= x_2 - \\frac{1}{R} x_4\n",
    "\\end{align}"
   ]
  },
  {
   "cell_type": "markdown",
   "metadata": {},
   "source": [
    "- Déterminons l'équation de la sortie $y_3$:"
   ]
  },
  {
   "cell_type": "markdown",
   "metadata": {},
   "source": [
    "\\begin{align}\n",
    "  y_3 &= I_R \\\\\n",
    "  &= \\frac{1}{R} x_4\n",
    "\\end{align}"
   ]
  },
  {
   "cell_type": "markdown",
   "metadata": {},
   "source": [
    "En remettant le tout ensemble, on obtient le modèle d'état complet suivant:"
   ]
  },
  {
   "cell_type": "markdown",
   "metadata": {},
   "source": [
    "\\begin{align}\n",
    "  &\\left[ \\begin{array}{c}\n",
    "    \\dot{x}_1 \\\\ \\dot{x}_2 \\\\ \\dot{x}_3 \\\\ \\dot{x}_4\n",
    "  \\end{array} \\right] = \\left[ \\begin{array}{cccc}\n",
    "    -\\frac{R_1 + R_3}{L_1} & \\frac{R_3}{L_1} & \\frac{R_3}{L_1} & 0 \\\\\n",
    "    \\frac{R_3}{L_2} & -\\frac{R_2 + R_3}{L_2} & -\\frac{R_3}{L_2} & -\\frac{1}{L_2} \\\\\n",
    "    \\frac{R_3}{L_3} & -\\frac{R_3}{L_3} & -\\frac{R_3}{L_3} & 0 \\\\\n",
    "    0 & \\frac{1}{C} & 0 & -\\frac{1}{RC}\n",
    "  \\end{array} \\right] \\left[ \\begin{array}{c}\n",
    "    x_1 \\\\ x_2 \\\\ x_3 \\\\ x_4\n",
    "  \\end{array} \\right] + \\left[ \\begin{array}{c}\n",
    "    \\frac{1}{L_1} \\\\ 0 \\\\ 0 \\\\ 0\n",
    "  \\end{array} \\right] u \\\\\n",
    "  &\\left[ \\begin{array}{c}\n",
    "    y_1 \\\\ y_2 \\\\ y_3\n",
    "  \\end{array} \\right] = \\left[ \\begin{array}{cccc}\n",
    "    0 & 0 & 0 & 1 \\\\\n",
    "    0 & 1 & 0 & -\\frac{1}{R} \\\\\n",
    "    0 & 0 & 0 & \\frac{1}{R}\n",
    "  \\end{array} \\right] \\left[ \\begin{array}{c}\n",
    "    x_1 \\\\ x_2 \\\\ x_3 \\\\ x_4\n",
    "  \\end{array} \\right] + \\left[ \\begin{array}{c}\n",
    "    0 \\\\ 0 \\\\ 0\n",
    "  \\end{array} \\right] u\n",
    "\\end{align}"
   ]
  },
  {
   "cell_type": "markdown",
   "metadata": {},
   "source": [
    "En remplaçant par les valeurs données, on obtient:"
   ]
  },
  {
   "cell_type": "markdown",
   "metadata": {},
   "source": [
    "\\begin{align}\n",
    "  &\\left[ \\begin{array}{c}\n",
    "    \\dot{x}_1 \\\\ \\dot{x}_2 \\\\ \\dot{x}_3 \\\\ \\dot{x}_4\n",
    "  \\end{array} \\right] = \\left[ \\begin{array}{cccc}\n",
    "    -1700571.4 & 1700000 & 1700000 & 0 \\\\\n",
    "    1700000 & -1700571.4 & -1700000 & -1428.6 \\\\\n",
    "    1012.8 & -1012.8 & -1012.8 & 0 \\\\\n",
    "    0 & 17605.6 & 0 & -458\n",
    "  \\end{array} \\right] \\left[ \\begin{array}{c}\n",
    "    x_1 \\\\ x_2 \\\\ x_3 \\\\ x_4\n",
    "  \\end{array} \\right] + \\left[ \\begin{array}{c}\n",
    "    1428.6 \\\\ 0 \\\\ 0 \\\\ 0\n",
    "  \\end{array} \\right] u \\\\\n",
    "  &\\left[ \\begin{array}{c}\n",
    "    y_1 \\\\ y_2 \\\\ y_3\n",
    "  \\end{array} \\right] = \\left[ \\begin{array}{cccc}\n",
    "    0 & 0 & 0 & 1 \\\\\n",
    "    0 & 1 & 0 & -0.026 \\\\\n",
    "    0 & 0 & 0 & 0.026\n",
    "  \\end{array} \\right] \\left[ \\begin{array}{c}\n",
    "    x_1 \\\\ x_2 \\\\ x_3 \\\\ x_4\n",
    "  \\end{array} \\right] + \\left[ \\begin{array}{c}\n",
    "    0 \\\\ 0 \\\\ 0\n",
    "  \\end{array} \\right] u\n",
    "\\end{align}"
   ]
  }
 ],
 "metadata": {
  "kernelspec": {
   "display_name": "Python 3",
   "language": "python",
   "name": "python3"
  },
  "language_info": {
   "codemirror_mode": {
    "name": "ipython",
    "version": 3
   },
   "file_extension": ".py",
   "mimetype": "text/x-python",
   "name": "python",
   "nbconvert_exporter": "python",
   "pygments_lexer": "ipython3",
   "version": "3.7.3"
  }
 },
 "nbformat": 4,
 "nbformat_minor": 4
}
