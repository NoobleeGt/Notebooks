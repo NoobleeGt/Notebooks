{
 "cells": [
  {
   "cell_type": "markdown",
   "metadata": {},
   "source": [
    "# Solution Simulation"
   ]
  },
  {
   "cell_type": "code",
   "execution_count": 1,
   "metadata": {},
   "outputs": [],
   "source": [
    "%matplotlib inline\n",
    "import matplotlib.pyplot as plt\n",
    "plt.style.use('../my_params.mplstyle')\n",
    "\n",
    "import math"
   ]
  },
  {
   "cell_type": "markdown",
   "metadata": {},
   "source": [
    "- solution analytique:"
   ]
  },
  {
   "cell_type": "code",
   "execution_count": 2,
   "metadata": {},
   "outputs": [],
   "source": [
    "# constante du système\n",
    "tau = 20\n",
    "\n",
    "# paramètres de simulation\n",
    "h = 0.01\n",
    "start = 0\n",
    "end = 100\n",
    "\n",
    "n = int((end - start) / h) + 1\n",
    "\n",
    "# vecteurs de données\n",
    "t = [i * h for i in range(n)]\n",
    "u = [1 for _ in t]"
   ]
  },
  {
   "cell_type": "code",
   "execution_count": 3,
   "metadata": {},
   "outputs": [],
   "source": [
    "# solution analytique\n",
    "y_ana = [u_i - math.exp(-t_i/tau) for u_i, t_i in zip(u, t)]"
   ]
  },
  {
   "cell_type": "code",
   "execution_count": 4,
   "metadata": {},
   "outputs": [],
   "source": [
    "def my_plot(t, u, y, title):\n",
    "    # affichage de la courbe\n",
    "    fig, ax = plt.subplots()\n",
    "    ax.plot(t, u, t, y)\n",
    "    ax.grid(True, which='both')\n",
    "    ax.set_title(title)\n",
    "    ax.set_xlabel('temps [s]')\n",
    "    ax.set_ylabel('$\\mathrm{U_c}\\; \\mathrm{[V]}$')"
   ]
  },
  {
   "cell_type": "code",
   "execution_count": 5,
   "metadata": {},
   "outputs": [
    {
     "data": {
      "image/png": "[encoded data removed]",
      "text/plain": [
       "<Figure size 600x375 with 1 Axes>"
      ]
     },
     "metadata": {
      "needs_background": "light"
     },
     "output_type": "display_data"
    }
   ],
   "source": [
    "my_plot(t, u, y_ana, 'Solution analytique')"
   ]
  },
  {
   "cell_type": "markdown",
   "metadata": {},
   "source": [
    "- méthode d'Euler:"
   ]
  },
  {
   "cell_type": "code",
   "execution_count": 6,
   "metadata": {},
   "outputs": [],
   "source": [
    "class RC:\n",
    "    def __init__(self, tau):\n",
    "        self.tau = tau\n",
    "\n",
    "    def x_prime(self, t, x, u):\n",
    "        dx_dt = (u - x[0]) / self.tau\n",
    "\n",
    "        return [dx_dt]"
   ]
  },
  {
   "cell_type": "code",
   "execution_count": 7,
   "metadata": {},
   "outputs": [],
   "source": [
    "def solve_euler(system, t, x, u, h):\n",
    "    dx_dt = system.x_prime(t, x, u)\n",
    "\n",
    "    new_state = [state + h * dstate for state, dstate in zip(x, dx_dt)]\n",
    "\n",
    "    return new_state"
   ]
  },
  {
   "cell_type": "code",
   "execution_count": 8,
   "metadata": {},
   "outputs": [],
   "source": [
    "def run(system, t, x, u, h, solver):\n",
    "    for i in range(len(t) - 1):\n",
    "        x0 = [state[-1] for state in x]\n",
    "\n",
    "        new_state = solver(system, t[i], x0, u[i], h)\n",
    "        \n",
    "        for i, state in enumerate(new_state):\n",
    "            x[i].append(state)"
   ]
  },
  {
   "cell_type": "code",
   "execution_count": 9,
   "metadata": {},
   "outputs": [],
   "source": [
    "system = RC(tau)"
   ]
  },
  {
   "cell_type": "code",
   "execution_count": 10,
   "metadata": {},
   "outputs": [],
   "source": [
    "# initialisation de l'état\n",
    "y_eul = [[0]]\n",
    "\n",
    "run(system, t, y_eul, u, h, solve_euler)"
   ]
  },
  {
   "cell_type": "code",
   "execution_count": 11,
   "metadata": {},
   "outputs": [
    {
     "data": {
      "image/png": "[encoded data removed]",
      "text/plain": [
       "<Figure size 600x375 with 1 Axes>"
      ]
     },
     "metadata": {
      "needs_background": "light"
     },
     "output_type": "display_data"
    }
   ],
   "source": [
    "my_plot(t, u, y_eul[0], 'Solution Euler')"
   ]
  },
  {
   "cell_type": "code",
   "execution_count": 12,
   "metadata": {},
   "outputs": [
    {
     "name": "stdout",
     "output_type": "stream",
     "text": [
      "La somme des erreurs cumulées vaut: -0.47984087851091317\n"
     ]
    }
   ],
   "source": [
    "print('La somme des erreurs cumulées vaut: {}'.format(sum(y_ana) - sum(y_eul[0])))"
   ]
  },
  {
   "cell_type": "markdown",
   "metadata": {},
   "source": [
    "- méthode de Runge Kutta 4:"
   ]
  },
  {
   "cell_type": "code",
   "execution_count": 13,
   "metadata": {},
   "outputs": [],
   "source": [
    "def solve_rk4(system, t, x, u, h):\n",
    "    c1 = [h * dstate for dstate in system.x_prime(t, x, u)]\n",
    "    \n",
    "    x2 = [x_i + 0.5 * c_i for x_i, c_i in zip(x, c1)]\n",
    "    c2 = [h * dstate for dstate in system.x_prime(t, x2, u)]\n",
    "    \n",
    "    x3 = [x_i + 0.5 * c_i for x_i, c_i in zip(x, c2)]\n",
    "    c3 = [h * dstate for dstate in system.x_prime(t, x3, u)]\n",
    "    \n",
    "    x4 = [x_i + c_i for x_i, c_i in zip(x, c3)]\n",
    "    c4 = [h * dstate for dstate in system.x_prime(t, x4, u)]\n",
    "\n",
    "    new_state = [state + (c_1i + 2 * c_2i + 2 * c_3i + c_4i) / 6 \n",
    "                 for state, c_1i, c_2i, c_3i, c_4i in zip(x, c1, c2, c3, c4)]\n",
    "\n",
    "    return new_state"
   ]
  },
  {
   "cell_type": "code",
   "execution_count": 14,
   "metadata": {},
   "outputs": [],
   "source": [
    "# initialisation de l'état\n",
    "y_rk4 = [[0]]\n",
    "\n",
    "run(system, t, y_rk4, u, h, solve_rk4)"
   ]
  },
  {
   "cell_type": "code",
   "execution_count": 15,
   "metadata": {},
   "outputs": [
    {
     "data": {
      "image/png": "[encoded data removed]",
      "text/plain": [
       "<Figure size 600x375 with 1 Axes>"
      ]
     },
     "metadata": {
      "needs_background": "light"
     },
     "output_type": "display_data"
    }
   ],
   "source": [
    "my_plot(t, u, y_rk4[0], 'Solution RK4')"
   ]
  },
  {
   "cell_type": "code",
   "execution_count": 16,
   "metadata": {},
   "outputs": [
    {
     "name": "stdout",
     "output_type": "stream",
     "text": [
      "La somme des erreurs cumulées vaut: -7.275957614183426e-12\n"
     ]
    }
   ],
   "source": [
    "print('La somme des erreurs cumulées vaut: {}'.format(sum(y_ana) - sum(y_rk4[0])))"
   ]
  }
 ],
 "metadata": {
  "kernelspec": {
   "display_name": "Python 3",
   "language": "python",
   "name": "python3"
  },
  "language_info": {
   "codemirror_mode": {
    "name": "ipython",
    "version": 3
   },
   "file_extension": ".py",
   "mimetype": "text/x-python",
   "name": "python",
   "nbconvert_exporter": "python",
   "pygments_lexer": "ipython3",
   "version": "3.7.3"
  }
 },
 "nbformat": 4,
 "nbformat_minor": 4
}
