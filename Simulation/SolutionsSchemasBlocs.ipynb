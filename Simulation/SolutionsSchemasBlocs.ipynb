{
 "cells": [
  {
   "cell_type": "markdown",
   "metadata": {},
   "source": [
    "# Solutions Schémas Blocs"
   ]
  },
  {
   "cell_type": "markdown",
   "metadata": {},
   "source": [
    "## Schémas à base d'intégrateurs"
   ]
  },
  {
   "cell_type": "markdown",
   "metadata": {},
   "source": [
    "#### Exercice 1:"
   ]
  },
  {
   "cell_type": "markdown",
   "metadata": {},
   "source": [
    "- $H(s) = \\dfrac{U_c(s)}{U_{in}(s)}$"
   ]
  },
  {
   "cell_type": "markdown",
   "metadata": {},
   "source": [
    "La fonction de transfert est:"
   ]
  },
  {
   "cell_type": "markdown",
   "metadata": {},
   "source": [
    "$$ H(s) = \\frac{1}{RCs + 1} $$"
   ]
  },
  {
   "cell_type": "markdown",
   "metadata": {},
   "source": [
    "On obtient successivement:"
   ]
  },
  {
   "cell_type": "markdown",
   "metadata": {},
   "source": [
    "\\begin{align}\n",
    "  \\frac{U_c(s)}{U_{in}(s)} &= \\frac{1}{s} \\frac{1}{RC + \\frac{1}{s}} \\\\\n",
    "  U_c(s) (RC + \\frac{1}{s}) &= \\frac{1}{s} U_{in}(s) \\\\\n",
    "  U_c(s) &= \\frac{1}{RC} \\left( \\frac{1}{s} U_{in}(s) - \\frac{1}{s} U_c(s) \\right) \\\\\n",
    "  U_c(s) &= \\frac{1}{RC} \\frac{1}{s} \\left( U_{in}(s) - U_c(s) \\right)\n",
    "\\end{align}"
   ]
  },
  {
   "cell_type": "markdown",
   "metadata": {},
   "source": [
    "A partir de cette expression, on obtient le schéma bloc suivant:"
   ]
  },
  {
   "cell_type": "markdown",
   "metadata": {},
   "source": [
    "<img src=\"./Images/SolutionsSchemasBlocs/exo_integrateur_rc_c.png\" width=\"300\">"
   ]
  },
  {
   "cell_type": "markdown",
   "metadata": {},
   "source": [
    "- $H(s) = \\dfrac{U_r(s)}{U_{in}(s)}$"
   ]
  },
  {
   "cell_type": "markdown",
   "metadata": {},
   "source": [
    "La fonction de transfert est:"
   ]
  },
  {
   "cell_type": "markdown",
   "metadata": {},
   "source": [
    "$$ H(s) = \\frac{RCs}{RCs + 1} $$"
   ]
  },
  {
   "cell_type": "markdown",
   "metadata": {},
   "source": [
    "On obtient successivement:"
   ]
  },
  {
   "cell_type": "markdown",
   "metadata": {},
   "source": [
    "\\begin{align}\n",
    "  \\frac{U_r(s)}{U_{in}(s)} &= \\frac{s}{s} \\frac{RC}{RC + \\frac{1}{s}} \\\\\n",
    "  U_r(s) (RC + \\frac{1}{s}) &= RC U_{in}(s) \\\\\n",
    "  U_r(s) &= U_{in}(s) - \\frac{1}{RC} \\frac{1}{s} U_c(s)\n",
    "\\end{align}"
   ]
  },
  {
   "cell_type": "markdown",
   "metadata": {},
   "source": [
    "A partir de cette expression, on obtient le schéma bloc suivant:"
   ]
  },
  {
   "cell_type": "markdown",
   "metadata": {},
   "source": [
    "<img src=\"./Images/SolutionsSchemasBlocs/exo_integrateur_rc_r.png\" width=\"300\">"
   ]
  },
  {
   "cell_type": "markdown",
   "metadata": {},
   "source": [
    "- le modèle d'état dont les sorties sont $y_1 = u_c$ et $y_2=u_r$"
   ]
  },
  {
   "cell_type": "markdown",
   "metadata": {},
   "source": [
    "Le modèle d'état est:"
   ]
  },
  {
   "cell_type": "markdown",
   "metadata": {},
   "source": [
    "$$\n",
    "  \\left\\{ \\begin{array}{l}\n",
    "    \\dot{x} = -\\frac{1}{RC} x + \\frac{1}{RC} u \\\\\n",
    "    \\left[ \\begin{array}{c}\n",
    "      y_1 \\\\\n",
    "      y_2\n",
    "    \\end{array} \\right] = \\left[ \\begin{array}{c}\n",
    "      1 \\\\\n",
    "      -1\n",
    "    \\end{array} \\right] x + \\left[ \\begin{array}{c}\n",
    "      0 \\\\\n",
    "      1\n",
    "    \\end{array} \\right] u    \n",
    "  \\end{array} \\right.\n",
    "$$"
   ]
  },
  {
   "cell_type": "markdown",
   "metadata": {},
   "source": [
    "A partir de ce modèle, on obtient le schéma bloc suivant:"
   ]
  },
  {
   "cell_type": "markdown",
   "metadata": {},
   "source": [
    "<img src=\"./Images/SolutionsSchemasBlocs/exo_integrateur_rc_ss.png\" width=\"400\">"
   ]
  },
  {
   "cell_type": "markdown",
   "metadata": {},
   "source": [
    "---"
   ]
  },
  {
   "cell_type": "markdown",
   "metadata": {},
   "source": [
    "#### Exercice 2:"
   ]
  },
  {
   "cell_type": "markdown",
   "metadata": {},
   "source": [
    "- $H(s) = \\dfrac{U_l(s)}{U_{in}(s)}$"
   ]
  },
  {
   "cell_type": "markdown",
   "metadata": {},
   "source": [
    "La fonction de transfert est:"
   ]
  },
  {
   "cell_type": "markdown",
   "metadata": {},
   "source": [
    "$$ H(s) = \\frac{L}{R} \\frac{s}{1 + \\frac{L}{R}s} $$"
   ]
  },
  {
   "cell_type": "markdown",
   "metadata": {},
   "source": [
    "On obtient successivement:"
   ]
  },
  {
   "cell_type": "markdown",
   "metadata": {},
   "source": [
    "\\begin{align}\n",
    "  \\frac{U_l(s)}{U_{in}(s)} &= \\frac{s}{s} \\frac{L}{R} \\frac{1}{\\frac{1}{s} + \\frac{L}{R}} \\\\\n",
    "  U_l(s) (\\frac{1}{s} + \\frac{L}{R}) &= \\frac{L}{R} U_{in}(s) \\\\\n",
    "  U_l(s) &= U_{in}(s) - \\frac{R}{L} \\frac{1}{s} U_l(s)\n",
    "\\end{align}"
   ]
  },
  {
   "cell_type": "markdown",
   "metadata": {},
   "source": [
    "A partir de cette expression, on obtient le schéma bloc suivant:"
   ]
  },
  {
   "cell_type": "markdown",
   "metadata": {},
   "source": [
    "<img src=\"./Images/SolutionsSchemasBlocs/exo_integrateur_rl_l.png\" width=\"300\">"
   ]
  },
  {
   "cell_type": "markdown",
   "metadata": {},
   "source": [
    "- $H(s) = \\dfrac{U_r(s)}{U_{in}(s)}$"
   ]
  },
  {
   "cell_type": "markdown",
   "metadata": {},
   "source": [
    "La fonction de transfert est:"
   ]
  },
  {
   "cell_type": "markdown",
   "metadata": {},
   "source": [
    "$$ H(s) = \\frac{1}{1 + \\frac{L}{R} s} $$"
   ]
  },
  {
   "cell_type": "markdown",
   "metadata": {},
   "source": [
    "On obtient successivement:"
   ]
  },
  {
   "cell_type": "markdown",
   "metadata": {},
   "source": [
    "\\begin{align}\n",
    "  \\frac{U_r(s)}{U_{in}(s)} &= \\frac{1}{s} \\frac{1}{\\frac{1}{s} + \\frac{L}{R}} \\\\\n",
    "  U_r(s) (\\frac{1}{s} + \\frac{L}{R}) &= \\frac{1}{s} U_{in}(s) \\\\\n",
    "  U_r(s) &= \\frac{R}{L} \\left( \\frac{1}{s} U_{in}(s) - \\frac{1}{s} U_r(s) \\right) \\\\\n",
    "  U_r(s) &= \\frac{R}{L} \\frac{1}{s} \\left(  U_{in}(s) - U_r(s) \\right)\n",
    "\\end{align}"
   ]
  },
  {
   "cell_type": "markdown",
   "metadata": {},
   "source": [
    "A partir de cette expression, on obtient le schéma bloc suivant:"
   ]
  },
  {
   "cell_type": "markdown",
   "metadata": {},
   "source": [
    "<img src=\"./Images/SolutionsSchemasBlocs/exo_integrateur_rl_r.png\" width=\"300\">"
   ]
  },
  {
   "cell_type": "markdown",
   "metadata": {},
   "source": [
    "- le modèle d'état dont les sorties sont $y_1 = u_r$ et $y_2=u_l$"
   ]
  },
  {
   "cell_type": "markdown",
   "metadata": {},
   "source": [
    "Le modèle d'état est:"
   ]
  },
  {
   "cell_type": "markdown",
   "metadata": {},
   "source": [
    "$$\n",
    "  \\left\\{ \\begin{array}{l}\n",
    "    \\dot{x} = -\\frac{R}{L} x + \\frac{1}{L} u \\\\\n",
    "    \\left[ \\begin{array}{c}\n",
    "      y_1 \\\\\n",
    "      y_2\n",
    "    \\end{array} \\right] = \\left[ \\begin{array}{c}\n",
    "      R \\\\\n",
    "      -R\n",
    "    \\end{array} \\right] x + \\left[ \\begin{array}{c}\n",
    "      0 \\\\\n",
    "      1\n",
    "    \\end{array} \\right] u    \n",
    "  \\end{array} \\right.\n",
    "$$"
   ]
  },
  {
   "cell_type": "markdown",
   "metadata": {},
   "source": [
    "A partir de ce modèle, on obtient le schéma bloc suivant:"
   ]
  },
  {
   "cell_type": "markdown",
   "metadata": {},
   "source": [
    "<img src=\"./Images/SolutionsSchemasBlocs/exo_integrateur_rl_ss.png\" width=\"400\">"
   ]
  }
 ],
 "metadata": {
  "kernelspec": {
   "display_name": "Python 3",
   "language": "python",
   "name": "python3"
  },
  "language_info": {
   "codemirror_mode": {
    "name": "ipython",
    "version": 3
   },
   "file_extension": ".py",
   "mimetype": "text/x-python",
   "name": "python",
   "nbconvert_exporter": "python",
   "pygments_lexer": "ipython3",
   "version": "3.7.3"
  }
 },
 "nbformat": 4,
 "nbformat_minor": 4
}
