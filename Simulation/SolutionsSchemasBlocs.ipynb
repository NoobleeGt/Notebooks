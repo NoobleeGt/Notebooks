{
 "cells": [
  {
   "cell_type": "markdown",
   "metadata": {},
   "source": [
    "# Solutions Schémas Blocs"
   ]
  },
  {
   "cell_type": "markdown",
   "metadata": {},
   "source": [
    "## Réduction de schémas"
   ]
  },
  {
   "cell_type": "markdown",
   "metadata": {},
   "source": [
    "#### Schéma 1:"
   ]
  },
  {
   "cell_type": "markdown",
   "metadata": {},
   "source": [
    "Ce schéma peut être réduit facilement en remarquant les regroupements suivants:"
   ]
  },
  {
   "cell_type": "markdown",
   "metadata": {},
   "source": [
    "<img src=\"./Images/SolutionsSchemasBlocs/exo_schema_1.png\" width=600>"
   ]
  },
  {
   "cell_type": "markdown",
   "metadata": {},
   "source": [
    "Tout d'abord, remarquons que les 3 regroupements sont de simples contre-réactions:"
   ]
  },
  {
   "cell_type": "markdown",
   "metadata": {},
   "source": [
    "\\begin{align}\n",
    "  S_1 &= \\frac{G_1}{1 - G_1 H_1} \\\\\n",
    "  S_2 &= \\frac{G_2}{1 - G_2 H_2} \\\\\n",
    "  S_3 &= \\frac{S_1 S_2}{1 + S_1 S_2 H_3}\n",
    "\\end{align}"
   ]
  },
  {
   "cell_type": "markdown",
   "metadata": {},
   "source": [
    "Il n'y a plus qu'à remplacer $S_1$ et $S_2$ par leurs expressions dans $S_3$:"
   ]
  },
  {
   "cell_type": "markdown",
   "metadata": {},
   "source": [
    "\\begin{align}\n",
    "  S_3 &= \\frac{\\frac{G_1}{1 - G_1 H_1} \\frac{G_2}{1 - G_2 H_2}}{1 + \\frac{G_1}{1 - G_1 H_1} \\frac{G_2}{1 - G_2 H_2} H_3} \\\\\n",
    "  S_3 &= \\frac{G_1 G_2}{(1 - G_1 H_1)(1 - G_2 H_2) + G_1 G_2 H_3} \\\\\n",
    "  S_3 &= \\frac{G_1 G_2}{1 - G_1 H_1 - G_2 H_2 + G_1 G_2 H_1 H_2 + G_1 G_2 H_3}\n",
    "\\end{align}"
   ]
  },
  {
   "cell_type": "markdown",
   "metadata": {},
   "source": [
    "#### Schéma 2:"
   ]
  },
  {
   "cell_type": "markdown",
   "metadata": {},
   "source": [
    "Ce schéma peut être réduit facilement en remarquant les regroupements suivants:"
   ]
  },
  {
   "cell_type": "markdown",
   "metadata": {},
   "source": [
    "<img src=\"./Images/SolutionsSchemasBlocs/exo_schema_2.png\" width=600>"
   ]
  },
  {
   "cell_type": "markdown",
   "metadata": {},
   "source": [
    "Tout d'abord, remarquons que les regroupements $S_1$ et $S_3$ sont des contre-réactions et que le regroupement $S_2$ est une mise en parallèle:"
   ]
  },
  {
   "cell_type": "markdown",
   "metadata": {},
   "source": [
    "\\begin{align}\n",
    "  S_1 &= \\frac{G_1 G_2}{1 - G_1 G_2 H_1} \\\\\n",
    "  S_2 &= G_3 + G_4 \\\\\n",
    "  S_3 &= \\frac{S_1 S_2}{1 + S_1 S_2 H_2}\n",
    "\\end{align}"
   ]
  },
  {
   "cell_type": "markdown",
   "metadata": {},
   "source": [
    "Il n'y a plus qu'à remplacer $S_1$ et $S_2$ par leurs expressions dans $S_3$:"
   ]
  },
  {
   "cell_type": "markdown",
   "metadata": {},
   "source": [
    "\\begin{align}\n",
    "  S_3 &= \\frac{\\frac{G_1 G_2}{1 - G_1 G_2 H_1} (G_3 + G_4)}{1 + \\frac{G_1 G_2}{1 - G_1 G_2 H_1} (G_3 + G_4) H_2} \\\\\n",
    "  S_3 &= \\frac{G_1 G_2 (G_3 + G_4)}{1 - G_1 G_2 H_1 + G_1 G_2 (G_3 + G_4) H_2} \\\\\n",
    "\\end{align}"
   ]
  },
  {
   "cell_type": "markdown",
   "metadata": {},
   "source": [
    "#### Schéma 3:"
   ]
  },
  {
   "cell_type": "markdown",
   "metadata": {},
   "source": [
    "Ce schéma ne peut pas être réduit à cause de la sortie de $H_3$ qui va se greffer en plein milieu d'une contre-réaction."
   ]
  },
  {
   "cell_type": "markdown",
   "metadata": {},
   "source": [
    "Remarquons que le schéma est équivalent au schéma modifié suivant:"
   ]
  },
  {
   "cell_type": "markdown",
   "metadata": {},
   "source": [
    "<img src=\"./Images/SolutionsSchemasBlocs/exo_schema_3_1.png\" width=600>"
   ]
  },
  {
   "cell_type": "markdown",
   "metadata": {},
   "source": [
    "En effet, appelons $y_1$, $y_2$ et $y_3$ les sorties respectives de $G_1$, $H_1$ et $H_3$ et $x_1$ l'entrée de $G_2$. L'égalité suivante est vérifiée:"
   ]
  },
  {
   "cell_type": "markdown",
   "metadata": {},
   "source": [
    "$$ x_1 = (y_1 - y_2) - y_3 = y_1 - y_2 - y_3 $$"
   ]
  },
  {
   "cell_type": "markdown",
   "metadata": {},
   "source": [
    "Cependant, la sortie de $H_3$ est maintenant greffée en plein milieu d'une autre contre-réaction. Si on avance ce signal avant $G_1$, on obtient le schéma suivant:"
   ]
  },
  {
   "cell_type": "markdown",
   "metadata": {},
   "source": [
    "<img src=\"./Images/SolutionsSchemasBlocs/exo_schema_3_2.png\" width=600>"
   ]
  },
  {
   "cell_type": "markdown",
   "metadata": {},
   "source": [
    "Il a fallu, pour garder l'équivalence des schémas, diviser $H_3$ par $G_1$ car sa sortie ne passait pas par le bloc $G_1$ alors que maintenant oui."
   ]
  },
  {
   "cell_type": "markdown",
   "metadata": {},
   "source": [
    "A ce stade, plusieurs contre-réactions sont visibles:"
   ]
  },
  {
   "cell_type": "markdown",
   "metadata": {},
   "source": [
    "<img src=\"./Images/SolutionsSchemasBlocs/exo_schema_3_3.png\" width=600>"
   ]
  },
  {
   "cell_type": "markdown",
   "metadata": {},
   "source": [
    "Les expressions de ces regroupements sont assez simples:"
   ]
  },
  {
   "cell_type": "markdown",
   "metadata": {},
   "source": [
    "\\begin{align}\n",
    "  S_1 &= \\frac{G_2}{1 + G_2 H_1} \\\\\n",
    "  S_2 &= \\frac{G_1 S_1}{1 + G_1 S_1 H_2} \\\\\n",
    "  S_3 &= \\frac{S_2 G_3}{1 + S_2 G_3 \\frac{H_3}{G_1}}\n",
    "\\end{align}"
   ]
  },
  {
   "cell_type": "markdown",
   "metadata": {},
   "source": [
    "En substituant $S_1$ dans l'expression de $S_2$, on obtient:"
   ]
  },
  {
   "cell_type": "markdown",
   "metadata": {},
   "source": [
    "\\begin{align}\n",
    "  S_2 &= \\frac{G_1 \\frac{G_2}{1 + G_2 H_1}}{1 + G_1 \\frac{G_2}{1 + G_2 H_1} H_2} \\\\\n",
    "  S_2 &= \\frac{G_1 G_2}{1 + G_2 H_1 + G_1 G_2 H_2}\n",
    "\\end{align}"
   ]
  },
  {
   "cell_type": "markdown",
   "metadata": {},
   "source": [
    "En substituant $S_2$ dans l'expression de $S_3$, on a finalement:"
   ]
  },
  {
   "cell_type": "markdown",
   "metadata": {},
   "source": [
    "\\begin{align}\n",
    "  S_3 &= \\frac{\\frac{G_1 G_2}{1 + G_2 H_1 + G_1 G_2 H_2} G_3}{1 + \\frac{G_1 G_2}{1 + G_2 H_1 + G_1 G_2 H_2} G_3 \\frac{H_3}{G_1}} \\\\\n",
    "  S_3 &= \\frac{G_1 G_2 G_3}{1 + G_2 H_1 + G_1 G_2 H_2 + G_1 G_2 G_3 \\frac{H_3}{G_1}} \\\\\n",
    "  S_3 &= \\frac{G_1 G_2 G_3}{1 + G_2 H_1 + G_1 G_2 H_2 + G_2 G_3 H_3} \\\\\n",
    "\\end{align}"
   ]
  },
  {
   "cell_type": "markdown",
   "metadata": {},
   "source": [
    "#### Schéma 4:"
   ]
  },
  {
   "cell_type": "markdown",
   "metadata": {},
   "source": [
    "Ce schéma contient plusieurs difficultés à surmonter."
   ]
  },
  {
   "cell_type": "markdown",
   "metadata": {},
   "source": [
    "Tout d'abord, remarquons que la sortie de $H_1$ est injectée dans les 2 sommateurs à sa gauche. Le schéma suivant permet de garder l'équivalence mais en détaillant plus l'opération:"
   ]
  },
  {
   "cell_type": "markdown",
   "metadata": {},
   "source": [
    "<img src=\"./Images/SolutionsSchemasBlocs/exo_schema_4_1.png\" width=600>"
   ]
  },
  {
   "cell_type": "markdown",
   "metadata": {},
   "source": [
    "Cette simple modification permet de faire apparaître 2 rétro-actions. Cependant, la sortie de $H_2$ vient se greffer dans l'une de ces rétro-actions et il faut donc la déplacer."
   ]
  },
  {
   "cell_type": "markdown",
   "metadata": {},
   "source": [
    "Il a été choisi de la déplacer vers le sommateur tout à gauche, en divisant $H_2$ par $G_1$ afin de garder l'équivalence."
   ]
  },
  {
   "cell_type": "markdown",
   "metadata": {},
   "source": [
    "<img src=\"./Images/SolutionsSchemasBlocs/exo_schema_4_2.png\" width=600>"
   ]
  },
  {
   "cell_type": "markdown",
   "metadata": {},
   "source": [
    "A partir de ce schéma, plusieurs regroupements apparaissent:"
   ]
  },
  {
   "cell_type": "markdown",
   "metadata": {},
   "source": [
    "<img src=\"./Images/SolutionsSchemasBlocs/exo_schema_4_3.png\" width=600>"
   ]
  },
  {
   "cell_type": "markdown",
   "metadata": {},
   "source": [
    "Les expressions de ces regroupements sont donnés ci-après:"
   ]
  },
  {
   "cell_type": "markdown",
   "metadata": {},
   "source": [
    "\\begin{align}\n",
    "  S_1 &= \\frac{G_2}{1 + G_2 H_1} \\\\\n",
    "  S_2 &= \\frac{G_1 S_1}{1 - G_1 S_1 H_1} \\\\\n",
    "  S_3 &= \\frac{S_2 G_3}{1 + S_2 G_3 \\frac{H_2}{G_1}} \\\\\n",
    "  S_4 &= S_3 + G_4\n",
    "\\end{align}"
   ]
  },
  {
   "cell_type": "markdown",
   "metadata": {},
   "source": [
    "En substituant $S_1$ dans l'expression de $S_2$, on obtient:"
   ]
  },
  {
   "cell_type": "markdown",
   "metadata": {},
   "source": [
    "\\begin{align}\n",
    "  S_2 &= \\frac{G_1 \\frac{G_2}{1 + G_2 H_1}}{1 - G_1 \\frac{G_2}{1 + G_2 H_1} H_1} \\\\\n",
    "  S_2 &= \\frac{G_1 G_2}{1 + G_2 H_1 - G_1 G_2 H_1} \\\\\n",
    "\\end{align}"
   ]
  },
  {
   "cell_type": "markdown",
   "metadata": {},
   "source": [
    "En substituant $S_2$ dans $S_3$, on a:"
   ]
  },
  {
   "cell_type": "markdown",
   "metadata": {},
   "source": [
    "\\begin{align}\n",
    "  S_3 &= \\frac{\\frac{G_1 G_2}{1 + G_2 H_1 - G_1 G_2 H_1} G_3}{1 + \\frac{G_1 G_2}{1 + G_2 H_1 - G_1 G_2 H_1} G_3 \\frac{H_2}{G_1}} \\\\\n",
    "  S_3 &= \\frac{G_1 G_2 G_3}{1 + G_1 G_2 G_3 \\frac{H_2}{G_1}} \\\\\n",
    "  S_3 &= \\frac{G_1 G_2 G_3}{1 + G_2 G_3 H_2}\n",
    "\\end{align}"
   ]
  },
  {
   "cell_type": "markdown",
   "metadata": {},
   "source": [
    "Enfin, en substituant $S_3$ dans $S_4$, on a:"
   ]
  },
  {
   "cell_type": "markdown",
   "metadata": {},
   "source": [
    "\\begin{align}\n",
    "  S_4 &= \\frac{G_1 G_2 G_3}{1 + G_2 G_3 H_2} + G_4 \\\\\n",
    "  S_4 &= \\frac{G_1 G_2 G_3 + G_4 (1 + G_2 G_3 H_2)}{1 + G_2 G_3 H_2} \\\\\n",
    "\\end{align}"
   ]
  },
  {
   "cell_type": "markdown",
   "metadata": {},
   "source": [
    "---"
   ]
  },
  {
   "cell_type": "markdown",
   "metadata": {},
   "source": [
    "## Schémas à base d'intégrateurs"
   ]
  },
  {
   "cell_type": "markdown",
   "metadata": {},
   "source": [
    "#### Exercice 1:"
   ]
  },
  {
   "cell_type": "markdown",
   "metadata": {},
   "source": [
    "- $H(s) = \\dfrac{U_c(s)}{U_{in}(s)}$"
   ]
  },
  {
   "cell_type": "markdown",
   "metadata": {},
   "source": [
    "La fonction de transfert est:"
   ]
  },
  {
   "cell_type": "markdown",
   "metadata": {},
   "source": [
    "$$ H(s) = \\frac{1}{RCs + 1} $$"
   ]
  },
  {
   "cell_type": "markdown",
   "metadata": {},
   "source": [
    "On obtient successivement:"
   ]
  },
  {
   "cell_type": "markdown",
   "metadata": {},
   "source": [
    "\\begin{align}\n",
    "  \\frac{U_c(s)}{U_{in}(s)} &= \\frac{1}{s} \\frac{1}{RC + \\frac{1}{s}} \\\\\n",
    "  U_c(s) \\left( RC + \\frac{1}{s} \\right) &= \\frac{1}{s} U_{in}(s) \\\\\n",
    "  U_c(s) &= \\frac{1}{RC} \\left( \\frac{1}{s} U_{in}(s) - \\frac{1}{s} U_c(s) \\right) \\\\\n",
    "  U_c(s) &= \\frac{1}{RC} \\frac{1}{s} \\left( U_{in}(s) - U_c(s) \\right)\n",
    "\\end{align}"
   ]
  },
  {
   "cell_type": "markdown",
   "metadata": {},
   "source": [
    "A partir de cette expression, on obtient le schéma bloc suivant:"
   ]
  },
  {
   "cell_type": "markdown",
   "metadata": {},
   "source": [
    "<img src=\"./Images/SolutionsSchemasBlocs/exo_integrateur_rc_c.png\" width=\"300\">"
   ]
  },
  {
   "cell_type": "markdown",
   "metadata": {},
   "source": [
    "- $H(s) = \\dfrac{U_r(s)}{U_{in}(s)}$"
   ]
  },
  {
   "cell_type": "markdown",
   "metadata": {},
   "source": [
    "La fonction de transfert est:"
   ]
  },
  {
   "cell_type": "markdown",
   "metadata": {},
   "source": [
    "$$ H(s) = \\frac{RCs}{RCs + 1} $$"
   ]
  },
  {
   "cell_type": "markdown",
   "metadata": {},
   "source": [
    "On obtient successivement:"
   ]
  },
  {
   "cell_type": "markdown",
   "metadata": {},
   "source": [
    "\\begin{align}\n",
    "  \\frac{U_r(s)}{U_{in}(s)} &= \\frac{s}{s} \\frac{RC}{RC + \\frac{1}{s}} \\\\\n",
    "  U_r(s) \\left( RC + \\frac{1}{s} \\right) &= RC U_{in}(s) \\\\\n",
    "  U_r(s) &= U_{in}(s) - \\frac{1}{RC} \\frac{1}{s} U_r(s)\n",
    "\\end{align}"
   ]
  },
  {
   "cell_type": "markdown",
   "metadata": {},
   "source": [
    "A partir de cette expression, on obtient le schéma bloc suivant:"
   ]
  },
  {
   "cell_type": "markdown",
   "metadata": {},
   "source": [
    "<img src=\"./Images/SolutionsSchemasBlocs/exo_integrateur_rc_r.png\" width=\"300\">"
   ]
  },
  {
   "cell_type": "markdown",
   "metadata": {},
   "source": [
    "- le modèle d'état dont les sorties sont $y_1 = u_c$ et $y_2=u_r$"
   ]
  },
  {
   "cell_type": "markdown",
   "metadata": {},
   "source": [
    "Le modèle d'état est:"
   ]
  },
  {
   "cell_type": "markdown",
   "metadata": {},
   "source": [
    "$$\n",
    "  \\left\\{ \\begin{array}{l}\n",
    "    \\dot{x} = -\\frac{1}{RC} x + \\frac{1}{RC} u \\\\\n",
    "    \\left[ \\begin{array}{c}\n",
    "      y_1 \\\\\n",
    "      y_2\n",
    "    \\end{array} \\right] = \\left[ \\begin{array}{c}\n",
    "      1 \\\\\n",
    "      -1\n",
    "    \\end{array} \\right] x + \\left[ \\begin{array}{c}\n",
    "      0 \\\\\n",
    "      1\n",
    "    \\end{array} \\right] u    \n",
    "  \\end{array} \\right.\n",
    "$$"
   ]
  },
  {
   "cell_type": "markdown",
   "metadata": {},
   "source": [
    "A partir de ce modèle, on obtient le schéma bloc suivant:"
   ]
  },
  {
   "cell_type": "markdown",
   "metadata": {},
   "source": [
    "<img src=\"./Images/SolutionsSchemasBlocs/exo_integrateur_rc_ss.png\" width=\"400\">"
   ]
  },
  {
   "cell_type": "markdown",
   "metadata": {},
   "source": [
    "---"
   ]
  },
  {
   "cell_type": "markdown",
   "metadata": {},
   "source": [
    "#### Exercice 2:"
   ]
  },
  {
   "cell_type": "markdown",
   "metadata": {},
   "source": [
    "- $H(s) = \\dfrac{U_l(s)}{U_{in}(s)}$"
   ]
  },
  {
   "cell_type": "markdown",
   "metadata": {},
   "source": [
    "La fonction de transfert est:"
   ]
  },
  {
   "cell_type": "markdown",
   "metadata": {},
   "source": [
    "$$ H(s) = \\frac{L}{R} \\frac{s}{1 + \\frac{L}{R}s} $$"
   ]
  },
  {
   "cell_type": "markdown",
   "metadata": {},
   "source": [
    "On obtient successivement:"
   ]
  },
  {
   "cell_type": "markdown",
   "metadata": {},
   "source": [
    "\\begin{align}\n",
    "  \\frac{U_l(s)}{U_{in}(s)} &= \\frac{s}{s} \\frac{L}{R} \\frac{1}{\\frac{1}{s} + \\frac{L}{R}} \\\\\n",
    "  U_l(s) \\left(\\frac{1}{s} + \\frac{L}{R} \\right) &= \\frac{L}{R} U_{in}(s) \\\\\n",
    "  U_l(s) &= U_{in}(s) - \\frac{R}{L} \\frac{1}{s} U_l(s)\n",
    "\\end{align}"
   ]
  },
  {
   "cell_type": "markdown",
   "metadata": {},
   "source": [
    "A partir de cette expression, on obtient le schéma bloc suivant:"
   ]
  },
  {
   "cell_type": "markdown",
   "metadata": {},
   "source": [
    "<img src=\"./Images/SolutionsSchemasBlocs/exo_integrateur_rl_l.png\" width=\"300\">"
   ]
  },
  {
   "cell_type": "markdown",
   "metadata": {},
   "source": [
    "- $H(s) = \\dfrac{U_r(s)}{U_{in}(s)}$"
   ]
  },
  {
   "cell_type": "markdown",
   "metadata": {},
   "source": [
    "La fonction de transfert est:"
   ]
  },
  {
   "cell_type": "markdown",
   "metadata": {},
   "source": [
    "$$ H(s) = \\frac{1}{1 + \\frac{L}{R} s} $$"
   ]
  },
  {
   "cell_type": "markdown",
   "metadata": {},
   "source": [
    "On obtient successivement:"
   ]
  },
  {
   "cell_type": "markdown",
   "metadata": {},
   "source": [
    "\\begin{align}\n",
    "  \\frac{U_r(s)}{U_{in}(s)} &= \\frac{1}{s} \\frac{1}{\\frac{1}{s} + \\frac{L}{R}} \\\\\n",
    "  U_r(s) \\left(\\frac{1}{s} + \\frac{L}{R}\\right) &= \\frac{1}{s} U_{in}(s) \\\\\n",
    "  U_r(s) &= \\frac{R}{L} \\left( \\frac{1}{s} U_{in}(s) - \\frac{1}{s} U_r(s) \\right) \\\\\n",
    "  U_r(s) &= \\frac{R}{L} \\frac{1}{s} \\left(  U_{in}(s) - U_r(s) \\right)\n",
    "\\end{align}"
   ]
  },
  {
   "cell_type": "markdown",
   "metadata": {},
   "source": [
    "A partir de cette expression, on obtient le schéma bloc suivant:"
   ]
  },
  {
   "cell_type": "markdown",
   "metadata": {},
   "source": [
    "<img src=\"./Images/SolutionsSchemasBlocs/exo_integrateur_rl_r.png\" width=\"300\">"
   ]
  },
  {
   "cell_type": "markdown",
   "metadata": {},
   "source": [
    "- le modèle d'état dont les sorties sont $y_1 = u_r$ et $y_2=u_l$"
   ]
  },
  {
   "cell_type": "markdown",
   "metadata": {},
   "source": [
    "Le modèle d'état est:"
   ]
  },
  {
   "cell_type": "markdown",
   "metadata": {},
   "source": [
    "$$\n",
    "  \\left\\{ \\begin{array}{l}\n",
    "    \\dot{x} = -\\frac{R}{L} x + \\frac{1}{L} u \\\\\n",
    "    \\left[ \\begin{array}{c}\n",
    "      y_1 \\\\\n",
    "      y_2\n",
    "    \\end{array} \\right] = \\left[ \\begin{array}{c}\n",
    "      R \\\\\n",
    "      -R\n",
    "    \\end{array} \\right] x + \\left[ \\begin{array}{c}\n",
    "      0 \\\\\n",
    "      1\n",
    "    \\end{array} \\right] u    \n",
    "  \\end{array} \\right.\n",
    "$$"
   ]
  },
  {
   "cell_type": "markdown",
   "metadata": {},
   "source": [
    "A partir de ce modèle, on obtient le schéma bloc suivant:"
   ]
  },
  {
   "cell_type": "markdown",
   "metadata": {},
   "source": [
    "<img src=\"./Images/SolutionsSchemasBlocs/exo_integrateur_rl_ss.png\" width=\"400\">"
   ]
  }
 ],
 "metadata": {
  "kernelspec": {
   "display_name": "Python 3",
   "language": "python",
   "name": "python3"
  },
  "language_info": {
   "codemirror_mode": {
    "name": "ipython",
    "version": 3
   },
   "file_extension": ".py",
   "mimetype": "text/x-python",
   "name": "python",
   "nbconvert_exporter": "python",
   "pygments_lexer": "ipython3",
   "version": "3.7.3"
  }
 },
 "nbformat": 4,
 "nbformat_minor": 4
}
