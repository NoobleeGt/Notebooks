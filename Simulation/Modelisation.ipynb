{
 "cells": [
  {
   "cell_type": "markdown",
   "metadata": {},
   "source": [
    "# Modélisation"
   ]
  },
  {
   "cell_type": "markdown",
   "metadata": {},
   "source": [
    "## Introduction"
   ]
  },
  {
   "cell_type": "markdown",
   "metadata": {},
   "source": [
    "Un modèle, par définition, est une représentation. On parle par exemple de modèle pour des maquettes de monuments."
   ]
  },
  {
   "cell_type": "markdown",
   "metadata": {},
   "source": [
    "Dans le cadre de cette activité, un modèle sera donc une représentation mathématique d'un *système*, permettant de l'analyser et le simuler."
   ]
  },
  {
   "cell_type": "markdown",
   "metadata": {},
   "source": [
    "Il existe différents types de modèles:\n",
    "\n",
    "- modèles continus linéaires représentés par des fonctions de transfert en S\n",
    "- modèles discrets linéaires représentés par des fonctions de transfert en Z\n",
    "- modèles continus ou discrets représentés par des modèles d'états\n",
    "- modèles continus représentés par des équations aux paramètres distribués"
   ]
  },
  {
   "cell_type": "markdown",
   "metadata": {},
   "source": [
    "La simulation est importante pour différentes raisons:\n",
    "\n",
    "- afin d'en comprendre le ou les comportements pour différentes excitations\n",
    "- afin de le dimensionner et vérifier que le dimensionnement est correct\n",
    "- afin d'y ajouter une régulation et vérifier que le système se comporte comme prévu"
   ]
  },
  {
   "cell_type": "markdown",
   "metadata": {},
   "source": [
    "## Définitions"
   ]
  },
  {
   "cell_type": "markdown",
   "metadata": {},
   "source": [
    "Voici quelques définitions importantes à la suite de l'activité:\n",
    "\n",
    "- signal: c'est une grandeur mesurable porteuse d'une information; il peut être continu, discret ou numérique\n",
    "- système: il transforme des signaux d'entrées en signaux de sorties; un système est délimité par des hypothèses (par exemple: étudier la loi d'Ohm sur une résistance sous-entend souvent que les variations de température et de pression, que les perturbations électromagnétiques et que la variation de résistance en fonction du courant sont négligeables; une autre étude pourrait vérifier la sensibilité de la loi d'Ohm a ces paramètres, et il faut alors ajouter des signaux supplémentaires et élargir les limites du système)"
   ]
  },
  {
   "cell_type": "markdown",
   "metadata": {},
   "source": [
    "Dans le cas de cette activité, un système électrique sera simplement un circuit dans son entièreté, alors que les signaux seront les tensions et les courants."
   ]
  },
  {
   "cell_type": "markdown",
   "metadata": {},
   "source": [
    "## Transformées de Laplace"
   ]
  },
  {
   "cell_type": "markdown",
   "metadata": {},
   "source": [
    "Pour rappel, la transformée de Laplace d'une fonction est définie comme suit:\n",
    "\n",
    "$$ F(s) = \\int_{-\\infty}^{+\\infty} f(t)*e^{-st} dt $$"
   ]
  },
  {
   "cell_type": "markdown",
   "metadata": {},
   "source": [
    "En général, il est impossible de connaître la fonction depuis le temps $-\\infty$. On définit alors la transformée de Laplace unilatérale:\n",
    "\n",
    "$$ F(s) = \\int_{0}^{+\\infty} f(t)*e^{-st} dt $$"
   ]
  },
  {
   "cell_type": "markdown",
   "metadata": {},
   "source": [
    "### Propriétés"
   ]
  },
  {
   "cell_type": "markdown",
   "metadata": {},
   "source": [
    "Voici un résumé des propriétés principales de la transformée de Laplace:\n",
    "\n",
    "#### Linéarité  \n",
    "$$ \\mathscr{L}\\left( ax(t) + by(t) \\right) = aX(s) + bY(s) \\qquad \\forall a, b \\in \\mathscr{R} $$\n",
    "#### Dérivation\n",
    "$$ \\mathscr{L}\\left( \\dot{x(t)} \\right) = sX(s) - x(0^+) $$\n",
    "#### Intégration\n",
    "$$ \\mathscr{L}\\left( \\int_{0}^{t} x(\\tau) d\\tau \\right) = \\frac{X(s)}{s} $$\n",
    "#### Théorème de la valeur initiale\n",
    "$$ \\lim_{s \\rightarrow \\infty}sX(s) = x(0^+) $$\n",
    "#### Théorème de la valeur finale\n",
    "$$ \\lim_{s \\rightarrow 0}sX(s) = x(\\infty) $$\n",
    "#### Retard temporel\n",
    "$$ \\mathscr{L}\\left( x(t-T) \\right) = X(s)e^{-sT} $$\n",
    "#### Produit de convolution\n",
    "$$ \\mathscr{L}\\left( \\int_{0}^{t} x(\\tau) y(t-\\tau) d\\tau \\right) = X(s)Y(s) $$"
   ]
  },
  {
   "cell_type": "markdown",
   "metadata": {},
   "source": [
    "### Table des transformées"
   ]
  },
  {
   "cell_type": "markdown",
   "metadata": {},
   "source": [
    " La table ci-dessous reprend les transformées usuelles:"
   ]
  },
  {
   "cell_type": "markdown",
   "metadata": {},
   "source": [
    "| $$\\quad \\text{N°} \\quad$$ | $$\\quad\\quad\\quad w(t) \\quad\\quad\\quad$$ | $$\\quad\\quad\\quad\\quad \\mathscr{L}\\big(w(t)\\big) \\quad\\quad\\quad\\quad$$ |\n",
    "| :-: | :-: | :-: |\n",
    "| $$\\text{1}$$ | $$\\delta(t)$$ | $$1$$ |\n",
    "| $$\\text{2}$$ | $$1$$ | $$\\frac{1}{s}$$ |\n",
    "| $$\\text{3}$$ | $$t$$ | $$\\frac{1}{s^2}$$ |\n",
    "| $$\\text{4}$$ | $$\\frac{1}{2}t^2$$ | $$\\frac{1}{s^3}$$ |\n",
    "| $$\\text{5}$$ | $$\\frac{1}{(l-1)!}t^{l-1}$$ | $$\\frac{1}{s^l}$$ |\n",
    "| $$\\text{6}$$ | $$e^{-at}$$ | $$\\frac{1}{s+a}$$ |\n",
    "| $$\\text{7}$$ | $$te^{-at}$$ | $$\\frac{1}{(s+a)^2}$$ |\n",
    "| $$\\text{8}$$ | $$\\frac{1}{2}t^2e^{-at}$$ | $$\\frac{1}{(s+a)^3}$$ |\n",
    "| $$\\text{9}$$ | $$\\frac{1}{(l-1)!}t^{l-1}e^{-at}$$ | $$\\frac{1}{(s+a)^l}$$ |\n",
    "| $$\\text{10}$$ | $$\\sin(\\omega{}t)$$ | $$\\frac{\\omega}{s^2+\\omega^2}$$ |\n",
    "| $$\\text{11}$$ | $$\\cos(\\omega{}t)$$ | $$\\frac{s}{s^2+\\omega^2}$$ |\n",
    "| $$\\text{12}$$ | $$e^{-at}\\sin(\\omega{}t)$$ | $$\\frac{\\omega}{(s+a)^2+\\omega^2}$$ |\n",
    "| $$\\text{13}$$ | $$e^{-at}\\cos(\\omega{}t)$$ | $$\\frac{s+a}{(s+a)^2+\\omega^2}$$ |"
   ]
  },
  {
   "cell_type": "markdown",
   "metadata": {},
   "source": [
    "### Transformée inverse "
   ]
  },
  {
   "cell_type": "markdown",
   "metadata": {},
   "source": [
    "La transformée inverse, notée $\\mathscr{L^{-1}}$, permet de transformer la description en s d'une fonction vers sa description en t."
   ]
  },
  {
   "cell_type": "markdown",
   "metadata": {},
   "source": [
    "Il existe 2 méthodes pour effectuer cette opération:\n",
    "\n",
    "- par intégration dans le plan complexe\n",
    "- par décomposition en sommes de fractions simples"
   ]
  },
  {
   "cell_type": "markdown",
   "metadata": {},
   "source": [
    "#### Intégration dans le plan complexe"
   ]
  },
  {
   "cell_type": "markdown",
   "metadata": {},
   "source": [
    "Il suffit de résoudre l'intégrale suivante:\n",
    "\n",
    "$$ x(t) = \\frac{1}{2\\pi j} \\int_{\\sigma-j\\infty}^{\\sigma+j\\infty} X(s) e^{ts} ds $$"
   ]
  },
  {
   "cell_type": "markdown",
   "metadata": {},
   "source": [
    "Cette intégrale pouvant être complexe, la seconde méthode est souvant préférée."
   ]
  },
  {
   "cell_type": "markdown",
   "metadata": {},
   "source": [
    "#### Décomposition en sommes de fractions simples"
   ]
  },
  {
   "cell_type": "markdown",
   "metadata": {},
   "source": [
    "L'idée est de décomposer la transformée de Laplace, qui est souvent sous la forme d'une fraction rationnelle, en somme d'éléments simples, comme vu au cours de mathématiques. Il suffit alors de transformer chaque élément simple en utilisant la table des transformées."
   ]
  },
  {
   "cell_type": "markdown",
   "metadata": {},
   "source": [
    "### Fonction de transfert"
   ]
  },
  {
   "cell_type": "markdown",
   "metadata": {},
   "source": [
    "Soit un système possédant une entrée et une sortie, représenté à la figure suivante:"
   ]
  },
  {
   "cell_type": "markdown",
   "metadata": {},
   "source": [
    "<img src=\"Images/Modelisation/systeme.png\" alt=\"Système avec une entrée et une sortie\" width=\"300\">"
   ]
  },
  {
   "cell_type": "markdown",
   "metadata": {},
   "source": [
    "La sortie d'un système est calculée par le produit de convolution:\n",
    "\n",
    "$$ y(t) = \\int_{\\tau=0}^{t} u(\\tau)g(t-\\tau) d\\tau $$\n",
    "\n",
    "avec $y, u, g$, la sortie, l'entrée et la réponse impulsionnelle du système respectivement."
   ]
  },
  {
   "cell_type": "markdown",
   "metadata": {},
   "source": [
    "Par la transformée vue précédemment, on obtient:\n",
    "\n",
    "$$ Y(s) = G(s)U(s) $$\n",
    "\n",
    "La transformée $G(s)$ de la réponse impulsionnelle est appelée **fonction de transfert** du système."
   ]
  },
  {
   "cell_type": "markdown",
   "metadata": {},
   "source": [
    "Lorsque le système est décri par une équation aux différences, la fonction de transfert est calculée à partir du quotient $Y(s)/U(s)$:\n",
    "\n",
    "$$ a_0 y(t) + a_1 \\frac{dy(t)}{dt} + \\dots + a_n \\frac{d^ny(t)}{dt^n} = b_0 u(t) + b_1 \\frac{du(t)}{dt} + \\dots + b_m \\frac{d^mu(t)}{dt^n} $$\n",
    "\n",
    "Par la transformée en S, on obtient:\n",
    "\n",
    "\\begin{align}\n",
    "a_0 Y(s) + a_1 sY(s) + \\dots + a_n s^nY(s) &= b_0 U(s) + b_1 sU(s) + \\dots + b_m s^mU(s) \\\\\n",
    "\\left(a_0 + a_1 s + \\dots + a_n s^n\\right)Y(s) &= \\left(b_0 + b_1 s + \\dots + b_m s^m\\right)U(s) \\\\\n",
    "\\frac{Y(s)}{U(s)} &= \\frac{b_0 + b_1 s + \\dots + b_m s^m}{a_0 +a_1 s + \\dots + a_n s^n}\n",
    "\\end{align}"
   ]
  },
  {
   "cell_type": "markdown",
   "metadata": {},
   "source": [
    "Les définitions suivantes sont d'application pour la fonction de transfert obtenue:\n",
    "\n",
    "- le degré du dénominateur doit être plus grand ou égal au degré du numérateur: $n \\ge m$\n",
    "- les racines du numérateur sont appelées les zéros du système\n",
    "- les racines du dénominateur sont appelées les pôles du système\n",
    "- le dénominateur est appelé polynôme caractéristique\n",
    "- l'ordre du système est défini par le nombre $n$ de ses pôles"
   ]
  },
  {
   "cell_type": "markdown",
   "metadata": {},
   "source": [
    "### Exercices"
   ]
  },
  {
   "cell_type": "markdown",
   "metadata": {},
   "source": [
    "#### Exercice 1:\n",
    "\n",
    "Appliquez le théorème de la linéarité sur l'équation différentielle suivante:\n",
    "\n",
    "$$ \\frac{dy^2(t)}{dt^2} + 2 \\xi \\omega_n \\frac{dy(t)}{dt} + \\omega_n^2 y(t) = \\omega_n^2 u(t) $$"
   ]
  },
  {
   "cell_type": "markdown",
   "metadata": {},
   "source": [
    "#### Exercice 2:\n",
    "\n",
    "Calculez la transformée inverse des fonctions suivantes:\n",
    "\n",
    "\\begin{align}\n",
    "  &1. \\quad F(s) = \\frac{1}{s^2-3} \\\\\n",
    "  &2. \\quad F(s) = \\frac{1}{(s+a)^2} \\\\\n",
    "  &3. \\quad F(s) = \\frac{s}{(s+1)^2} \\\\\n",
    "  &4. \\quad F(s) = \\frac{3s}{(s+2)^2(s+1)}\n",
    "\\end{align}"
   ]
  },
  {
   "cell_type": "markdown",
   "metadata": {},
   "source": [
    "#### Exercice 3:\n",
    "Déterminez la description sous la forme d'une fonction de transfert des équations différentielles suivantes:\n",
    "\n",
    "\\begin{align}\n",
    "  &1.\\quad \\frac{dy(t)}{dt} + ay(t) = u(t) \\\\\n",
    "  &2.\\quad \\frac{d^2y(t)}{dt^2} + 2 \\xi \\omega_n \\frac{dy(t)}{dt} + \\omega_n^2 y(t) = \\omega_n^2 u(t) \\\\\n",
    "  &3.\\quad \\frac{dy(t)}{dt} + ay(t) = u(t-T)\n",
    "\\end{align}"
   ]
  },
  {
   "cell_type": "markdown",
   "metadata": {},
   "source": [
    "## Modèle d'états"
   ]
  },
  {
   "cell_type": "markdown",
   "metadata": {},
   "source": [
    "Les états d'un système sont les grandeurs représentant la mémoire du système. Les états permettent, en connaissant les entrées, de retracer l'évolution du système en fonction du temps."
   ]
  },
  {
   "cell_type": "markdown",
   "metadata": {},
   "source": [
    "La représentation dans l'espace d'état d'un système linéaire est généralement mise sous la forme suivante:\n",
    "\n",
    "\\begin{align}\n",
    "  \\left\\{ \n",
    "  \\begin{array}{ll}  \n",
    "    \\mathbf{\\dot{x}} = A\\mathbf{x} + B\\mathbf{u} \\\\ \n",
    "    \\mathbf{y} = C\\mathbf{x} + D\\mathbf{u}\n",
    "  \\end{array}\n",
    "  \\right.\n",
    "\\end{align}\n",
    "\n",
    "avec:\n",
    "\n",
    "- $\\mathbf{x}$: le vecteur des états\n",
    "- $\\mathbf{\\dot{x}}$: le vecteur des dérivées des états\n",
    "- $\\mathbf{u}$: le vecteur des entrées\n",
    "- $\\mathbf{y}$: le vecteur des sorties"
   ]
  },
  {
   "cell_type": "markdown",
   "metadata": {},
   "source": [
    "La première équation représente l'équation d'état. Elle se présente sous la forme de $n$ équations différentielles d'ordre 1, avec $n$ l'ordre du système."
   ]
  },
  {
   "cell_type": "markdown",
   "metadata": {},
   "source": [
    "La seconde équation représente l'équation de sortie."
   ]
  },
  {
   "cell_type": "markdown",
   "metadata": {},
   "source": [
    "L'avantage de cette représentation est qu'on peut facilement modéliser un système avec plusieurs sources et plusieurs tensions/courants à simuler."
   ]
  },
  {
   "cell_type": "markdown",
   "metadata": {},
   "source": [
    "Il est évident que, dans le cas d'un système avec une entrée et une sortie, les vecteurs $u$ et $y$ deviennent de simples scalaires. Dans le cas où le système ne possède qu'un seul état, $x$ aussi devient scalaire."
   ]
  },
  {
   "cell_type": "markdown",
   "metadata": {},
   "source": [
    "En général $D$ est souvent nul vu que la sortie d'un système dynamique est rarement directement liée à l'entrée. L'équation devient alors:\n",
    "\n",
    "\\begin{align}\n",
    "  \\left\\{ \n",
    "  \\begin{array}{ll}\n",
    "    \\mathbf{\\dot{x}} = A\\mathbf{x} + B\\mathbf{u} \\\\ \n",
    "    \\mathbf{y} = C\\mathbf{x}\n",
    "  \\end{array}\n",
    "  \\right.\n",
    "\\end{align}"
   ]
  },
  {
   "cell_type": "markdown",
   "metadata": {},
   "source": [
    "## Modélisation dynamique de systèmes électriques"
   ]
  },
  {
   "cell_type": "markdown",
   "metadata": {},
   "source": [
    "Les systèmes électriques sont régis par les lois de Kirchhoff. Ces lois restent donc la meilleure solution pour le développement de modèles dynamiques."
   ]
  },
  {
   "cell_type": "markdown",
   "metadata": {},
   "source": [
    "Pour écrire correctement les lois des mailles, il faut garder à l'esprit les relations suivantes:\n",
    "\n",
    "- Resistance:\n",
    "$$ u(t) = R i(t) $$\n",
    "- Inductance:\n",
    "$$ u(t) = L \\frac{di(t)}{dt} $$\n",
    "- Capacité:\n",
    "$$ i(t) = C \\frac{du(t)}{dt} $$"
   ]
  },
  {
   "cell_type": "markdown",
   "metadata": {},
   "source": [
    "Ces lois de Kirchhoff permettent d'obtenir un set d'équations différentielles."
   ]
  },
  {
   "cell_type": "markdown",
   "metadata": {},
   "source": [
    "Si l'objectif est d'obtenir une fonction de transfert, il est possible de travailler directement avec des diviseurs de tensions/courants et avec les impédances."
   ]
  },
  {
   "cell_type": "markdown",
   "metadata": {},
   "source": [
    "Pour rappel, voici les impédances des éléments fondamentaux:\n",
    "\n",
    "- Resistance:\n",
    "$$ Z_R = R $$\n",
    "- Inductance:\n",
    "$$ Z_L = j\\omega L $$\n",
    "- Capacité:\n",
    "$$ Z_C = \\frac{1}{j\\omega C} = -\\frac{j}{\\omega C} $$"
   ]
  },
  {
   "cell_type": "markdown",
   "metadata": {},
   "source": [
    "### Exercices"
   ]
  },
  {
   "cell_type": "markdown",
   "metadata": {},
   "source": [
    "#### Exercice 1:"
   ]
  },
  {
   "cell_type": "markdown",
   "metadata": {},
   "source": [
    "Soit le circuit suivant:"
   ]
  },
  {
   "cell_type": "markdown",
   "metadata": {},
   "source": [
    "<img src=\"./Images/Modelisation/circuit_rc.png\" alt=\"Circuit RC série\" width=300>"
   ]
  },
  {
   "cell_type": "markdown",
   "metadata": {},
   "source": [
    "On demande:\n",
    "\n",
    "1. Déterminez la fonction de transfert et le modèle d'état lorsque la sortie est $u_c(t)$\n",
    "2. Déterminez la fonction de transfert et le modèle d'état lorsque la sortie est $u_r(t)$\n",
    "3. Déterminez le modèle d'état lorsque les sorties sont $u_c(t)$ et $u_r(t)$\n",
    "4. Calculez la sortie $u_c(t)$ pour $u_{in}(t)$ égal à une impuslion unité\n",
    "5. Calculez la sortie $u_c(t)$ pour $u_{in}(t)$ égal à un échelon unité\n",
    "\n",
    "Pour les questions 1 et 2, faites les calculs par les 2 méthodes de modélisation (lois de Kirchhoff et impédances)."
   ]
  },
  {
   "cell_type": "markdown",
   "metadata": {},
   "source": [
    "#### Exercice 2:"
   ]
  },
  {
   "cell_type": "markdown",
   "metadata": {},
   "source": [
    "Soit le circuit suivant:"
   ]
  },
  {
   "cell_type": "markdown",
   "metadata": {},
   "source": [
    "<img src=\"./Images/Modelisation/circuit_rl.png\" alt=\"Circuit RL série\" width=300>"
   ]
  },
  {
   "cell_type": "markdown",
   "metadata": {},
   "source": [
    "On demande:\n",
    "\n",
    "1. Déterminez la fonction de transfert et le modèle d'état lorsque la sortie est $u_l(t)$\n",
    "2. Déterminez la fonction de transfert et le modèle d'état lorsque la sortie est $u_r(t)$\n",
    "3. Déterminez le modèle d'état lorsque les sorties sont $u_l(t)$ et $u_r(t)$"
   ]
  }
 ],
 "metadata": {
  "kernelspec": {
   "display_name": "Python 3",
   "language": "python",
   "name": "python3"
  },
  "language_info": {
   "codemirror_mode": {
    "name": "ipython",
    "version": 3
   },
   "file_extension": ".py",
   "mimetype": "text/x-python",
   "name": "python",
   "nbconvert_exporter": "python",
   "pygments_lexer": "ipython3",
   "version": "3.7.3"
  }
 },
 "nbformat": 4,
 "nbformat_minor": 4
}
