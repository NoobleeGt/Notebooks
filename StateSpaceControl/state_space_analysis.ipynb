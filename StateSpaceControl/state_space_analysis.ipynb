{
 "cells": [
  {
   "cell_type": "markdown",
   "metadata": {},
   "source": [
    "# Analyse dans l'espace d'état"
   ]
  },
  {
   "cell_type": "markdown",
   "metadata": {},
   "source": [
    "Tout comme pour les fonctions de transfert, des méthodes d'analyse existent pour les modèles d'état des systèmes linéaires. Ces méthodes sont semblables en continu et discret."
   ]
  },
  {
   "cell_type": "markdown",
   "metadata": {},
   "source": [
    "## Forme canonique de Jordan"
   ]
  },
  {
   "cell_type": "markdown",
   "metadata": {},
   "source": [
    "L'état d'un système n'étant pas unique, un système peut être représenté par des modèles d'états différents."
   ]
  },
  {
   "cell_type": "markdown",
   "metadata": {},
   "source": [
    "Cependant, ces modèles d'états partageront toujours certaines caractéristiques semblables: ils sont dits équivalents."
   ]
  },
  {
   "cell_type": "markdown",
   "metadata": {},
   "source": [
    "Lorsque c'est possible, un changement de base permettant de diagonaliser une matrice donne des informations intéressantes. Malheureusement, tous les systèmes ne peuvent pas être diagonalisés, et la forme de Jordan permet de se rapprocher d'une forme diagonale."
   ]
  },
  {
   "cell_type": "markdown",
   "metadata": {},
   "source": [
    "Soit le modèle d'état discret suivant:\n",
    "\n",
    "\\begin{align}\n",
    "  & \\mathbf{x}(k+1) = \\mathbf{F}\\mathbf{x}(k) + \\mathbf{G}\\mathbf{u}(k) \\\\\n",
    "  & \\mathbf{y}(k) = \\mathbf{C}\\mathbf{x}(k) + \\mathbf{D}\\mathbf{u}(k)\n",
    "\\end{align}"
   ]
  },
  {
   "cell_type": "markdown",
   "metadata": {},
   "source": [
    "En effectuant un changement de base tel que $\\mathbf{x}(k)$ est représenté dans la nouvelle base par $\\mathbf{x}'(k)$:\n",
    "\n",
    "$$ \\mathbf{x}(k) = \\mathbf{P} \\mathbf{x}'(k) $$"
   ]
  },
  {
   "cell_type": "markdown",
   "metadata": {},
   "source": [
    "L'équation d'état devient:\n",
    "\n",
    "$$ \\mathbf{P} \\mathbf{x}'(k+1) = \\mathbf{F}\\mathbf{P}\\mathbf{x}'(k) + \\mathbf{G}\\mathbf{u}(k) \\\\ $$"
   ]
  },
  {
   "cell_type": "markdown",
   "metadata": {},
   "source": [
    "Comme la matrice $\\mathbf{P}$ est inversible, on a:\n",
    "\n",
    "$$ \\mathbf{x}'(k+1) = \\mathbf{P}^{-1}\\mathbf{F}\\mathbf{P}\\mathbf{x}'(k) + \\mathbf{P}^{-1}\\mathbf{G}\\mathbf{u}(k) \\\\ $$"
   ]
  },
  {
   "cell_type": "markdown",
   "metadata": {},
   "source": [
    "En définissant $\\mathbf{F}'=\\mathbf{P}^{-1}\\mathbf{F}\\mathbf{P}$, $\\mathbf{G}'=\\mathbf{P}^{-1}\\mathbf{G}$ et $\\mathbf{C}'=\\mathbf{P}^{-1}\\mathbf{C}$, on obtient le modèle d'état suivant:\n",
    "\n",
    "\\begin{align}\n",
    "  & \\mathbf{x}'(k+1) = \\mathbf{F}'\\mathbf{x}'(k) + \\mathbf{G}'\\mathbf{u}(k) \\\\\n",
    "  & \\mathbf{y}(k) = \\mathbf{C}'\\mathbf{x}'(k) + \\mathbf{D}\\mathbf{u}(k)\n",
    "\\end{align}"
   ]
  },
  {
   "cell_type": "markdown",
   "metadata": {},
   "source": [
    "Ces modèles d'état sont équivalents car ils possèdent le même polynôme caractéristique, obtenu par le déterminant de la matrice:\n",
    "\n",
    "\\begin{align}\n",
    "  \\det (z\\mathbf{I}-\\mathbf{F}') &= \\det (z\\mathbf{P}^{-1}\\mathbf{P}-\\mathbf{P}^{-1}\\mathbf{F}\\mathbf{P}) \\\\\n",
    "  &= \\det (\\mathbf{P}^{-1}(z\\mathbf{I}-\\mathbf{F})\\mathbf{P}) \\\\\n",
    "  &= \\frac{1}{\\det \\mathbf{P}} (z\\mathbf{I}-\\mathbf{F}) \\det \\mathbf{P} \\\\\n",
    "  &= \\det (z\\mathbf{I}-\\mathbf{F})\n",
    "\\end{align}"
   ]
  },
  {
   "cell_type": "markdown",
   "metadata": {},
   "source": [
    "Les valeurs propres des matrices $\\mathbf{F}$ et $\\mathbf{F}'$ sont donc identiques."
   ]
  },
  {
   "cell_type": "markdown",
   "metadata": {},
   "source": [
    "Il est possible de montrer que les matrices de transfert le sont aussi:\n",
    "\n",
    "\\begin{align}\n",
    "  \\mathbf{C}'(z\\mathbf{I}-\\mathbf{F}')^{-1}\\mathbf{G}'+\\mathbf{D} &= \\mathbf{C}\\mathbf{P}(z\\mathbf{I}-\\mathbf{P}^{-1}\\mathbf{F}\\mathbf{P})^{-1}\\mathbf{P}^{-1}\\mathbf{G}+\\mathbf{D} \\\\\n",
    "  &= \\mathbf{C}\\mathbf{P}(\\mathbf{P}^{-1}(z\\mathbf{I}-\\mathbf{F})\\mathbf{P})^{-1}\\mathbf{P}^{-1}\\mathbf{G}+\\mathbf{D} \\\\\n",
    "  &= \\mathbf{C}\\mathbf{P}\\mathbf{P}^{-1}(z\\mathbf{I}-\\mathbf{F})^{-1}\\mathbf{P}\\mathbf{P}^{-1}\\mathbf{G}+\\mathbf{D} \\\\  \n",
    "  &= \\mathbf{C}(z\\mathbf{I}-\\mathbf{F})^{-1}\\mathbf{G}+\\mathbf{D}\n",
    "\\end{align}"
   ]
  },
  {
   "cell_type": "markdown",
   "metadata": {},
   "source": [
    "Supposons dans un premier temps que la matrice $\\mathbf{F}$ possède $n$ valeurs propres distinctes. En effectuant un changement de base spécifique, avec $\\mathbf{P}$ la matrice modale contenant les vecteurs propres, alors la matrice $\\mathbf{F}'$ est diagonale.\n",
    "\n",
    "$$ \\mathbf{F}' = \n",
    "\\left[\n",
    "\\begin{array}{cccc}\n",
    "  \\lambda_1 & 0 & \\cdots & 0 \\\\\n",
    "  0 & \\lambda_2 & \\cdots & 0 \\\\\n",
    "  \\vdots & \\vdots & \\vdots & \\vdots \\\\\n",
    "  0 & 0 & \\cdots & \\lambda_n\n",
    "  \\end{array}\n",
    "\\right]\n",
    "$$"
   ]
  },
  {
   "cell_type": "markdown",
   "metadata": {},
   "source": [
    "L'équation d'état devient alors:\n",
    "\n",
    "$$ \\mathbf{x}'(k+1) = \n",
    "\\left[\n",
    "\\begin{array}{cccc}\n",
    "  \\lambda_1 & 0 & \\cdots & 0 \\\\\n",
    "  0 & \\lambda_2 & \\cdots & 0 \\\\\n",
    "  \\vdots & \\vdots & \\vdots & \\vdots \\\\\n",
    "  0 & 0 & \\cdots & \\lambda_n\n",
    "  \\end{array}\n",
    "\\right] \\mathbf{x}'(k) + \\mathbf{G}' \\mathbf{u}'(k)\n",
    "$$"
   ]
  },
  {
   "cell_type": "markdown",
   "metadata": {},
   "source": [
    "Donc, lorsque l'entrée est nulle, un état $i$ répond à l'équation aux différences suivante:\n",
    "\n",
    "$$ x'_i(k+1) = \\lambda_i x'_i(k) $$"
   ]
  },
  {
   "cell_type": "markdown",
   "metadata": {},
   "source": [
    "La solution de chacune de ces équations est donnée par:\n",
    "\n",
    "$$ x'_i(k) = \\lambda_i^k x'_i(0) $$"
   ]
  },
  {
   "cell_type": "markdown",
   "metadata": {},
   "source": [
    "En retournant dans l'espace vectoriel original, le vecteur $\\mathbf{x}$ est obtenu par:\n",
    "\n",
    "\\begin{align}\n",
    "  \\mathbf{x}(k) &= \\mathbf{P} \\mathbf{x}'(k) \\\\\n",
    "  &= \\left[ \\begin{array}{cccc} \\mathbf{v_1} & \\mathbf{v_2} & \\cdots & \\mathbf{v_n} \\end{array} \\right] \\mathbf{x}'(k) \\\\\n",
    "  &= x'_1(k) \\mathbf{v_1} + x'_2(k) \\mathbf{v_2} + \\dots + x'_n(k) \\mathbf{v_n} \\\\\n",
    "  &= x'_1(0) \\lambda_1^k \\mathbf{v_1} + x'_2(0) \\lambda_1^k  \\mathbf{v_2} + \\dots + x'_n(0) \\lambda_1^k  \\mathbf{v_n} \\\\\n",
    "  &= \\sum_{i=1}^n x'_i(0) \\lambda_i^k \\mathbf{v_i}\n",
    "\\end{align}"
   ]
  },
  {
   "cell_type": "markdown",
   "metadata": {},
   "source": [
    "Avec $\\mathbf{v_i}$ le vecteur propre associé à la valeur propre $\\lambda_i$. "
   ]
  },
  {
   "cell_type": "markdown",
   "metadata": {},
   "source": [
    "Cette réécriture, appelée *décomposition modale*, montre une propriété intéressante. En effet, supposons que seule la valeur propre $\\lambda_j$ soit non nulle, le vecteur d'état sera dirigé selon le vecteur propre $\\mathbf{v}_j$. En fonction du temps, si et seulement si $|\\lambda_j| < 1$, alors le vecteur d'état verra son amplitude diminuer jusqu'à 0 tout en restant aligné sur le vecteur propre $\\mathbf{v}_j$."
   ]
  },
  {
   "cell_type": "markdown",
   "metadata": {},
   "source": [
    "Il est possible d'étendre cette réflexion au cas où plusieurs valeurs propres distinctes sont non nulles $|\\lambda_1| > |\\lambda_1| > \\dots > |\\lambda_n|$. Le vecteur d'état débutera comme une combinaison linéaire des différentes vecteurs propres. Cependant, les contributions dues aux valeurs propres les plus petites disparaîtront plus rapidement que celles des valeurs propres plus grandes. Après un certain temps $kh$, le vecteur d'état sera aligné sur le vecteur propre $\\mathbf{v_1}$ car c'est la composante la plus *lente*. On parle alors de valeur propre dominante."
   ]
  },
  {
   "cell_type": "markdown",
   "metadata": {},
   "source": [
    "On remarque donc que les valeurs propres jouent le même rôle que les pôles d'une fonction de transfert. D'ailleurs, il suffit d'une petite transformation pour voir que les valeurs propres sont bien les pôles de la matrice de transfert, ou, dans le cas SISO, de la fonction de transfert:\n",
    "\n",
    "\\begin{align}\n",
    "  \\mathbf{Y}(z) &= \\mathbf{C} \\left( s\\mathbf{I} - \\mathbf{F} \\right)^{-1} \\mathbf{G} + \\mathbf{D} \\\\\n",
    "  &= \\frac{\\mathbf{C} \\mathop{\\mathrm{adj}} \\left( s\\mathbf{I} - \\mathbf{F} \\right) \\mathbf{G} + \\mathbf{D}}{\\det \\left( s\\mathbf{I} - \\mathbf{F} \\right)}\n",
    "\\end{align}"
   ]
  },
  {
   "cell_type": "markdown",
   "metadata": {},
   "source": [
    "La seconde ligne montre bien que les valeurs propres, solutions du polynôme caractéristique obtenu par le déterminant de la matrice $\\left( s\\mathbf{I} - \\mathbf{F} \\right)^{-1}$ sont bien les pôles de la matrice de transfert."
   ]
  },
  {
   "cell_type": "markdown",
   "metadata": {},
   "source": [
    "Ce lien permet alors de tirer les conclusions suivantes, sans démonstration:\n",
    "\n",
    "- une valeur propre réelle $\\lambda$ donne lieu à un mode $\\lambda^k$\n",
    "- une paire de valeurs propres complexes conjuguées $\\lambda = re^{j\\omega}$ donne lieu à un mode oscillatoire $r^k \\cos (k\\omega + \\varphi)$"
   ]
  },
  {
   "cell_type": "markdown",
   "metadata": {},
   "source": [
    "Si la valeur propre est réelle négative, alors on a un mode sonnette."
   ]
  },
  {
   "cell_type": "markdown",
   "metadata": {},
   "source": [
    "La décompostion modale montre que les valeurs propres doivent impérativement posséder un module inférieur à 1, sinon le mode généré sera instable. Ceci est intéressant pour caractérister la stabilité d'un système modélisé sous la forme d'état."
   ]
  },
  {
   "cell_type": "markdown",
   "metadata": {},
   "source": [
    "### Stabilité"
   ]
  },
  {
   "cell_type": "markdown",
   "metadata": {},
   "source": [
    "Au lieu de parler de stabilité BIBO, il est intéressant de discuter de la stabilité asymptotique."
   ]
  },
  {
   "cell_type": "markdown",
   "metadata": {},
   "source": [
    "#### Définition\n",
    "\n",
    "Le système $\\mathbf{x}(k+1) = \\mathbf{F}\\mathbf{x}(k) \\quad \\mathbf{x}(0) \\neq 0$ est asymptotiquement stable si $\\lim_{k \\rightarrow \\infty} \\mathbf{x}(k) = 0$ quel que soit l'état initial $\\mathbf{x}(0)$."
   ]
  },
  {
   "cell_type": "markdown",
   "metadata": {},
   "source": [
    "Le résultat suivant permet de caractériser la stabilité asymptotique d'un système linéaire."
   ]
  },
  {
   "cell_type": "markdown",
   "metadata": {},
   "source": [
    "#### Théorème\n",
    "\n",
    "Le système $\\mathbf{x}(k+1) = \\mathbf{F}\\mathbf{x}(k) \\quad \\mathbf{x}(0) \\neq 0$ est asymptotiquement stable si et seulement si toutes les valeurs propres de la matrice $\\mathbf{F}$ sont à l'intérieur du cercle unité."
   ]
  },
  {
   "cell_type": "markdown",
   "metadata": {},
   "source": [
    "Ce résutat se démontre aisément grâce à la décomposition modale."
   ]
  },
  {
   "cell_type": "markdown",
   "metadata": {},
   "source": [
    "#### Remarques\n",
    "\n",
    "Il a été dit que les valeurs propres représentent les pôles de la matrice de transfert. Ceci est vrai à condition que le numérateur ne contienne pas un zéro venant se simplifier avec une des valeurs propres. Ce dernier cas montre que la stabilité asymptotique et la stabilité BIBO ne sont pas équivalentes. En effet, si une simplification pôle/zéro a lieu, il se peut que le mode généré par la valeur propre simplifiée soit instable. Cela n'influencera pas la stabilité BIBO, malgré que la stabilité asymptotique est ruinée."
   ]
  },
  {
   "cell_type": "markdown",
   "metadata": {},
   "source": [
    "Tous les développements plus haut ont été effectués avec l'hypothèse que la matrice $\\mathbf{F}$ ne possède que des valeurs propres distinctes. Ce n'est pas toujours le cas en pratique."
   ]
  },
  {
   "cell_type": "markdown",
   "metadata": {},
   "source": [
    "Dans le cas d'une valeur propre de multiplicité $m$, le bloc de Jordan suivant est inséré dans la matrice diagonale:\n",
    "\n",
    "$$ \\left[\n",
    "\\begin{array}{c}\n",
    "  x_1'(k+1) \\\\\n",
    "  x_2'(k+1) \\\\\n",
    "  \\vdots \\\\\n",
    "  x_{m-1}'(k+1) \\\\\n",
    "  x_m'(k+1)  \n",
    "\\end{array}\n",
    "\\right] =\n",
    "\\left[\n",
    "\\begin{array}{ccccc}\n",
    "  \\lambda & 1 & 0 & \\cdots & 0 \\\\\n",
    "  0 & \\lambda & 1 & \\cdots & 0 \\\\\n",
    "  \\vdots & \\vdots & \\vdots & \\vdots & \\vdots \\\\\n",
    "  0 & 0 & 0 & \\cdots & 1 \\\\\n",
    "  0 & 0 & 0 & \\cdots & \\lambda\n",
    "\\end{array}\n",
    "\\right] \n",
    "\\left[\n",
    "\\begin{array}{c}\n",
    "  x_1'(k) \\\\\n",
    "  x_2'(k) \\\\\n",
    "  \\vdots \\\\\n",
    "  x_{m-1}'(k) \\\\\n",
    "  x_m'(k)  \n",
    "\\end{array}\n",
    "\\right]\n",
    "$$"
   ]
  },
  {
   "cell_type": "markdown",
   "metadata": {},
   "source": [
    "## Gouvernabilité"
   ]
  },
  {
   "cell_type": "markdown",
   "metadata": {},
   "source": [
    "Le concept de gouvernabilité, ou aussi appelé commandabilité, est une propriété d'un système permettant de savoir si ce système peut être commandé facilement ou non. C'est un problème d'analyse."
   ]
  },
  {
   "cell_type": "markdown",
   "metadata": {},
   "source": [
    "#### Définition\n",
    "\n",
    "Soit un système décrit par l'équation d'état suivante:\n",
    "\n",
    "$$ \\mathbf{x}(k+1) = \\mathbf{F}\\mathbf{x}(k) + \\mathbf{G}\\mathbf{u}(k) $$\n",
    "\n",
    "Le couple ordonné $(\\mathbf{F}, \\mathbf{G})$ est gouvernable ou commandable si, pour tout état initial $\\mathbf{x}(0)$ et pour tout état donné $\\mathbf{x}_1$, il existe un temps fini $K$ et des vecteurs d'entrée, $\\mathbf{u}(0)$, $\\mathbf{u}(1)$, $\\dots$, $\\mathbf{u}(K-1)$ réalisant le transfert de $\\mathbf{x}(0)$ à $\\mathbf{x}(K)=\\mathbf{x}_1$."
   ]
  },
  {
   "cell_type": "markdown",
   "metadata": {},
   "source": [
    "Le critère algébrique suivant permet aisément de déterminer la gouvernabilité d'un système."
   ]
  },
  {
   "cell_type": "markdown",
   "metadata": {},
   "source": [
    "#### Théorème\n",
    "\n",
    "Un système est gouvernable si et seulement si le rang de la matrice de gouvernabilité ou de commandabilité $\\boldsymbol{\\mathcal{C}} = \\left[ \\mathbf{G}\\; \\mathbf{F}\\mathbf{G}\\; \\dots\\; \\mathbf{F}^{n-1}\\mathbf{G} \\right] \\in \\mathbb{R}^{n \\times nr}$ vaut $n$."
   ]
  },
  {
   "cell_type": "markdown",
   "metadata": {},
   "source": [
    "Ce théorème peut être démontré par la solution de l'équation d'état discrète:\n",
    "\n",
    "$$ \\mathbf{x}_1 = \\mathbf{x}(K) = \\mathbf{F}^K\\mathbf{x}(0) + \\sum_{l=0}^{K-1} \\mathbf{F}^{K-1-l}\\mathbf{G}\\mathbf{u}(l) $$"
   ]
  },
  {
   "cell_type": "markdown",
   "metadata": {},
   "source": [
    "En isolant la somme et en la développant, on obtient:\n",
    "\n",
    "\\begin{align}\n",
    "  \\mathbf{x}_1 - \\mathbf{F}^K\\mathbf{x}(0) &= \\mathbf{F}^{K-1}\\mathbf{G}\\mathbf{u}(0) + \\mathbf{F}^{K-2}\\mathbf{G}\\mathbf{u}(1) + \\dots + \\mathbf{F}\\mathbf{G}\\mathbf{u}(K-2) + \\mathbf{G}\\mathbf{u}(K-1) \\\\\n",
    "  &= \\left[ \\mathbf{G}\\; \\mathbf{F}\\mathbf{G}\\; \\dots\\; \\mathbf{F}^{n-2}\\mathbf{G}\\; \\mathbf{F}^{n-1}\\mathbf{G} \\right] \\left[ \\begin{array}{c}\n",
    "    \\mathbf{u}(K-1) \\\\ \\mathbf{u}(K-2) \\\\ \\vdots \\\\ \\mathbf{u}(1) \\\\ \\mathbf{u}(0)\n",
    "  \\end{array} \\right]\n",
    "\\end{align}"
   ]
  },
  {
   "cell_type": "markdown",
   "metadata": {},
   "source": [
    "L'équation peut alors être réécrite ainsi:\n",
    "\n",
    "$$ \n",
    "  \\mathbf{x}_1 - \\mathbf{F}^K\\mathbf{x}(0) = \\boldsymbol{\\mathcal{C}} \\left[ \\begin{array}{c}\n",
    "    \\mathbf{u}(K-1) \\\\ \\mathbf{u}(K-2) \\\\ \\vdots \\\\ \\mathbf{u}(1) \\\\ \\mathbf{u}(0)\n",
    "  \\end{array} \\right]\n",
    "$$"
   ]
  },
  {
   "cell_type": "markdown",
   "metadata": {},
   "source": [
    "Un système est gouvernable ou commandable si cette équation possède une solution, autrement dit, s'il existe une valeur pour chaque $\\mathbf{u}(i)$."
   ]
  },
  {
   "cell_type": "markdown",
   "metadata": {},
   "source": [
    "Sans entrer dans les détails, l'algèbre linéaire nous apprend qu'une équation écrite sous cette forme possède une solution unique si le rang de la matrice $\\boldsymbol{\\mathcal{C}}$ vaut $n$."
   ]
  },
  {
   "cell_type": "markdown",
   "metadata": {},
   "source": [
    "Etant une propriété du système, un changement de variable ne modifie pas la gouvernabilité."
   ]
  },
  {
   "cell_type": "markdown",
   "metadata": {},
   "source": [
    "En prenant un système ne possédant qu'une entrée, la gouvernabilité peut être illustrée en diagonalisant la matrice $\\mathbf{F}$:\n",
    "\n",
    "$$ \n",
    "  \\mathbf{x}'(k+1) = \\left[ \\begin{array}{cccc}\n",
    "    \\lambda_1 & 0 & \\dots & 0 \\\\\n",
    "    0 & \\lambda_2 & \\dots & 0 \\\\\n",
    "    \\vdots & \\vdots & \\vdots & \\vdots \\\\\n",
    "    0 & 0 & \\dots & \\lambda_n\n",
    "  \\end{array} \\right] \\mathbf{x}'(k) + \n",
    "  \\left[ \\begin{array}{c}\n",
    "    g'_1 \\\\\n",
    "    g'_2 \\\\\n",
    "    \\vdots \\\\\n",
    "    g'_n\n",
    "  \\end{array} \\right] u(k) \\qquad \\mathbf{g}' = \\mathbf{P}^{-1}\\mathbf{g}\n",
    "$$"
   ]
  },
  {
   "cell_type": "markdown",
   "metadata": {},
   "source": [
    "Cette équation est représentée par le schéma bloc ci-dessous:"
   ]
  },
  {
   "cell_type": "markdown",
   "metadata": {},
   "source": [
    "<img src=\"./Images/Analysis/governability.png\" alt=\"Illustration du concept de gouvernabilité\" width=\"500\">"
   ]
  },
  {
   "cell_type": "markdown",
   "metadata": {},
   "source": [
    "La matrice de gouvernabilité s'écrit:\n",
    "\n",
    "\\begin{align}\n",
    "  \\boldsymbol{\\mathcal{C}} &= \\left[ \\begin{array}{cccc}\n",
    "    g'_1 & \\lambda_1 g'_1 & \\dots & \\lambda_1^{n-1} g'_1 \\\\\n",
    "    g'_2 & \\lambda_2 g'_2 & \\dots & \\lambda_2^{n-1} g'_2 \\\\\n",
    "    \\vdots & \\vdots & \\vdots & \\vdots \\\\\n",
    "    g'_n & \\lambda_n g'_n & \\dots & \\lambda_n^{n-1} g'_n\n",
    "  \\end{array} \\right] \\; \\in \\; \\mathbb{R}^{n\\times n} \\\\\n",
    "  &= \\left[ \\begin{array}{cccc}\n",
    "    g'_1 & 0 & \\dots & 0 \\\\\n",
    "    0 & g'_2 & \\dots & 0 \\\\\n",
    "    \\vdots & \\vdots & \\vdots & \\vdots \\\\\n",
    "    0 & 0 & \\dots & g'_n\n",
    "  \\end{array} \\right] \\left[ \\begin{array}{cccc}\n",
    "    1 & \\lambda_1 & \\dots & \\lambda_1^{n-1} \\\\\n",
    "    1 & \\lambda_2 & \\dots & \\lambda_2^{n-1} \\\\\n",
    "    \\vdots & \\vdots & \\vdots & \\vdots \\\\\n",
    "    1 & \\lambda_n & \\dots & \\lambda_n^{n-1}\n",
    "  \\end{array} \\right]\n",
    "\\end{align}"
   ]
  },
  {
   "cell_type": "markdown",
   "metadata": {},
   "source": [
    "Cette dernière équation, ainsi que la figure plus haut, montrent que pour qu'un système soit entièrement gouvernable, tous les coefficients $g'_i$ doivent être non nuls."
   ]
  },
  {
   "cell_type": "markdown",
   "metadata": {},
   "source": [
    "### Forme canonique de gouvernabilité"
   ]
  },
  {
   "cell_type": "markdown",
   "metadata": {},
   "source": [
    "Afin de simplifier les développements, le système SISO suivant sera considéré:\n",
    "\n",
    "\\begin{align}\n",
    "  & \\mathbf{x}(k+1) = \\mathbf{F} \\mathbf{x}(k) + \\mathbf{g} u(k) \\qquad \\mathbf{g} \\in \\mathbb{R}^n \\quad u(k) \\in \\mathbb{R} \\\\\n",
    "  & y(k) = \\mathbf{c}^T \\mathbf{x}(k) + d u(k) \\qquad \\mathbf{c} \\in \\mathbb{R}^n \\quad y(k), d \\in \\mathbb{R} \\\\\n",
    "\\end{align}"
   ]
  },
  {
   "cell_type": "markdown",
   "metadata": {},
   "source": [
    "Ce système étant supposé gouvernable, la matrice de gouvernabilité $\\boldsymbol{\\mathcal{C}}$ est inversible. Ses lignes sont représentées ainsi:\n",
    "\n",
    "$$ \n",
    "  \\boldsymbol{\\mathcal{C}}^{-1} = \\left[ \\begin{array}{c}\n",
    "    \\mathbf{t}_1^T \\\\\n",
    "    \\mathbf{t}_2^T \\\\\n",
    "    \\vdots \\\\\n",
    "    \\mathbf{t}_n^T\n",
    "  \\end{array} \\right] \\in \\mathbb{R}^{n \\times n} \\qquad \\mathbf{t}_i \\in \\mathbb{R} \\quad i = 1, 2, \\dots, n\n",
    "$$"
   ]
  },
  {
   "cell_type": "markdown",
   "metadata": {},
   "source": [
    "La matrice suivante, pouvant être inversée, est construite à partir de la dernière ligne de $\\boldsymbol{\\mathcal{C}}^{-1}$:\n",
    "\n",
    "$$ \n",
    "  \\mathbf{M} = \\left[ \\begin{array}{c}\n",
    "    \\mathbf{t}_n^T \\\\\n",
    "    \\mathbf{t}_n^T \\mathbf{F} \\\\\n",
    "    \\vdots \\\\\n",
    "    \\mathbf{t}_n^T \\mathbf{F}^{n-1}\n",
    "  \\end{array} \\right] \\in \\mathbb{R}^{n \\times n}\n",
    "$$"
   ]
  },
  {
   "cell_type": "markdown",
   "metadata": {},
   "source": [
    "En effectuant le changement de variable $\\mathbf{x}' = \\mathbf{M} \\mathbf{x}$, le modèle d'état devient:\n",
    "\n",
    "\\begin{align}\n",
    "  & \\mathbf{x}'(k+1) = \\mathbf{M} \\mathbf{F} \\mathbf{M}^{-1} \\mathbf{x}'(k) + \\mathbf{M} \\mathbf{g} u(k) \\\\\n",
    "  & y(k) = \\mathbf{c}^T \\mathbf{M}^{-1} \\mathbf{x}'(k) + d u(k)\n",
    "\\end{align}"
   ]
  },
  {
   "cell_type": "markdown",
   "metadata": {},
   "source": [
    "Ce modèle, appelé forme canonique de gouvernabilité, présente une structure utile pour la synthèse de loi de commande."
   ]
  },
  {
   "cell_type": "markdown",
   "metadata": {},
   "source": [
    "#### Théorème\n",
    "\n",
    "La forme canonique de gouvernabilité exhibe la structure suivante, dans laquelle le vecteur $\\mathbf{c}'^T = \\mathbf{c}^T \\mathbf{M}^{-1}$ ne présente aucune particularité:\n",
    "\n",
    "\\begin{align}\n",
    "  & \\mathbf{x}'(k+1) = \\left[ \\begin{array}{ccccc}\n",
    "    0 & 1 & 0 & \\dots & 0 \\\\\n",
    "    0 & 0 & 1 & \\dots & 0 \\\\\n",
    "    \\vdots & \\vdots & \\vdots & \\dots & \\vdots \\\\\n",
    "    0 & 0 & 0 & \\dots & 1 \\\\\n",
    "    -p_n & -p_{n-1} & -p_{n-2} & \\dots & -p_1\n",
    "  \\end{array} \\right]\n",
    "  \\mathbf{x}'(k) + \\left[ \\begin{array}{ccccc}\n",
    "    0 \\\\\n",
    "    0 \\\\\n",
    "    0 \\\\\n",
    "    \\vdots \\\\\n",
    "    1\n",
    "  \\end{array} \\right] u(k) \\\\\n",
    "  & y(k) = \\mathbf{c}'^T \\mathbf{x}'(k) + d u(k)\n",
    "\\end{align}"
   ]
  },
  {
   "cell_type": "markdown",
   "metadata": {},
   "source": [
    "La démonstration de ce théorème est réalisée en se rappelant d'abord qu'une matrice multipliée par son inverse donne la matrice identité $\\mathbf{I}$:\n",
    "\n",
    "$$\n",
    "  \\boldsymbol{\\mathcal{C}}^{-1} \\boldsymbol{\\mathcal{C}} = \\left[ \\begin{array}{c}\n",
    "    \\mathbf{t}_1^T \\\\\n",
    "    \\mathbf{t}_2^T \\\\\n",
    "    \\vdots \\\\\n",
    "    \\mathbf{t}_n^T\n",
    "  \\end{array} \\right] \\left[ \\mathbf{g}\\; \\mathbf{F}\\mathbf{g}\\; \\dots\\; \\mathbf{F}^{n-1}\\mathbf{g} \\right] =\n",
    "  \\left[ \\begin{array}{cccc}\n",
    "    1 & 0 & \\cdots & 0 \\\\\n",
    "    0 & 1 & \\cdots & 0 \\\\\n",
    "    \\vdots & \\vdots & \\vdots & \\vdots \\\\\n",
    "    0 & 0 & \\cdots & 1\n",
    "  \\end{array} \\right]\n",
    "$$"
   ]
  },
  {
   "cell_type": "markdown",
   "metadata": {},
   "source": [
    "En développant le terme $\\mathbf{M} \\mathbf{g}$, on obtient alors, en tenant compte de la dernière ligne de l'équation ci-dessus:\n",
    "\n",
    "$$\n",
    "  \\mathbf{M} \\mathbf{g} = \\left[ \\begin{array}{c}\n",
    "    \\mathbf{t}_n^T \\\\\n",
    "    \\mathbf{t}_n^T \\mathbf{F} \\\\\n",
    "    \\vdots \\\\\n",
    "    \\mathbf{t}_n^T \\mathbf{F}^{n-2} \\\\\n",
    "    \\mathbf{t}_n^T \\mathbf{F}^{n-1}\n",
    "  \\end{array} \\right] g = \\left[ \\begin{array}{c}\n",
    "    \\mathbf{t}_n^T g \\\\\n",
    "    \\mathbf{t}_n^T \\mathbf{F} g \\\\\n",
    "    \\vdots \\\\\n",
    "    \\mathbf{t}_n^T \\mathbf{F}^{n-2} g \\\\\n",
    "    \\mathbf{t}_n^T \\mathbf{F}^{n-1} g\n",
    "  \\end{array} \\right] = \\left[ \\begin{array}{ccccc}\n",
    "    0 \\\\\n",
    "    0 \\\\\n",
    "    0 \\\\\n",
    "    \\vdots \\\\\n",
    "    1\n",
    "  \\end{array} \\right]\n",
    "$$"
   ]
  },
  {
   "cell_type": "markdown",
   "metadata": {},
   "source": [
    "Toujours en tenant compte de la multiplication d'une matrice par son inverse, on a:\n",
    "\n",
    "$$\n",
    "  \\mathbf{M} \\mathbf{M}^{-1} = \\left[ \\begin{array}{c}\n",
    "    \\mathbf{t}_n^T \\\\\n",
    "    \\mathbf{t}_n^T \\mathbf{F} \\\\\n",
    "    \\vdots \\\\\n",
    "    \\mathbf{t}_n^T \\mathbf{F}^{n-1}\n",
    "  \\end{array} \\right] \\mathbf{M}^{-1} =\n",
    "  \\left[ \\begin{array}{c}\n",
    "    \\mathbf{t}_n^T \\mathbf{M}^{-1} \\\\\n",
    "    \\mathbf{t}_n^T \\mathbf{F} \\mathbf{M}^{-1} \\\\\n",
    "    \\vdots \\\\\n",
    "    \\mathbf{t}_n^T \\mathbf{F}^{n-1} \\mathbf{M}^{-1}\n",
    "  \\end{array} \\right] = \\left[ \\begin{array}{cccc}\n",
    "    1 & 0 & \\cdots & 0 \\\\\n",
    "    0 & 1 & \\cdots & 0 \\\\\n",
    "    \\vdots & \\vdots & \\vdots & \\vdots \\\\\n",
    "    0 & 0 & \\cdots & 1\n",
    "  \\end{array} \\right]\n",
    "$$"
   ]
  },
  {
   "cell_type": "markdown",
   "metadata": {},
   "source": [
    "En développant le terme $\\mathbf{M} \\mathbf{F} \\mathbf{M}^{-1}$, on a:\n",
    "\n",
    "$$\n",
    "  \\mathbf{M} \\mathbf{F} \\mathbf{M}^{-1} = \\left[ \\begin{array}{c}\n",
    "    \\mathbf{t}_n^T \\\\\n",
    "    \\mathbf{t}_n^T \\mathbf{F} \\\\\n",
    "    \\vdots \\\\\n",
    "    \\mathbf{t}_n^T \\mathbf{F}^{n-2} \\\\\n",
    "    \\mathbf{t}_n^T \\mathbf{F}^{n-1}\n",
    "  \\end{array} \\right] \\mathbf{F} \\mathbf{M}^{-1} =\n",
    "  \\left[ \\begin{array}{c}\n",
    "    \\mathbf{t}_n^T \\mathbf{F} \\mathbf{M}^{-1} \\\\\n",
    "    \\mathbf{t}_n^T \\mathbf{F}^2 \\mathbf{M}^{-1} \\\\\n",
    "    \\vdots \\\\\n",
    "    \\mathbf{t}_n^T \\mathbf{F}^{n-1} \\mathbf{M}^{-1} \\\\\n",
    "    \\mathbf{t}_n^T \\mathbf{F}^n \\mathbf{M}^{-1}\n",
    "  \\end{array} \\right] = \\left[ \\begin{array}{ccccc}\n",
    "    0 & 1 & 0 & \\cdots & 0 \\\\\n",
    "    0 & 0 & 1 & \\cdots & 0 \\\\\n",
    "    \\vdots & \\vdots & \\vdots & \\vdots & \\vdots \\\\\n",
    "    0 & 0 & 0 & \\cdots & 1 \\\\\n",
    "    -p_n & -p_{n-1} & -p_{n-2} & \\dots & -p_1\n",
    "  \\end{array} \\right]\n",
    "$$"
   ]
  },
  {
   "cell_type": "markdown",
   "metadata": {},
   "source": [
    "Les coefficients $p_i$ semblent dépendre de $\\mathbf{g}$ vu que ce dernier vecteur intervient dans la matrice $\\mathbf{M}$. Le théorème suivant montre que ce n'est pas le cas et que ces coefficients sont encore plus intéressants."
   ]
  },
  {
   "cell_type": "markdown",
   "metadata": {},
   "source": [
    "#### Théorème\n",
    "\n",
    "Les nombres $p_1$, $p_2$, $\\dots$, $p_n$ apparaissant dans la forme canonique de gouvernabilité sont les coefficients du polynôme caractéristique $\\det (z\\mathbf{I} - \\mathbf{F}) = z^n + p_1 z^{n-1} + \\cdots + p_n$ de la matrice $\\mathbf{F}$."
   ]
  },
  {
   "cell_type": "markdown",
   "metadata": {},
   "source": [
    "La démonstration est donnée ci-dessous, en développant le déterminant de la matrice de transfert."
   ]
  },
  {
   "cell_type": "markdown",
   "metadata": {},
   "source": [
    "\\begin{align}\n",
    "  \\det (z\\mathbf{I} - \\mathbf{F}) &= \\det (z\\mathbf{I} - \\mathbf{M} \\mathbf{F} \\mathbf{M}^{-1}) \\\\\n",
    "  &= \\det \\left( z\\mathbf{I} - \\left[ \\begin{array}{ccccc}\n",
    "    0 & 1 & 0 & \\cdots & 0 \\\\\n",
    "    0 & 0 & 1 & \\cdots & 0 \\\\\n",
    "    \\vdots & \\vdots & \\vdots & \\vdots & \\vdots \\\\\n",
    "    0 & 0 & 0 & \\cdots & 1 \\\\\n",
    "    -p_n & -p_{n-1} & -p_{n-2} & \\dots & -p_1\n",
    "  \\end{array} \\right] \\right) \\\\\n",
    "  &= \\det \\left[ \\begin{array}{ccccc}\n",
    "    z & -1 & 0 & \\cdots & 0 \\\\\n",
    "    0 & z & -1 & \\cdots & 0 \\\\\n",
    "    \\vdots & \\vdots & \\vdots & \\vdots & \\vdots \\\\\n",
    "    0 & 0 & 0 & \\cdots & -1 \\\\\n",
    "    p_n & p_{n-1} & p_{n-2} & \\dots & z + p_1\n",
    "  \\end{array} \\right]  \\\\\n",
    "  &= \\frac{1}{z z^2 \\cdots z^{n-1}} \\det \\left[ \\begin{array}{ccccc}\n",
    "    z & -z & 0 & \\cdots & 0 \\\\\n",
    "    0 & z^2 & -z^2 & \\cdots & 0 \\\\\n",
    "    \\vdots & \\vdots & \\vdots & \\vdots & \\vdots \\\\\n",
    "    0 & 0 & 0 & \\cdots & -z^{n-1} \\\\\n",
    "    p_n & p_{n-1}z & p_{n-2}z^2 & \\dots & z^n + p_1 z^{n-1}\n",
    "  \\end{array} \\right] \\\\\n",
    "  &= \\frac{1}{z z^2 \\cdots z^{n-1}} \\det \\left[ \\begin{array}{ccccc}\n",
    "    z & 0 & 0 & \\cdots & 0 \\\\\n",
    "    0 & z^2 & 0 & \\cdots & 0 \\\\\n",
    "    \\vdots & \\vdots & \\vdots & \\vdots & \\vdots \\\\\n",
    "    0 & 0 & 0 & \\cdots & 0 \\\\\n",
    "    p_n & p_{n-1}z + p_n & p_{n-2}z^2 + p_{n-1}z + p_n & \\dots & z^n + p_1 z^{n-1} + \\cdots + p_n\n",
    "  \\end{array} \\right] \\\\\n",
    "  &= \\frac{1}{z z^2 \\cdots z^{n-1}} z z^2 \\cdots z^{n-1} (z^n + p_1 z^{n-1} + \\cdots + p_n) \\\\\n",
    "  &= z^n + p_1 z^{n-1} + \\cdots + p_n\n",
    "\\end{align}"
   ]
  },
  {
   "cell_type": "markdown",
   "metadata": {},
   "source": [
    "Les coefficients $p_i$ sont bien les coefficients du polynôme caractéristique du système."
   ]
  },
  {
   "cell_type": "markdown",
   "metadata": {},
   "source": [
    "La matrice $\\mathbf{M} \\mathbf{F} \\mathbf{M}^{-1}$ est appelée *matrice compagne*."
   ]
  },
  {
   "cell_type": "markdown",
   "metadata": {},
   "source": [
    "## Observabilité"
   ]
  },
  {
   "cell_type": "markdown",
   "metadata": {},
   "source": [
    "Le concept d'observabilité, est une propriété d'un système permettant de savoir si les états de ce système peuvent être reconstruits à partir de $u(k)$ et $y(k)$. C'est un problème d'analyse."
   ]
  },
  {
   "cell_type": "markdown",
   "metadata": {},
   "source": [
    "#### Définition\n",
    "\n",
    "Soit un système décrit par l'équation d'état suivante:\n",
    "\n",
    "\\begin{align}\n",
    "  & \\mathbf{x}(k+1) = \\mathbf{F}\\mathbf{x}(k) + \\mathbf{G}\\mathbf{u}(k) \\\\\n",
    "  & \\mathbf{y}(k) = \\mathbf{C}\\mathbf{x}(k) + \\mathbf{D}\\mathbf{u}(k)\n",
    "\\end{align}\n",
    "\n",
    "Le couple ordonné $(\\mathbf{F}, \\mathbf{C})$ est observable si, pour tout état initial $\\mathbf{x}(0)$, il existe un temps fini $K$ tel que la connaissance des vecteurs d'entrée $\\mathbf{u}(0)$, $\\mathbf{u}(1)$, $\\dots$, $\\mathbf{u}(K-1)$ et des vecteurs de sortie $\\mathbf{y}(0)$, $\\mathbf{y}(1)$, $\\dots$, $\\mathbf{y}(K-1)$ permet de déterminer de façon unique l'état initial $\\mathbf{x}(0)$."
   ]
  },
  {
   "cell_type": "markdown",
   "metadata": {},
   "source": [
    "Le critère algébrique suivant permet aisément de déterminer l'observabilité d'un système."
   ]
  },
  {
   "cell_type": "markdown",
   "metadata": {},
   "source": [
    "#### Théorème\n",
    "\n",
    "Un système est observable si et seulement si le rang de la matrice d'observabilité $\\boldsymbol{\\mathcal{O}} = \\left[ \\begin{array}{c} \\mathbf{C} \\\\ \\mathbf{C}\\mathbf{F} \\\\ \\dots \\\\ \\mathbf{C}\\mathbf{F}^{n-1} \\end{array} \\right] \\in \\mathbb{R}^{pn \\times n}$ vaut $n$."
   ]
  },
  {
   "cell_type": "markdown",
   "metadata": {},
   "source": [
    "Ce théorème peut être démontré par la solution de l'équation d'état discrète:\n",
    "\n",
    "$$ \\mathbf{y}(k) = \\mathbf{C}\\mathbf{F}^k\\mathbf{x}(0) + \\mathbf{C}\\sum_{l=0}^{K-1} \\mathbf{F}^{K-1-l}\\mathbf{G}\\mathbf{u}(l) + \\mathbf{D}u(k) $$"
   ]
  },
  {
   "cell_type": "markdown",
   "metadata": {},
   "source": [
    "En isolant le terme contenant l'état initial, on obtient:\n",
    "\n",
    "$$ \\mathbf{y}(k) - \\mathbf{C}\\sum_{l=0}^{K-1} \\mathbf{F}^{K-1-l}\\mathbf{G}\\mathbf{u}(l) - \\mathbf{D}u(k) = \\mathbf{C}\\mathbf{F}^k\\mathbf{x}(0) $$"
   ]
  },
  {
   "cell_type": "markdown",
   "metadata": {},
   "source": [
    "En posant:\n",
    "\n",
    "$$ \\tilde{\\mathbf{y}}(k) = \\mathbf{y}(k) - \\mathbf{C}\\sum_{l=0}^{K-1} \\mathbf{F}^{K-1-l}\\mathbf{G}\\mathbf{u}(l) - \\mathbf{D}u(k) $$"
   ]
  },
  {
   "cell_type": "markdown",
   "metadata": {},
   "source": [
    "L'équation peut alors être réécrite ainsi, en développant les termes pour $k = 0, 1, \\dots, K-1$:\n",
    "\n",
    "\\begin{align}\n",
    "  \\left[ \\begin{array}{c}\n",
    "    \\tilde{\\mathbf{y}}(0) \\\\\n",
    "    \\tilde{\\mathbf{y}}(1) \\\\\n",
    "    \\vdots \\\\\n",
    "    \\tilde{\\mathbf{y}}(K-1)\n",
    "  \\end{array} \\right] &= \\left[ \\begin{array}{c}\n",
    "    \\mathbf{C} \\\\\n",
    "    \\mathbf{C} \\mathbf{F} \\\\\n",
    "    \\vdots \\\\\n",
    "    \\mathbf{C} \\mathbf{F}^{K-1}  \n",
    "  \\end{array} \\right] \\mathbf{x}(0) \\\\\n",
    "  &= \\boldsymbol{\\mathcal{O}}\\, \\mathbf{x}(0)\n",
    "\\end{align}"
   ]
  },
  {
   "cell_type": "markdown",
   "metadata": {},
   "source": [
    "Un système est observable si cette équation possède une solution, autrement dit, s'il existe une valeur pour $\\mathbf{x}(0)$."
   ]
  },
  {
   "cell_type": "markdown",
   "metadata": {},
   "source": [
    "Sans entrer dans les détails, l'algèbre linéaire nous apprend qu'une équation écrite sous cette forme possède une solution unique si le rang de la matrice $\\boldsymbol{\\mathcal{O}}$ vaut $n$."
   ]
  },
  {
   "cell_type": "markdown",
   "metadata": {},
   "source": [
    "Etant une propriété du système, un changement de variable ne modifie pas la gouvernabilité."
   ]
  },
  {
   "cell_type": "markdown",
   "metadata": {},
   "source": [
    "En prenant un système ne possédant qu'une entrée, l'observabilité peut être illustrée en diagonalisant la matrice $\\mathbf{F}$:\n",
    "\n",
    "\\begin{align}\n",
    "  & \\mathbf{x}'(k+1) = \\left[ \\begin{array}{cccc}\n",
    "    \\lambda_1 & 0 & \\dots & 0 \\\\\n",
    "    0 & \\lambda_2 & \\dots & 0 \\\\\n",
    "    \\vdots & \\vdots & \\vdots & \\vdots \\\\\n",
    "    0 & 0 & \\dots & \\lambda_n\n",
    "  \\end{array} \\right] \\mathbf{x}'(k) + \n",
    "  \\left[ \\begin{array}{c}\n",
    "    g'_1 \\\\\n",
    "    g'_2 \\\\\n",
    "    \\vdots \\\\\n",
    "    g'_n\n",
    "  \\end{array} \\right] u(k) \\qquad \\mathbf{g}' = \\mathbf{P}^{-1}\\mathbf{g} \\\\\n",
    "  & y(k) = [c'_1\\; c'-2\\; \\dots \\; c'_n] \\mathbf{x}'(k) + d u(k) \\qquad \\mathbf{c}'^T = \\mathbf{c}^T\\mathbf{P}\n",
    "\\end{align}"
   ]
  },
  {
   "cell_type": "markdown",
   "metadata": {},
   "source": [
    "Cette équation est représentée par le schéma bloc ci-dessous:"
   ]
  },
  {
   "cell_type": "markdown",
   "metadata": {},
   "source": [
    "<img src=\"./Images/Analysis/observability.png\" alt=\"Illustration du concept d'observabilité\" width=\"700\">"
   ]
  },
  {
   "cell_type": "markdown",
   "metadata": {},
   "source": [
    "La matrice d'observabilité s'écrit:\n",
    "\n",
    "\\begin{align}\n",
    "  \\boldsymbol{\\mathcal{O}} &= \\left[ \\begin{array}{cccc}\n",
    "    c'_1 & c'_2 & \\dots & c'_n \\\\\n",
    "    \\lambda_1 c'_1 & \\lambda_2 c'_2 & \\dots & \\lambda_n c'_n \\\\\n",
    "    \\vdots & \\vdots & \\vdots & \\vdots \\\\\n",
    "    \\lambda_1^{n-1} c'_1 & \\lambda_2^{n-1} c'_2 & \\dots & \\lambda_n^{n-1} c'_n\n",
    "  \\end{array} \\right] \\; \\in \\; \\mathbb{R}^{n\\times n} \\\\\n",
    "  &= \\left[ \\begin{array}{cccc}\n",
    "    1 & 1 & \\dots & 1 \\\\\n",
    "    \\lambda_1 & \\lambda_2 & \\dots & \\lambda_n \\\\\n",
    "    \\vdots & \\vdots & \\vdots & \\vdots \\\\\n",
    "    \\lambda_1^{n-1} & \\lambda_2^{n-1} & \\dots & \\lambda_n^{n-1}\n",
    "  \\end{array} \\right] \\left[ \\begin{array}{cccc}\n",
    "    c'_1 & 0 & \\dots & 0 \\\\\n",
    "    0 & c'_2 & \\dots & 0 \\\\\n",
    "    \\vdots & \\vdots & \\vdots & \\vdots \\\\\n",
    "    0 & 0 & \\dots & c'_n\n",
    "  \\end{array} \\right]\n",
    "\\end{align}"
   ]
  },
  {
   "cell_type": "markdown",
   "metadata": {},
   "source": [
    "Cette dernière équation, ainsi que la figure plus haut, montrent que pour qu'un système soit entièrement observable, tous les coefficients $c'_i$ doivent être non nuls."
   ]
  },
  {
   "cell_type": "markdown",
   "metadata": {},
   "source": [
    "### Forme canonique d'observabilité"
   ]
  },
  {
   "cell_type": "markdown",
   "metadata": {},
   "source": [
    "Afin de simplifier les développements, le système SISO suivant sera considéré:\n",
    "\n",
    "\\begin{align}\n",
    "  & \\mathbf{x}(k+1) = \\mathbf{F} \\mathbf{x}(k) + \\mathbf{g} u(k) \\qquad \\mathbf{g} \\in \\mathbb{R}^n \\quad u(k) \\in \\mathbb{R} \\\\\n",
    "  & y(k) = \\mathbf{c}^T \\mathbf{x}(k) + d u(k) \\qquad \\mathbf{c} \\in \\mathbb{R}^n \\quad y(k), d \\in \\mathbb{R} \\\\\n",
    "\\end{align}"
   ]
  },
  {
   "cell_type": "markdown",
   "metadata": {},
   "source": [
    "Ce système étant supposé observable, la matrice d'observabilité $\\boldsymbol{\\mathcal{O}}$ est inversible. Ses colonnes sont représentées ainsi:\n",
    "\n",
    "$$ \n",
    "  \\boldsymbol{\\mathcal{O}}^{-1} = [ \\mathbf{u}_1 \\;\\; \\mathbf{u}_2 \\;\\; \\dots \\;\\; \\mathbf{u}_n ] \\in \\mathbb{R}^{n \\times n} \\qquad \\mathbf{u}_i \\in \\mathbb{R} \\quad i = 1, 2, \\dots, n\n",
    "$$"
   ]
  },
  {
   "cell_type": "markdown",
   "metadata": {},
   "source": [
    "La matrice suivante, pouvant être inversée, est construite à partir de la dernière colonne de $\\boldsymbol{\\mathcal{O}}^{-1}$:\n",
    "\n",
    "$$ \\mathbf{P} = [ \\mathbf{u}_n \\;\\;  \\mathbf{F} \\mathbf{u}_n \\;\\; \\dots \\;\\; \\mathbf{F}^{n-1} \\mathbf{u}_n ] \\in \\mathbb{R}^{n \\times n} $$"
   ]
  },
  {
   "cell_type": "markdown",
   "metadata": {},
   "source": [
    "En effectuant le changement de variable $\\mathbf{x} = \\mathbf{P} \\mathbf{x}'$, le modèle d'état devient:\n",
    "\n",
    "\\begin{align}\n",
    "  & \\mathbf{x}'(k+1) = \\mathbf{P}^{-1} \\mathbf{F} \\mathbf{P} \\mathbf{x}'(k) + \\mathbf{P}^{-1} \\mathbf{g} u(k) \\\\\n",
    "  & y(k) = \\mathbf{c}^T \\mathbf{P} \\mathbf{x}'(k) + d u(k)\n",
    "\\end{align}"
   ]
  },
  {
   "cell_type": "markdown",
   "metadata": {},
   "source": [
    "Ce modèle, appelé forme canonique d'observabilité, présente une structure intéressante."
   ]
  },
  {
   "cell_type": "markdown",
   "metadata": {},
   "source": [
    "#### Théorème\n",
    "\n",
    "La forme canonique d'observabilité exhibe la structure suivante, dans laquelle le vecteur $\\mathbf{g}' = \\mathbf{P}^{-1} \\mathbf{g}$ ne présente aucune particularité:\n",
    "\n",
    "\\begin{align}\n",
    "  & \\mathbf{x}'(k+1) = \\left[ \\begin{array}{ccccc}\n",
    "    0 & 0 & \\dots & 0 & -p_n \\\\\n",
    "    1 & 0 & \\dots & 0 & -p_{n-1} \\\\\n",
    "    0 & 1 & \\dots & 0 & -p_{n-2} \\\\\n",
    "    \\vdots & \\vdots & \\dots & \\vdots & \\vdots \\\\\n",
    "    0 & 0 & \\dots & 1 & -p_1\n",
    "  \\end{array} \\right]\n",
    "  \\mathbf{x}'(k) + \\mathbf{g}' u(k) \\\\\n",
    "  & y(k) = [0 \\;\\; 0 \\;\\; \\dots \\;\\; 1] \\mathbf{x}'(k) + d u(k)\n",
    "\\end{align}"
   ]
  },
  {
   "cell_type": "markdown",
   "metadata": {},
   "source": [
    "La démonstration de ce théorème est semblable à celle de la forme canonique de gouvernabilité."
   ]
  },
  {
   "cell_type": "markdown",
   "metadata": {},
   "source": [
    "Les coefficients $p_i$ sont bien les coefficients du polynôme caractéristique du système."
   ]
  },
  {
   "cell_type": "markdown",
   "metadata": {},
   "source": [
    "## Réalisation"
   ]
  },
  {
   "cell_type": "markdown",
   "metadata": {},
   "source": [
    "Soit un système SISO décrit par la fonction de transfert discrète suivante:\n",
    "\n",
    "$$ G(z) = \\frac{B(z)}{A(z)} \\qquad \\delta A \\ge \\delta B $$"
   ]
  },
  {
   "cell_type": "markdown",
   "metadata": {},
   "source": [
    "Cette fonction de transfert est dite *réalisable*, s'il existe une représentation d'état telle que $G(z) = \\mathbf{c}^T(z\\mathbf{I} - \\mathbf{F})^{-1}\\mathbf{g} + d$. Le modèle d'état\n",
    "\n",
    "\\begin{align}\n",
    "  & \\mathbf{x}(k+1) = \\mathbf{F}\\mathbf{x}(k) + \\mathbf{g} u(k) \\\\\n",
    "  & \\mathbf{y}(k) = \\mathbf{C}\\mathbf{x}(k) + d u(k) \n",
    "\\end{align}\n",
    "\n",
    "est appelé réalisation de $G(z)$."
   ]
  },
  {
   "cell_type": "markdown",
   "metadata": {},
   "source": [
    "Lorsque le numérateur de la fonction de transfert n'est pas polynomial, il est assez simple de trouver une réalisation. Le problème se complique lorsque le numérateur est polynomial."
   ]
  },
  {
   "cell_type": "markdown",
   "metadata": {},
   "source": [
    "Une manière de procéder consiste à découler une méthode de réalisation en analysant les formes canoniques de gouvernabilité et d'observabilité."
   ]
  },
  {
   "cell_type": "markdown",
   "metadata": {},
   "source": [
    "### Forme canonique de gouvernabilité"
   ]
  },
  {
   "cell_type": "markdown",
   "metadata": {},
   "source": [
    "Rappelons la forme canonique de gouvernabilité sans les symboles primes:\n",
    "\n",
    "\\begin{align}\n",
    "  & \\left[ \\begin{array}{ccccc}\n",
    "    x_1(k+1) \\\\\n",
    "    x_2(k+1) \\\\\n",
    "    \\vdots \\\\\n",
    "    x_{n-1}(k+1) \\\\\n",
    "    x_n(k+1)\n",
    "  \\end{array} \\right] = \\left[ \\begin{array}{ccccc}\n",
    "    0 & 1 & 0 & \\dots & 0 \\\\\n",
    "    0 & 0 & 1 & \\dots & 0 \\\\\n",
    "    \\vdots & \\vdots & \\vdots & \\dots & \\vdots \\\\\n",
    "    0 & 0 & 0 & \\dots & 1 \\\\\n",
    "    -p_n & -p_{n-1} & -p_{n-2} & \\dots & -p_1\n",
    "  \\end{array} \\right]\n",
    "  \\left[ \\begin{array}{ccccc}\n",
    "    x_1(k) \\\\\n",
    "    x_2(k) \\\\\n",
    "    \\vdots \\\\\n",
    "    x_{n-1}(k) \\\\\n",
    "    x_n(k)\n",
    "  \\end{array} \\right] + \\left[ \\begin{array}{ccccc}\n",
    "    0 \\\\\n",
    "    0 \\\\\n",
    "    0 \\\\\n",
    "    \\vdots \\\\\n",
    "    1\n",
    "  \\end{array} \\right] u(k) \\\\\n",
    "  & y(k) = [c_1\\;\\; c_2\\;\\; \\dots \\;\\; c_{n-1}\\;\\; c_n] \\left[ \\begin{array}{ccccc}\n",
    "    x_1(k) \\\\\n",
    "    x_2(k) \\\\\n",
    "    \\vdots \\\\\n",
    "    x_{n-1}(k) \\\\\n",
    "    x_n(k)\n",
    "  \\end{array} \\right] + d u(k)\n",
    "\\end{align}"
   ]
  },
  {
   "cell_type": "markdown",
   "metadata": {},
   "source": [
    "Par définition, $G_i(z)$ représente la fonction de transfert reliant l'entrée $U(z)$ à l'état $X_i(z)$:\n",
    "\n",
    "$$ G_i(z) = \\frac{X_i(z)}{U(z)} \\qquad i = 1, 2, \\dots, n $$"
   ]
  },
  {
   "cell_type": "markdown",
   "metadata": {},
   "source": [
    "On a donc:\n",
    "\n",
    "\\begin{align}\n",
    "  & G_n(z) = \\frac{X_n(z)}{U(z)} \\\\\n",
    "  & G_{n-1}(z) = \\frac{X_{n-1}(z)}{U(z)} = \\frac{\\frac{1}{z}X_n(z)}{U(z)} = \\frac{1}{z}G_n(z) \\\\\n",
    "  & G_{n-2}(z) = \\frac{X_{n-2}(z)}{U(z)} = \\frac{\\frac{1}{z}X_{n-1}(z)}{U(z)} = \\frac{1}{z^2}G_n(z) \\\\\n",
    "  & \\qquad \\qquad \\qquad \\vdots \\\\\n",
    "  & G_1(z) = \\frac{X_1(z)}{U(z)} = \\frac{\\frac{1}{z}X_2(z)}{U(z)} = \\frac{1}{z^{n-1}}G_n(z) \\\\\n",
    "\\end{align}"
   ]
  },
  {
   "cell_type": "markdown",
   "metadata": {},
   "source": [
    "Sous forme compacte, on a:\n",
    "\n",
    "$$ G_i(z) = \\frac{1}{z^{n-i}}G_n(z) \\qquad i = 1, 2, \\dots, n $$"
   ]
  },
  {
   "cell_type": "markdown",
   "metadata": {},
   "source": [
    "D'après la forme canonique de gouvernabilité, on a:\n",
    "\n",
    "$$ X_n(z) = \\frac{1}{z} \\left( U(z) - \\sum_{i=1}^{n}p_i X_{n-i+1}(z) \\right) $$"
   ]
  },
  {
   "cell_type": "markdown",
   "metadata": {},
   "source": [
    "En tenant compte de la forme compacte plus haute:\n",
    "\n",
    "\\begin{align}\n",
    "  G_n(z) &= \\frac{1}{z} \\left( 1 - \\sum_{i=1}^{n}p_i G_{n-i+1}(z) \\right) \\\\\n",
    "  &= \\frac{1}{z} \\left( 1 - \\sum_{i=1}^{n}\\frac{p_i}{z^{i-1}} G_n(z) \\right) \\\\\n",
    "  &= \\frac{1}{z} - \\left( \\frac{p_1}{z} + \\frac{p_2}{z^2} + \\dots + \\frac{p_n}{z^n} \\right) G_n(z)\n",
    "\\end{align}"
   ]
  },
  {
   "cell_type": "markdown",
   "metadata": {},
   "source": [
    "En rassemblant les termes $G_n(z)$ du même côté et en multipliant de chaque côté par $z^n$:\n",
    "\n",
    "$$  \\left( z^n + p_1 z^{n-1} + \\dots + p_n \\right) G_n(z) = z^{n-1} $$"
   ]
  },
  {
   "cell_type": "markdown",
   "metadata": {},
   "source": [
    "On obtient alors la fonction de transfert suivante:\n",
    "\n",
    "$$  G_n(z) = \\frac{z^{n-1}}{\\left( z^n + p_1 z^{n-1} + \\dots + p_n \\right)} $$"
   ]
  },
  {
   "cell_type": "markdown",
   "metadata": {},
   "source": [
    "La forme canonique montre aussi que:\n",
    "\n",
    "$$ Y(z) = \\sum_{i=1}^n c_i X_i(z) + d U(z) $$"
   ]
  },
  {
   "cell_type": "markdown",
   "metadata": {},
   "source": [
    "En utilisant à nouveau la forme compacte:\n",
    "\n",
    "\\begin{align}\n",
    "  \\frac{Y(z)}{U(z)} &= \\sum_{i=1}^n c_i \\frac{X_i(z)}{U(z)} + d \\\\\n",
    "  &= \\sum_{i=1}^n c_i G_i(z) + d \\\\\n",
    "  &= \\sum_{i=1}^n c_i \\frac{1}{z^{n-1}}G_n(z) + d\n",
    "\\end{align}"
   ]
  },
  {
   "cell_type": "markdown",
   "metadata": {},
   "source": [
    "En remplaçant finalement $G_n(z)$ par son expression déterminée plus haut:\n",
    "\n",
    "$$ \\frac{Y(z)}{U(z)} = d + \\frac{c_n z^{n-1} + c_{n-1}z^{n-2} + \\cdots + c_1}{z^n + p_1 z^{n-1} + \\cdots + p_n} $$"
   ]
  },
  {
   "cell_type": "markdown",
   "metadata": {},
   "source": [
    "Avec $A(z)$ égal au dénominateur, cette formule permet de déterminer directement une réalisation sous la forme gouvernable d'une fonction de transfert. Lorsque $\\delta A = \\delta B$, il suffit de commencer par une division polynomiale avant d'appliquer ce résultat."
   ]
  },
  {
   "cell_type": "markdown",
   "metadata": {},
   "source": [
    "### Forme canonique d'observabilité"
   ]
  },
  {
   "cell_type": "markdown",
   "metadata": {},
   "source": [
    "Rappelons la forme canonique d'observabilité sans les symboles primes:\n",
    "\n",
    "\\begin{align}\n",
    "  & \\left[ \\begin{array}{ccccc}\n",
    "    x_1(k+1) \\\\\n",
    "    x_2(k+1) \\\\\n",
    "    x_3(k+1) \\\\\n",
    "    \\vdots \\\\\n",
    "    x_n(k+1)\n",
    "  \\end{array} \\right] = \\left[ \\begin{array}{ccccc}\n",
    "    0 & 0 & \\dots & 0 & -p_n \\\\\n",
    "    1 & 0 & \\dots & 0 & -p_{n-1} \\\\\n",
    "    0 & 1 & \\dots & 0 & -p_{n-2} \\\\\n",
    "    \\vdots & \\vdots & \\dots & \\vdots & \\vdots \\\\\n",
    "    0 & 0 & \\dots & 1 & -p_1\n",
    "  \\end{array} \\right]\n",
    "  \\left[ \\begin{array}{ccccc}\n",
    "    x_1(k) \\\\\n",
    "    x_2(k) \\\\\n",
    "    x_3(k) \\\\\n",
    "    \\vdots \\\\\n",
    "    x_n(k)\n",
    "  \\end{array} \\right] + \\left[ \\begin{array}{ccccc}\n",
    "    g_1 \\\\\n",
    "    g_2 \\\\\n",
    "    g_3 \\\\\n",
    "    \\vdots \\\\\n",
    "    g_n\n",
    "  \\end{array} \\right] u(k) \\\\\n",
    "  & y(k) = [0 \\;\\; 0 \\;\\; 0 \\;\\; \\dots \\;\\; 1] \\left[ \\begin{array}{ccccc}\n",
    "    x_1(k) \\\\\n",
    "    x_2(k) \\\\\n",
    "    x_3(k) \\\\\n",
    "    \\vdots \\\\\n",
    "    x_n(k)\n",
    "  \\end{array} \\right] + d u(k)\n",
    "\\end{align}"
   ]
  },
  {
   "cell_type": "markdown",
   "metadata": {},
   "source": [
    "En analysant la forme canonique d'observabilité, on a:\n",
    "\n",
    "\\begin{align}\n",
    "  & X_n(z) = \\frac{1}{z} \\left( g_n U(z) - p_1 X_n(z) + \\frac{1}{z} \\left( g_{n-1} U(z) - p_2 X_n(z) + \\cdots + \\frac{1}{z} \\left( g_2 U(z) - p_{n-1} X_n(z) + \\frac{1}{z} \\left( g_1 U(z) - p_n X_n(z) \\right) \\cdots \\right) \\right) \\right) \\\\\n",
    "  & Y(z) = d U(z) + X_n(z)\n",
    "\\end{align}"
   ]
  },
  {
   "cell_type": "markdown",
   "metadata": {},
   "source": [
    "On obtient, après quelques réorganisations:\n",
    "\n",
    "\\begin{align}\n",
    "  & \\left( 1 + \\frac{p_1}{z} + \\frac{p_2}{z^2} + \\dots + \\frac{p_n}{z^n} \\right) \\frac{X_n(z)}{U(z)} = \\frac{g_n}{z} + \\frac{g_{n-1}}{z^2} + \\dots + \\frac{g_1}{z^n} \\\\\n",
    "  & \\frac{Y(z)}{U(z)} = d + \\frac{X_n(z)}{U(z)}\n",
    "\\end{align}"
   ]
  },
  {
   "cell_type": "markdown",
   "metadata": {},
   "source": [
    "En multipliant de chaque côté par $z^n$:\n",
    "\n",
    "$$  \\left( z^n + p_1 z^{n-1} + \\dots + p_n \\right) \\frac{X_n(z)}{U(z} = g_n z^{n-1} + g_{n-1} z^{n-2} + \\cdots + g_1 $$"
   ]
  },
  {
   "cell_type": "markdown",
   "metadata": {},
   "source": [
    "En utilisant ce dernier résultat dans l'équation de sortie:\n",
    "\n",
    "$$ \\frac{Y(z)}{U(z)} = d + \\frac{g_n z^{n-1} + g_{n-1} z^{n-2} + \\cdots + g_1}{z^n + p_1 z^{n-1} + \\dots + p_n} $$"
   ]
  },
  {
   "cell_type": "markdown",
   "metadata": {},
   "source": [
    "Avec $A(z)$ égal au dénominateur, cette formule permet de déterminer directement une réalisation sous la forme observable d'une fonction de transfert. Lorsque $\\delta A = \\delta B$, il suffit de commencer par une division polynomiale avant d'appliquer ce résultat."
   ]
  },
  {
   "cell_type": "markdown",
   "metadata": {},
   "source": [
    "Il existe donc de nombreuses réalisations d'une même fonction de transfert. Celles-ci peuvent avoir des ordres différents. C'est le cas lorsque la fonction de transfert possède des simplifications pôles/zéros."
   ]
  },
  {
   "cell_type": "markdown",
   "metadata": {},
   "source": [
    "Une réalisation est dite *minimale* si son ordre est minimum. Il est possible de démontrer qu'une réalisation de $G(z)$ est minimale si et seulement si elle est gouvernable et observable. Cela signifie que si une fonction de transfert ne possède aucune simplification pôles/zéros, sa représentation sous forme d'état sera gouvernable et observable."
   ]
  },
  {
   "cell_type": "markdown",
   "metadata": {},
   "source": [
    "L'opération inverse, consistant à déterminer une fonction de transfert basée sur une représentation d'état est assez simple:\n",
    "\n",
    "$$ G(z) = \\mathbf{c}^T \\left( z \\mathbf{I} - \\mathbf{F} \\right)^{-1} \\mathbf{g} + d  $$"
   ]
  },
  {
   "cell_type": "markdown",
   "metadata": {},
   "source": [
    "Au lieu d'utiliser une des méthodes de calcul de la matrice résolvante, il suffit de passer un modèle d'état sous sa forme gouvernable ou observable et appliquer l'un des résultats de cette section pour obtenir $G(z)$."
   ]
  },
  {
   "cell_type": "markdown",
   "metadata": {},
   "source": [
    "### Théorème de dualité"
   ]
  },
  {
   "cell_type": "markdown",
   "metadata": {},
   "source": [
    "Les concepts de gouvernabilité et d'observabilité sont liés entre eux. Le théorème suivant est utile pour la suite."
   ]
  },
  {
   "cell_type": "markdown",
   "metadata": {},
   "source": [
    "#### Théorème:\n",
    "\n",
    "Le couple $(\\mathbf{F}, \\mathbf{G})$ est gouvernable si et seulement si le couple $(\\mathbf{F}^T, \\mathbf{G}^T)$ est observable."
   ]
  },
  {
   "cell_type": "markdown",
   "metadata": {},
   "source": [
    "---"
   ]
  },
  {
   "cell_type": "markdown",
   "metadata": {},
   "source": [
    "La démonstration de ce théorème est donnée ci-dessous."
   ]
  },
  {
   "cell_type": "markdown",
   "metadata": {},
   "source": [
    "Le couple $(\\mathbf{F}, \\mathbf{G})$ est gouvernable si et seulement si:"
   ]
  },
  {
   "cell_type": "markdown",
   "metadata": {},
   "source": [
    "$$ \n",
    "  \\text{rang} \\left[ \\begin{array}{cccc}\n",
    "    \\mathbf{G} & \\mathbf{F} \\mathbf{G} & \\dots & \\mathbf{F}^{n-1} \\mathbf{G}\n",
    "  \\end{array} \\right] = n\n",
    "$$"
   ]
  },
  {
   "cell_type": "markdown",
   "metadata": {},
   "source": [
    "Le couple $(\\mathbf{F}^T, \\mathbf{G}^T)$ est observable si et seulement si:"
   ]
  },
  {
   "cell_type": "markdown",
   "metadata": {},
   "source": [
    "$$ \n",
    "  \\text{rang} \\left[ \\begin{array}{c}\n",
    "    \\mathbf{G}^T \\\\\n",
    "    \\mathbf{G}^T \\mathbf{F}^T \\\\\n",
    "    \\vdots \\\\\n",
    "    \\mathbf{G}^T \\left(\\mathbf{F}^T\\right)^{n-1} \n",
    "  \\end{array} \\right] = n\n",
    "$$"
   ]
  },
  {
   "cell_type": "markdown",
   "metadata": {},
   "source": [
    "Le rang d'une matrice étant égal au rang de sa transposée, on a:"
   ]
  },
  {
   "cell_type": "markdown",
   "metadata": {},
   "source": [
    "\\begin{align}\n",
    "  \\text{rang} \\left[ \\begin{array}{cccc}\n",
    "    \\mathbf{G} & \\mathbf{F} \\mathbf{G} & \\dots & \\mathbf{F}^{n-1} \\mathbf{G}\n",
    "  \\end{array} \\right] &= \\text{rang} \\left[ \\begin{array}{cccc}\n",
    "    \\mathbf{G} & \\mathbf{F} \\mathbf{G} & \\dots & \\mathbf{F}^{n-1} \\mathbf{G}\n",
    "  \\end{array} \\right]^T \\\\\n",
    "  &= \\text{rang} \\left[ \\begin{array}{c}\n",
    "    \\mathbf{G}^T \\\\\n",
    "    \\mathbf{G}^T \\mathbf{F}^T \\\\\n",
    "    \\vdots \\\\\n",
    "    \\mathbf{G}^T \\left(\\mathbf{F}^{n-1}\\right)^T \n",
    "  \\end{array} \\right] \\\\\n",
    "  &= \\text{rang} \\left[ \\begin{array}{c}\n",
    "    \\mathbf{G}^T \\\\\n",
    "    \\mathbf{G}^T \\mathbf{F}^T \\\\\n",
    "    \\vdots \\\\\n",
    "    \\mathbf{G}^T \\left(\\mathbf{F}^T\\right)^{n-1} \n",
    "  \\end{array} \\right]\n",
    "\\end{align}"
   ]
  },
  {
   "cell_type": "markdown",
   "metadata": {},
   "source": [
    "La condition de gouvernabilité d'un couple est donc bien équivalente à la condition d'observabilité du couple des transposées."
   ]
  }
 ],
 "metadata": {
  "kernelspec": {
   "display_name": "Python 3",
   "language": "python",
   "name": "python3"
  },
  "language_info": {
   "codemirror_mode": {
    "name": "ipython",
    "version": 3
   },
   "file_extension": ".py",
   "mimetype": "text/x-python",
   "name": "python",
   "nbconvert_exporter": "python",
   "pygments_lexer": "ipython3",
   "version": "3.7.3"
  }
 },
 "nbformat": 4,
 "nbformat_minor": 4
}
