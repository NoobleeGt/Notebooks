{
 "cells": [
  {
   "cell_type": "markdown",
   "metadata": {},
   "source": [
    "# Synthèse des régulateurs dans l'espace d'état"
   ]
  },
  {
   "cell_type": "markdown",
   "metadata": {},
   "source": [
    "L'objectif de ce chapitre est de mettre en place une commande par retour d'états pour un système SISO, avec l'ajout d'un observateur si nécessaire."
   ]
  },
  {
   "cell_type": "markdown",
   "metadata": {},
   "source": [
    "## Problème de base"
   ]
  },
  {
   "cell_type": "markdown",
   "metadata": {},
   "source": [
    "Le problème à résoudre consiste à déterminer une loi de commande telle qu'un système éloigné de son point d'équilibre, y revienne en respectant une trajectoire donnée."
   ]
  },
  {
   "cell_type": "markdown",
   "metadata": {},
   "source": [
    "Ce problème peut se retrouver dans les 2 cas suivants:\n",
    "\n",
    "- en régulation: le système est à l'équilibre et une violente perturbation vient modifier le vecteur d'état du système, l'éloignant de son point d'équilibre; la loi de commande doit rejeter l'effet de cette perturbation\n",
    "- en asservissement: lors d'un changement de point de consigne, le point d'équilibre devient la nouvelle consigne; le système est alors éloigné de son point de fonctionnement à l'instant d'application de cette nouvelle consigne et la loi de commande doit permettre de suivre la nouvelle consigne"
   ]
  },
  {
   "cell_type": "markdown",
   "metadata": {},
   "source": [
    "#### Remarque:\n",
    "\n",
    "Dans le cas d'un système non linéaire, une nouvelle consigne pourrait être trop éloignée du domaine de validité de la linéarisation. Dans ce cas, il faut d'abord déterminer un nouveau modèle linéaire autour de la nouvelle consigne avant d'appliquer la loi de commande, qui pourrait être différente pour assurer les mêmes performances autour de ce nouveau point de fonctionnement."
   ]
  },
  {
   "cell_type": "markdown",
   "metadata": {},
   "source": [
    "## Commande par placement des valeurs propres"
   ]
  },
  {
   "cell_type": "markdown",
   "metadata": {},
   "source": [
    "L'objectif de cette commande est d'imposer les valeurs propres du système en boucle fermée."
   ]
  },
  {
   "cell_type": "markdown",
   "metadata": {},
   "source": [
    "### Formule d'Ackermann"
   ]
  },
  {
   "cell_type": "markdown",
   "metadata": {},
   "source": [
    "Soit le système échantillonné décrit par l'équation d'état suivante:"
   ]
  },
  {
   "cell_type": "markdown",
   "metadata": {},
   "source": [
    "$$ \\mathbf{x}(k+1) = \\mathbf{F} \\mathbf{x}(k) + \\mathbf{g}\\, u(k) $$"
   ]
  },
  {
   "cell_type": "markdown",
   "metadata": {},
   "source": [
    "Comme le système est supposé SISO, $u(k)\\, \\in\\, \\mathbb{R}$ et $\\mathbf{g}\\, \\in\\, \\mathbb{R}^n$."
   ]
  },
  {
   "cell_type": "markdown",
   "metadata": {},
   "source": [
    "Une loi de commande linéaire par retour d'état est décrite selon l'équation suivante:"
   ]
  },
  {
   "cell_type": "markdown",
   "metadata": {},
   "source": [
    "$$ u(k) = -\\boldsymbol{\\mathscr{l}}^T\\, \\mathbf{x}(k) \\qquad \\boldsymbol{\\mathscr{l}}\\, \\in\\, \\mathbb{R}^n $$"
   ]
  },
  {
   "cell_type": "markdown",
   "metadata": {},
   "source": [
    "La commande est donc une combinaison linéaire des états du système."
   ]
  },
  {
   "cell_type": "markdown",
   "metadata": {},
   "source": [
    "L'équation d'état peut alors être réécrite de la manière suivante:"
   ]
  },
  {
   "cell_type": "markdown",
   "metadata": {},
   "source": [
    "\\begin{align}\n",
    "  \\mathbf{x}(k+1) &= \\mathbf{F} \\mathbf{x}(k) - \\mathbf{g} \\boldsymbol{\\mathscr{l}} \\mathbf{x}(k) \\\\\n",
    "  &= \\left( \\mathbf{F} - \\mathbf{g} \\boldsymbol{\\mathscr{l}}^T \\right) \\mathbf{x}(k)\n",
    "\\end{align}"
   ]
  },
  {
   "cell_type": "markdown",
   "metadata": {},
   "source": [
    "L'ensemble du système et de sa commande peut être vu comme un nouveau système en boucle ouverte ne possédant aucune entrée et évoluant selon la nouvelle matrice de transition discrète $\\mathbf{F} - \\mathbf{g} \\boldsymbol{\\mathscr{l}}^T$."
   ]
  },
  {
   "cell_type": "markdown",
   "metadata": {},
   "source": [
    "Les pôles du système en boucle fermée sont alors les valeurs propres de cette matrice, obtenues en annulant le déterminant $\\det \\left(z\\mathbf{I} - \\mathbf{F} + \\mathbf{g} \\boldsymbol{\\mathscr{l}}^T \\right)$."
   ]
  },
  {
   "cell_type": "markdown",
   "metadata": {},
   "source": [
    "Les 2 théorèmes suivants permettent de déterminer si le vecteur $\\boldsymbol{\\mathscr{l}}$ existe, et, dans ce cas, comment le déterminer."
   ]
  },
  {
   "cell_type": "markdown",
   "metadata": {},
   "source": [
    "#### Théorème:\n",
    "\n",
    "Etant donné un polynôme quelconque $p(z) = z^n + a_1 z^{n-1} + \\dots + a_n,\\, a_i\\, \\in\\, \\mathbb{R},\\, i=1, 2, \\dots, n$, il existe un vecteur $\\boldsymbol{\\mathscr{l}}\\, \\in\\, \\mathbb{R}^n$ tel que le polynôme caractéristique de la matrice $\\mathbf{F} - \\mathbf{g} \\boldsymbol{\\mathscr{l}}^T$ soit $p(z)$ si est seulement si le couple $(\\mathbf{F}, \\mathbf{g})$ est gouvernable."
   ]
  },
  {
   "cell_type": "markdown",
   "metadata": {},
   "source": [
    "---"
   ]
  },
  {
   "cell_type": "markdown",
   "metadata": {},
   "source": [
    "La démonstration de ce théorème est très simple et fait l'objet des lignes qui suivent."
   ]
  },
  {
   "cell_type": "markdown",
   "metadata": {},
   "source": [
    "Si le couple $(\\mathbf{F}, \\mathbf{g})$ est gouvernable, alors le système peut être mis sous la forme canonique de gouvernabilité."
   ]
  },
  {
   "cell_type": "markdown",
   "metadata": {},
   "source": [
    "\\begin{align}\n",
    "  \\mathbf{x}'(k+1) &= \\mathbf{M} \\mathbf{F} \\mathbf{M}^{-1} \\mathbf{x}'(k) + \\mathbf{M} \\mathbf{g}\\, u(k) \\\\\n",
    "  &= \\left[ \\begin{array}{ccccc}\n",
    "    0 & 1 & 0 & \\dots & 0 \\\\\n",
    "    0 & 0 & 1 & \\dots & 0 \\\\\n",
    "    \\vdots & \\vdots & \\vdots & \\dots & \\vdots \\\\\n",
    "    0 & 0 & 0 & \\dots & 1 \\\\\n",
    "    -p_n & -p_{n-1} & -p_{n-2} & \\dots & -p_1\n",
    "  \\end{array} \\right]\n",
    "  \\mathbf{x}'(k) + \\left[ \\begin{array}{ccccc}\n",
    "    0 \\\\\n",
    "    0 \\\\\n",
    "    0 \\\\\n",
    "    \\vdots \\\\\n",
    "    1\n",
    "  \\end{array} \\right] u(k) \\\\\n",
    "\\end{align}"
   ]
  },
  {
   "cell_type": "markdown",
   "metadata": {},
   "source": [
    "Définissons la loi de commande:"
   ]
  },
  {
   "cell_type": "markdown",
   "metadata": {},
   "source": [
    "$$ u(k) = \\boldsymbol{\\mathscr{l}}'^T \\mathbf{x}'(k) $$"
   ]
  },
  {
   "cell_type": "markdown",
   "metadata": {},
   "source": [
    "L'équation d'état en boucle fermée devient alors:"
   ]
  },
  {
   "cell_type": "markdown",
   "metadata": {},
   "source": [
    "\\begin{align}\n",
    "  \\mathbf{x}'(k+1) &= \\mathbf{M} \\mathbf{F} \\mathbf{M}^{-1} \\mathbf{x}'(k) - \\mathbf{M} \\mathbf{g}\\, \\boldsymbol{\\mathscr{l}}'^T \\mathbf{x}'(k) \\\\\n",
    "  &= \\left[ \\begin{array}{ccccc}\n",
    "    0 & 1 & 0 & \\dots & 0 \\\\\n",
    "    0 & 0 & 1 & \\dots & 0 \\\\\n",
    "    \\vdots & \\vdots & \\vdots & \\dots & \\vdots \\\\\n",
    "    0 & 0 & 0 & \\dots & 1 \\\\\n",
    "    -p_n & -p_{n-1} & -p_{n-2} & \\dots & -p_1\n",
    "  \\end{array} \\right]\n",
    "  \\mathbf{x}'(k) - \\left[ \\begin{array}{ccccc}\n",
    "    0 \\\\\n",
    "    0 \\\\\n",
    "    0 \\\\\n",
    "    \\vdots \\\\\n",
    "    1\n",
    "  \\end{array} \\right] \\left[ \\begin{array}{ccccc}\n",
    "    \\mathscr{l}_1' & \\mathscr{l}_2' & \\dots & \\mathscr{l}_{n-1}' &  \\mathscr{l}_n'\n",
    "  \\end{array} \\right] \\mathbf{x}'(k) \\\\\n",
    "  &= \\left[ \\begin{array}{ccccc}\n",
    "    0 & 1 & 0 & \\dots & 0 \\\\\n",
    "    0 & 0 & 1 & \\dots & 0 \\\\\n",
    "    \\vdots & \\vdots & \\vdots & \\dots & \\vdots \\\\\n",
    "    0 & 0 & 0 & \\dots & 1 \\\\\n",
    "    -(p_n+\\mathscr{l}_1') & -(p_{n-1}+\\mathscr{l}_2') & -(p_{n-2}+\\mathscr{l}_3') & \\dots & -(p_1+\\mathscr{l}_n')\n",
    "  \\end{array} \\right]\n",
    "  \\mathbf{x}'(k)\n",
    "\\end{align}"
   ]
  },
  {
   "cell_type": "markdown",
   "metadata": {},
   "source": [
    "Comme cette matrice est compagne, on en déduit que son polynôme caractéristique est le suivant:"
   ]
  },
  {
   "cell_type": "markdown",
   "metadata": {},
   "source": [
    "$$ z^n + (p_1+\\mathscr{l}_n') z^{n-1} + (p_2+\\mathscr{l}_{n-1}') z^{n-2} + \\dots + (p_n+\\mathscr{l}_1') $$"
   ]
  },
  {
   "cell_type": "markdown",
   "metadata": {},
   "source": [
    "Afin d'imposer le polynôme caractéristique en boucle fermée suivant:"
   ]
  },
  {
   "cell_type": "markdown",
   "metadata": {},
   "source": [
    "$$ p(z) = z^n + a_1 z^{n-1} + \\dots + a_n $$"
   ]
  },
  {
   "cell_type": "markdown",
   "metadata": {},
   "source": [
    "Il suffit de soustraire les 2 polynômes, pour obtenir les relations suivantes:"
   ]
  },
  {
   "cell_type": "markdown",
   "metadata": {},
   "source": [
    "\\begin{align}\n",
    "  \\mathscr{l}_n' &= a_1 - p_1 \\\\\n",
    "  \\mathscr{l}_{n-1}' &= a_2 - p_2 \\\\\n",
    "  &\\vdots \\\\\n",
    "  \\mathscr{l}_1' &= a_n - p_n \\\\\n",
    "\\end{align}"
   ]
  },
  {
   "cell_type": "markdown",
   "metadata": {},
   "source": [
    "Que l'on pourrait résumé par la relation:"
   ]
  },
  {
   "cell_type": "markdown",
   "metadata": {},
   "source": [
    "$$ \\mathscr{l}_i' = a_{n-i+1} - p_{n-i+1} \\qquad i = 1, 2, \\dots, n $$"
   ]
  },
  {
   "cell_type": "markdown",
   "metadata": {},
   "source": [
    "La loi de commande, dans cette nouvelle base, subit la transformation suivante:"
   ]
  },
  {
   "cell_type": "markdown",
   "metadata": {},
   "source": [
    "$$ \\boldsymbol{\\mathscr{l}}'^T = \\boldsymbol{\\mathscr{l}}^T \\mathbf{M}^{-1} $$"
   ]
  },
  {
   "cell_type": "markdown",
   "metadata": {},
   "source": [
    "On a alors:"
   ]
  },
  {
   "cell_type": "markdown",
   "metadata": {},
   "source": [
    "\\begin{align}\n",
    "  \\mathbf{M} \\mathbf{F} \\mathbf{M}^{-1} - \\mathbf{M} \\mathbf{g}\\, \\boldsymbol{\\mathscr{l}}'^T &= \\mathbf{M} \\mathbf{F} \\mathbf{M}^{-1} - \\mathbf{M} \\mathbf{g}\\, \\boldsymbol{\\mathscr{l}}^T \\mathbf{M}^{-1} \\\\\n",
    "  &= \\mathbf{M} \\left( \\mathbf{F} - \\mathbf{g} \\mathscr{l}^T \\right) \\mathbf{M}^{-1} \n",
    "\\end{align}"
   ]
  },
  {
   "cell_type": "markdown",
   "metadata": {},
   "source": [
    "Les matrices, étant équivalentes, le polynôme caractéristique de $\\mathbf{M} \\mathbf{F} \\mathbf{M}^{-1} - \\mathbf{M} \\mathbf{g}\\, \\boldsymbol{\\mathscr{l}}'^T$ et $\\mathbf{F} - \\mathbf{g} \\mathscr{l}^T$ est le même et vaut le polynôme caractéristique imposé en boucle fermée. La loi de commande $u(k) = -\\boldsymbol{\\mathscr{l}}'^T \\mathbf{x}'(k) = -\\boldsymbol{\\mathscr{l}}^T \\mathbf{M} \\mathbf{x}(k)$ permet donc bien d'imposer les valeurs propres en boucle fermée."
   ]
  },
  {
   "cell_type": "markdown",
   "metadata": {},
   "source": [
    "---"
   ]
  },
  {
   "cell_type": "markdown",
   "metadata": {},
   "source": [
    "#### Théorème:\n",
    "\n",
    "Pour un système à commander gouvernable, le gain de rétroaction $\\boldsymbol{\\mathscr{l}}^T$ est donné par:\n",
    "\n",
    "$$ \n",
    "  \\boldsymbol{\\mathscr{l}}^T = \\left[ \\begin{array}{ccccc} \n",
    "    0 & 0 & \\dots & 0 & 1 \n",
    "  \\end{array} \\right] \\boldsymbol{\\mathcal{C}}^{-1} p(\\mathbf{F})\n",
    "$$"
   ]
  },
  {
   "cell_type": "markdown",
   "metadata": {},
   "source": [
    "---"
   ]
  },
  {
   "cell_type": "markdown",
   "metadata": {},
   "source": [
    "Ici encore, la démonstration n'est pas très complexe."
   ]
  },
  {
   "cell_type": "markdown",
   "metadata": {},
   "source": [
    "Le vecteur contenant les gains de rétroaction peut être écrit ainsi:"
   ]
  },
  {
   "cell_type": "markdown",
   "metadata": {},
   "source": [
    "\\begin{align}\n",
    "  \\boldsymbol{\\mathscr{l}}^T &= \\boldsymbol{\\mathscr{l}}'^T \\mathbf{M} \\\\ \n",
    "  &= \\left[ \\begin{array}{ccccc}\n",
    "    \\mathscr{l}_1' & \\mathscr{l}_2' & \\dots & \\mathscr{l}_{n-1}' &  \\mathscr{l}_n'\n",
    "  \\end{array} \\right] \\mathbf{M} \\\\\n",
    "  &= \\left[ \\begin{array}{cccc}\n",
    "    a_n - p_n & a_{n-1} - p_{n-1} & \\dots & a_1 - p_1\n",
    "  \\end{array} \\right] \\mathbf{M} \\\\\n",
    "  &= \\left[ \\begin{array}{cccc}\n",
    "    a_n & a_{n-1} & \\dots & a_1\n",
    "  \\end{array} \\right] \\mathbf{M} + \\left[ \\begin{array}{cccc}\n",
    "    -p_n & -p_{n-1} & \\dots & -p_1\n",
    "  \\end{array} \\right] \\mathbf{M} \\\\\n",
    "\\end{align}"
   ]
  },
  {
   "cell_type": "markdown",
   "metadata": {},
   "source": [
    "Le vecteur $\\left[ \\begin{array}{cccc} -p_n & -p_{n-1} & \\dots & -p_1 \\end{array} \\right]$ est la dernière ligne de la forme canonique de gouvernabilité du système. Elle peut se réécrire $\\mathbf{t}_n^T \\mathbf{F} \\mathbf{M}^{-1}$ d'après la section discutant de la gouvernabilité et de sa forme canonique."
   ]
  },
  {
   "cell_type": "markdown",
   "metadata": {},
   "source": [
    "\\begin{align}\n",
    "  \\boldsymbol{\\mathscr{l}}^T &= \\left[ \\begin{array}{cccc}\n",
    "    a_n & a_{n-1} & \\dots & a_1\n",
    "  \\end{array} \\right] \\mathbf{M} + \\mathbf{t}_n^T \\mathbf{F} \\mathbf{M}^{-1} \\mathbf{M} \\\\\n",
    "  &= \\left[ \\begin{array}{cccc}\n",
    "    a_n & a_{n-1} & \\dots & a_1\n",
    "  \\end{array} \\right] \\mathbf{M} + \\mathbf{t}_n^T \\mathbf{F} \\\\\n",
    "  &= \\left[ \\begin{array}{cccc}\n",
    "    a_n & a_{n-1} & \\dots & a_1\n",
    "  \\end{array} \\right] \\left[ \\begin{array}{c}\n",
    "    \\mathbf{t}_n^T \\\\\n",
    "    \\mathbf{t}_n^T \\mathbf{F} \\\\\n",
    "    \\vdots \\\\\n",
    "    \\mathbf{t}_n^T \\mathbf{F}^{n-1} \\\\\n",
    "  \\end{array} \\right] + \\mathbf{t}_n^T \\mathbf{F} \\\\\n",
    "  &= \\mathbf{t}_n^T \\mathbf{F} + a_1 \\mathbf{t}_n^T \\mathbf{F}^{n-1} + \\dots + a_{n-1} \\mathbf{t}_n^T \\mathbf{F} + a_n \\mathbf{t}_n^T \\\\\n",
    "  &= \\mathbf{t}_n^T \\left( \\mathbf{F} + a_1 \\mathbf{F}^{n-1} + \\dots + a_{n-1} \\mathbf{F} + a_n \\right)\n",
    "\\end{align}"
   ]
  },
  {
   "cell_type": "markdown",
   "metadata": {},
   "source": [
    "$\\mathbf{t}_n^T$ est la dernière ligne de l'inverse de la matrice de gouvernabilité alors que le terme entre parenthèses représente le polynôme caractéristique à imposer en boucle fermée, dont la variable est la matrice de transition discrète $\\mathbf{F}$. On a donc:"
   ]
  },
  {
   "cell_type": "markdown",
   "metadata": {},
   "source": [
    "$$\n",
    "  \\boldsymbol{\\mathscr{l}}^T = \\left[ \\begin{array}{cccc}\n",
    "    0 & 0 & \\dots & 1\n",
    "  \\end{array} \\right] \\boldsymbol{\\mathcal{C}}^{-1} p(\\mathbf{F})\n",
    "$$"
   ]
  },
  {
   "cell_type": "markdown",
   "metadata": {},
   "source": [
    "### Poursuite d'un échelon"
   ]
  },
  {
   "cell_type": "markdown",
   "metadata": {},
   "source": [
    "Il est supposé, dans cette partie, que le système reste proche de son point de fonctionnement afin que sa linéarisation reste valide. Si ce n'est pas le cas, il faut procéder à une nouvelle linéarisation autour du point de consigne voulu et utiliser le nouveau modèle obtenu."
   ]
  },
  {
   "cell_type": "markdown",
   "metadata": {},
   "source": [
    "La méthodologie générale est de considérer les écarts sur les variables d'états du système comme variables d'états à commander. Le problème devient alors équivalent à la section précédente, et la formule d'Ackermann est utilisable. Cette situation est représentée à la figure suivante."
   ]
  },
  {
   "cell_type": "markdown",
   "metadata": {},
   "source": [
    "<img src=\"./Images/Control/poursuite_echelon.png\" alt=\"Schéma de principe d'une poursuite d'un échelon\" width=700>"
   ]
  },
  {
   "cell_type": "markdown",
   "metadata": {},
   "source": [
    "Le système à commander se retrouve au centre et reçoit une commande $u(t)$ pour nous fournir la sortie $y(t)$ et les états $\\mathbf{x}(t)$. Ces derniers sont échantillonnés via un converstisseur CAN pour fournir les signaux discrets $y(k)$ et $\\mathbf{x}(k)$. Tous ces signaux échantillonnés sont comparés à leurs valeurs au point de fonctionnement désiré, notées $\\bar{y}$ et $\\bar{\\mathbf{x}}$. Il est à remarquer que $\\bar{y}=y_c$; c'est la consigne imposée. Les écarts calculés sur les états, notés $\\tilde{\\mathbf{x}}$ sont utilisés pour la rétroaction d'états et permettent d'obtenir $\\tilde{u}(k)$, la variation de la commande à appliquer. Celle-ci est alors ajoutée à la commande au point de fonctionnement $\\bar{u}$ pour obtenir la commande absolue $u(k)$ à transformer en analogique $u(t)$ et à appliquer au système."
   ]
  },
  {
   "cell_type": "markdown",
   "metadata": {},
   "source": [
    "Le problème qui se pose est le suivant. En général, une consigne est imposée sur la sortie $y(k)$. Cependant, la rétroaction se fait sur les états, et la commande calculée doit être sommée à la commande \"à priori\" du point de fonctionnement. Il faut donc, pour chaque point de fonctionnement, calculer les grandeurs $\\bar{\\mathbf{x}}$ et $\\bar{u}$."
   ]
  },
  {
   "cell_type": "markdown",
   "metadata": {},
   "source": [
    "Afin de rendre le système le plus autonome possible, ces 2 grandeurs seront calculées à partir de la consigne $y_c$. Soit les définissions suivantes:"
   ]
  },
  {
   "cell_type": "markdown",
   "metadata": {},
   "source": [
    "\\begin{align}\n",
    "  \\bar{\\mathbf{x}} &= \\boldsymbol{\\mathscr{l}}_x \\bar{y} \\\\\n",
    "  \\bar{u} &= \\mathscr{l}_u \\bar{y} \\\\\n",
    "\\end{align}"
   ]
  },
  {
   "cell_type": "markdown",
   "metadata": {},
   "source": [
    "Le point de fonctionnement vérifie le modèle d'état:"
   ]
  },
  {
   "cell_type": "markdown",
   "metadata": {},
   "source": [
    "\\begin{align}\n",
    "  \\bar{\\mathbf{x}} &= \\mathbf{F} \\bar{\\mathbf{x}} + \\mathbf{g} \\bar{u} \\\\\n",
    "  \\bar{y} &= \\mathbf{c}^T \\bar{\\mathbf{x}}\n",
    "\\end{align}"
   ]
  },
  {
   "cell_type": "markdown",
   "metadata": {},
   "source": [
    "En remplaçant par nos nouvelles définitions:"
   ]
  },
  {
   "cell_type": "markdown",
   "metadata": {},
   "source": [
    "\\begin{align}\n",
    "  \\boldsymbol{\\mathscr{l}}_x \\bar{y} &= \\mathbf{F} \\boldsymbol{\\mathscr{l}}_x \\bar{y} + \\mathbf{g} \\mathscr{l}_u \\bar{y} \\\\\n",
    "  \\bar{y} &= \\mathbf{c}^T \\boldsymbol{\\mathscr{l}}_x \\bar{y}\n",
    "\\end{align}"
   ]
  },
  {
   "cell_type": "markdown",
   "metadata": {},
   "source": [
    "Comme la consigne est un échelon, $\\bar{y}\\neq 0$:"
   ]
  },
  {
   "cell_type": "markdown",
   "metadata": {},
   "source": [
    "\\begin{align}\n",
    "  \\left( \\mathbf{I} - \\mathbf{F} \\right) \\boldsymbol{\\mathscr{l}}_x - \\mathbf{g} \\mathscr{l}_u &= 0 \\\\\n",
    "  \\mathbf{c}^T \\boldsymbol{\\mathscr{l}}_x &= 1\n",
    "\\end{align}"
   ]
  },
  {
   "cell_type": "markdown",
   "metadata": {},
   "source": [
    "Ou, sous forme matricielle:"
   ]
  },
  {
   "cell_type": "markdown",
   "metadata": {},
   "source": [
    "$$\n",
    "  \\left[ \\begin{array}{cc}\n",
    "    \\mathbf{I} - \\mathbf{F} & \\mathbf{g} \\\\\n",
    "    \\mathbf{c}^T & \\mathbf{0}\n",
    "  \\end{array} \\right] \\left[ \\begin{array}{c}\n",
    "    \\boldsymbol{\\mathscr{l}}_x \\\\\n",
    "    \\mathscr{l}_u\n",
    "  \\end{array} \\right] = \\left[ \\begin{array}{c}\n",
    "    \\mathbf{0} \\\\\n",
    "    1\n",
    "  \\end{array} \\right]\n",
    "$$"
   ]
  },
  {
   "cell_type": "markdown",
   "metadata": {},
   "source": [
    "Ce système d'équations ne possède une solution unique que si le rang de la matrice et celui de la matrice augmentée vaut $n+1$."
   ]
  },
  {
   "cell_type": "markdown",
   "metadata": {},
   "source": [
    "Le schéma bloc devient alors:"
   ]
  },
  {
   "cell_type": "markdown",
   "metadata": {},
   "source": [
    "<img src=\"./Images/Control/poursuite_calcul_x_u.png\" alt=\"Schéma de principe de la poursuite d'un échelon avec calcul automatique des variables d'états et de commande au point de fonctionnement\" width=900>"
   ]
  },
  {
   "cell_type": "markdown",
   "metadata": {},
   "source": [
    "Il est possible, en effectuant quelques manipulations, de simplifier le schéma. En effet, on a:"
   ]
  },
  {
   "cell_type": "markdown",
   "metadata": {},
   "source": [
    "\\begin{align}\n",
    "  u(k) &= \\bar{u} + \\tilde{u}(k) \\\\\n",
    "  &= \\bar{u} - \\boldsymbol{\\mathscr{l}}^T \\tilde{\\mathbf{x}}(k) \\\\\n",
    "  &= \\bar{u} + \\boldsymbol{\\mathscr{l}}^T ( \\bar{\\mathbf{x}} - \\mathbf{x}(k) ) \\\\\n",
    "  &= \\mathscr{l}_u \\bar{y} + \\boldsymbol{\\mathscr{l}}^T ( \\boldsymbol{\\mathscr{l}}_x \\bar{y} - \\mathbf{x}(k) ) \\\\\n",
    "  &= \\boldsymbol{\\mathscr{l}}^T \\mathbf{x}(k) + ( \\mathscr{l}_u + \\boldsymbol{\\mathscr{l}}^T \\boldsymbol{\\mathscr{l}}_x ) \\bar{y}\n",
    "\\end{align}"
   ]
  },
  {
   "cell_type": "markdown",
   "metadata": {},
   "source": [
    "En posant $\\mathscr{l}_y = \\mathscr{l}_u + \\boldsymbol{\\mathscr{l}}^T \\boldsymbol{\\mathscr{l}}_x$, on a:"
   ]
  },
  {
   "cell_type": "markdown",
   "metadata": {},
   "source": [
    "$$ u(k) = -\\boldsymbol{\\mathscr{l}}^T \\mathbf{x}(k) + \\mathscr{l}_y \\bar{y} $$"
   ]
  },
  {
   "cell_type": "markdown",
   "metadata": {},
   "source": [
    "Le schéma devient:"
   ]
  },
  {
   "cell_type": "markdown",
   "metadata": {},
   "source": [
    "<img src=\"./Images/Control/poursuite_simplifie.png\" alt=\"Schéma de principe de la poursuite d'un échelon après simplification\" width=800>"
   ]
  },
  {
   "cell_type": "markdown",
   "metadata": {},
   "source": [
    "Le problème de cette commande est qu'elle dépend de la précision du modèle utilisé. Si le modèle possède des erreurs ou que les paramètres du système varient, même de quelques pourcents, le réglage contiendra une erreur statique. "
   ]
  },
  {
   "cell_type": "markdown",
   "metadata": {},
   "source": [
    "### Régulateur avec intégrateur"
   ]
  },
  {
   "cell_type": "markdown",
   "metadata": {},
   "source": [
    "Comme pour le régulateur PID, l'effet d'une intégrale permet d'annuler les écarts statiques pouvant apparaître à cause d'erreurs de modélisation ou d'une perturbation."
   ]
  },
  {
   "cell_type": "markdown",
   "metadata": {},
   "source": [
    "Supposons alors que le système, soumis à une perturbation $w$, soit décrit par le modèle d'état suivant:"
   ]
  },
  {
   "cell_type": "markdown",
   "metadata": {},
   "source": [
    "\\begin{align}\n",
    "  \\mathbf{x}(k+1) &= \\mathbf{F} \\mathbf{x}(k) + \\mathbf{g}\\, u(k) + \\mathbf{g}\\, w \\\\\n",
    "  y(k) &= \\mathbf{c}^T \\mathbf{x}(k)\n",
    "\\end{align}"
   ]
  },
  {
   "cell_type": "markdown",
   "metadata": {},
   "source": [
    "Une variable d'état est ajoutée, représentant l'accumulation de l'écart dans le temps:"
   ]
  },
  {
   "cell_type": "markdown",
   "metadata": {},
   "source": [
    "\\begin{align}\n",
    "  i(k+1) &= i(k) + e(k) \\\\\n",
    "  &= i(k) + y_c - y(k) \\\\\n",
    "  &= i(k) + y_c - \\mathbf{c}^T \\mathbf{x}(k)\n",
    "\\end{align}"
   ]
  },
  {
   "cell_type": "markdown",
   "metadata": {},
   "source": [
    "Le modèle d'état augmenté, c'est-à-dire auquel la nouvelle variable d'état est ajoutée, devient:"
   ]
  },
  {
   "cell_type": "markdown",
   "metadata": {},
   "source": [
    "\\begin{align}\n",
    "  \\left[ \\begin{array}{c}\n",
    "    \\mathbf{x}(k+1) \\\\\n",
    "    i(k+1)\n",
    "  \\end{array} \\right] &= \\left[ \\begin{array}{cc}\n",
    "    \\mathbf{F} & 0 \\\\\n",
    "    -\\mathbf{c}^T & 1\n",
    "  \\end{array} \\right] \\left[ \\begin{array}{c}\n",
    "    \\mathbf{x}(k) \\\\\n",
    "    i(k)\n",
    "  \\end{array} \\right] + \\left[ \\begin{array}{c}\n",
    "    \\mathbf{g} \\\\\n",
    "    0\n",
    "  \\end{array} \\right] u(k) + \\left[ \\begin{array}{c}\n",
    "    \\mathbf{0} \\\\\n",
    "    1\n",
    "  \\end{array} \\right] y_c + \\left[ \\begin{array}{c}\n",
    "    \\mathbf{g} \\\\\n",
    "    0\n",
    "  \\end{array} \\right] w \\\\\n",
    "  y(k) &= \\left[ \\begin{array}{cc}\n",
    "    \\mathbf{c}^T & 0\n",
    "  \\end{array} \\right] \\left[ \\begin{array}{c}\n",
    "    \\mathbf{x}(k) \\\\\n",
    "    i(k)\n",
    "  \\end{array} \\right]\n",
    "\\end{align}"
   ]
  },
  {
   "cell_type": "markdown",
   "metadata": {},
   "source": [
    "La loi de commande suivante est ajoutée:"
   ]
  },
  {
   "cell_type": "markdown",
   "metadata": {},
   "source": [
    "$$\n",
    "  u(k) = \\left[ \\begin{array}{cc}\n",
    "    -\\boldsymbol{\\mathscr{l}}^T & -\\mathscr{l}_i\n",
    "  \\end{array} \\right] \\left[ \\begin{array}{c}\n",
    "    \\mathbf{x}(k) \\\\\n",
    "    i(k)\n",
    "  \\end{array} \\right]\n",
    "$$"
   ]
  },
  {
   "cell_type": "markdown",
   "metadata": {},
   "source": [
    "Le modèle d'état en boucle fermée devient alors:"
   ]
  },
  {
   "cell_type": "markdown",
   "metadata": {},
   "source": [
    "\\begin{align}\n",
    "  \\left[ \\begin{array}{c}\n",
    "    \\mathbf{x}(k+1) \\\\\n",
    "    i(k+1)\n",
    "  \\end{array} \\right] &= \\left[ \\begin{array}{cc}\n",
    "    \\mathbf{F} - \\mathbf{g} \\boldsymbol{\\mathscr{l}}^T & -\\mathbf{g}\\mathscr{l}_i \\\\\n",
    "    -\\mathbf{c}^T & 1\n",
    "  \\end{array} \\right] \\left[ \\begin{array}{c}\n",
    "    \\mathbf{x}(k) \\\\\n",
    "    i(k)\n",
    "  \\end{array} \\right] + \\left[ \\begin{array}{c}\n",
    "    \\mathbf{0} \\\\\n",
    "    1\n",
    "  \\end{array} \\right] y_c + \\left[ \\begin{array}{c}\n",
    "    \\mathbf{g} \\\\\n",
    "    0\n",
    "  \\end{array} \\right] w \\\\\n",
    "  y(k) &= \\left[ \\begin{array}{cc}\n",
    "    \\mathbf{c}^T & 0\n",
    "  \\end{array} \\right] \\left[ \\begin{array}{c}\n",
    "    \\mathbf{x}(k) \\\\\n",
    "    i(k)\n",
    "  \\end{array} \\right]\n",
    "\\end{align}"
   ]
  },
  {
   "cell_type": "markdown",
   "metadata": {},
   "source": [
    "Il est alors possible de déterminer $\\boldsymbol{\\mathscr{l}}$ et $\\mathscr{l}_i$ par la formule d'Ackermann, si et seulement si le couple suivant est gouvernable:"
   ]
  },
  {
   "cell_type": "markdown",
   "metadata": {},
   "source": [
    "$$\n",
    "  \\left( \\left[ \\begin{array}{cc}\n",
    "    \\mathbf{F} & 0 \\\\\n",
    "    -\\mathbf{c}^T & 1\n",
    "  \\end{array} \\right], \\left[ \\begin{array}{c}\n",
    "    \\mathbf{g} \\\\\n",
    "    0\n",
    "  \\end{array} \\right] \\right)\n",
    "$$"
   ]
  },
  {
   "cell_type": "markdown",
   "metadata": {},
   "source": [
    "En prenant la transformée en $\\mathscr{Z}$ de l'accumulation, on obtient:"
   ]
  },
  {
   "cell_type": "markdown",
   "metadata": {},
   "source": [
    "\\begin{align}\n",
    "  zI(z) &= I(z) + E(z) \\\\\n",
    "  \\frac{I(z)}{E(z)} &= \\frac{1}{z-1}\n",
    "\\end{align}"
   ]
  },
  {
   "cell_type": "markdown",
   "metadata": {},
   "source": [
    "On retrouve le terme $z-1$ caractéristique d'une intégrale numérique."
   ]
  },
  {
   "cell_type": "markdown",
   "metadata": {},
   "source": [
    "Grâce à cette retouche, le schéma bloc complet en boucle fermée peut être représenté de la manière suivante:"
   ]
  },
  {
   "cell_type": "markdown",
   "metadata": {},
   "source": [
    "<img src=\"./Images/Control/poursuite_integrateur.png\" alt=\"Schéma bloc du système en boucle fermée avec action intégrale\" width=900>"
   ]
  },
  {
   "cell_type": "markdown",
   "metadata": {},
   "source": [
    "## Ajout d'un observateur"
   ]
  },
  {
   "cell_type": "markdown",
   "metadata": {},
   "source": [
    "La méthode de réglage mise en place jusqu'à présent suppose que le vecteur d'états est entièrement mesuré. Ceci n'est pas toujours réaliste en pratique car certaines grandeurs peuvent ne pas être mesurables par manque de moyens écononomiques ou technologiques."
   ]
  },
  {
   "cell_type": "markdown",
   "metadata": {},
   "source": [
    "Heureusement, l'*observateur* ou *estimateur* d'états permet de combler le manque de mesures en reconstituant une estimation du vecteur d'états et en appliquant les gains de rétroaction sur le vecteur estimé. Il sera démontré par la suite que la méthode permet de garder une dynamique maîtrisée malgré le manque d'informations physiques et l'ajout de l'observateur."
   ]
  },
  {
   "cell_type": "markdown",
   "metadata": {},
   "source": [
    "### Algorithme de base"
   ]
  },
  {
   "cell_type": "markdown",
   "metadata": {},
   "source": [
    "Il est supposé, dans cette partie, que le vecteur d'état n'est pas mesuré. Par contre, la commande $u(k)$ ainsi que la sortie $y(k)$ le sont."
   ]
  },
  {
   "cell_type": "markdown",
   "metadata": {},
   "source": [
    "Dans un premier temps, une estimation de $x(k)$, notée, $\\hat{x}$ est calculée en parallèle:"
   ]
  },
  {
   "cell_type": "markdown",
   "metadata": {},
   "source": [
    "$$\n",
    "  \\left\\{ \\begin{array}{l}\n",
    "    \\mathbf{x}(k+1) = \\mathbf{F} \\mathbf{x}(k) + \\mathbf{g}\\, u(k) \\\\\n",
    "    \\hat{\\mathbf{x}}(k+1) = \\mathbf{F} \\hat{\\mathbf{x}}(k) + \\mathbf{g}\\, u(k) \\\\\n",
    "    y(k) = \\mathbf{c}^T \\mathbf{x}(k)\n",
    "  \\end{array} \\right.\n",
    "$$"
   ]
  },
  {
   "cell_type": "markdown",
   "metadata": {},
   "source": [
    "La situation est représentée à la figure suivante:"
   ]
  },
  {
   "cell_type": "markdown",
   "metadata": {},
   "source": [
    "<img src=\"./Images/Control/observateur_bo.png\" alt=\"Observateur d'état en boucle ouverte\" width=600>"
   ]
  },
  {
   "cell_type": "markdown",
   "metadata": {},
   "source": [
    "L'idée est alors simplement d'appliquer la commande $u(k)$ au système et à l'observateur. La rétroaction se fera sur $\\hat{\\mathbf{x}}(k)$ au lieu de $\\mathbf{x}$."
   ]
  },
  {
   "cell_type": "markdown",
   "metadata": {},
   "source": [
    "Cependant, la méthode est trop simpliste et aucun retour n'est effectué depuis le système réel. L'observateur est donc en boucle ouverte. Cela signifie que le montage en rétroaction effectué sera très sensible aux erreurs de modélisation et à l'incertitude planant sur l'état initial."
   ]
  },
  {
   "cell_type": "markdown",
   "metadata": {},
   "source": [
    "En effet, l'erreur sur l'estimation d'état donne:"
   ]
  },
  {
   "cell_type": "markdown",
   "metadata": {},
   "source": [
    "\\begin{align}\n",
    "  \\boldsymbol{\\varepsilon}(k) &= \\mathbf{x}(k) - \\hat{\\mathbf{x}}(k) \\\\\n",
    "  \\mathbf{x}(k+1) - \\hat{\\mathbf{x}}(k+1) &= \\mathbf{F} \\mathbf{x}(k) + \\mathbf{g}\\, u(k) - \\mathbf{F} \\hat{\\mathbf{x}}(k) - \\mathbf{g}\\, u(k) \\\\\n",
    "  \\boldsymbol{\\varepsilon}(k+1) &= \\mathbf{F} \\left( \\mathbf{x}(k) - \\hat{\\mathbf{x}}(k) \\right) \\\\\n",
    "  \\boldsymbol{\\varepsilon}(k+1) &= \\mathbf{F} \\boldsymbol{\\varepsilon}(k)\n",
    "\\end{align}"
   ]
  },
  {
   "cell_type": "markdown",
   "metadata": {},
   "source": [
    "L'erreur possède donc la même dynamique que le système. Autrement dit, l'erreur d'estimation, pour $\\boldsymbol{\\varepsilon}(0) \\neq \\mathbf{0}$, peut soit s'annuler avec le même temps de réponse que le système, soit diverger si $\\mathbf{F}$ possède est valeurs propres $|\\lambda_i| > 1$."
   ]
  },
  {
   "cell_type": "markdown",
   "metadata": {},
   "source": [
    "Même dans le cas où l'erreur converge et s'annule, elle ne le fait pas suffisamment vite. En effet, l'observateur est un modèle permettant d'estimer les états. Idéalement, l'observateur ne devrait pas posséder d'erreurs. En pratique ce la est impossible et la moindre des choses est que l'erreur disparaisse rapidement par rapport au temps de réponse du système. Ceci afin que la dynamique de l'observateur soit négligeable devant celle du système. "
   ]
  },
  {
   "cell_type": "markdown",
   "metadata": {},
   "source": [
    "Comme la sortie $y(k)$ est disponible, une idée serait de s'en servir pour aider l'observateur à converger vers la valeur réelle des états. Pour cela, une rétroaction de la sortie est mise en place:"
   ]
  },
  {
   "cell_type": "markdown",
   "metadata": {},
   "source": [
    "$$\n",
    "  \\left\\{ \\begin{array}{l}\n",
    "    \\mathbf{x}(k+1) = \\mathbf{F} \\mathbf{x}(k) + \\mathbf{g}\\, u(k) \\\\\n",
    "    \\hat{\\mathbf{x}}(k+1) = \\mathbf{F} \\hat{\\mathbf{x}}(k) + \\mathbf{g}\\, u(k) + \\mathbf{K} \\left(y(k) - \\mathbf{c}^T \\hat{\\mathbf{x}}(k)\\right) \\qquad \\mathbf{K}\\, \\in\\, \\mathbb{R}^n \\\\\n",
    "    y(k) = \\mathbf{c}^T \\mathbf{x}(k)\n",
    "  \\end{array} \\right.\n",
    "$$"
   ]
  },
  {
   "cell_type": "markdown",
   "metadata": {},
   "source": [
    "La situation est représentée dans la figure suivante:"
   ]
  },
  {
   "cell_type": "markdown",
   "metadata": {},
   "source": [
    "<img src=\"./Images/Control/observateur_bf.png\" alt=\"Observateur d'état en boucle fermée\" width=600>"
   ]
  },
  {
   "cell_type": "markdown",
   "metadata": {},
   "source": [
    "Cette fois-ci, l'erreur devient:"
   ]
  },
  {
   "cell_type": "markdown",
   "metadata": {},
   "source": [
    "\\begin{align}\n",
    "  \\boldsymbol{\\varepsilon}(k+1) &= \\mathbf{x}(k+1) - \\hat{\\mathbf{x}}(k+1) \\\\\n",
    "  &= \\mathbf{F} \\mathbf{x}(k) + \\mathbf{g}\\, u(k) - \\mathbf{F} \\hat{\\mathbf{x}}(k) - \\mathbf{g}\\, u(k) - \\mathbf{K} \\left(y(k) - \\mathbf{c}^T \\hat{\\mathbf{x}}(k)\\right)\\\\\n",
    "  &= \\mathbf{F} \\mathbf{x}(k) - \\mathbf{K} y(k) - \\mathbf{F} \\hat{\\mathbf{x}}(k) + \\mathbf{K} \\mathbf{c}^T \\hat{\\mathbf{x}}(k) \\\\\n",
    "  &= \\mathbf{F} \\mathbf{x}(k) - \\mathbf{K} \\mathbf{c}^T \\mathbf{x}(k) - \\mathbf{F} \\hat{\\mathbf{x}}(k) + \\mathbf{K} \\mathbf{c}^T \\hat{\\mathbf{x}}(k) \\\\\n",
    "  &= \\left( \\mathbf{F} - \\mathbf{K} \\mathbf{c}^T \\right) \\mathbf{x}(k) - \\left( \\mathbf{F} - \\mathbf{K} \\mathbf{c}^T \\right) \\hat{\\mathbf{x}}(k) \\\\\n",
    "  &= \\left( \\mathbf{F} - \\mathbf{K} \\mathbf{c}^T \\right) \\left( \\mathbf{x}(k) - \\hat{\\mathbf{x}}(k) \\right) \\\\\n",
    "  &= \\left( \\mathbf{F} - \\mathbf{K} \\mathbf{c}^T \\right) \\boldsymbol{\\varepsilon}(k)\n",
    "\\end{align}"
   ]
  },
  {
   "cell_type": "markdown",
   "metadata": {},
   "source": [
    "L'erreur possède alors une dynamique dépendant de $\\mathbf{K}$. C'est un problème de placement des valeurs propres pouvant être résolu par la formule d'Ackermann."
   ]
  },
  {
   "cell_type": "markdown",
   "metadata": {},
   "source": [
    "En général, les valeurs propres sont choisies 3 fois plus petites que les valeurs propres choisies pour la rétroaction."
   ]
  },
  {
   "cell_type": "markdown",
   "metadata": {},
   "source": [
    "#### Théorème:\n",
    "\n",
    "Etant donné un polynôme quelconque $p(z) = z^n + a_1 z^{n-1} + \\dots + a_n,\\, a_i\\, \\in\\, \\mathbb{R},\\, i=1, 2, \\dots, n$, il existe un vecteur $\\mathbf{K}\\, \\in\\, \\mathbb{R}^n$ tel que le polynôme caractéristique de la matrice $\\mathbf{F} - \\mathbf{K} \\mathbf{c}^T$ soit $p(z)$ si est seulement si le couple $(\\mathbf{F}, \\mathbf{c}^T)$ est observable."
   ]
  },
  {
   "cell_type": "markdown",
   "metadata": {},
   "source": [
    "---"
   ]
  },
  {
   "cell_type": "markdown",
   "metadata": {},
   "source": [
    "La démonstration se base sur la dualité existante entre la gouvernabilité et l'observabilité. En faisant un parallèle avec le calcul du vecteur des gains de rétroaction $\\boldsymbol{\\mathscr{l}}$, la matrice $\\mathbf{F}^T - \\mathbf{c}\\, \\mathbf{K}^T$ possède une solution telle que le polynôme caractéristique soit $p(z)$ si le couple $(\\mathbf{F}^T, \\mathbf{c})$ est gouvernable. Comme le polynôme caractéristique d'une matrice est le même que celui de sa transposée, et en exploitant le théorème de dualité, le polynôme caractéristique $p(z)$ peut être imposé à la matrice $\\mathbf{F} - \\mathbf{K} \\mathbf{c}^T$ si le couple $(\\mathbf{F}, \\mathbf{c}^T)$ est observable."
   ]
  },
  {
   "cell_type": "markdown",
   "metadata": {},
   "source": [
    "En appliquant la formule d'Ackermann sur le couple $\\left(\\mathbf{F}^T - \\mathbf{c}\\, \\mathbf{K}^T\\right)$, on a:"
   ]
  },
  {
   "cell_type": "markdown",
   "metadata": {},
   "source": [
    "$$ \n",
    "  \\mathbf{K}^T = \\left[ \\begin{array}{ccccc}\n",
    "    0 & 0 & \\dots & 0 & 1\n",
    "  \\end{array} \\right] \\boldsymbol{\\mathcal{C}}^{-1} p(\\mathbf{F}^T)\n",
    "$$"
   ]
  },
  {
   "cell_type": "markdown",
   "metadata": {},
   "source": [
    "La matrice de gouvernabilité de ce couple est donnée par:"
   ]
  },
  {
   "cell_type": "markdown",
   "metadata": {},
   "source": [
    "$$ \n",
    "  \\boldsymbol{\\mathcal{C}} = \\left[ \\begin{array}{cccc}\n",
    "    \\mathbf{c} & \\mathbf{F}^T \\mathbf{c} & \\dots & \\left(\\mathbf{F}^T\\right)^{n-1} \\mathbf{c}\n",
    "  \\end{array} \\right]\n",
    "$$"
   ]
  },
  {
   "cell_type": "markdown",
   "metadata": {},
   "source": [
    "Afin de calculer $\\mathbf{K}$ directement, prenons la transposée de cette expression:"
   ]
  },
  {
   "cell_type": "markdown",
   "metadata": {},
   "source": [
    "\\begin{align} \n",
    "  \\mathbf{K} &= p(\\mathbf{F}^T)^T \\left(\\boldsymbol{\\mathcal{C}}^{-1}\\right)^T \\left[ \\begin{array}{ccccc}\n",
    "    0 & 0 & \\dots & 0 & 1\n",
    "  \\end{array} \\right]^T \\\\\n",
    "  &= p(\\mathbf{F}) \\left(\\boldsymbol{\\mathcal{C}}^T\\right)^{-1} \\left[ \\begin{array}{c}\n",
    "    0 \\\\ 0 \\\\ \\dots \\\\ 0 \\\\ 1\n",
    "  \\end{array} \\right] \\\\\n",
    "  &= p(\\mathbf{F}) \\left[ \\begin{array}{c}\n",
    "    \\mathbf{c}^T \\\\ \\mathbf{c}^T \\mathbf{F} \\\\ \\vdots \\\\ \\mathbf{c}^T \\mathbf{F}^{n-1}\n",
    "  \\end{array} \\right]^{-1} \\left[ \\begin{array}{c}\n",
    "    0 \\\\ 0 \\\\ \\vdots \\\\ 0 \\\\ 1\n",
    "  \\end{array} \\right] \\\\\n",
    "\\end{align} "
   ]
  },
  {
   "cell_type": "markdown",
   "metadata": {},
   "source": [
    "La matrice du milieu est clairement la matrice d'observabilité du système. La formule d'Ackermann, appliquée à l'observateur, peut alors être écrite ainsi:"
   ]
  },
  {
   "cell_type": "markdown",
   "metadata": {},
   "source": [
    "$$ \n",
    "  \\mathbf{K} = p(\\mathbf{F}) \\boldsymbol{\\mathcal{O}}^{-1} \\left[ \\begin{array}{c}\n",
    "    0 \\\\ 0 \\\\ \\dots \\\\ 0 \\\\ 1\n",
    "  \\end{array} \\right]\n",
    "$$"
   ]
  },
  {
   "cell_type": "markdown",
   "metadata": {},
   "source": [
    "A ce stade, un observateur d'état peut être mis en place. Cependant, l'équation d'état de l'observateur montre que l'état est estimé et corrigé par la mesure de la sortie $y$ à l'instant précédent. Ceci crée un retard d'une période d'échantillonnage inutile entre la mesure et le calcul de la commande."
   ]
  },
  {
   "cell_type": "markdown",
   "metadata": {},
   "source": [
    "Une autre manière de procéder serait de remplacer le terme $y(k) - \\mathbf{c}^T \\hat{\\mathbf{x}}(k)$ par $y(k+1) - \\mathbf{c}^T \\hat{\\mathbf{x}}(k+1)$. On obtient alors:"
   ]
  },
  {
   "cell_type": "markdown",
   "metadata": {},
   "source": [
    "\\begin{align}\n",
    "  \\hat{\\mathbf{x}}(k+1) &= \\mathbf{F} \\hat{\\mathbf{x}}(k) + \\mathbf{g}\\, u(k) + \\mathbf{K} \\left(y(k+1) - \\mathbf{c}^T \\hat{\\mathbf{x}}(k+1)\\right) \\\\\n",
    "  &= \\mathbf{F} \\hat{\\mathbf{x}}(k) + \\mathbf{g}\\, u(k) + \\mathbf{K} \\left(y(k+1) - \\mathbf{c}^T \\mathbf{F} \\hat{\\mathbf{x}}(k) - \\mathbf{c}^T\\mathbf{g}\\, u(k)\\right) \\\\\n",
    "  &= \\left(\\mathbf{I} - \\mathbf{K} \\mathbf{c}^T\\right) \\mathbf{F} \\hat{\\mathbf{x}}(k) + \\left(\\mathbf{I} - \\mathbf{K} \\mathbf{c}^T\\right) \\mathbf{g}\\, u(k) + \\mathbf{K}\\, y(k+1)\n",
    "\\end{align}"
   ]
  },
  {
   "cell_type": "markdown",
   "metadata": {},
   "source": [
    "Cette forme est appelée filtre de Kalman stationnaire."
   ]
  },
  {
   "cell_type": "markdown",
   "metadata": {},
   "source": [
    "L'erreur devient, dans ce cas:"
   ]
  },
  {
   "cell_type": "markdown",
   "metadata": {},
   "source": [
    "\\begin{align}\n",
    "  \\boldsymbol{\\varepsilon}(k+1) &= \\mathbf{x}(k+1) - \\hat{\\mathbf{x}}(k+1) \\\\\n",
    "  &= \\mathbf{F} \\mathbf{x}(k) + \\mathbf{g}\\, u(k) - \\left(\\mathbf{I} - \\mathbf{K} \\mathbf{c}^T\\right) \\mathbf{F} \\hat{\\mathbf{x}}(k) - \\left(\\mathbf{I} - \\mathbf{K} \\mathbf{c}^T\\right) \\mathbf{g}\\, u(k) - \\mathbf{K}\\, y(k+1) \\\\\n",
    "  &= \\mathbf{F} \\mathbf{x}(k) + \\mathbf{g}\\, u(k) - \\left(\\mathbf{I} - \\mathbf{K} \\mathbf{c}^T\\right) \\mathbf{F} \\hat{\\mathbf{x}}(k) - \\left(\\mathbf{I} - \\mathbf{K} \\mathbf{c}^T\\right) \\mathbf{g}\\, u(k) - \\mathbf{K}\\, \\mathbf{c}^T\\mathbf{x}(k+1) \\\\\n",
    "  &= \\mathbf{F} \\mathbf{x}(k) + \\mathbf{g}\\, u(k) - \\left(\\mathbf{I} - \\mathbf{K} \\mathbf{c}^T\\right) \\mathbf{F} \\hat{\\mathbf{x}}(k) - \\left(\\mathbf{I} - \\mathbf{K} \\mathbf{c}^T\\right) \\mathbf{g}\\, u(k) - \\mathbf{K}\\, \\mathbf{c}^T\\mathbf{F}\\mathbf{x}(k) - \\mathbf{K}\\, \\mathbf{c}^T\\mathbf{g}\\, u(k) \\\\\n",
    "  &= \\left(\\mathbf{I} - \\mathbf{K} \\mathbf{c}^T\\right) \\mathbf{F} \\mathbf{x}(k) - \\left(\\mathbf{I} - \\mathbf{K} \\mathbf{c}^T\\right) \\mathbf{F} \\hat{\\mathbf{x}}(k) \\\\\n",
    "  &= \\left(\\mathbf{I} - \\mathbf{K} \\mathbf{c}^T\\right) \\mathbf{F} \\left( \\mathbf{x}(k) - \\hat{\\mathbf{x}}(k) \\right) \\\\\n",
    "  &= \\left( \\mathbf{I} - \\mathbf{K} \\mathbf{c}^T \\right) \\mathbf{F} \\boldsymbol{\\varepsilon}(k)\n",
    "\\end{align}"
   ]
  },
  {
   "cell_type": "markdown",
   "metadata": {},
   "source": [
    "Il fau alors, cette fois-ci, imposer les valeurs propres de la matrice $\\left( \\mathbf{I} - \\mathbf{K} \\mathbf{c}^T \\right) \\mathbf{F}$ tel que la dynamique de l'observateur soit 3 fois plus rapide que celle du système en boucle fermée."
   ]
  },
  {
   "cell_type": "markdown",
   "metadata": {},
   "source": [
    "La formule d'Ackermann devient alors, sachant que $\\left( \\mathbf{I} - \\mathbf{K} \\mathbf{c}^T \\right) \\mathbf{F} = \\mathbf{F} - \\mathbf{K} \\mathbf{c}^T \\mathbf{F}$:"
   ]
  },
  {
   "cell_type": "markdown",
   "metadata": {},
   "source": [
    "\\begin{align} \n",
    "  \\mathbf{K} &= p(\\mathbf{F}) \\left[ \\begin{array}{c}\n",
    "    \\mathbf{c}^T \\mathbf{F} \\\\ \\mathbf{c}^T \\mathbf{F}^2 \\\\ \\vdots \\\\ \\mathbf{c}^T \\mathbf{F}^n\n",
    "  \\end{array} \\right]^{-1} \\left[ \\begin{array}{c}\n",
    "    0 \\\\ 0 \\\\ \\vdots \\\\ 0 \\\\ 1\n",
    "  \\end{array} \\right] \\\\\n",
    "  &= p(\\mathbf{F}) \\left( \\left[ \\begin{array}{c}\n",
    "    \\mathbf{c}^T \\\\ \\mathbf{c}^T \\mathbf{F} \\\\ \\vdots \\\\ \\mathbf{c}^T \\mathbf{F}^{n-1}\n",
    "  \\end{array} \\right] \\mathbf{F} \\right) ^{-1} \\left[ \\begin{array}{c}\n",
    "    0 \\\\ 0 \\\\ \\vdots \\\\ 0 \\\\ 1\n",
    "  \\end{array} \\right] \\\\\n",
    "  &= p(\\mathbf{F}) \\left( \\boldsymbol{\\mathcal{O}}\\mathbf{F} \\right)^{-1} \\left[ \\begin{array}{c}\n",
    "    0 \\\\ 0 \\\\ \\vdots \\\\ 0 \\\\ 1\n",
    "  \\end{array} \\right]\n",
    "\\end{align}"
   ]
  },
  {
   "cell_type": "markdown",
   "metadata": {},
   "source": [
    "### Théorème de séparation"
   ]
  },
  {
   "cell_type": "markdown",
   "metadata": {},
   "source": [
    "A ce stade, une rétroaction peut être mise en place, donnant la structure représentée à la figure suivante:"
   ]
  },
  {
   "cell_type": "markdown",
   "metadata": {},
   "source": [
    "<img src=\"./Images/Control/observateur_bf_retroaction.png\" alt=\"Observateur d'état en boucle fermée et rétroaction\" width=800>"
   ]
  },
  {
   "cell_type": "markdown",
   "metadata": {},
   "source": [
    "Dans le cas d'une implantation standard, le schéma devient:"
   ]
  },
  {
   "cell_type": "markdown",
   "metadata": {},
   "source": [
    "<img src=\"./Images/Control/observateur_bf_retroaction_standard.png\" alt=\"Observateur d'état en boucle fermée et rétroaction; implantation standard\" width=800>"
   ]
  },
  {
   "cell_type": "markdown",
   "metadata": {},
   "source": [
    "Le théorème suivant permet d'affirmer que le problème de placement des valeurs propres de la rétroaction d'états est séparé de celui de l'observateur. Cela signifie donc que les valeurs propres du système en boucle fermée avec observateur sont l'union des valeurs propres de la rétroaction et de l'observateur."
   ]
  },
  {
   "cell_type": "markdown",
   "metadata": {},
   "source": [
    "### Théorème:\n",
    "\n",
    "Soient le système gouvernable et observable, l'observateur d'état et la rétroaction suivants:\n",
    "\n",
    "\\begin{align}\n",
    "  & \\mathbf{x}(k+1) = \\mathbf{F} \\mathbf{x}(k) + \\mathbf{g}\\, u(k) \\qquad \\mathbf{x}(0) \\neq \\mathbf{0} \\\\\n",
    "  & y(k) = \\mathbf{c}^T \\mathbf{x}(k) \\\\\n",
    "  & \\hat{\\mathbf{x}}(k+1) = \\mathbf{F} \\hat{\\mathbf{x}}(k) + \\mathbf{g}\\, u(k) + \\mathbf{K} \\left( y(k) - \\mathbf{c}^T \\hat{\\mathbf{x}}(k) \\right) \\\\\n",
    "  & u(k) = - \\boldsymbol{\\mathscr{l}}^T \\hat{\\mathbf{x}}(k)\n",
    "\\end{align}\n",
    "\n",
    "Alors le polynôme caractéristique de ce système composite est égal au produit des polynômes caractéristiques des matrices $\\mathbf{F} - \\mathbf{g} \\boldsymbol{\\mathscr{l}}^T$ et $\\mathbf{F} - \\mathbf{K} \\mathbf{c}^T$."
   ]
  },
  {
   "cell_type": "markdown",
   "metadata": {},
   "source": [
    "---"
   ]
  },
  {
   "cell_type": "markdown",
   "metadata": {},
   "source": [
    "Afin de démontrer ce théorème, la substitution de la loi de commande dans les équations d'états du système et de l'observateur donne:"
   ]
  },
  {
   "cell_type": "markdown",
   "metadata": {},
   "source": [
    "\\begin{align}\n",
    "  & \\mathbf{x}(k+1) = \\mathbf{F} \\mathbf{x}(k) - \\mathbf{g}\\, \\boldsymbol{\\mathscr{l}}^T \\hat{\\mathbf{x}}(k) \\\\\n",
    "  & \\hat{\\mathbf{x}}(k+1) = \\mathbf{K} \\mathbf{c}^T \\mathbf{x}(k) + \\left(\\mathbf{F} - \\mathbf{g}\\, \\boldsymbol{\\mathscr{l}}^T - \\mathbf{K} \\mathbf{c}^T \\right)  \\hat{\\mathbf{x}}(k)\n",
    "\\end{align}"
   ]
  },
  {
   "cell_type": "markdown",
   "metadata": {},
   "source": [
    "Le modèle d'état complet donne alors:"
   ]
  },
  {
   "cell_type": "markdown",
   "metadata": {},
   "source": [
    "\\begin{align}\n",
    "  & \\left[ \\begin{array}{c}\n",
    "    \\mathbf{x}(k+1) \\\\ \\hat{\\mathbf{x}}(k+1)\n",
    "  \\end{array} \\right] = \\left[ \\begin{array}{cc}\n",
    "    \\mathbf{F} & -\\mathbf{g}\\, \\boldsymbol{\\mathscr{l}}^T \\\\\n",
    "    \\mathbf{K} \\mathbf{c}^T & \\mathbf{F} - \\mathbf{g}\\, \\boldsymbol{\\mathscr{l}}^T - \\mathbf{K} \\mathbf{c}^T\n",
    "  \\end{array} \\right] \\left[ \\begin{array}{c}\n",
    "    \\mathbf{x}(k) \\\\ \\hat{\\mathbf{x}}(k)\n",
    "  \\end{array} \\right] \\\\\n",
    "  & y(k) = \\left[ \\begin{array}{cc}\n",
    "    \\mathbf{c}^T & \\mathbf{0}^T\n",
    "  \\end{array} \\right] \\left[ \\begin{array}{c}\n",
    "    \\mathbf{x}(k) \\\\ \\hat{\\mathbf{x}}(k)\n",
    "  \\end{array} \\right]\n",
    "\\end{align}"
   ]
  },
  {
   "cell_type": "markdown",
   "metadata": {},
   "source": [
    "Cette écriture ne permettant pas de voir le lien avec les valeurs propres de chaque élément pris indépendamment, un changement de variable est effectué afin de faire apparaître l'erreur d'estimation:"
   ]
  },
  {
   "cell_type": "markdown",
   "metadata": {},
   "source": [
    "$$\n",
    "  \\left[ \\begin{array}{c}\n",
    "    \\mathbf{x}(k) \\\\ \\hat{\\mathbf{x}}(k)\n",
    "  \\end{array} \\right] = \\left[ \\begin{array}{cc}\n",
    "    \\mathbf{I} & \\mathbf{0} \\\\\n",
    "    \\mathbf{I} & -\\mathbf{I}\n",
    "  \\end{array} \\right] \\left[ \\begin{array}{c}\n",
    "    \\mathbf{x}(k) \\\\ \\boldsymbol{\\varepsilon}(k)\n",
    "  \\end{array} \\right]\n",
    "$$"
   ]
  },
  {
   "cell_type": "markdown",
   "metadata": {},
   "source": [
    "En appliquant cette transformation, l'équation d'état devient:"
   ]
  },
  {
   "cell_type": "markdown",
   "metadata": {},
   "source": [
    "\\begin{align}\n",
    "  \\left[ \\begin{array}{c}\n",
    "    \\mathbf{x}(k+1) \\\\ \\boldsymbol{\\varepsilon}(k+1)\n",
    "  \\end{array} \\right] &= \\left[ \\begin{array}{cc}\n",
    "    \\mathbf{I} & \\mathbf{0} \\\\\n",
    "    \\mathbf{I} & -\\mathbf{I}\n",
    "  \\end{array} \\right]^{-1} \\left[ \\begin{array}{cc}\n",
    "    \\mathbf{F} & -\\mathbf{g}\\, \\boldsymbol{\\mathscr{l}}^T \\\\\n",
    "    \\mathbf{K} \\mathbf{c}^T & \\mathbf{F} - \\mathbf{g}\\, \\boldsymbol{\\mathscr{l}}^T - \\mathbf{K} \\mathbf{c}^T\n",
    "  \\end{array} \\right] \\left[ \\begin{array}{cc}\n",
    "    \\mathbf{I} & \\mathbf{0} \\\\\n",
    "    \\mathbf{I} & -\\mathbf{I}\n",
    "  \\end{array} \\right] \\left[ \\begin{array}{c}\n",
    "    \\mathbf{x}(k) \\\\ \\boldsymbol{\\varepsilon}(k)\n",
    "  \\end{array} \\right] \\\\\n",
    "  &= \\left[ \\begin{array}{cc}\n",
    "    \\mathbf{I} & \\mathbf{0} \\\\\n",
    "    \\mathbf{I} & -\\mathbf{I}\n",
    "  \\end{array} \\right] \\left[ \\begin{array}{cc}\n",
    "    \\mathbf{F} & -\\mathbf{g}\\, \\boldsymbol{\\mathscr{l}}^T \\\\\n",
    "    \\mathbf{K} \\mathbf{c}^T & \\mathbf{F} - \\mathbf{g}\\, \\boldsymbol{\\mathscr{l}}^T - \\mathbf{K} \\mathbf{c}^T\n",
    "  \\end{array} \\right] \\left[ \\begin{array}{cc}\n",
    "    \\mathbf{I} & \\mathbf{0} \\\\\n",
    "    \\mathbf{I} & -\\mathbf{I}\n",
    "  \\end{array} \\right] \\left[ \\begin{array}{c}\n",
    "    \\mathbf{x}(k) \\\\ \\boldsymbol{\\varepsilon}(k)\n",
    "  \\end{array} \\right] \\\\\n",
    "  &= \\left[ \\begin{array}{cc}\n",
    "    \\mathbf{I} & \\mathbf{0} \\\\\n",
    "    \\mathbf{I} & -\\mathbf{I}\n",
    "  \\end{array} \\right] \\left[ \\begin{array}{cc}\n",
    "    \\mathbf{F} -\\mathbf{g}\\, \\boldsymbol{\\mathscr{l}}^T & \\mathbf{g}\\, \\boldsymbol{\\mathscr{l}}^T \\\\\n",
    "    \\mathbf{F} - \\mathbf{g}\\, \\boldsymbol{\\mathscr{l}}^T & -\\mathbf{F} + \\mathbf{g}\\, \\boldsymbol{\\mathscr{l}}^T + \\mathbf{K} \\mathbf{c}^T\n",
    "  \\end{array} \\right] \\left[ \\begin{array}{c}\n",
    "    \\mathbf{x}(k) \\\\ \\boldsymbol{\\varepsilon}(k)\n",
    "  \\end{array} \\right] \\\\\n",
    "  &= \\left[ \\begin{array}{cc}\n",
    "    \\mathbf{F} -\\mathbf{g}\\, \\boldsymbol{\\mathscr{l}}^T & \\mathbf{g}\\, \\boldsymbol{\\mathscr{l}}^T \\\\\n",
    "    \\mathbf{0} & \\mathbf{F} - \\mathbf{K} \\mathbf{c}^T\n",
    "  \\end{array} \\right] \\left[ \\begin{array}{c}\n",
    "    \\mathbf{x}(k) \\\\ \\boldsymbol{\\varepsilon}(k)\n",
    "  \\end{array} \\right] \\\\\n",
    "\\end{align}"
   ]
  },
  {
   "cell_type": "markdown",
   "metadata": {},
   "source": [
    "Les valeurs propres étant les racines du polynôme caractéristique, il est aisé de les obtenir en calculant le déterminant de la matrice de transition obtenue:"
   ]
  },
  {
   "cell_type": "markdown",
   "metadata": {},
   "source": [
    "\\begin{align}\n",
    "  \\det \\left( z \\mathbf{I} - \\left[ \\begin{array}{cc}\n",
    "    \\mathbf{F} -\\mathbf{g}\\, \\boldsymbol{\\mathscr{l}}^T & \\mathbf{g}\\, \\boldsymbol{\\mathscr{l}}^T \\\\\n",
    "    \\mathbf{0} & \\mathbf{F} - \\mathbf{K} \\mathbf{c}^T\n",
    "  \\end{array} \\right] \\right) &= \\det \\left[ \\begin{array}{cc}\n",
    "    z \\mathbf{I} - \\left( \\mathbf{F} - \\mathbf{g}\\, \\boldsymbol{\\mathscr{l}}^T \\right) & \\mathbf{g}\\, \\boldsymbol{\\mathscr{l}}^T \\\\\n",
    "    \\mathbf{0} & z \\mathbf{I} - \\left( \\mathbf{F} - \\mathbf{K} \\mathbf{c}^T \\right)\n",
    "  \\end{array} \\right] \\\\\n",
    "  &= \\det \\left( z \\mathbf{I} - \\left( \\mathbf{F} - \\mathbf{g}\\, \\boldsymbol{\\mathscr{l}}^T \\right) \\right) \\det \\left( z \\mathbf{I} - \\left( \\mathbf{F} - \\mathbf{K} \\mathbf{c}^T \\right) \\right)\n",
    "\\end{align}"
   ]
  },
  {
   "cell_type": "markdown",
   "metadata": {},
   "source": [
    "Le polynôme caractéristique étant le produit des polynômes caractéristiques de la rétroaction et de l'observateur, les valeurs propres de l'ensemble du système sont bien l'union des valeurs propres de chacun des deux systèmes pris indépendamment."
   ]
  }
 ],
 "metadata": {
  "kernelspec": {
   "display_name": "Python 3",
   "language": "python",
   "name": "python3"
  },
  "language_info": {
   "codemirror_mode": {
    "name": "ipython",
    "version": 3
   },
   "file_extension": ".py",
   "mimetype": "text/x-python",
   "name": "python",
   "nbconvert_exporter": "python",
   "pygments_lexer": "ipython3",
   "version": "3.7.3"
  }
 },
 "nbformat": 4,
 "nbformat_minor": 4
}
