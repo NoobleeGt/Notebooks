{
 "cells": [
  {
   "cell_type": "markdown",
   "metadata": {},
   "source": [
    "# Synthèse des régulateurs dans l'espace d'état"
   ]
  },
  {
   "cell_type": "markdown",
   "metadata": {},
   "source": [
    "L'objectif de ce chapitre est de mettre en place une commande par retour d'états pour un système SISO, avec l'ajout d'un observateur si nécessaire."
   ]
  },
  {
   "cell_type": "markdown",
   "metadata": {},
   "source": [
    "## Problème de base"
   ]
  },
  {
   "cell_type": "markdown",
   "metadata": {},
   "source": [
    "## Commande par placement des valeurs propres"
   ]
  },
  {
   "cell_type": "markdown",
   "metadata": {},
   "source": [
    "L'objectif de cette commande est d'imposer les valeurs propres du système en boucle fermée."
   ]
  },
  {
   "cell_type": "markdown",
   "metadata": {},
   "source": [
    "### Formule d'Ackermann"
   ]
  },
  {
   "cell_type": "markdown",
   "metadata": {},
   "source": [
    "Soit le système échantillonné décrit par l'équation d'état suivante:"
   ]
  },
  {
   "cell_type": "markdown",
   "metadata": {},
   "source": [
    "$$ \\mathbf{x}(k+1) = \\mathbf{F} \\mathbf{x}(k) + \\mathbf{g}\\, u(k) $$"
   ]
  },
  {
   "cell_type": "markdown",
   "metadata": {},
   "source": [
    "Comme le système est supposé SISO, $u(k)\\, \\in\\, \\mathbb{R}$ et $\\mathbf{g}\\, \\in\\, \\mathbb{R}^n$."
   ]
  },
  {
   "cell_type": "markdown",
   "metadata": {},
   "source": [
    "Une loi de commande linéaire par retour d'état est décrite selon l'équation suivante:"
   ]
  },
  {
   "cell_type": "markdown",
   "metadata": {},
   "source": [
    "$$ u(k) = -\\boldsymbol{\\mathscr{l}}^T\\, \\mathbf{x}(k) \\qquad \\boldsymbol{\\mathscr{l}}\\, \\in\\, \\mathbb{R}^n $$"
   ]
  },
  {
   "cell_type": "markdown",
   "metadata": {},
   "source": [
    "La commande est donc une combinaison linéaire des états du système."
   ]
  },
  {
   "cell_type": "markdown",
   "metadata": {},
   "source": [
    "L'équation d'état peut alors être réécrite de la manière suivante:"
   ]
  },
  {
   "cell_type": "markdown",
   "metadata": {},
   "source": [
    "\\begin{align}\n",
    "  \\mathbf{x}(k+1) &= \\mathbf{F} \\mathbf{x}(k) - \\mathbf{g} \\boldsymbol{\\mathscr{l}} \\mathbf{x}(k) \\\\\n",
    "  &= \\left( \\mathbf{F} - \\mathbf{g} \\boldsymbol{\\mathscr{l}}^T \\right) \\mathbf{x}(k)\n",
    "\\end{align}"
   ]
  },
  {
   "cell_type": "markdown",
   "metadata": {},
   "source": [
    "L'ensemble du système et de sa commande peut être vu comme un nouveau système en boucle ouverte ne possédant aucune entrée et évoluant selon la nouvelle matrice de transition discrète $\\mathbf{F} - \\mathbf{g} \\boldsymbol{\\mathscr{l}}^T$."
   ]
  },
  {
   "cell_type": "markdown",
   "metadata": {},
   "source": [
    "Les pôles du système en boucle fermée sont alors les valeurs propres de cette matrice, obtenues en annulant le déterminant $\\det \\left(z\\mathbf{I} - \\mathbf{F} + \\mathbf{g} \\boldsymbol{\\mathscr{l}}^T \\right)$."
   ]
  },
  {
   "cell_type": "markdown",
   "metadata": {},
   "source": [
    "Les 2 théorèmes suivants permettent de déterminer si le vecteur $\\boldsymbol{\\mathscr{l}}$ existe, et, dans ce cas, comment le déterminer."
   ]
  },
  {
   "cell_type": "markdown",
   "metadata": {},
   "source": [
    "#### Théorème:\n",
    "\n",
    "Etant donné un polynôme quelconque $p(z) = z^n + a_1 z^{n-1} + \\dots + a_n,\\, a_i\\, \\in\\, \\mathbb{R},\\, i=1, 2, \\dots, n$, il existe un vecteur $\\boldsymbol{\\mathscr{l}}\\, \\in\\, \\mathbb{R}^n$ tel que le polynôme caractéristique de la matrice $\\mathbf{F} - \\mathbf{g} \\boldsymbol{\\mathscr{l}}^T$ soit $p(z)$ si est seulement si le couple $(\\mathbf{F}, \\mathbf{g})$ est gouvernable."
   ]
  },
  {
   "cell_type": "markdown",
   "metadata": {},
   "source": [
    "---"
   ]
  },
  {
   "cell_type": "markdown",
   "metadata": {},
   "source": [
    "La démonstration de ce théorème est très simple et fait l'objet des lignes qui suivent."
   ]
  },
  {
   "cell_type": "markdown",
   "metadata": {},
   "source": [
    "Si le couple $(\\mathbf{F}, \\mathbf{g})$ est gouvernable, alors le système peut être mis sous la forme canonique de gouvernabilité."
   ]
  },
  {
   "cell_type": "markdown",
   "metadata": {},
   "source": [
    "\\begin{align}\n",
    "  \\mathbf{x}'(k+1) &= \\mathbf{M} \\mathbf{F} \\mathbf{M}^{-1} \\mathbf{x}'(k) + \\mathbf{M} \\mathbf{g}\\, u(k) \\\\\n",
    "  &= \\left[ \\begin{array}{ccccc}\n",
    "    0 & 1 & 0 & \\dots & 0 \\\\\n",
    "    0 & 0 & 1 & \\dots & 0 \\\\\n",
    "    \\vdots & \\vdots & \\vdots & \\dots & \\vdots \\\\\n",
    "    0 & 0 & 0 & \\dots & 1 \\\\\n",
    "    -p_n & -p_{n-1} & -p_{n-2} & \\dots & -p_1\n",
    "  \\end{array} \\right]\n",
    "  \\mathbf{x}'(k) + \\left[ \\begin{array}{ccccc}\n",
    "    0 \\\\\n",
    "    0 \\\\\n",
    "    0 \\\\\n",
    "    \\vdots \\\\\n",
    "    1\n",
    "  \\end{array} \\right] u(k) \\\\\n",
    "\\end{align}"
   ]
  },
  {
   "cell_type": "markdown",
   "metadata": {},
   "source": [
    "Définissons la loi de commande:"
   ]
  },
  {
   "cell_type": "markdown",
   "metadata": {},
   "source": [
    "$$ u(k) = \\boldsymbol{\\mathscr{l}}'^T \\mathbf{x}'(k) $$"
   ]
  },
  {
   "cell_type": "markdown",
   "metadata": {},
   "source": [
    "L'équation d'état en boucle fermée devient alors:"
   ]
  },
  {
   "cell_type": "markdown",
   "metadata": {},
   "source": [
    "\\begin{align}\n",
    "  \\mathbf{x}'(k+1) &= \\mathbf{M} \\mathbf{F} \\mathbf{M}^{-1} \\mathbf{x}'(k) - \\mathbf{M} \\mathbf{g}\\, \\boldsymbol{\\mathscr{l}}'^T \\mathbf{x}'(k) \\\\\n",
    "  &= \\left[ \\begin{array}{ccccc}\n",
    "    0 & 1 & 0 & \\dots & 0 \\\\\n",
    "    0 & 0 & 1 & \\dots & 0 \\\\\n",
    "    \\vdots & \\vdots & \\vdots & \\dots & \\vdots \\\\\n",
    "    0 & 0 & 0 & \\dots & 1 \\\\\n",
    "    -p_n & -p_{n-1} & -p_{n-2} & \\dots & -p_1\n",
    "  \\end{array} \\right]\n",
    "  \\mathbf{x}'(k) - \\left[ \\begin{array}{ccccc}\n",
    "    0 \\\\\n",
    "    0 \\\\\n",
    "    0 \\\\\n",
    "    \\vdots \\\\\n",
    "    1\n",
    "  \\end{array} \\right] \\left[ \\begin{array}{ccccc}\n",
    "    \\mathscr{l}_1' & \\mathscr{l}_2' & \\dots & \\mathscr{l}_{n-1}' &  \\mathscr{l}_n'\n",
    "  \\end{array} \\right] \\mathbf{x}'(k) \\\\\n",
    "  &= \\left[ \\begin{array}{ccccc}\n",
    "    0 & 1 & 0 & \\dots & 0 \\\\\n",
    "    0 & 0 & 1 & \\dots & 0 \\\\\n",
    "    \\vdots & \\vdots & \\vdots & \\dots & \\vdots \\\\\n",
    "    0 & 0 & 0 & \\dots & 1 \\\\\n",
    "    -(p_n+\\mathscr{l}_1') & -(p_{n-1}+\\mathscr{l}_2') & -(p_{n-2}+\\mathscr{l}_3') & \\dots & -(p_1+\\mathscr{l}_n')\n",
    "  \\end{array} \\right]\n",
    "  \\mathbf{x}'(k)\n",
    "\\end{align}"
   ]
  },
  {
   "cell_type": "markdown",
   "metadata": {},
   "source": [
    "Comme cette matrice est compagne, on en déduit que son polynôme caractéristique est le suivant:"
   ]
  },
  {
   "cell_type": "markdown",
   "metadata": {},
   "source": [
    "$$ z^n + (p_1+\\mathscr{l}_n') z^{n-1} + (p_2+\\mathscr{l}_{n-1}') z^{n-2} + \\dots + (p_n+\\mathscr{l}_1') $$"
   ]
  },
  {
   "cell_type": "markdown",
   "metadata": {},
   "source": [
    "Afin d'imposer le polynôme caractéristique en boucle fermée suivant:"
   ]
  },
  {
   "cell_type": "markdown",
   "metadata": {},
   "source": [
    "$$ p(z) = z^n + a_1 z^{n-1} + \\dots + a_n $$"
   ]
  },
  {
   "cell_type": "markdown",
   "metadata": {},
   "source": [
    "Il suffit de soustraire les 2 polynômes, pour obtenir les relations suivantes:"
   ]
  },
  {
   "cell_type": "markdown",
   "metadata": {},
   "source": [
    "\\begin{align}\n",
    "  \\mathscr{l}_n' &= a_1 - p_1 \\\\\n",
    "  \\mathscr{l}_{n-1}' &= a_2 - p_2 \\\\\n",
    "  &\\vdots \\\\\n",
    "  \\mathscr{l}_1' &= a_n - p_n \\\\\n",
    "\\end{align}"
   ]
  },
  {
   "cell_type": "markdown",
   "metadata": {},
   "source": [
    "Que l'on pourrait résumé par la relation:"
   ]
  },
  {
   "cell_type": "markdown",
   "metadata": {},
   "source": [
    "$$ \\mathscr{l}_i' = a_{n-i+1} - p_{n-i+1} \\qquad i = 1, 2, \\dots, n $$"
   ]
  },
  {
   "cell_type": "markdown",
   "metadata": {},
   "source": [
    "La loi de commande, dans cette nouvelle base, subit la transformation suivante:"
   ]
  },
  {
   "cell_type": "markdown",
   "metadata": {},
   "source": [
    "$$ \\boldsymbol{\\mathscr{l}}'^T = \\boldsymbol{\\mathscr{l}}^T \\mathbf{M}^{-1} $$"
   ]
  },
  {
   "cell_type": "markdown",
   "metadata": {},
   "source": [
    "On a alors:"
   ]
  },
  {
   "cell_type": "markdown",
   "metadata": {},
   "source": [
    "\\begin{align}\n",
    "  \\mathbf{M} \\mathbf{F} \\mathbf{M}^{-1} - \\mathbf{M} \\mathbf{g}\\, \\boldsymbol{\\mathscr{l}}'^T &= \\mathbf{M} \\mathbf{F} \\mathbf{M}^{-1} - \\mathbf{M} \\mathbf{g}\\, \\boldsymbol{\\mathscr{l}}^T \\mathbf{M}^{-1} \\\\\n",
    "  &= \\mathbf{M} \\left( \\mathbf{F} - \\mathbf{g} \\mathscr{l}^T \\right) \\mathbf{M}^{-1} \n",
    "\\end{align}"
   ]
  },
  {
   "cell_type": "markdown",
   "metadata": {},
   "source": [
    "Les matrices, étant équivalentes, le polynôme caractéristique de $\\mathbf{M} \\mathbf{F} \\mathbf{M}^{-1} - \\mathbf{M} \\mathbf{g}\\, \\boldsymbol{\\mathscr{l}}'^T$ et $\\mathbf{F} - \\mathbf{g} \\mathscr{l}^T$ est le même et vaut le polynôme caractéristique imposé en boucle fermée. La loi de commande $u(k) = -\\boldsymbol{\\mathscr{l}}'^T \\mathbf{x}'(k) = -\\boldsymbol{\\mathscr{l}}^T \\mathbf{M} \\mathbf{x}(k)$ permet donc bien d'imposer les valeurs propres en boucle fermée."
   ]
  },
  {
   "cell_type": "markdown",
   "metadata": {},
   "source": [
    "---"
   ]
  },
  {
   "cell_type": "markdown",
   "metadata": {},
   "source": [
    "#### Théorème:\n",
    "\n",
    "Pour un système à commander gouvernable, le gain de rétroaction $\\boldsymbol{\\mathscr{l}}^T$ est donné par:\n",
    "\n",
    "$$ \n",
    "  \\boldsymbol{\\mathscr{l}}^T = \\left[ \\begin{array}{ccccc} \n",
    "    0 & 0 & \\dots & 0 & 1 \n",
    "  \\end{array} \\right] \\boldsymbol{\\mathcal{C}}^{-1} p(\\mathbf{F})\n",
    "$$"
   ]
  },
  {
   "cell_type": "markdown",
   "metadata": {},
   "source": [
    "---"
   ]
  },
  {
   "cell_type": "markdown",
   "metadata": {},
   "source": [
    "Ici encore, la démonstration n'est pas très complexe."
   ]
  },
  {
   "cell_type": "markdown",
   "metadata": {},
   "source": [
    "Le vecteur contenant les gains de rétroaction peut être écrit ainsi:"
   ]
  },
  {
   "cell_type": "markdown",
   "metadata": {},
   "source": [
    "\\begin{align}\n",
    "  \\boldsymbol{\\mathscr{l}}^T &= \\boldsymbol{\\mathscr{l}}'^T \\mathbf{M} \\\\ \n",
    "  &= \\left[ \\begin{array}{ccccc}\n",
    "    \\mathscr{l}_1' & \\mathscr{l}_2' & \\dots & \\mathscr{l}_{n-1}' &  \\mathscr{l}_n'\n",
    "  \\end{array} \\right] \\mathbf{M} \\\\\n",
    "  &= \\left[ \\begin{array}{cccc}\n",
    "    a_n - p_n & a_{n-1} - p_{n-1} & \\dots & a_1 - p_1\n",
    "  \\end{array} \\right] \\mathbf{M} \\\\\n",
    "  &= \\left[ \\begin{array}{cccc}\n",
    "    a_n & a_{n-1} & \\dots & a_1\n",
    "  \\end{array} \\right] \\mathbf{M} + \\left[ \\begin{array}{cccc}\n",
    "    -p_n & -p_{n-1} & \\dots & -p_1\n",
    "  \\end{array} \\right] \\mathbf{M} \\\\\n",
    "\\end{align}"
   ]
  },
  {
   "cell_type": "markdown",
   "metadata": {},
   "source": [
    "Le vecteur $\\left[ \\begin{array}{cccc} -p_n & -p_{n-1} & \\dots & -p_1 \\end{array} \\right]$ est la dernière ligne de la forme canonique de gouvernabilité du système. Elle peut se réécrire $\\mathbf{t}_n^T \\mathbf{F} \\mathbf{M}^{-1}$ d'après la section discutant de la gouvernabilité et de sa forme canonique."
   ]
  },
  {
   "cell_type": "markdown",
   "metadata": {},
   "source": [
    "\\begin{align}\n",
    "  \\boldsymbol{\\mathscr{l}}^T &= \\left[ \\begin{array}{cccc}\n",
    "    a_n & a_{n-1} & \\dots & a_1\n",
    "  \\end{array} \\right] \\mathbf{M} + \\mathbf{t}_n^T \\mathbf{F} \\mathbf{M}^{-1} \\mathbf{M} \\\\\n",
    "  &= \\left[ \\begin{array}{cccc}\n",
    "    a_n & a_{n-1} & \\dots & a_1\n",
    "  \\end{array} \\right] \\mathbf{M} + \\mathbf{t}_n^T \\mathbf{F} \\\\\n",
    "  &= \\left[ \\begin{array}{cccc}\n",
    "    a_n & a_{n-1} & \\dots & a_1\n",
    "  \\end{array} \\right] \\left[ \\begin{array}{c}\n",
    "    \\mathbf{t}_n^T \\\\\n",
    "    \\mathbf{t}_n^T \\mathbf{F} \\\\\n",
    "    \\vdots \\\\\n",
    "    \\mathbf{t}_n^T \\mathbf{F}^{n-1} \\\\\n",
    "  \\end{array} \\right] + \\mathbf{t}_n^T \\mathbf{F} \\\\\n",
    "  &= \\mathbf{t}_n^T \\mathbf{F} + a_1 \\mathbf{t}_n^T \\mathbf{F}^{n-1} + \\dots + a_{n-1} \\mathbf{t}_n^T \\mathbf{F} + a_n \\mathbf{t}_n^T \\\\\n",
    "  &= \\mathbf{t}_n^T \\left( \\mathbf{F} + a_1 \\mathbf{F}^{n-1} + \\dots + a_{n-1} \\mathbf{F} + a_n \\right)\n",
    "\\end{align}"
   ]
  },
  {
   "cell_type": "markdown",
   "metadata": {},
   "source": [
    "$\\mathbf{t}_n^T$ est la dernière ligne de l'inverse de la matrice de gouvernabilité alors que le terme entre parenthèses représente le polynôme caractéristique à imposer en boucle fermée, dont la variable est la matrice de transition discrète $\\mathbf{F}$. On a donc:"
   ]
  },
  {
   "cell_type": "markdown",
   "metadata": {},
   "source": [
    "$$\n",
    "  \\boldsymbol{\\mathscr{l}}^T = \\left[ \\begin{array}{cccc}\n",
    "    0 & 0 & \\dots & 1\n",
    "  \\end{array} \\right] \\boldsymbol{\\mathcal{C}}^{-1} p(\\mathbf{F})\n",
    "$$"
   ]
  },
  {
   "cell_type": "markdown",
   "metadata": {},
   "source": [
    "### Poursuite d'un échelon"
   ]
  },
  {
   "cell_type": "markdown",
   "metadata": {},
   "source": [
    "Il est supposé, dans cette partie, que le système reste proche de son point de fonctionnement afin que sa linéarisation reste valide. Si ce n'est pas le cas, il faut procéder à une nouvelle linéarisation autour du point de consigne voulu et utiliser le nouveau modèle obtenu."
   ]
  },
  {
   "cell_type": "markdown",
   "metadata": {},
   "source": [
    "La méthodologie générale est de considérer les écarts sur les variables d'états du système comme variables d'états à commander. Le problème devient alors équivalent à la section précédente, et la formule d'Ackermann est utilisable. Cette situation est représentée à la figure suivante."
   ]
  },
  {
   "cell_type": "markdown",
   "metadata": {},
   "source": [
    "<img src=\"./Images/Control/poursuite_echelon.png\" alt=\"Schéma de principe d'une poursuite d'un échelon\" width=700>"
   ]
  },
  {
   "cell_type": "markdown",
   "metadata": {},
   "source": [
    "Le système à commander se retrouve au centre et reçoit une commande $u(t)$ pour nous fournir la sortie $y(t)$ et les états $\\mathbf{x}(t)$. Ces derniers sont échantillonnés via un converstisseur CAN pour fournir les signaux discrets $y(k)$ et $\\mathbf{x}(k)$. Tous ces signaux échantillonnés sont comparés à leurs valeurs au point de fonctionnement désiré, notées $\\bar{y}$ et $\\bar{\\mathbf{x}}$. Il est à remarquer que $\\bar{y}=y_c$; c'est la consigne imposée. Les écarts calculés sur les états, notés $\\tilde{\\mathbf{x}}$ sont utilisés pour la rétroaction d'états et permettent d'obtenir $\\tilde{u}(k)$, la variation de la commande à appliquer. Celle-ci est alors ajoutée à la commande au point de fonctionnement $\\bar{u}$ pour obtenir la commande absolue $u(k)$ à transformer en analogique $u(t)$ et à appliquer au système."
   ]
  },
  {
   "cell_type": "markdown",
   "metadata": {},
   "source": [
    "Le problème qui se pose est le suivant. En général, une consigne est imposée sur la sortie $y(k)$. Cependant, la rétroaction se fait sur les états, et la commande calculée doit être sommée à la commande \"à priori\" du point de fonctionnement. Il faut donc, pour chaque point de fonctionnement, calculer les grandeurs $\\bar{\\mathbf{x}}$ et $\\bar{u}$."
   ]
  },
  {
   "cell_type": "markdown",
   "metadata": {},
   "source": [
    "Afin de rendre le système le plus autonome possible, ces 2 grandeurs seront calculées à partir de la consigne $y_c$. Soit les définissions suivantes:"
   ]
  },
  {
   "cell_type": "markdown",
   "metadata": {},
   "source": [
    "\\begin{align}\n",
    "  \\bar{\\mathbf{x}} &= \\boldsymbol{\\mathscr{l}}_x \\bar{y} \\\\\n",
    "  \\bar{u} &= \\mathscr{l}_u \\bar{y} \\\\\n",
    "\\end{align}"
   ]
  },
  {
   "cell_type": "markdown",
   "metadata": {},
   "source": [
    "Le point de fonctionnement vérifie le modèle d'état:"
   ]
  },
  {
   "cell_type": "markdown",
   "metadata": {},
   "source": [
    "\\begin{align}\n",
    "  \\bar{\\mathbf{x}} &= \\mathbf{F} \\bar{\\mathbf{x}} + \\mathbf{g} \\bar{u} \\\\\n",
    "  \\bar{y} &= \\mathbf{c}^T \\bar{\\mathbf{x}}\n",
    "\\end{align}"
   ]
  },
  {
   "cell_type": "markdown",
   "metadata": {},
   "source": [
    "En remplaçant par nos nouvelles définitions:"
   ]
  },
  {
   "cell_type": "markdown",
   "metadata": {},
   "source": [
    "\\begin{align}\n",
    "  \\boldsymbol{\\mathscr{l}}_x \\bar{y} &= \\mathbf{F} \\boldsymbol{\\mathscr{l}}_x \\bar{y} + \\mathbf{g} \\mathscr{l}_u \\bar{y} \\\\\n",
    "  \\bar{y} &= \\mathbf{c}^T \\boldsymbol{\\mathscr{l}}_x \\bar{y}\n",
    "\\end{align}"
   ]
  },
  {
   "cell_type": "markdown",
   "metadata": {},
   "source": [
    "Comme la consigne est un échelon, $\\bar{y}\\neq 0$:"
   ]
  },
  {
   "cell_type": "markdown",
   "metadata": {},
   "source": [
    "\\begin{align}\n",
    "  \\left( \\mathbf{I} - \\mathbf{F} \\right) \\boldsymbol{\\mathscr{l}}_x - \\mathbf{g} \\mathscr{l}_u &= 0 \\\\\n",
    "  \\mathbf{c}^T \\boldsymbol{\\mathscr{l}}_x &= 1\n",
    "\\end{align}"
   ]
  },
  {
   "cell_type": "markdown",
   "metadata": {},
   "source": [
    "Ou, sous forme matricielle:"
   ]
  },
  {
   "cell_type": "markdown",
   "metadata": {},
   "source": [
    "$$\n",
    "  \\left[ \\begin{array}{cc}\n",
    "    \\mathbf{I} - \\mathbf{F} & \\mathbf{g} \\\\\n",
    "    \\mathbf{c}^T & \\mathbf{0}\n",
    "  \\end{array} \\right] \\left[ \\begin{array}{c}\n",
    "    \\boldsymbol{\\mathscr{l}}_x \\\\\n",
    "    \\mathscr{l}_u\n",
    "  \\end{array} \\right] = \\left[ \\begin{array}{c}\n",
    "    \\mathbf{0} \\\\\n",
    "    1\n",
    "  \\end{array} \\right]\n",
    "$$"
   ]
  },
  {
   "cell_type": "markdown",
   "metadata": {},
   "source": [
    "Ce système d'équations ne possède une solution unique que si le rang de la matrice et celui de la matrice augmentée vaut $n+1$."
   ]
  },
  {
   "cell_type": "markdown",
   "metadata": {},
   "source": [
    "Le schéma bloc devient alors:"
   ]
  },
  {
   "cell_type": "markdown",
   "metadata": {},
   "source": [
    "<img src=\"./Images/Control/poursuite_calcul_x_u.png\" alt=\"Schéma de principe de la poursuite d'un échelon avec calcul automatique des variables d'états et de commande au point de fonctionnement\" width=900>"
   ]
  },
  {
   "cell_type": "markdown",
   "metadata": {},
   "source": [
    "Il est possible, en effectuant quelques manipulations, de simplifier le schéma. En effet, on a:"
   ]
  },
  {
   "cell_type": "markdown",
   "metadata": {},
   "source": [
    "\\begin{align}\n",
    "  u(k) &= \\bar{u} + \\tilde{u}(k) \\\\\n",
    "  &= \\bar{u} - \\boldsymbol{\\mathscr{l}}^T \\tilde{\\mathbf{x}}(k) \\\\\n",
    "  &= \\bar{u} + \\boldsymbol{\\mathscr{l}}^T ( \\bar{\\mathbf{x}} - \\mathbf{x}(k) ) \\\\\n",
    "  &= \\mathscr{l}_u \\bar{y} + \\boldsymbol{\\mathscr{l}}^T ( \\boldsymbol{\\mathscr{l}}_x \\bar{y} - \\mathbf{x}(k) ) \\\\\n",
    "  &= \\boldsymbol{\\mathscr{l}}^T \\mathbf{x}(k) + ( \\mathscr{l}_u + \\boldsymbol{\\mathscr{l}}^T \\boldsymbol{\\mathscr{l}}_x ) \\bar{y}\n",
    "\\end{align}"
   ]
  },
  {
   "cell_type": "markdown",
   "metadata": {},
   "source": [
    "En posant $\\mathscr{l}_y = \\mathscr{l}_u + \\boldsymbol{\\mathscr{l}}^T \\boldsymbol{\\mathscr{l}}_x$, on a:"
   ]
  },
  {
   "cell_type": "markdown",
   "metadata": {},
   "source": [
    "$$ u(k) = -\\boldsymbol{\\mathscr{l}}^T \\mathbf{x}(k) + \\mathscr{l}_y \\bar{y} $$"
   ]
  },
  {
   "cell_type": "markdown",
   "metadata": {},
   "source": [
    "Le schéma devient:"
   ]
  },
  {
   "cell_type": "markdown",
   "metadata": {},
   "source": [
    "<img src=\"./Images/Control/poursuite_simplifie.png\" alt=\"Schéma de principe de la poursuite d'un échelon après simplification\" width=800>"
   ]
  },
  {
   "cell_type": "markdown",
   "metadata": {},
   "source": [
    "Le problème de cette commande est qu'elle dépend de la précision du modèle utilisé. Si le modèle possède des erreurs ou que les paramètres du système varient, même de quelques pourcents, le réglage contiendra une erreur statique. "
   ]
  },
  {
   "cell_type": "markdown",
   "metadata": {},
   "source": [
    "### Régulateur avec intégrateur"
   ]
  },
  {
   "cell_type": "markdown",
   "metadata": {},
   "source": [
    "## Ajout d'un observateur"
   ]
  }
 ],
 "metadata": {
  "kernelspec": {
   "display_name": "Python 3",
   "language": "python",
   "name": "python3"
  },
  "language_info": {
   "codemirror_mode": {
    "name": "ipython",
    "version": 3
   },
   "file_extension": ".py",
   "mimetype": "text/x-python",
   "name": "python",
   "nbconvert_exporter": "python",
   "pygments_lexer": "ipython3",
   "version": "3.7.3"
  }
 },
 "nbformat": 4,
 "nbformat_minor": 4
}
