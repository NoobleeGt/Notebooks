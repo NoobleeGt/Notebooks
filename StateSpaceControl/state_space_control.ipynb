{
 "cells": [
  {
   "cell_type": "markdown",
   "metadata": {},
   "source": [
    "# Synthèse des régulateurs dans l'espace d'état"
   ]
  },
  {
   "cell_type": "markdown",
   "metadata": {},
   "source": [
    "L'objectif de ce chapitre est de mettre en place une commande par retour d'états pour un système SISO, avec l'ajout d'un observateur si nécessaire."
   ]
  },
  {
   "cell_type": "markdown",
   "metadata": {},
   "source": [
    "## Problème de base"
   ]
  },
  {
   "cell_type": "markdown",
   "metadata": {},
   "source": [
    "## Commande par placement des valeurs propres"
   ]
  },
  {
   "cell_type": "markdown",
   "metadata": {},
   "source": [
    "L'objectif de cette commande est d'imposer les valeurs propres du système en boucle fermée."
   ]
  },
  {
   "cell_type": "markdown",
   "metadata": {},
   "source": [
    "### Formule d'Ackermann"
   ]
  },
  {
   "cell_type": "markdown",
   "metadata": {},
   "source": [
    "Soit le système échantillonné décrit par l'équation d'état suivante:"
   ]
  },
  {
   "cell_type": "markdown",
   "metadata": {},
   "source": [
    "$$ \\mathbf{x}(k+1) = \\mathbf{F} \\mathbf{x}(k) + \\mathbf{g}\\, u(k) $$"
   ]
  },
  {
   "cell_type": "markdown",
   "metadata": {},
   "source": [
    "Comme le système est supposé SISO, $u(k)\\, \\in\\, \\mathbb{R}$ et $\\mathbf{g}\\, \\in\\, \\mathbb{R}^n$."
   ]
  },
  {
   "cell_type": "markdown",
   "metadata": {},
   "source": [
    "Une loi de commande linéaire par retour d'état est décrite selon l'équation suivante:"
   ]
  },
  {
   "cell_type": "markdown",
   "metadata": {},
   "source": [
    "$$ u(k) = -\\boldsymbol{\\mathscr{l}}^T\\, \\mathbf{x}(k) \\qquad \\boldsymbol{\\mathscr{l}}\\, \\in\\, \\mathbb{R}^n $$"
   ]
  },
  {
   "cell_type": "markdown",
   "metadata": {},
   "source": [
    "La commande est donc une combinaison linéaire des états du système."
   ]
  },
  {
   "cell_type": "markdown",
   "metadata": {},
   "source": [
    "L'équation d'état peut alors être réécrite de la manière suivante:"
   ]
  },
  {
   "cell_type": "markdown",
   "metadata": {},
   "source": [
    "\\begin{align}\n",
    "  \\mathbf{x}(k+1) &= \\mathbf{F} \\mathbf{x}(k) - \\mathbf{g} \\boldsymbol{\\mathscr{l}} \\mathbf{x}(k) \\\\\n",
    "  &= \\left( \\mathbf{F} - \\mathbf{g} \\boldsymbol{\\mathscr{l}}^T \\right) \\mathbf{x}(k)\n",
    "\\end{align}"
   ]
  },
  {
   "cell_type": "markdown",
   "metadata": {},
   "source": [
    "L'ensemble du système et de sa commande peut être vu comme un nouveau système en boucle ouverte ne possédant aucune entrée et évoluant selon la nouvelle matrice de transition discrète $\\mathbf{F} - \\mathbf{g} \\boldsymbol{\\mathscr{l}}^T$."
   ]
  },
  {
   "cell_type": "markdown",
   "metadata": {},
   "source": [
    "Les pôles du système en boucle fermée sont alors les valeurs propres de cette matrice, obtenues en annulant le déterminant $\\det \\left(z\\mathbf{I} - \\mathbf{F} + \\mathbf{g} \\boldsymbol{\\mathscr{l}}^T \\right)$."
   ]
  },
  {
   "cell_type": "markdown",
   "metadata": {},
   "source": [
    "Les 2 théorèmes suivants permettent de déterminer si le vecteur $\\boldsymbol{\\mathscr{l}}$ existe, et, dans ce cas, comment le déterminer."
   ]
  },
  {
   "cell_type": "markdown",
   "metadata": {},
   "source": [
    "#### Théorème:\n",
    "\n",
    "Etant donné un polynôme quelconque $p(z) = z^n + a_1 z^{n-1} + \\dots + a_n,\\, a_i\\, \\in\\, \\mathbb{R},\\, i=1, 2, \\dots, n$, il existe un vecteur $\\boldsymbol{\\mathscr{l}}\\, \\in\\, \\mathbb{R}^n$ tel que le polynôme caractéristique de la matrice $\\mathbf{F} - \\mathbf{g} \\boldsymbol{\\mathscr{l}}^T$ soit $p(z)$ si est seulement si le couple $(\\mathbf{F}, \\mathbf{g})$ est gouvernable."
   ]
  },
  {
   "cell_type": "markdown",
   "metadata": {},
   "source": [
    "---"
   ]
  },
  {
   "cell_type": "markdown",
   "metadata": {},
   "source": [
    "La démonstration de ce théorème est très simple et fait l'objet des lignes qui suivent."
   ]
  },
  {
   "cell_type": "markdown",
   "metadata": {},
   "source": [
    "Si le couple $(\\mathbf{F}, \\mathbf{g})$ est gouvernable, alors le système peut être mis sous la forme canonique de gouvernabilité."
   ]
  },
  {
   "cell_type": "markdown",
   "metadata": {},
   "source": [
    "\\begin{align}\n",
    "  \\mathbf{x}'(k+1) &= \\mathbf{M} \\mathbf{F} \\mathbf{M}^{-1} \\mathbf{x}'(k) + \\mathbf{M} \\mathbf{g}\\, u(k) \\\\\n",
    "  &= \\left[ \\begin{array}{ccccc}\n",
    "    0 & 1 & 0 & \\dots & 0 \\\\\n",
    "    0 & 0 & 1 & \\dots & 0 \\\\\n",
    "    \\vdots & \\vdots & \\vdots & \\dots & \\vdots \\\\\n",
    "    0 & 0 & 0 & \\dots & 1 \\\\\n",
    "    -p_n & -p_{n-1} & -p_{n-2} & \\dots & -p_1\n",
    "  \\end{array} \\right]\n",
    "  \\mathbf{x}'(k) + \\left[ \\begin{array}{ccccc}\n",
    "    0 \\\\\n",
    "    0 \\\\\n",
    "    0 \\\\\n",
    "    \\vdots \\\\\n",
    "    1\n",
    "  \\end{array} \\right] u(k) \\\\\n",
    "\\end{align}"
   ]
  },
  {
   "cell_type": "markdown",
   "metadata": {},
   "source": [
    "Définissons la loi de commande:"
   ]
  },
  {
   "cell_type": "markdown",
   "metadata": {},
   "source": [
    "$$ u(k) = \\boldsymbol{\\mathscr{l}}'^T \\mathbf{x}'(k) $$"
   ]
  },
  {
   "cell_type": "markdown",
   "metadata": {},
   "source": [
    "L'équation d'état en boucle fermée devient alors:"
   ]
  },
  {
   "cell_type": "markdown",
   "metadata": {},
   "source": [
    "\\begin{align}\n",
    "  \\mathbf{x}'(k+1) &= \\mathbf{M} \\mathbf{F} \\mathbf{M}^{-1} \\mathbf{x}'(k) - \\mathbf{M} \\mathbf{g}\\, \\boldsymbol{\\mathscr{l}}'^T \\mathbf{x}'(k) \\\\\n",
    "  &= \\left[ \\begin{array}{ccccc}\n",
    "    0 & 1 & 0 & \\dots & 0 \\\\\n",
    "    0 & 0 & 1 & \\dots & 0 \\\\\n",
    "    \\vdots & \\vdots & \\vdots & \\dots & \\vdots \\\\\n",
    "    0 & 0 & 0 & \\dots & 1 \\\\\n",
    "    -p_n & -p_{n-1} & -p_{n-2} & \\dots & -p_1\n",
    "  \\end{array} \\right]\n",
    "  \\mathbf{x}'(k) - \\left[ \\begin{array}{ccccc}\n",
    "    0 \\\\\n",
    "    0 \\\\\n",
    "    0 \\\\\n",
    "    \\vdots \\\\\n",
    "    1\n",
    "  \\end{array} \\right] \\left[ \\begin{array}{ccccc}\n",
    "    \\mathscr{l}_1' & \\mathscr{l}_2' & \\dots & \\mathscr{l}_{n-1}' &  \\mathscr{l}_n'\n",
    "  \\end{array} \\right] \\mathbf{x}'(k) \\\\\n",
    "  &= \\left[ \\begin{array}{ccccc}\n",
    "    0 & 1 & 0 & \\dots & 0 \\\\\n",
    "    0 & 0 & 1 & \\dots & 0 \\\\\n",
    "    \\vdots & \\vdots & \\vdots & \\dots & \\vdots \\\\\n",
    "    0 & 0 & 0 & \\dots & 1 \\\\\n",
    "    -(p_n+\\mathscr{l}_1') & -(p_{n-1}+\\mathscr{l}_2') & -(p_{n-2}+\\mathscr{l}_3') & \\dots & -(p_1+\\mathscr{l}_n')\n",
    "  \\end{array} \\right]\n",
    "  \\mathbf{x}'(k)\n",
    "\\end{align}"
   ]
  },
  {
   "cell_type": "markdown",
   "metadata": {},
   "source": [
    "Comme cette matrice est compagne, on en déduit que son polynôme caractéristique est le suivant:"
   ]
  },
  {
   "cell_type": "markdown",
   "metadata": {},
   "source": [
    "$$ z^n + (p_1+\\mathscr{l}_n') z^{n-1} + (p_2+\\mathscr{l}_{n-1}') z^{n-2} + \\dots + (p_n+\\mathscr{l}_1') $$"
   ]
  },
  {
   "cell_type": "markdown",
   "metadata": {},
   "source": [
    "Afin d'imposer le polynôme caractéristique en boucle fermée suivant:"
   ]
  },
  {
   "cell_type": "markdown",
   "metadata": {},
   "source": [
    "$$ p(z) = z^n + a_1 z^{n-1} + \\dots + a_n $$"
   ]
  },
  {
   "cell_type": "markdown",
   "metadata": {},
   "source": [
    "Il suffit de soustraire les 2 polynômes, pour obtenir les relations suivantes:"
   ]
  },
  {
   "cell_type": "markdown",
   "metadata": {},
   "source": [
    "\\begin{align}\n",
    "  \\mathscr{l}_n' &= a_1 - p_1 \\\\\n",
    "  \\mathscr{l}_{n-1}' &= a_2 - p_2 \\\\\n",
    "  &\\vdots \\\\\n",
    "  \\mathscr{l}_1' &= a_n - p_n \\\\\n",
    "\\end{align}"
   ]
  },
  {
   "cell_type": "markdown",
   "metadata": {},
   "source": [
    "Que l'on pourrait résumé par la relation:"
   ]
  },
  {
   "cell_type": "markdown",
   "metadata": {},
   "source": [
    "$$ \\mathscr{l}_i' = a_{n-i+1} - p_{n-i+1} \\qquad i = 1, 2, \\dots, n $$"
   ]
  },
  {
   "cell_type": "markdown",
   "metadata": {},
   "source": [
    "La loi de commande, dans cette nouvelle base, subit la transformation suivante:"
   ]
  },
  {
   "cell_type": "markdown",
   "metadata": {},
   "source": [
    "$$ \\boldsymbol{\\mathscr{l}}'^T = \\boldsymbol{\\mathscr{l}}^T \\mathbf{M}^{-1} $$"
   ]
  },
  {
   "cell_type": "markdown",
   "metadata": {},
   "source": [
    "On a alors:"
   ]
  },
  {
   "cell_type": "markdown",
   "metadata": {},
   "source": [
    "\\begin{align}\n",
    "  \\mathbf{M} \\mathbf{F} \\mathbf{M}^{-1} - \\mathbf{M} \\mathbf{g}\\, \\boldsymbol{\\mathscr{l}}'^T &= \\mathbf{M} \\mathbf{F} \\mathbf{M}^{-1} - \\mathbf{M} \\mathbf{g}\\, \\boldsymbol{\\mathscr{l}}^T \\mathbf{M}^{-1} \\\\\n",
    "  &= \\mathbf{M} \\left( \\mathbf{F} - \\mathbf{g} \\mathscr{l}^T \\right) \\mathbf{M}^{-1} \n",
    "\\end{align}"
   ]
  },
  {
   "cell_type": "markdown",
   "metadata": {},
   "source": [
    "Les matrices, étant équivalentes, le polynôme caractéristique de $\\mathbf{M} \\mathbf{F} \\mathbf{M}^{-1} - \\mathbf{M} \\mathbf{g}\\, \\boldsymbol{\\mathscr{l}}'^T$ et $\\mathbf{F} - \\mathbf{g} \\mathscr{l}^T$ est le même et vaut le polynôme caractéristique imposé en boucle fermée. La loi de commande $u(k) = -\\boldsymbol{\\mathscr{l}}'^T \\mathbf{x}'(k) = -\\boldsymbol{\\mathscr{l}}^T \\mathbf{M} \\mathbf{x}(k)$ permet donc bien d'imposer les valeurs propres en boucle fermée."
   ]
  },
  {
   "cell_type": "markdown",
   "metadata": {},
   "source": [
    "---"
   ]
  },
  {
   "cell_type": "markdown",
   "metadata": {},
   "source": [
    "#### Théorème:\n",
    "\n",
    "Pour un système à commander gouvernable, le gain de rétroaction $\\boldsymbol{\\mathscr{l}}^T$ est donné par:\n",
    "\n",
    "$$ \n",
    "  \\boldsymbol{\\mathscr{l}}^T = \\left[ \\begin{array}{ccccc} \n",
    "    0 & 0 & \\dots & 0 & 1 \n",
    "  \\end{array} \\right] \\boldsymbol{\\mathcal{C}}^{-1} p(\\mathbf{F})\n",
    "$$"
   ]
  },
  {
   "cell_type": "markdown",
   "metadata": {},
   "source": [
    "---"
   ]
  },
  {
   "cell_type": "markdown",
   "metadata": {},
   "source": [
    "## Ajout d'un observateur"
   ]
  }
 ],
 "metadata": {
  "kernelspec": {
   "display_name": "Python 3",
   "language": "python",
   "name": "python3"
  },
  "language_info": {
   "codemirror_mode": {
    "name": "ipython",
    "version": 3
   },
   "file_extension": ".py",
   "mimetype": "text/x-python",
   "name": "python",
   "nbconvert_exporter": "python",
   "pygments_lexer": "ipython3",
   "version": "3.7.3"
  }
 },
 "nbformat": 4,
 "nbformat_minor": 4
}
