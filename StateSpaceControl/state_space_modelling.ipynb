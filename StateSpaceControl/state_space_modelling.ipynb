{
 "cells": [
  {
   "cell_type": "markdown",
   "metadata": {},
   "source": [
    "# Modélisation dans l'espace d'état"
   ]
  },
  {
   "cell_type": "markdown",
   "metadata": {},
   "source": [
    "L'objectif de ce chapitre est de représenter un système par un modèle d'état linéaire discret."
   ]
  },
  {
   "cell_type": "markdown",
   "metadata": {},
   "source": [
    "## Etat d'un système"
   ]
  },
  {
   "cell_type": "markdown",
   "metadata": {},
   "source": [
    "L'état d'un système est une grandeur *mémoire* du système. Celle-ci, à partir de la connaissance de l'entrée, permet de définir le comportement du système."
   ]
  },
  {
   "cell_type": "markdown",
   "metadata": {},
   "source": [
    "En pratique les états d'un système sont multiples et peuvent être choisis différemment. Par exemple:\n",
    "\n",
    "- électricité: $i_L$ et $u_C$ sont souvent pris comme états; cependant $q_C$ pourrait être choisi à la place de $u_C$, mais ce choix est moins intéressant car plus difficile à mesurer\n",
    "- mécanique: $x$ et $v$ représentent souvent les états du système\n",
    "- hydraulique: $h$ et $p$, avec $h$ la hauteur de fluide dans un conteneur et $p$ la différence de pression sont souvent choisis comme états du système"
   ]
  },
  {
   "cell_type": "markdown",
   "metadata": {},
   "source": [
    "## Modèle d'état analogique"
   ]
  },
  {
   "cell_type": "markdown",
   "metadata": {},
   "source": [
    "### Modèle d'état non-linéaire"
   ]
  },
  {
   "cell_type": "markdown",
   "metadata": {},
   "source": [
    "Pour rappel, un système non-linéaire peut être mis sous la forme suivante:\n",
    "\n",
    "\\begin{align}\n",
    "  \\left\\{ \\begin{array}{l}\n",
    "    \\dot{x}_1(t) = f_1(x_1(t), x_2(t), \\dots, x_n(t), u_1(t), u_2(t), \\dots, u_r(t), t) \\\\\n",
    "    \\dot{x}_2(t) = f_2(x_1(t), x_2(t), \\dots, x_n(t), u_1(t), u_2(t), \\dots, u_r(t), t) \\\\\n",
    "    \\vdots \\\\\n",
    "    \\dot{x}_n(t) = f_n(x_1(t), x_2(t), \\dots, x_n(t), u_1(t), u_2(t), \\dots, u_r(t), t)\n",
    "  \\end{array} \\right.\n",
    "\\end{align}\n",
    "\n",
    "\\begin{align}  \n",
    "  \\left\\{ \\begin{array}{l}\n",
    "    y_1(t) = g_1(x_1(t), x_2(t), \\dots, x_n(t), u_1(t), u_2(t), \\dots, u_r(t), t) \\\\\n",
    "    y_2(t) = g_2(x_1(t), x_2(t), \\dots, x_n(t), u_1(t), u_2(t), \\dots, u_r(t), t) \\\\\n",
    "    \\vdots \\\\\n",
    "    y_p(t) = g_n(x_1(t), x_2(t), \\dots, x_n(t), u_1(t), u_2(t), \\dots, u_r(t), t)\n",
    "  \\end{array} \\right.\n",
    "\\end{align}"
   ]
  },
  {
   "cell_type": "markdown",
   "metadata": {},
   "source": [
    "En mettant les différents élémens dans des vecteurs, le système d'équations peut être remis sous la forme simplifiée suivante:\n",
    "\n",
    "\\begin{align}\n",
    "  \\dot{\\mathbf{x}}(t) = \\mathbf{f}(\\mathbf{x}(t), \\mathbf{u}(t), t) \\\\\n",
    "  \\mathbf{y}(t) = \\mathbf{g}(\\mathbf{x}(t), \\mathbf{u}(t), t)\n",
    "\\end{align}"
   ]
  },
  {
   "cell_type": "markdown",
   "metadata": {},
   "source": [
    "La première équation est appelée *équation d'état* alors que la seconde est appelée *équation de sortie*. Les termes en gras représentent des vecteurs ou matrices."
   ]
  },
  {
   "cell_type": "markdown",
   "metadata": {},
   "source": [
    "### Modèle d'état linéaire"
   ]
  },
  {
   "cell_type": "markdown",
   "metadata": {},
   "source": [
    "L'analyse et la synthèse de régulateurs pour un système non-linéaire étant assez complexes, le système est souvent linéarisé autour du point de fonctionnement utile afin d'obtenir un modèle d'état linéaire."
   ]
  },
  {
   "cell_type": "markdown",
   "metadata": {},
   "source": [
    "Cette méthode de travail est validée par la première méthode de Lyapunov, qui ne sera pas détaillée ici."
   ]
  },
  {
   "cell_type": "markdown",
   "metadata": {},
   "source": [
    "La linéarisation du modèle non-linéaire est obtenue en prenant les dérivées partielles des équations d'état et de sortie, avec $\\bar{x}$ et $\\bar{u}$ les valeurs au point de fonctionnement:\n",
    "\n",
    "\\begin{align}\n",
    "  \\dot{\\mathbf{x}} = \\frac{\\partial \\mathbf{f}}{\\partial \\mathbf{x}}(\\bar{\\mathbf{x}}, \\bar{\\mathbf{u}})\\mathbf{x} + \\frac{\\partial \\mathbf{f}}{\\partial \\mathbf{u}}(\\bar{\\mathbf{x}}, \\bar{\\mathbf{u}})\\mathbf{u} \\\\\n",
    "  \\mathbf{y} = \\frac{\\partial \\mathbf{g}}{\\partial \\mathbf{x}}(\\bar{\\mathbf{x}}, \\bar{\\mathbf{u}})\\mathbf{x} + \\frac{\\partial \\mathbf{g}}{\\partial \\mathbf{u}}(\\bar{\\mathbf{x}}, \\bar{\\mathbf{u}})\\mathbf{u}\n",
    "\\end{align}"
   ]
  },
  {
   "cell_type": "markdown",
   "metadata": {},
   "source": [
    "Les dérivées partielles dans l'équation précédente représentent des matrices jacobiennes, se présentant sous la forme suivante:\n",
    "\n",
    "$$\n",
    "  \\frac{\\partial \\mathbf{f}}{\\partial \\mathbf{x}}(\\bar{\\mathbf{x}}, \\bar{\\mathbf{u}}) = \\left[\n",
    "  \\begin{array}{cccc}\n",
    "    \\frac{\\partial f_1}{\\partial x_1}(\\bar{\\mathbf{x}}, \\bar{\\mathbf{u}}) & \\frac{\\partial f_1}{\\partial x_2}(\\bar{\\mathbf{x}}, \\bar{\\mathbf{u}}) & \\cdots & \\frac{\\partial f_1}{\\partial x_n}(\\bar{\\mathbf{x}}, \\bar{\\mathbf{u}}) \\\\\n",
    "    \\frac{\\partial f_2}{\\partial x_1}(\\bar{\\mathbf{x}}, \\bar{\\mathbf{u}}) & \\frac{\\partial f_2}{\\partial x_2}(\\bar{\\mathbf{x}}, \\bar{\\mathbf{u}}) & \\cdots & \\frac{\\partial f_2}{\\partial x_n}(\\bar{\\mathbf{x}}, \\bar{\\mathbf{u}}) \\\\\n",
    "    \\vdots & \\vdots & \\cdots & \\vdots \\\\\n",
    "    \\frac{\\partial f_n}{\\partial x_1}(\\bar{\\mathbf{x}}, \\bar{\\mathbf{u}}) & \\frac{\\partial f_n}{\\partial x_2}(\\bar{\\mathbf{x}}, \\bar{\\mathbf{u}}) & \\cdots & \\frac{\\partial f_n}{\\partial x_n}(\\bar{\\mathbf{x}}, \\bar{\\mathbf{u}}) \\\\\n",
    "  \\end{array} \\right]\n",
    "$$"
   ]
  },
  {
   "cell_type": "markdown",
   "metadata": {},
   "source": [
    "Les autres matrices jacobiennes ne sont pas détaillées ici car elles sont obtenues de la même manière."
   ]
  },
  {
   "cell_type": "markdown",
   "metadata": {},
   "source": [
    "Pour plus de lisibilité, les matrices jacobiennes sont nommées différemment, donnant l'équation d'état linéaire:\n",
    "\n",
    "\\begin{align}\n",
    "  \\dot{\\mathbf{x}} = \\mathbf{A}\\mathbf{x} + \\mathbf{B}\\mathbf{u} \\\\\n",
    "  \\mathbf{y} = \\mathbf{C}\\mathbf{x} + \\mathbf{D}\\mathbf{u}\n",
    "\\end{align}"
   ]
  },
  {
   "cell_type": "markdown",
   "metadata": {},
   "source": [
    "En règle générale, la matrice $D$ est souvent nulle dans les systèmes physiques."
   ]
  },
  {
   "cell_type": "markdown",
   "metadata": {},
   "source": [
    "Cette équation différentielle matricielle peut être résolue par plusieurs méthodes, déjà connues. Elles ne seront pas revues ici."
   ]
  },
  {
   "cell_type": "markdown",
   "metadata": {},
   "source": [
    "La solution de l'équation d'état analogique est rappelée ici:\n",
    "\n",
    "\\begin{align}\n",
    "  \\mathbf{x}(t) &= e^{\\mathbf{A}t} \\mathbf{x}(0) + \\int_0^t e^{\\mathbf{A}(t-\\tau)} \\mathbf{B} \\mathbf{u}(\\tau) d\\tau \\\\\n",
    "  \\mathbf{y}(t) &= \\mathbf{C} e^{\\mathbf{A}t} \\mathbf{x}(0) + \\mathbf{C} \\int_0^t e^{\\mathbf{A}(t-\\tau)} \\mathbf{B} \\mathbf{u}(\\tau) d\\tau + \\mathbf{D} \\mathbf{u}(t)\n",
    "\\end{align}"
   ]
  },
  {
   "cell_type": "markdown",
   "metadata": {},
   "source": [
    "La matrice $e^{\\mathbf{A}t}$ est appelée *matrice de transition*. Elle représente un changement de coordonnées, permettant de bouger un vecteur $\\mathbf{x}(t_1)$ à l'instant $t_1$ vers le vecteur $\\mathbf{x}(t_2)$ à l'instant $t_2$."
   ]
  },
  {
   "cell_type": "markdown",
   "metadata": {},
   "source": [
    "La solution montre que la réponse du système est constituée de 2 parties:\n",
    "\n",
    "- la réponse naturelle, due à une condition initiale non nulle\n",
    "- la réponse forcée, due à une entrée externe"
   ]
  },
  {
   "cell_type": "markdown",
   "metadata": {},
   "source": [
    "## Modèle d'état discret"
   ]
  },
  {
   "cell_type": "markdown",
   "metadata": {},
   "source": [
    "### Modèle d'état non-linéaire"
   ]
  },
  {
   "cell_type": "markdown",
   "metadata": {},
   "source": [
    "Les modèles d'état discrets non-linéaires sont obtenus en approximant les dérivées dans les modèles d'état analogiques. Les méthodes les plus connues, et référencées dans les ouvrages de calculs numériques, sont:\n",
    "\n",
    "- la méthode d'Euler\n",
    "- la méthode de Runge-Kutta\n",
    "- la méthode d'Adams-Bashforth"
   ]
  },
  {
   "cell_type": "markdown",
   "metadata": {},
   "source": [
    "Les équations obtenues ainsi prennent la forme:\n",
    "\n",
    "\\begin{align}\n",
    "  & \\mathbf{x}(k+1) = \\mathbf{f}(\\mathbf{x}(k), \\mathbf{u}(k), k) \\\\\n",
    "  & \\mathbf{y}(k) = \\mathbf{g}(\\mathbf{x}(k), \\mathbf{u}(k), k)\n",
    "\\end{align}"
   ]
  },
  {
   "cell_type": "markdown",
   "metadata": {},
   "source": [
    "En général, cette transformation n'est jamais effectuée. Le modèle d'état analogique non-linéaire est implémenté tel quel dans un logiciel de simulation. Ce dernier utilise les algorithmes cités plus haut afin de résoudre numériquement l'équation différentielle et simuler le système pour des entrées données."
   ]
  },
  {
   "cell_type": "markdown",
   "metadata": {},
   "source": [
    "### Echantillonnage du modèle d'état analogique linéaire"
   ]
  },
  {
   "cell_type": "markdown",
   "metadata": {},
   "source": [
    "Afin d'obtenir un modèle d'état discret linéaire, il faut, tout comme pour les fonctions de transfert, procéder à l'échantillonnage du modèle. Cet échantillonnage est dû aux convertisseurs CNA et CAN présents en amont et en aval du système."
   ]
  },
  {
   "cell_type": "markdown",
   "metadata": {},
   "source": [
    "Le théorème suivant présente le résultat de l'échantillonnage."
   ]
  },
  {
   "cell_type": "markdown",
   "metadata": {},
   "source": [
    "#### Théorème\n",
    "\n",
    "Soit un système analogique linéaire stationnaire représenté par le modèle d'état:\n",
    "\n",
    "\\begin{align}\n",
    "    \\dot{\\mathbf{x}}(t) = \\mathbf{A}\\mathbf{x}(t) + \\mathbf{B}\\mathbf{u}(t) \\\\\n",
    "    \\mathbf{y}(t) = \\mathbf{C}\\mathbf{x}(t) + \\mathbf{D}\\mathbf{u}(t)\n",
    "\\end{align}\n",
    "\n",
    "Alors la mise en série du convertisseur CNA, de ce système analogique et du convertisseur CAN est décrit par le modèle d'état discret stationnaire:\n",
    "\n",
    "\\begin{align}\n",
    "    \\mathbf{x}(k+1) = \\mathbf{F}\\mathbf{x}(k) + \\mathbf{G}\\mathbf{u}(k) \\\\\n",
    "    \\mathbf{y}(k+1) = \\mathbf{C}\\mathbf{x}(k) + \\mathbf{D}\\mathbf{u}(k)\n",
    "\\end{align}\n",
    "\n",
    "Avec $h$, la période d'échantillonnage:\n",
    "\n",
    "\\begin{align}\n",
    "    \\mathbf{F} &= e^{\\mathbf{A}h} \\\\\n",
    "    \\mathbf{G} &= \\int_0^h e^{\\mathbf{A}\\eta} d\\eta \\mathbf{B}\n",
    "\\end{align}"
   ]
  },
  {
   "cell_type": "markdown",
   "metadata": {},
   "source": [
    "***"
   ]
  },
  {
   "cell_type": "markdown",
   "metadata": {},
   "source": [
    "La démonstration de ce théorème est très simple. Il suffit de prendre la solution de l'équation d'état analogique linéaire aux instants $t=kh$ et $t=kh+h$:\n",
    "\n",
    "\\begin{align}\n",
    "  & \\mathbf{x}(kh) = e^{\\mathbf{A}kh} \\mathbf{x}(0) + \\int_0^{kh} e^{\\mathbf{A}(kh-\\tau)} \\mathbf{B} \\mathbf{u}(\\tau) d\\tau \\\\\n",
    "  & \\mathbf{x}(kh+1) = e^{\\mathbf{A}(kh+h)} \\mathbf{x}(0) + \\int_0^{kh+h} e^{\\mathbf{A}(kh+h-\\tau)} \\mathbf{B} \\mathbf{u}(\\tau) d\\tau\n",
    "\\end{align}"
   ]
  },
  {
   "cell_type": "markdown",
   "metadata": {},
   "source": [
    "En multipliant la première équation par $e^{\\mathbf{A}h}$:\n",
    "\n",
    "$$ x(kh+h) - e^{\\mathbf{A}h} \\mathbf{x}(kh) = \\int_0^{kh+h} e^{\\mathbf{A}(kh+h-\\tau)} \\mathbf{B} \\mathbf{u}(\\tau) d\\tau - \\int_0^{kh} e^{\\mathbf{A}(kh-\\tau)} \\mathbf{B} \\mathbf{u}(\\tau) d\\tau $$"
   ]
  },
  {
   "cell_type": "markdown",
   "metadata": {},
   "source": [
    "On obtient donc:\n",
    "\n",
    "$$ x(kh+h) = e^{\\mathbf{A}h} \\mathbf{x}(kh) + \\int_{kh}^{kh+h} e^{\\mathbf{A}(kh+h-\\tau)} \\mathbf{B} \\mathbf{u}(\\tau) d\\tau $$"
   ]
  },
  {
   "cell_type": "markdown",
   "metadata": {},
   "source": [
    "Comme la sortie d'un convertisseur CNA est constante entre 2 instants d'échantillonnages, $u(kh)$ peut sortir de l'intégrale. En effectuant le changement de variable $\\eta = kh+h-\\tau$, on a:\n",
    "\n",
    "$$ x(kh+h) = e^{\\mathbf{A}h} \\mathbf{x}(kh) + \\int_{0}^{h} e^{\\mathbf{A}\\eta} d\\eta \\, \\mathbf{B} \\mathbf{u}(kh) $$"
   ]
  },
  {
   "cell_type": "markdown",
   "metadata": {},
   "source": [
    "On pose, par définition:\n",
    "\n",
    "\\begin{align}\n",
    "  & \\mathbf{F} = e^{\\mathbf{A}h} \\\\\n",
    "  & \\mathbf{G} = \\int_{0}^{h} e^{\\mathbf{A}\\eta} d\\eta\n",
    "\\end{align}"
   ]
  },
  {
   "cell_type": "markdown",
   "metadata": {},
   "source": [
    "L'équation de sortie n'est pas modifiée. Il suffit de considérer l'équations aux instants $t=kh$."
   ]
  },
  {
   "cell_type": "markdown",
   "metadata": {},
   "source": [
    "### Modèle d'état discret linéaire"
   ]
  },
  {
   "cell_type": "markdown",
   "metadata": {},
   "source": [
    "Le théorème d'échantillonnag précédent permet d'obtenir le modèle d'état discret suivant:\n",
    "\n",
    "\\begin{align}\n",
    "    \\mathbf{x}(k+1) = \\mathbf{F}\\mathbf{x}(k) + \\mathbf{G}\\mathbf{u}(k) \\\\\n",
    "    \\mathbf{y}(k+1) = \\mathbf{C}\\mathbf{x}(k) + \\mathbf{D}\\mathbf{u}(k)\n",
    "\\end{align}"
   ]
  },
  {
   "cell_type": "markdown",
   "metadata": {},
   "source": [
    "La solution du modèle d'état discret est bien plus simple à calculer que celle analogique. Il suffit d'évaluer, à chaque instant, l'équation d'état discrète en partant d'une condition initiale $\\mathbf{x}(0)$."
   ]
  },
  {
   "cell_type": "markdown",
   "metadata": {},
   "source": [
    "\\begin{align}\n",
    "  \\mathbf{x}(1) &= \\mathbf{A}\\mathbf{x}(0) + \\mathbf{B}\\mathbf{u}(0) \\\\\n",
    "  \\mathbf{x}(2) &= \\mathbf{A}\\mathbf{x}(1) + \\mathbf{B}\\mathbf{u}(1) = \\mathbf{A}^2\\mathbf{x}(0) + \\mathbf{A}\\mathbf{B}\\mathbf{u}(0) + \\mathbf{B}\\mathbf{u}(1) \\\\\n",
    "  \\mathbf{x}(3) &= \\mathbf{A}\\mathbf{x}(2) + \\mathbf{B}\\mathbf{u}(2) = \\mathbf{A}^3\\mathbf{x}(0) + \\mathbf{A}^2\\mathbf{B}\\mathbf{u}(0) + \\mathbf{A}\\mathbf{B}\\mathbf{u}(1) + \\mathbf{B}\\mathbf{u}(2) \\\\\n",
    "  \\vdots \\\\\n",
    "  \\mathbf{x}(k) &= \\mathbf{A}^k\\mathbf{x}(0) + \\sum_{l=0}^{k-1}\\mathbf{A}^{k-1-l}\\mathbf{B}\\mathbf{u}(l) \\qquad k \\ge 0\n",
    "\\end{align}"
   ]
  },
  {
   "cell_type": "markdown",
   "metadata": {},
   "source": [
    "L'équation de sortie est donc:\n",
    "\n",
    "$$ \\mathbf{y}(k) = \\mathbf{C}\\mathbf{A}^k\\mathbf{x}(0) + \\mathbf{C} \\sum_{l=0}^{k-1}\\mathbf{A}^{k-1-l}\\mathbf{B}\\mathbf{u}(l) + \\mathbf{D}\\mathbf{u}(l) \\qquad k \\ge 0 $$"
   ]
  },
  {
   "cell_type": "markdown",
   "metadata": {},
   "source": [
    "La matrice $\\mathbf{A}^k$ est appelée *matrice de transition discrète* et représente la transformation d'un vecteur $\\mathbf{x}_{k_1}$ à l'instant $k_1$ vers un vecteur $\\mathbf{x}_{k_2}$ à l'instant $k_2$."
   ]
  },
  {
   "cell_type": "markdown",
   "metadata": {},
   "source": [
    "A partir du modèle d'état discret, il est possible d'obtenir la matrice de transfert discrète du système."
   ]
  },
  {
   "cell_type": "markdown",
   "metadata": {},
   "source": [
    "En prenant la transformée en Z de l'équation d'état discrète, celle-ci devient:\n",
    "\n",
    "$$ z\\mathbf{X}(z) - z\\mathbf{x}(0) = \\mathbf{A}\\mathbf{X}(z) + \\mathbf{B}\\mathbf{U}(z) $$"
   ]
  },
  {
   "cell_type": "markdown",
   "metadata": {},
   "source": [
    "Finalement:\n",
    "\n",
    "$$ \\mathbf{X}(z) = z(z\\mathbf{I} - \\mathbf{A})^{-1}\\mathbf{x}(0) + (z\\mathbf{I} - \\mathbf{A})^{-1}\\mathbf{B}\\mathbf{U}(z) $$"
   ]
  },
  {
   "cell_type": "markdown",
   "metadata": {},
   "source": [
    "La matrice $(z\\mathbf{I} - \\mathbf{A})^{-1}$ est appelée *matrice résolante*."
   ]
  },
  {
   "cell_type": "markdown",
   "metadata": {},
   "source": [
    "L'équation de sortie devient alors:\n",
    "\n",
    "$$ \\mathbf{Y}(z) = z\\mathbf{C}(z\\mathbf{I} - \\mathbf{A})^{-1}\\mathbf{x}(0) + \\left( \\mathbf{C}(z\\mathbf{I} - \\mathbf{A})^{-1}\\mathbf{B} + \\mathbf{D} \\right) \\mathbf{U}(z) $$"
   ]
  },
  {
   "cell_type": "markdown",
   "metadata": {},
   "source": [
    "Lorsque les conditions initiales sont nulles:\n",
    "\n",
    "$$ \\mathbf{Y}(z) = \\left( \\mathbf{C}(z\\mathbf{I} - \\mathbf{A})^{-1}\\mathbf{B} + \\mathbf{D} \\right) \\mathbf{U}(z) $$"
   ]
  },
  {
   "cell_type": "markdown",
   "metadata": {},
   "source": [
    "La matrice $\\left( \\mathbf{C}(z\\mathbf{I} - \\mathbf{A})^{-1}\\mathbf{B} + \\mathbf{D} \\right)$ est appelée *matrice de transfert discrète* du système."
   ]
  },
  {
   "cell_type": "markdown",
   "metadata": {},
   "source": [
    "## Exercices"
   ]
  }
 ],
 "metadata": {
  "kernelspec": {
   "display_name": "Python 3",
   "language": "python",
   "name": "python3"
  },
  "language_info": {
   "codemirror_mode": {
    "name": "ipython",
    "version": 3
   },
   "file_extension": ".py",
   "mimetype": "text/x-python",
   "name": "python",
   "nbconvert_exporter": "python",
   "pygments_lexer": "ipython3",
   "version": "3.7.3"
  }
 },
 "nbformat": 4,
 "nbformat_minor": 4
}
