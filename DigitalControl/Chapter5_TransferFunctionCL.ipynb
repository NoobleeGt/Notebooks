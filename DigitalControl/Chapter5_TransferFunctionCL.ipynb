{
 "cells": [
  {
   "cell_type": "markdown",
   "metadata": {
    "slideshow": {
     "slide_type": "slide"
    }
   },
   "source": [
    "# Fonction de transfert du système bouclé"
   ]
  },
  {
   "cell_type": "markdown",
   "metadata": {
    "slideshow": {
     "slide_type": "slide"
    }
   },
   "source": [
    "## Introduction"
   ]
  },
  {
   "cell_type": "markdown",
   "metadata": {
    "slideshow": {
     "slide_type": "subslide"
    }
   },
   "source": [
    "![Commande digitale](Images/Chapter3/digital_control.png)"
   ]
  },
  {
   "cell_type": "markdown",
   "metadata": {
    "slideshow": {
     "slide_type": "fragment"
    }
   },
   "source": [
    "La partie en grisée de ce schéma peut être vue comme la vue échantillonnée du *Système à commande* que possède *Algorithme*. D'un point de vue extérieur, ce système est discret car son entrée est la suite $\\left\\{u(kh)\\right\\}$ et sa sortie est la suite $\\left\\{y(kh)\\right\\}$."
   ]
  },
  {
   "cell_type": "markdown",
   "metadata": {
    "slideshow": {
     "slide_type": "fragment"
    }
   },
   "source": [
    "La fonction de transfert reliant $\\left\\{u(kh)\\right\\}$ à $\\left\\{y(kh)\\right\\}$ est appelée fonction de transfert échantillonnée."
   ]
  },
  {
   "cell_type": "markdown",
   "metadata": {
    "slideshow": {
     "slide_type": "slide"
    }
   },
   "source": [
    "## Echantillonnage du système à commander"
   ]
  },
  {
   "cell_type": "markdown",
   "metadata": {
    "slideshow": {
     "slide_type": "subslide"
    }
   },
   "source": [
    "### Théorème 5.1\n",
    "\n",
    "Supposons que le processus à commander analogique soit au repos, linéaire, causal et stationnaire; soit G(s) sa fonction de transfert. Alors la mise en série du convertisseur digital-analogique, du système à commander et du convertisseur analogique-digital est un processus discret décrit par la fonction de transfert discrète:\n",
    "\n",
    "$$ G(z) = (1 - z^{-1}) \\mathscr{Z}\\left\\{ \\mathscr{L}^{-1} \\left(\\frac{G(s)}{s}\\right) \\right\\}$$"
   ]
  },
  {
   "cell_type": "markdown",
   "metadata": {
    "slideshow": {
     "slide_type": "subslide"
    }
   },
   "source": [
    "Il est facile de démontrer cette formule en imposant, au point 2, un signal discret en forme d'échelon unité. Le signal discret au point 2 vaut donc:\n",
    "\n",
    "$$ \\left\\{u(kh)\\right\\} = \\{\\dots, 0, \\mathbf{1}, 1, 1, 1, \\dots\\} $$\n",
    "\n",
    "dont la transformée en $z$ vaut:\n",
    "\n",
    "$$ U(z) = \\frac{z}{z-1} $$\n",
    "\n",
    "Le passage à travers *D-A* en fait un échelon unité analogique dont la transformée de Laplace vaut $1/s$. Cette commande analogique est alors appliquée au *Système à commande* dont la fonction de transfert vaut $G(s)$, résultant en la sortie:\n",
    "\n",
    "$$ Y(s) = \\frac{G(s)}{s} $$\n",
    "\n",
    "Ce dernier signal est ensuite discrétisé. Pour en déterminer la transformée en $z$, il faut d'abord transformer la sortie depuis le domaine de Laplace vers le domaine temporel, puis de prendre la transformée en $z$ de ce signal. Ce qui donne:\n",
    "\n",
    "$$ Y(z) = \\mathscr{Z} \\left\\{ \\mathscr{L}^{-1} \\left( \\frac{G(s)}{s} \\right) \\right\\} $$\n",
    "\n",
    "La fonction de transfert totale étant donnée par la sortie sur l'entrée, on obtient:\n",
    "\n",
    "$$ \\frac{Y(z)}{U(z)} = \\frac{\\mathscr{Z} \\left\\{ \\mathscr{L}^{-1} \\left( \\frac{G(s)}{s} \\right) \\right\\}}{\\frac{z}{z-1}} = (1-z^{-1}) \\mathscr{Z} \\left\\{ \\mathscr{L}^{-1} \\left( \\frac{G(s)}{s} \\right) \\right\\} $$\n",
    "***"
   ]
  },
  {
   "cell_type": "markdown",
   "metadata": {
    "slideshow": {
     "slide_type": "subslide"
    }
   },
   "source": [
    "En général, $G(s)$ contient:\n",
    "\n",
    "- une description linéaire du processus autour du point de fonctionnement choisi\n",
    "- le filtre de garde\n",
    "- l'actionneur\n",
    "\n",
    "Elle peut aussi contenir une description du capteur si ce dernier n'est pas négligeable."
   ]
  },
  {
   "cell_type": "markdown",
   "metadata": {
    "slideshow": {
     "slide_type": "slide"
    }
   },
   "source": [
    "#### Exercice\n",
    "\n",
    "Déterminer la fonction de transfert discrète du système analogique suivant, lorsque la période d'échantillonnage vaut $h=0,025\\:\\mathrm{s}$:\n",
    "\n",
    "$$ G(s) = \\frac{4}{s(s+2)} $$\n",
    "\n",
    "Réponse:\n",
    "\n",
    "$$ G(z) = \\frac{10^{-3} (1.23z + 1.21)}{z^2 - 1.95z + 0.95} $$\n",
    "***"
   ]
  },
  {
   "cell_type": "markdown",
   "metadata": {
    "slideshow": {
     "slide_type": "slide"
    }
   },
   "source": [
    "Lors de l'échantillonnage, soit du passage d'une fonction de transfert en $s$ vers une fonction de transfert en $z$, on remarque, grâce à la table des transformées, la relation suivante:\n",
    "\n",
    "$$ z = e^{sh} $$\n",
    "\n",
    "Les pôles de G(z) dépendent donc de la période d'échantillonnage !"
   ]
  },
  {
   "cell_type": "markdown",
   "metadata": {
    "slideshow": {
     "slide_type": "subslide"
    }
   },
   "source": [
    "#### Exemple"
   ]
  },
  {
   "cell_type": "code",
   "execution_count": 6,
   "metadata": {
    "slideshow": {
     "slide_type": "fragment"
    }
   },
   "outputs": [
    {
     "name": "stdout",
     "output_type": "stream",
     "text": [
      "Le pôle discret vaut: 0.1353352832366127\n"
     ]
    }
   ],
   "source": [
    "import math\n",
    "\n",
    "h = 1  # modifier cette valeur pour voir la transformation\n",
    "\n",
    "s = -2\n",
    "z = math.exp(s*h)\n",
    "\n",
    "print('Le pôle discret vaut: {}'.format(z))"
   ]
  },
  {
   "cell_type": "markdown",
   "metadata": {
    "slideshow": {
     "slide_type": "fragment"
    }
   },
   "source": [
    "Au plus $h$ est petit, au plus $z$ tend vers 1; au plus $h$ est grand, au plus $z$ tend vers 0.\n",
    "***"
   ]
  },
  {
   "cell_type": "markdown",
   "metadata": {
    "slideshow": {
     "slide_type": "fragment"
    }
   },
   "source": [
    "Cet exemple montre pourquoi il est important de tenir compte de l'échantillonnage le plus tôt possible dans la conception d'une boucle fermée."
   ]
  },
  {
   "cell_type": "markdown",
   "metadata": {
    "slideshow": {
     "slide_type": "slide"
    }
   },
   "source": [
    "Il est intéressant d'étudier plus en détail cette transformation. Tout d'abord, il est à remarquer que la fonction est périodique de période $\\omega_e$:\n",
    "\n",
    "$$ e^{(s+j\\omega_e)h} = e^{sh}e^{j\\omega_e h} = e^{sh}e^{j2\\pi} = e^{sh} $$\n",
    "\n",
    "car $\\omega_e = \\frac{2\\pi}{h}$\n",
    "\n",
    "La fonction peut donc être étudiée dans la région $-\\omega_e/2 = -\\omega_N \\leq \\mathrm{IM} s < \\omega_e/2 = \\omega_N$."
   ]
  },
  {
   "cell_type": "markdown",
   "metadata": {
    "slideshow": {
     "slide_type": "subslide"
    }
   },
   "source": [
    "On pose:\n",
    "\n",
    "$$ s = \\sigma + j\\omega \\qquad \\omega \\in [-\\omega_N, \\omega_N] $$\n",
    "\n",
    "Son image dans le domaine $z$ est:\n",
    "\n",
    "$$ z = e^{sh} = e^{\\sigma h}e^{j\\omega h} $$"
   ]
  },
  {
   "cell_type": "markdown",
   "metadata": {
    "slideshow": {
     "slide_type": "subslide"
    }
   },
   "source": [
    "Utilisons le code suivant pour visualiser la transformation du plan $s$ vers le plan $z$. Testons successivement les cas suivants:\n",
    "\n",
    "- $\\sigma = 0 \\; \\text{et} \\; \\omega \\in [-\\omega_N, \\omega_N]$\n",
    "- $\\sigma = c \\; \\text{et} \\; \\omega \\in [-\\omega_N, \\omega_N]$\n",
    "- $\\sigma \\in [0, c_2] \\; \\text{et} \\; \\omega \\in [-\\omega_N, \\omega_N]$\n",
    "- $\\sigma \\in [c_1, c_2] \\; \\text{et} \\; \\omega \\in [-\\omega_N, \\omega_N]$"
   ]
  },
  {
   "cell_type": "code",
   "execution_count": 7,
   "metadata": {
    "slideshow": {
     "slide_type": "skip"
    }
   },
   "outputs": [],
   "source": [
    "%matplotlib inline\n",
    "import matplotlib.pyplot as plt\n",
    "plt.style.use('../my_params.mplstyle')"
   ]
  },
  {
   "cell_type": "code",
   "execution_count": 8,
   "metadata": {
    "slideshow": {
     "slide_type": "skip"
    }
   },
   "outputs": [],
   "source": [
    "def sign(x):\n",
    "    return x / abs(x)\n",
    "\n",
    "def plot_ax1():    \n",
    "    ax1 = plt.subplot(121)\n",
    "    ax1.plot(sigma, omega, '-', label='s plane')\n",
    "    ax1.plot(limit, omega_n, '-', color='steelblue')\n",
    "    ax1.plot(limit, omega_p, '-', color='steelblue')\n",
    "    ax1.set_xticks([limit[0], 0, -limit[0]])\n",
    "    ax1.set_xticklabels([r'-$\\infty$', 0, r'$\\infty$'])\n",
    "    ax1.set_yticks([omega[0], 0, omega[-1]])\n",
    "    ax1.set_yticklabels([r'-$\\omega_N$', 0, r'$\\omega_N$'])\n",
    "    ax1.set_xlabel('Re')\n",
    "    ax1.set_ylabel('Im')\n",
    "    ax1.legend()\n",
    "\n",
    "def plot_ax2():\n",
    "    ax2 = plt.subplot(122, projection='polar')\n",
    "    ax2.plot(phase_z, magn_z, label='z plane')\n",
    "    ax2.set_rticks([0, 1])\n",
    "    ax2.legend(loc=8)"
   ]
  },
  {
   "cell_type": "code",
   "execution_count": 9,
   "metadata": {
    "slideshow": {
     "slide_type": "subslide"
    }
   },
   "outputs": [],
   "source": [
    "h = 0.025\n",
    "omega_N = math.pi / h\n",
    "\n",
    "c1 = -50  # changer cette valeur (c1 < c2)\n",
    "c2 = -70  # changer cette valeur\n",
    "\n",
    "sigma = [\n",
    "    abs(i) * c2 / 100 \n",
    "    if abs(i) * c2 / 100 <= c1 else c1 \n",
    "    for i in range(-101, 101)\n",
    "]\n",
    "omega = [i * omega_N / 100 for i in range(-101, 101)]\n",
    "\n",
    "limit = [i for i in range(2*c2 if not c2 == 0 else -50, c2)]\n",
    "omega_n = [omega[0] for i in range(2*c2 if not c2 == 0 else -50, c2)]\n",
    "omega_p = [omega[-1] for i in range(2*c2 if not c2 == 0 else -50, c2)]\n",
    "\n",
    "magn_z = [math.exp(s*h) for s in sigma]\n",
    "phase_z = [o * h for o in omega]"
   ]
  },
  {
   "cell_type": "code",
   "execution_count": 10,
   "metadata": {
    "slideshow": {
     "slide_type": "subslide"
    }
   },
   "outputs": [
    {
     "data": {
      "image/png": "[encoded data removed]",
      "text/plain": [
       "<Figure size 600x375 with 2 Axes>"
      ]
     },
     "metadata": {
      "needs_background": "light"
     },
     "output_type": "display_data"
    }
   ],
   "source": [
    "plot_ax1()\n",
    "plot_ax2()"
   ]
  },
  {
   "cell_type": "markdown",
   "metadata": {
    "slideshow": {
     "slide_type": "slide"
    }
   },
   "source": [
    "## Fonction de transfert du système bouclé"
   ]
  },
  {
   "cell_type": "markdown",
   "metadata": {},
   "source": [
    "Le système en boucle fermée peut être décrit par le schéma fonctionnel ci-dessous:"
   ]
  },
  {
   "cell_type": "markdown",
   "metadata": {},
   "source": [
    "![](Images/Chapter5/control_loop.png)"
   ]
  },
  {
   "cell_type": "markdown",
   "metadata": {},
   "source": [
    "Sur ce schéma, on retrouve:\n",
    "\n",
    "- la consigne $Y_c(z)$ contenue dans l'algorithme\n",
    "- le régulateur $K(z)$\n",
    "- le convertisseur $D-A$ transformant la commande numérique $U(z)$ en commande analogique\n",
    "- la perturbation $W(s)$\n",
    "- le système à commander, décrit par la fonction de transfert $G(s)$\n",
    "- le convertisseur $A-D$ transformant la sortie du système en sortie discrète $Y(z)$ "
   ]
  },
  {
   "cell_type": "markdown",
   "metadata": {},
   "source": [
    "On peut définir, comme pour les systèmes analogiques, les problèmes d'asservissement et de régulation:\n",
    "\n",
    "- en annulant $Y_c(z)$, le système doit rejeter la perturbation $W(s)$; c'est le problème de régulation\n",
    "- en annulant $W(s)$, le système doit poursuivre la consigne $Y_c(z)$; c'est le problème d'asservissement"
   ]
  },
  {
   "cell_type": "markdown",
   "metadata": {},
   "source": [
    "Seulement, ce schéma fait intervenir des éléments de différentes natures. On y retrouve des signaux discrets, des signaux continus et des convertisseurs $A-D$ et $D-A$."
   ]
  },
  {
   "cell_type": "markdown",
   "metadata": {},
   "source": [
    "En émettant l'hypothèse que la perturbation $W(s)$ est lente, et en considérant $G(z) = (1-z^{-1})\\mathscr{Z}\\left\\{\\mathscr{L}^{-1}(\\frac{G(s)}{s})\\right\\}$, la transformée en $z$ reliant $Y(z)$ à $U(z)$ lorsque la perturbation est nulle, on retrouve le schéma fonctionnel suivant, en ajoutant le bruit de mesure $V(z)$."
   ]
  },
  {
   "cell_type": "markdown",
   "metadata": {},
   "source": [
    "![](Images/Chapter5/control_loop_noise.png)"
   ]
  },
  {
   "cell_type": "markdown",
   "metadata": {},
   "source": [
    "En considérant les entrées $Y_c(z)$, $W(z)$ et $V(z)$ et les signaux $Y'(z)$, $E(z)$ et $U'(z)$, on obtient les fonctions de transfert suivantes:\n",
    "\n",
    "$$ \\begin{bmatrix}\n",
    "     Y'(z) \\\\ E(z) \\\\ U'(z)\n",
    "   \\end{bmatrix}\n",
    "   = \\frac{1}{1+K(z)G(z)}\n",
    "   \\begin{bmatrix}\n",
    "     K(z)G(z) & G(z) & 1 \\\\\n",
    "     1 & -G(z) & -1 \\\\\n",
    "     K(z) & 1 & -K(z)\n",
    "   \\end{bmatrix}\n",
    "   \\begin{bmatrix}\n",
    "     Y_c(z) \\\\ W(z) \\\\ V(z)\n",
    "   \\end{bmatrix}\n",
    "$$"
   ]
  },
  {
   "cell_type": "markdown",
   "metadata": {},
   "source": [
    "Parmi ces fonctions de transfert, 2 d'entres elles portent un nom spécifique au vu de leur importance."
   ]
  },
  {
   "cell_type": "markdown",
   "metadata": {},
   "source": [
    "#### Définition\n",
    "\n",
    "La fonction de transfert suivante est appelée fonction de sensibilité:\n",
    "\n",
    "$$ S(z) = \\frac{1}{1+K(z)G(z)} $$\n",
    "\n",
    "La fonction de transfert suivante est appelée fonction de sensibilité complémentaire:\n",
    "\n",
    "$$ T(z) = \\frac{K(z)G(z)}{1+K(z)G(z)} $$"
   ]
  },
  {
   "cell_type": "markdown",
   "metadata": {},
   "source": [
    "En passant, on remarque les relations suivantes:\n",
    "\n",
    "$$ S(z) = \\frac{E(z)}{Y_c(z)} = \\frac{U'(z)}{W(z)} = \\frac{Y'(z)}{V(z)} = -\\frac{E(z)}{V(z)} $$\n",
    "\n",
    "$$ T(z) = \\frac{Y(z)}{Y_c(z)} = -\\frac{U(z)}{W(z)} = -\\frac{Y(z)}{V(z)} $$"
   ]
  },
  {
   "cell_type": "markdown",
   "metadata": {},
   "source": [
    "Ces 2 fonctions de transfert sont liées par la relation suivante, ayant de grosses conséquences obligeant à trouver des compromis:\n",
    "\n",
    "$$ S(z) + T(z) = \\frac{1}{1+K(z)G(z)} + \\frac{K(z)G(z)}{1+K(z)G(z)} = 1 $$"
   ]
  },
  {
   "cell_type": "markdown",
   "metadata": {},
   "source": [
    "Dans la relation matricielle vue plus haut, on retrouve 4 fonctions de transfert différentes:\n",
    "\n",
    "$$ \\frac{K(z)G(z)}{1+K(z)G(z)} \\qquad \\frac{1}{1+K(z)G(z)} \\qquad \\frac{G(z)}{1+K(z)G(z)} \\qquad \\frac{K(z)}{1+K(z)G(z)} $$\n",
    "\n",
    "Ces fonctions de transfert permettent de déterminer n'importe quel relation entrée-sortie du système en boucle fermée. Elles sont souvent référencées comme le *gang des quatre*."
   ]
  },
  {
   "cell_type": "markdown",
   "metadata": {},
   "source": [
    "Ce qu'il faut en retenir principalement est que, lors de la synthèse d'un régulateur pour un problème d'asservissement, on est souvent tenté de simplifier un pôle de $G(z)$ par un zéro de $K(z)$. En supposant que cette simplification soit parfaite, on pourrait simplifier un pôle instable de $G(z)$, ce qui permettrait de stabiliser un système instable. Cependant, si une perturbation intervient, la fonction de transfert liant $Y(z)$ à $W(z)$, qui s'écrit\n",
    "\n",
    "$$ \\frac{Y(z)}{W(z)} = \\frac{G(z)}{1+K(z)G(z)} $$\n",
    "\n",
    "contiendra toujours le pôle instable, même en boucle fermée. Le système sera donc stable tant qu'aucune perturbation ne survient. Sinon il redeviendra instable."
   ]
  }
 ],
 "metadata": {
  "celltoolbar": "Diaporama",
  "kernelspec": {
   "display_name": "Python 3",
   "language": "python",
   "name": "python3"
  },
  "language_info": {
   "codemirror_mode": {
    "name": "ipython",
    "version": 3
   },
   "file_extension": ".py",
   "mimetype": "text/x-python",
   "name": "python",
   "nbconvert_exporter": "python",
   "pygments_lexer": "ipython3",
   "version": "3.7.3"
  }
 },
 "nbformat": 4,
 "nbformat_minor": 4
}
