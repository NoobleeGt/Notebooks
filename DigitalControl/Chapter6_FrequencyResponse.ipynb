{
 "cells": [
  {
   "cell_type": "markdown",
   "metadata": {},
   "source": [
    "# 6. Réponse harmonique"
   ]
  },
  {
   "cell_type": "markdown",
   "metadata": {},
   "source": [
    "## 6.1 Introduction"
   ]
  },
  {
   "cell_type": "markdown",
   "metadata": {},
   "source": [
    "La réponse harmonique est la réponse du système $G(z)$ à l'entrée $\\left\\{u(kh)\\right\\} = sin(\\omega kh)$ pour différentes valeurs de $\\omega$."
   ]
  },
  {
   "cell_type": "markdown",
   "metadata": {},
   "source": [
    "## 6.2 Fonction de transfert harmonique"
   ]
  },
  {
   "cell_type": "markdown",
   "metadata": {},
   "source": [
    "La question à se poser est la suivante: quelle est la sortie du système lorsqu'on injecte en son entrée une sinusoïde $a\\sin(\\omega kh), \\; k \\geq 0$.\n",
    "\n",
    "Par la propriété de linéarité, et en se souvenant de la formule suivante:\n",
    "\n",
    "$$ e^{j\\varphi} = \\cos{\\varphi} + j\\sin{\\varphi} $$\n",
    "\n",
    "il est équivalent de rechercher la partie imaginaire de la réponse $y(kh)$ à une entrée $u(kh) = ae^{j\\omega kh}, \\; k \\geq 0$.\n",
    "\n",
    "Toujours par la propriété de linéarité, $a$ n'étant qu'un simple facteur multiplicateur, poser $a=1$ ne modifiera rien au développement."
   ]
  },
  {
   "cell_type": "markdown",
   "metadata": {},
   "source": [
    "L'entrée devient, grâce au tableau des transformées:\n",
    "\n",
    "$$ U(z) = \\frac{z}{z-e^{j\\omega h}} $$\n",
    "\n",
    "Et, par conséquent:\n",
    "\n",
    "$$ Y(z) = G(z)\\frac{z}{z-e^{j\\omega h}} $$"
   ]
  },
  {
   "cell_type": "markdown",
   "metadata": {},
   "source": [
    "Afin de simplifier le développement, supposons que $G(z)$ ne possède que des pôles simples à l'intérieur du cercle unité. La décomposition en éléments simples donne alors:\n",
    "\n",
    "$$ Y(z) = c_0 + \\frac{c_1 z}{z-p_1} + \\frac{c_2 z}{z-p_2} + \\dots + \\frac{c_n z}{z-p_n} + \\frac{c z}{z-e^{j\\omega h}}$$\n",
    "\n",
    "La sortie temporelle est donc:\n",
    "\n",
    "$$ y(kh) = c_0 \\Delta(kh) + c_1 p_1^k + c_2 p_2^k + \\dots + c_n p_n^k + c e^{j\\omega kh} $$\n",
    "\n",
    "Comme tous les pôles sont à l'intérieur du cercle unité, soit $|p_i| < 1, \\; i = 1, 2, \\dots, n$, la sortie $y(kh)$ contient une partie transitoire tendant à disparaître lorsque $k \\rightarrow \\infty$ et une partie permanente représentée par le pôle de l'entrée $U(z)$."
   ]
  },
  {
   "cell_type": "markdown",
   "metadata": {},
   "source": [
    "Le calcul du coefficient $c$ se fait ainsi:\n",
    "\n",
    "\\begin{align}\n",
    "c &= \\lim_{z \\rightarrow e^{j\\omega h}} \\left( \\frac{z-e^{j\\omega h}}{z}Y(z) \\right) \\\\\n",
    "  &= \\lim_{z \\rightarrow e^{j\\omega h}} \\left( \\frac{z-e^{j\\omega h}}{z} G(z) \\frac{z}{z-e^{j\\omega h}} \\right) = G(e^{j\\omega h})\n",
    "\\end{align}"
   ]
  },
  {
   "cell_type": "markdown",
   "metadata": {},
   "source": [
    "Le régime permanent $c e^{j\\omega kh}$ devient donc:\n",
    "\n",
    "$$ G(e^{j\\omega h})e^{j\\omega kh} = \\left| G(e^{j\\omega h}) \\right| e^{j\\left(\\omega kh + \\arg{G(e^{j\\omega h}})\\right)} $$\n",
    "\n",
    "En ne gardant que la partie imaginaire, on obtient finalement:\n",
    "\n",
    "$$ \\left| G(e^{j\\omega h}) \\right| \\sin{\\left(\\omega kh + \\arg{G(e^{j\\omega h}})\\right)}  \\qquad k \\geq 0 $$\n",
    "\n",
    "Cette dernière expression est appelée la réponse harmonique. La fonction de transfert harmonique discrète $G(e^{j\\omega h})$ est obtenue en remplaçant $z$ par $e^{j\\omega h}$ dans $G(z)$."
   ]
  },
  {
   "cell_type": "markdown",
   "metadata": {},
   "source": [
    "Il est facile de remarquer que $G(e^{j\\omega h})$ est périodique de période $\\omega_e = 2\\pi /h$:\n",
    "\n",
    "$$ G(e^{j(\\omega + \\frac{2\\pi}{h}) h}) = G(e^{j\\omega h}) $$"
   ]
  },
  {
   "cell_type": "markdown",
   "metadata": {},
   "source": [
    "Aussi, malgré que $\\omega$ peut théoriquement prendre des valeurs allant de $[O \\dots \\infty[$, le théorème de Shannon impose de limiter les valeurs à $\\omega \\in [0 \\dots \\omega_N], \\; \\omega_N \\leq \\omega_e / 2$."
   ]
  },
  {
   "cell_type": "markdown",
   "metadata": {},
   "source": [
    "#### Exemple\n",
    "Soit la fonction de transfert suivante:\n",
    "\n",
    "$$ G(z) = \\frac{0.5}{z-0.5} $$\n",
    "\n",
    "Avec $h=1\\; \\mathrm{s}$, la fonction de transfert harmonique est:\n",
    "\n",
    "$$ G(e^{j\\omega}) = \\frac{0.5}{e^{j\\omega}-0.5} $$\n",
    "\n",
    "D'où:\n",
    "\n",
    "$$ \\left| G(e^{j\\omega}) \\right| = \\frac{0.5}{\\sqrt{\\cos{\\omega} - 0.5}} $$\n",
    "$$ \\arg{G(e^{j\\omega})} = - \\arctan{\\frac{\\sin{\\omega}}{\\cos{\\omega} - 0.5}} $$\n",
    "\n",
    "Le code ci-dessous permet de tracer l'évolution de l'amplitude et de la phase en fonction de $\\omega$."
   ]
  },
  {
   "cell_type": "code",
   "execution_count": 2,
   "metadata": {},
   "outputs": [],
   "source": [
    "%matplotlib inline\n",
    "import matplotlib.pyplot as plt\n",
    "plt.style.use('../my_params.mplstyle')\n",
    "\n",
    "import math\n",
    "import control"
   ]
  },
  {
   "cell_type": "code",
   "execution_count": 3,
   "metadata": {},
   "outputs": [],
   "source": [
    "def plot_axs():\n",
    "    fig, axs = plt.subplots(2, 1, constrained_layout=True)\n",
    "    axs[0].plot(omega, magn, '-', label='magn')\n",
    "    axs[1].plot(omega, phase, '-', label='phase')\n",
    "    axs[0].set_yticks([0, 0.5, 1])\n",
    "    axs[1].set_yticks([math.pi, math.pi/2, 0, -math.pi/2, -math.pi])\n",
    "    axs[1].set_yticklabels([r'-$\\pi$', r'-$\\frac{\\pi}{2}$', 0, r'-$\\frac{\\pi}{2}$', r'-$\\pi$'])\n",
    "\n",
    "    for i in range(len(axs)):\n",
    "        axs[i].set_xlabel(r'$\\omega$')\n",
    "        xticks = [math.pi/2, math.pi]\n",
    "        xticklabels = [r'$\\frac{\\pi}{2}$', r'$\\omega_N=\\pi$']\n",
    "        for j in range(N-1 if N >= 2 else 0):\n",
    "            xticks.append((j+2) * math.pi)\n",
    "            xticklabels.append(\n",
    "                r'{}$\\omega_N$'.format(j+2)\n",
    "                if (j+2) % 2 else r'{}$\\omega_e$'.format(\n",
    "                    int((j+2)/2) if (j+2)/2 > 1 else '')\n",
    "            )\n",
    "        axs[i].set_xticks(xticks)\n",
    "        axs[i].set_xticklabels(xticklabels)\n",
    "        axs[i].legend()"
   ]
  },
  {
   "cell_type": "code",
   "execution_count": 4,
   "metadata": {},
   "outputs": [],
   "source": [
    "N = 5\n",
    "\n",
    "omega = [math.pi * i / 100 for i in range(N*100)]\n",
    "\n",
    "magn = [0.5/(math.sqrt(1.25-math.cos(w))) for w in omega]\n",
    "phase = [-math.atan2(math.sin(w), (math.cos(w)-0.5)) for w in omega]"
   ]
  },
  {
   "cell_type": "code",
   "execution_count": 5,
   "metadata": {},
   "outputs": [
    {
     "data": {
      "image/png": "[encoded data removed]",
      "text/plain": [
       "<Figure size 432x288 with 2 Axes>"
      ]
     },
     "metadata": {
      "needs_background": "light"
     },
     "output_type": "display_data"
    }
   ],
   "source": [
    "plot_axs()"
   ]
  },
  {
   "cell_type": "markdown",
   "metadata": {},
   "source": [
    "La réponse de ce système à une sinusoïde peut être visualisée à l'aide du code suivant:"
   ]
  },
  {
   "cell_type": "code",
   "execution_count": 6,
   "metadata": {},
   "outputs": [],
   "source": [
    "h = 1\n",
    "omega = math.pi / 8  # try 8, 4 and 2\n",
    "\n",
    "time = [i for i in range(51)]\n",
    "u = [math.sin(omega*h*k) for k in range(51)]\n",
    "\n",
    "G = control.tf([0.5], [1, -0.5], True)\n",
    "_, y, _ = control.forced_response(G, time, u)"
   ]
  },
  {
   "cell_type": "code",
   "execution_count": 7,
   "metadata": {},
   "outputs": [
    {
     "data": {
      "image/png": "[encoded data removed]",
      "text/plain": [
       "<Figure size 432x288 with 1 Axes>"
      ]
     },
     "metadata": {
      "needs_background": "light"
     },
     "output_type": "display_data"
    }
   ],
   "source": [
    "fig, ax = plt.subplots()\n",
    "ax.plot(time, u, '.-', label='u')\n",
    "ax.plot(time, y, '.-', label='y')\n",
    "_ = ax.legend()"
   ]
  },
  {
   "cell_type": "markdown",
   "metadata": {},
   "source": [
    "## 6.3 Réponse harmonique en boucle ouverte"
   ]
  },
  {
   "cell_type": "markdown",
   "metadata": {},
   "source": [
    "### Echantillonnage à impulsions"
   ]
  },
  {
   "cell_type": "markdown",
   "metadata": {},
   "source": [
    "![commande digitale](Images/digital_control_2.svg)"
   ]
  },
  {
   "cell_type": "markdown",
   "metadata": {},
   "source": [
    "Cette fois-ci, analysons l'ensemble en grisé comme étant la vue analogique de l'algorithme. Cette vue permettra d'en déduire le comportement fréquenciel."
   ]
  },
  {
   "cell_type": "markdown",
   "metadata": {},
   "source": [
    "Pour commencer, le convertisseur $A-D$ ne fait qu'échantillonner un signal analogique. En négligeant la quantification, le signal obtenu est égal au signal continu aux instants d'échantillonnage."
   ]
  },
  {
   "cell_type": "markdown",
   "metadata": {},
   "source": [
    "Par contre, le convertisseur $D-A$ est différent. Il est souvent modélisé comme une opération en 2 étapes:\n",
    "- interrupteur se fermant aux instants d'échantillonnage, permettant de transformer le signal discret $u(kh)$ en signal continu\n",
    "$$ u^{*}(t) = \\left\\{\n",
    "  \\begin{array}{rl}\n",
    "    u(kh) \\qquad \\text{si}\\: t = kh \\\\\n",
    "    0 \\qquad \\text{si}\\: t \\neq kh\n",
    "  \\end{array} \\right. $$\n",
    "- une fonction de transfert créant un signal dont la valeur vaut $u*(t)$ pendant toute la période d'échantillonnage \n",
    "$$ F(s) = \\frac{1}{s}(1 - e^{-sh})$$"
   ]
  },
  {
   "cell_type": "markdown",
   "metadata": {},
   "source": [
    "La figure suivante montre le modèle du convertisseur:"
   ]
  },
  {
   "cell_type": "markdown",
   "metadata": {},
   "source": [
    "![Convertisseur D-A](Images/DA_converter.svg)"
   ]
  },
  {
   "cell_type": "markdown",
   "metadata": {},
   "source": [
    "L'étude de sa fonction de transfert harmonique donne:\n",
    "\n",
    "\\begin{align}\n",
    "  F(j\\omega) &= \\frac{1}{j\\omega}(1-e^{-j\\omega h}) \\\\\n",
    "  &= \\frac{1}{j\\omega}2je^{-j\\omega \\frac{h}{2}}\\frac{e^{j\\omega \\frac{h}{2}}-e^{-j\\omega \\frac{h}{2}}}{2j} \\\\\n",
    "  &= e^{-j\\omega \\frac{h}{2}} \\frac{2}{\\omega} \\sin{\\left( \\omega \\frac{h}{2} \\right)} \\\\\n",
    "  &= e^{-j\\omega \\frac{h}{2}} h \\frac{\\sin{\\left( \\omega \\frac{h}{2} \\right)}}{\\omega \\frac{h}{2}}\n",
    "\\end{align}"
   ]
  },
  {
   "cell_type": "markdown",
   "metadata": {},
   "source": [
    "D'où:\n",
    "\n",
    "$$ \\left| F(j\\omega) \\right| = h \\frac{\\left| \\sin{\\left( \\omega \\frac{h}{2} \\right)}\\right|}{\\omega \\frac{h}{2}}$$\n",
    "\n",
    "$$ \\arg{F(j\\omega)} = -\\omega \\frac{h}{2} $$"
   ]
  },
  {
   "cell_type": "markdown",
   "metadata": {},
   "source": [
    "Ce comportement est tracé ci-dessous:"
   ]
  },
  {
   "cell_type": "code",
   "execution_count": 8,
   "metadata": {},
   "outputs": [],
   "source": [
    "N = 6\n",
    "\n",
    "omega_e = 2 * math.pi\n",
    "\n",
    "omega = [math.pi * i / 100 for i in range(1, N*100)]\n",
    "\n",
    "magn = [abs(math.sin(w/2))/(w/2) for w in omega]\n",
    "phase = [-(w%omega_e)/2 for w in omega]"
   ]
  },
  {
   "cell_type": "code",
   "execution_count": 9,
   "metadata": {},
   "outputs": [
    {
     "data": {
      "image/png": "[encoded data removed]",
      "text/plain": [
       "<Figure size 432x288 with 2 Axes>"
      ]
     },
     "metadata": {
      "needs_background": "light"
     },
     "output_type": "display_data"
    }
   ],
   "source": [
    "plot_axs()"
   ]
  },
  {
   "cell_type": "markdown",
   "metadata": {},
   "source": [
    "Le convertisseur se comporte donc comme un filtre passe-bas, dont l'amplitude est nulle aux fréquences multiples de la fréquence d'échantillonnage."
   ]
  },
  {
   "cell_type": "markdown",
   "metadata": {},
   "source": [
    "#### Remarque\n",
    "Soit une entrée $u(kh)=\\sin{(2\\pi kh)}, \\: h=0.1\\: \\mathrm{s}$; la sortie du convertisseur passant par un bloqueur d'ordre zéro, elle est décomposable en une fondamentale et des harmoniques. La fondamentale est donnée par:\n",
    "\n",
    "$$ u(t) = 0.98 \\sin{\\left(2\\pi (t-0.05)\\right)} \\qquad t \\geq 0 $$\n",
    "\n",
    "Le convertisseur engendre donc un retard de $0.05\\: \\mathrm{s}$, soit une demi période d'échantillonnage."
   ]
  },
  {
   "cell_type": "markdown",
   "metadata": {},
   "source": [
    "La figure suivante permet de mieux se représenter cela:"
   ]
  },
  {
   "cell_type": "code",
   "execution_count": 10,
   "metadata": {},
   "outputs": [],
   "source": [
    "time = [i/100 for i in range(101)]\n",
    "\n",
    "time_s = [i/10 for i in range(10)]\n",
    "\n",
    "u_kh = [math.sin(2*math.pi*t) for t in time_s]\n",
    "\n",
    "u_t = [0.98 * math.sin(2*math.pi*(t-0.05)) for t in time]"
   ]
  },
  {
   "cell_type": "code",
   "execution_count": 11,
   "metadata": {},
   "outputs": [
    {
     "data": {
      "text/plain": [
       "<matplotlib.legend.Legend at 0x7f454fb616d8>"
      ]
     },
     "execution_count": 11,
     "metadata": {},
     "output_type": "execute_result"
    },
    {
     "data": {
      "image/png": "[encoded data removed]",
      "text/plain": [
       "<Figure size 432x288 with 1 Axes>"
      ]
     },
     "metadata": {
      "needs_background": "light"
     },
     "output_type": "display_data"
    }
   ],
   "source": [
    "fig, ax = plt.subplots()\n",
    "ax.plot(time, u_t, '--', label='first harmonic of u(t)')\n",
    "ax.step(time_s, u_kh, '.-', where='post', label='u(t)')\n",
    "ax.legend()"
   ]
  },
  {
   "cell_type": "markdown",
   "metadata": {},
   "source": [
    "Il est aisé de remarquer que la fondamentale passe par les mêmes points que le signal $u(t)$, mais avec un retard d'une demi période d'échantillonnage."
   ]
  },
  {
   "cell_type": "markdown",
   "metadata": {},
   "source": [
    "### Essai harmonique à différentes fréquences"
   ]
  },
  {
   "cell_type": "markdown",
   "metadata": {},
   "source": [
    "Au lieu d'effectuer un long développement mathématique, le plus simple est de réaliser des essais et d'en visualiser les résultats. Un exemple est proposé et le code permettra de recréer l'environnement de simulation correspondant."
   ]
  },
  {
   "cell_type": "markdown",
   "metadata": {},
   "source": [
    "#### Exemple\n",
    "Soit le système régulé, pour lequel:\n",
    "\n",
    "$$ K(z) = 1 $$\n",
    "\n",
    "$$ G(s) = \\frac{4}{s(s+2)} $$\n",
    "\n",
    "La période d'échantillonnage vaut $h=0.025\\; \\mathrm{s}$, soit $f_e = 40\\; \\mathrm{Hz}$."
   ]
  },
  {
   "cell_type": "code",
   "execution_count": 86,
   "metadata": {},
   "outputs": [],
   "source": [
    "h = 0.025\n",
    "\n",
    "f = 2 # try f = 2, 19, 39\n",
    "omega = 2 * math.pi * f\n",
    "\n",
    "time = [i/100000 for i in range(500001)]\n",
    "time_s = [i/40 for i in range(201)]\n",
    "\n",
    "e_t = [math.sin(omega * t) for t in time]\n",
    "\n",
    "u_kh = [math.sin(omega * t) for t in time_s]\n",
    "u_t = [u_kh[int(t//h)] for t in time]\n",
    "\n",
    "G = control.tf([4], [1, 2, 0])\n",
    "_, y_t, _ = control.forced_response(G, time, u_t)"
   ]
  },
  {
   "cell_type": "code",
   "execution_count": null,
   "metadata": {},
   "outputs": [
    {
     "data": {
      "text/plain": [
       "<matplotlib.legend.Legend at 0x7f454c528cf8>"
      ]
     },
     "execution_count": 87,
     "metadata": {},
     "output_type": "execute_result"
    }
   ],
   "source": [
    "fig, axs = plt.subplots(2, 1, constrained_layout=True)\n",
    "axs[0].plot(time, e_t, '-', label='e(t)')\n",
    "axs[1].plot(time, y_t, '-', label='y(t)')\n",
    "axs[0].legend()\n",
    "axs[1].legend()"
   ]
  },
  {
   "cell_type": "markdown",
   "metadata": {},
   "source": [
    "On remarque ce qui suit:\n",
    "- pour $f = 2\\; \\mathrm{Hz}$: la sortie $y(t)$ a la même fréquence que $e(t)$, avec une amplitude plus faible et un déphasage; c'est ce qu'on attend d'un filtre passe-bas analogique\n",
    "- pour $f = 19\\; \\mathrm{Hz}$: la sortie $y(t)$ a la même fréquence que $e(t)$ mais fait apparaître un battement dont la fréquence de l'enveloppe vaut $20 - 19 = 1\\; \\mathrm{Hz}$\n",
    "- pour $f = 39\\; \\mathrm{Hz}$: la sortie $y(t)$ a une fréquence de $40 - 39 = 1\\; \\mathrm{Hz}$"
   ]
  },
  {
   "cell_type": "markdown",
   "metadata": {},
   "source": [
    "Il est donc très important, non seulement de respecter la pulsation de Nyquist, mais aussi de s'en éloigner le plus possible. En effet, le deuxième essai respecte la condition du théorème de Shannon, et pourtant on voit apparaître un battement indésirable. Par contre, le premier essai étant suffisamment éloigné de la pulsation de Nyquist, le résultat est satisfaisant. Il est inutile de parler du dernier essai, les résultats étant très éloignés de ce à quoi on s'attendrait, le théorème de Shannon n'étant pas du tout respecté."
   ]
  }
 ],
 "metadata": {
  "kernelspec": {
   "display_name": "Python 3",
   "language": "python",
   "name": "python3"
  },
  "language_info": {
   "codemirror_mode": {
    "name": "ipython",
    "version": 3
   },
   "file_extension": ".py",
   "mimetype": "text/x-python",
   "name": "python",
   "nbconvert_exporter": "python",
   "pygments_lexer": "ipython3",
   "version": "3.5.3"
  }
 },
 "nbformat": 4,
 "nbformat_minor": 4
}
