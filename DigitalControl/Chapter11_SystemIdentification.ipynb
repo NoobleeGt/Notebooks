{
 "cells": [
  {
   "cell_type": "markdown",
   "metadata": {},
   "source": [
    "# Identification des systèmes"
   ]
  },
  {
   "cell_type": "markdown",
   "metadata": {},
   "source": [
    "## Introduction"
   ]
  },
  {
   "cell_type": "markdown",
   "metadata": {},
   "source": [
    "L'identification d'un système consiste à déterminer un modèle mathématique basé sur les entrées et les sorties de ce système. Ce modèle mathématique doit, en principe, lorsqu'il est soumis aux mêmes entrées, répondre de manière équivalente au système."
   ]
  },
  {
   "cell_type": "markdown",
   "metadata": {},
   "source": [
    "Il existe différents types de modèles:\n",
    "\n",
    "- modèles de connaissance: ces modèles sont déterminés grâce aux lois de la physique; ils sont utiles pour simuler précisément les comportements du système mais sont souvent trop complexes pour être utile à l'automaticien\n",
    "- modèles de conduite: modèle utilisé pour simuler le système dans la plage de fonctionnement utile afin d'aider à la synthèse d'un régulateur"
   ]
  },
  {
   "cell_type": "markdown",
   "metadata": {},
   "source": [
    "Un modèle peut donc être très différent en fonction des besoins."
   ]
  },
  {
   "cell_type": "markdown",
   "metadata": {},
   "source": [
    "En général, on essaie d'établir un modèle simple répondant à nos besoins. Les erreurs de modélisation (modes rapides négligés) et d'identification (erreurs sur le gain, le retard pur...) seront généralement absorbées par la boucle de régulation, d'où l'importance de la robustesse en pratique."
   ]
  },
  {
   "cell_type": "markdown",
   "metadata": {},
   "source": [
    "Il existe deux types de méthodes d'identification:\n",
    "\n",
    "- non paramétrique: le modèle est décrit sous forme de courbe et n'est pas représentable par un ensemble fini de nombres\n",
    "- paramétrique: le modèle est décrit par un ensemble fini de points (ex: fonction de transfert décrite par les coefficients du numérateur et du dénominateur)"
   ]
  },
  {
   "cell_type": "markdown",
   "metadata": {},
   "source": [
    "Dans ce chapitre, nous n'étudierons que les méthodes d'identification paramétriques pouvant se mettre sous la forme d'une régression linéaire."
   ]
  },
  {
   "cell_type": "markdown",
   "metadata": {},
   "source": [
    "## Prétraitement des signaux"
   ]
  },
  {
   "cell_type": "markdown",
   "metadata": {},
   "source": [
    "Afin d'effectuer l'identification dans de bonnes conditions, il convient de faire attention aux éléments suivants:\n",
    "\n",
    "- l'échantillonnage: pour les mêmes raisons que précédemment, la période d'échantillonnage sera choisie telle que $h = T_{95\\%}/N$ avec $30 < N < 60$\n",
    "- filtre antirepliement: il est choisi de telle manière à respecter le théorème de Shannon, soit $\\omega_c < 2/h$\n",
    "- filtrage de la composante continue: le modèle à identifier étant obtenu par la comparaison entre les variations en sortie et en entrée, il est recommandé de filtrer la composante continue via un changement de variable, ou d'utiliser un filtre passe-haut afin de ne garder que les variations\n",
    "- filtrage des bruits de mesure: si, malgré le filtre antirepliement, le bruit de mesure est toujours présent, il convient d'ajouter un filtre passe-bas de constante de temps $\\tau = T_{95\\%}/9$"
   ]
  },
  {
   "cell_type": "markdown",
   "metadata": {},
   "source": [
    "## Classes de modèles"
   ]
  },
  {
   "cell_type": "markdown",
   "metadata": {},
   "source": [
    "Il existe différentes classes de modèles *standards* pour l'identification. On peut citer, par exemple:\n",
    "\n",
    "- les modèles sous forme de fonctions de transfert\n",
    "- les modèles d'état\n",
    "- les modèles à paramètres distribués"
   ]
  },
  {
   "cell_type": "markdown",
   "metadata": {},
   "source": [
    "Nous étudierons principalement les modèles représentés par des fonctions de transfert au vu du contenu des chapitres précédents."
   ]
  },
  {
   "cell_type": "markdown",
   "metadata": {},
   "source": [
    "De manière générale, les modèles représentés par des fonctions de transfert peuvent être représentés par le schéma général suivant:"
   ]
  },
  {
   "cell_type": "markdown",
   "metadata": {},
   "source": [
    "![Modèles sous forme de fonctions de transfert](Images/Chapter11/LTI_models.png)"
   ]
  },
  {
   "cell_type": "markdown",
   "metadata": {},
   "source": [
    "Le modèle représente:\n",
    "\n",
    "- le processus à identifier reçoit le signal $U(z)$ et renvoie le signal $Y(z)$\n",
    "- $G(z)$ représente le processus physique dont $\\hat{Y}(z)$ est une estimation\n",
    "- $E(z)$ représente une perturbation; elle est souvent prise comme un bruit blanc aléatoire\n",
    "- $H(z)$ est la dynamique de la perturbation; elle permet de mieux identifier les perturbations agissant sur le processus"
   ]
  },
  {
   "cell_type": "markdown",
   "metadata": {},
   "source": [
    "Voici quelques classes importantes de modèles de cette catégorie."
   ]
  },
  {
   "cell_type": "markdown",
   "metadata": {},
   "source": [
    "### Modèle ARX"
   ]
  },
  {
   "cell_type": "markdown",
   "metadata": {},
   "source": [
    "Le modèle ARX est décrit par l'équation suivante:\n",
    "\n",
    "$$ y(k) + a_1 y(k-1) + \\cdots + a_n y(k-n) = b_1 u(k-1) + \\cdots + b_m u(k-m) + e(k) $$\n",
    "\n",
    "Il représente une équation aux différences entre la sortie et l'entrée, avec un terme représentant l'erreur d'équation."
   ]
  },
  {
   "cell_type": "markdown",
   "metadata": {},
   "source": [
    "Il peut être mis sous la forme suivante:\n",
    "\n",
    "$$Y(z) = \\frac{B(z)}{A(z)} U(z) + \\frac{1}{A(z)} E(z)$$"
   ]
  },
  {
   "cell_type": "markdown",
   "metadata": {},
   "source": [
    "### Modèle ARMAX"
   ]
  },
  {
   "cell_type": "markdown",
   "metadata": {},
   "source": [
    "Le modèle ARMAX est décrit par l'équation suivante:\n",
    "\n",
    "$$ y(k) + a_1 y(k-1) + \\cdots + a_n y(k-n) = b_1 u(k-1) + \\cdots + b_m u(k-m) + e(k) + c_1 e(k-1) + \\cdots + c_n e(k-l)$$\n",
    "\n",
    "Il représente une équation aux différences entre la sortie et l'entrée, avec plusieurs termes représentant une moyenne ajustée de la perturbation."
   ]
  },
  {
   "cell_type": "markdown",
   "metadata": {},
   "source": [
    "Il peut être mis sous la forme suivante:\n",
    "\n",
    "$$Y(z) = \\frac{B(z)}{A(z)} U(z) + \\frac{C(z)}{A(z)} E(z)$$"
   ]
  },
  {
   "cell_type": "markdown",
   "metadata": {},
   "source": [
    "On peut aussi, en modifiant les termes $U(z)$ et $Y(z)$ par leur différence, ajouter une intégration au modèle. Ce dernier est alors appelé ARIMAX."
   ]
  },
  {
   "cell_type": "markdown",
   "metadata": {},
   "source": [
    "Ce modèle, ajoutant de la flexibilité dans la description des perturbations par rapport au modèle ARX, est devenu le standard le plus utilisé pour le contrôle et l'économétrie (branche étudiant les modèles en économie)."
   ]
  },
  {
   "cell_type": "markdown",
   "metadata": {},
   "source": [
    "### Modèle de Box-Jenkins"
   ]
  },
  {
   "cell_type": "markdown",
   "metadata": {},
   "source": [
    "Le modèle de Box-Jenkins est décrit par l'équation suivante:\n",
    "\n",
    "$$Y(z) = \\frac{B(z)}{A(z)} U(z) + \\frac{C(z)}{A(z)} E(z)$$"
   ]
  },
  {
   "cell_type": "markdown",
   "metadata": {},
   "source": [
    "Ce modèle est très complet car il sépare entièrement la dynamique du processus de la dynamique de la perturbation."
   ]
  },
  {
   "cell_type": "markdown",
   "metadata": {},
   "source": [
    "## Régression linéaire"
   ]
  },
  {
   "cell_type": "markdown",
   "metadata": {},
   "source": [
    "La régression linéaire est définie par l'équation vectorielle suivante:\n",
    "\n",
    "$$ y(k) = \\phi (k) \\vartheta + \\varepsilon (k) $$"
   ]
  },
  {
   "cell_type": "markdown",
   "metadata": {},
   "source": [
    "Dans cette équation, $y(k) \\in \\mathbb{R}^N$ est le vecteur de mesures, $\\vartheta \\in \\mathbb{R}^p$ est le vecteur de paramètres et $\\varepsilon (k) \\in \\mathbb{R}^N$ est le vecteur d'erreurs; $\\phi (k) \\in \\mathbb{R}^{N \\times p}$ est la matrice d'observations."
   ]
  },
  {
   "cell_type": "markdown",
   "metadata": {},
   "source": [
    "Cette équation, qui est une simple équation de droite lorsque la taille des vecteurs vaut 2, permet de modéliser une grande quantité de problèmes physiques."
   ]
  },
  {
   "cell_type": "markdown",
   "metadata": {},
   "source": [
    "#### Exemple 1\n",
    "Prenons la fonction de transfert à identifier suivante:\n",
    "\n",
    "$$ G(s) = \\frac{\\gamma}{\\tau s + 1} $$"
   ]
  },
  {
   "cell_type": "markdown",
   "metadata": {},
   "source": [
    "La réponse impulsionnelle fourni la sortie temporelle suivante:\n",
    "\n",
    "$$ y(t) = \\mathscr{L}^{-1} \\left( G(s) \\right) = \\frac{\\gamma}{\\tau} e^{-\\frac{t}{\\tau}} $$"
   ]
  },
  {
   "cell_type": "markdown",
   "metadata": {},
   "source": [
    "En passant par le logarithme, on obtient:\n",
    "\n",
    "$$ \\ln \\left( \\frac{\\gamma}{\\tau} e^{-\\frac{t}{\\tau}} \\right) = -\\frac{t}{\\tau} + \\ln \\frac{\\gamma}{\\tau} $$"
   ]
  },
  {
   "cell_type": "markdown",
   "metadata": {},
   "source": [
    "Cette dernière équation devient donc une droite avec:\n",
    "\n",
    "- $y = \\ln \\left( \\frac{\\gamma}{\\tau} e^{-\\frac{t}{\\tau}} \\right)$\n",
    "- $a = -\\frac{1}{\\tau}$\n",
    "- $b = \\ln \\frac{\\gamma}{\\tau}$"
   ]
  },
  {
   "cell_type": "markdown",
   "metadata": {},
   "source": [
    "En relevant suffisamment de points, on peut écrire la régression suivante:\n",
    "\n",
    "$$\n",
    "\\left[\n",
    "\\begin{array}{ccc}\n",
    "  \\ln y(0) \\\\\n",
    "  \\ln y(h) \\\\\n",
    "  \\vdots \\\\\n",
    "  \\ln y(kh)\n",
    "\\end{array}\n",
    "\\right]\n",
    "=\n",
    "\\left[\n",
    "\\begin{array}{ccc}\n",
    "  0 & 1 \\\\\n",
    "  h & 1 \\\\\n",
    "  \\vdots \\\\\n",
    "  kh & 1\n",
    "\\end{array}\n",
    "\\right]\n",
    "\\times\n",
    "\\left[\n",
    "\\begin{array}{ccc}\n",
    "  a \\\\\n",
    "  b\n",
    "\\end{array}\n",
    "\\right]\n",
    "$$"
   ]
  },
  {
   "cell_type": "code",
   "execution_count": 1,
   "metadata": {},
   "outputs": [],
   "source": [
    "%matplotlib inline\n",
    "import matplotlib.pyplot as plt\n",
    "plt.style.use('../my_params.mplstyle')\n",
    "\n",
    "import math\n",
    "import random\n",
    "\n",
    "import control\n",
    "from scipy import stats"
   ]
  },
  {
   "cell_type": "code",
   "execution_count": 2,
   "metadata": {},
   "outputs": [
    {
     "name": "stdout",
     "output_type": "stream",
     "text": [
      "Estimated gamma : 5.745379074156159\n",
      "Estimated tau : 8.470836425651832\n"
     ]
    }
   ],
   "source": [
    "gamma = 2.3\n",
    "tau = 10.25\n",
    "\n",
    "G = control.tf(gamma, [tau, 1])\n",
    "\n",
    "time, yout = control.impulse_response(G, [i * 10 for i in range(10)])\n",
    "    \n",
    "y_ln = [math.log(y) for y in yout]\n",
    "\n",
    "# add Box Muller noise to y\n",
    "for i, y in enumerate(y_ln):\n",
    "    x1, x2 = random.random(), random.random()\n",
    "    z = math.sqrt(-2 * math.log(x1)) * math.cos(2 * math.pi * x2)\n",
    "    \n",
    "    k = 1  # change to 0.1, 0.01\n",
    "    \n",
    "    y_ln[i] += k * z\n",
    "    \n",
    "# compute linear regression\n",
    "slope, intercept, r_value, p_value, std_err = stats.linregress(time, y_ln)\n",
    "\n",
    "y_lsq = [slope * t + intercept for t in time]\n",
    "\n",
    "gamma_lsq = - math.exp(intercept) / slope\n",
    "tau_lsq = -1 / slope\n",
    "\n",
    "print('Estimated gamma : {}'.format(gamma_lsq))\n",
    "print('Estimated tau : {}'.format(tau_lsq))"
   ]
  },
  {
   "cell_type": "code",
   "execution_count": 3,
   "metadata": {},
   "outputs": [
    {
     "data": {
      "image/png": "[encoded data removed]",
      "text/plain": [
       "<Figure size 432x288 with 1 Axes>"
      ]
     },
     "metadata": {
      "needs_background": "light"
     },
     "output_type": "display_data"
    }
   ],
   "source": [
    "fig, ax = plt.subplots()\n",
    "ax.plot(time, y_ln, '.', label='y\\_ln')\n",
    "ax.plot(time, y_lsq, '-', label='y\\_lsq')\n",
    "ax.set_xlabel('time [s]')\n",
    "ax.set_ylabel('output')\n",
    "_ = ax.legend()"
   ]
  },
  {
   "cell_type": "markdown",
   "metadata": {},
   "source": [
    "Cette méthode peut sembler intéressante, mais une impulsion de Dirac est en pratique, difficile à mettre en oeuvre.\n",
    "\n",
    "***"
   ]
  },
  {
   "cell_type": "markdown",
   "metadata": {},
   "source": [
    "Ce chapitre n'étant qu'une introduction à l'identification, seul le modèle ARX, pouvant être décrit par une régression linéaire, sera étudié."
   ]
  },
  {
   "cell_type": "markdown",
   "metadata": {},
   "source": [
    "## Application à l'identification des systèmes dynamiques"
   ]
  },
  {
   "cell_type": "markdown",
   "metadata": {},
   "source": [
    "Un système dynamique est décrit naturellement par une équation différentielle, éventuellement non-linéaire. Cette dernière doit alors être linéarisée autour du point de fonctionnement choisi afin d'appliquer les techniques du présent chapitre."
   ]
  },
  {
   "cell_type": "markdown",
   "metadata": {},
   "source": [
    "Nous avons vu qu'un modèle continu linéaire peut aisément être numérisé par échantillonnage:\n",
    "\n",
    "$$ G(z) = (1-z^{-1}) \\mathscr{Z} \\left\\{ \\mathscr{L}^{-1} \\left( \\frac{G(s)}{s} \\right) \\right\\} $$"
   ]
  },
  {
   "cell_type": "markdown",
   "metadata": {},
   "source": [
    "La fonction de transfert ainsi obtenue possède la forme générale suivante:\n",
    "\n",
    "$$ G(z) = \\frac{b_0 z^{n-1} + b_1 z^{n-2} + \\dots + b_{n-1}}{z^n + a_1 z^{n-1} + \\dots + a_n} $$"
   ]
  },
  {
   "cell_type": "markdown",
   "metadata": {},
   "source": [
    "Ce système possède un surplus de pôle de 1. Si, en réalité, le surplus de pôle est plus grand, il suffit d'annuler les premiers termes du numérateur."
   ]
  },
  {
   "cell_type": "markdown",
   "metadata": {},
   "source": [
    "En remettant cette fonction de transfert sous la forme d'une équation aux différence, on obtient:\n",
    "\n",
    "$$ y(k) = -a_1 y(k-1) - \\dots - a_n y(k-n) + b_0 u(k-1) + b_1 u(k-2) + \\dots + b_{n-1} u(k-n) $$"
   ]
  },
  {
   "cell_type": "markdown",
   "metadata": {},
   "source": [
    "En y ajoutant un terme représentant l'erreur, on obtient:\n",
    "\n",
    "$$ y(k) = -a_1 y(k-1) - \\dots - a_n y(k-n) + b_0 u(k-1) + b_1 u(k-2) + \\dots + b_{n-1} u(k-n) + \\varepsilon (k) $$\n",
    "\n",
    "Ce qui correspond à un modèle ARX."
   ]
  },
  {
   "cell_type": "markdown",
   "metadata": {},
   "source": [
    "Cette équation peut être remise sous la forme vectorielle suivante:\n",
    "\n",
    "$$ y(k) =\n",
    "\\left[\n",
    "\\begin{array}{ccc}\n",
    "  -y(k-1) & -y(k-2) & \\cdots & -y(k-n) & u(k-1) & u(k-2) & \\cdots & u(k-n)\n",
    "\\end{array}\n",
    "\\right]\n",
    "\\left[\n",
    "\\begin{array}{ccc}\n",
    "  a_1 \\\\\n",
    "  a_2 \\\\\n",
    "  \\vdots \\\\\n",
    "  a_n \\\\\n",
    "  b_0 \\\\\n",
    "  b_1 \\\\\n",
    "  \\vdots \\\\\n",
    "  b_{n-1}\n",
    "\\end{array}\n",
    "\\right]\n",
    "+ \\varepsilon (k)\n",
    "$$"
   ]
  },
  {
   "cell_type": "markdown",
   "metadata": {},
   "source": [
    "Afin de pouvoir lisser les incertitudes, perturbations et erreurs de modélisations, il faut prendre suffisamment d'échantillons pour que notre régression soit la plus fidèle possible."
   ]
  },
  {
   "cell_type": "markdown",
   "metadata": {},
   "source": [
    "Prenons $k = 1, 2, \\cdots, k$, avec des entrées et des conditions initiales nulles avant $k=0$ pour $k > 2n$:\n",
    "\n",
    "$$\n",
    "\\underbrace{\n",
    "    \\left[\n",
    "    \\begin{array}{c}\n",
    "      y(1) \\\\\n",
    "      y(2) \\\\\n",
    "      \\vdots \\\\\n",
    "      y(n) \\\\\n",
    "      \\vdots \\\\\n",
    "      y(2n) \\\\\n",
    "      \\vdots \\\\\n",
    "      y(k)\n",
    "    \\end{array}\n",
    "    \\right]\n",
    "}_{y(k)}\n",
    "=\n",
    "\\underbrace{\n",
    "    \\left[\n",
    "    \\begin{array}{cccccccc}\n",
    "      -y(0) & 0 & \\cdots & 0 & u(0) & 0 & \\cdots & 0 \\\\\n",
    "      -y(1) & -y(0) & \\cdots & 0 & u(1) & u(0) & \\cdots & 0 \\\\\n",
    "      \\vdots & \\vdots & \\vdots & \\vdots & \\vdots & \\vdots \\\\\n",
    "      -y(n) & -y(n-1) & \\cdots & -y(0) & u(n-1) & u(n-2) & \\cdots & u(0) \\\\\n",
    "      \\vdots & \\vdots & \\vdots & \\vdots & \\vdots & \\vdots \\\\\n",
    "      -y(2n-1) & -y(2n-2) & \\cdots & -y(n) & u(2n-1) & u(2n-2) & \\cdots & u(n) \\\\\n",
    "      \\vdots & \\vdots & \\vdots & \\vdots & \\vdots & \\vdots \\\\\n",
    "      -y(k-1) & -y(k-2) & \\cdots & -y(k-n) & u(k-1) & u(k-2) & \\cdots & u(k-n)\n",
    "    \\end{array}\n",
    "    \\right]\n",
    "}_{\\phi(k-1)}\n",
    "\\underbrace{\n",
    "    \\left[\n",
    "    \\begin{array}{c}\n",
    "      a_1 \\\\\n",
    "      a_2 \\\\\n",
    "      \\vdots \\\\\n",
    "      a_n \\\\\n",
    "      b_0 \\\\\n",
    "      b_1 \\\\\n",
    "      \\vdots \\\\\n",
    "      b_{n-1}\n",
    "    \\end{array}\n",
    "    \\right]\n",
    "}_{\\vartheta}\n",
    "+\n",
    "\\underbrace{\n",
    "    \\left[\n",
    "    \\begin{array}{c}\n",
    "      \\varepsilon (1) \\\\\n",
    "      \\varepsilon (2) \\\\\n",
    "      \\vdots \\\\\n",
    "      \\varepsilon (n) \\\\\n",
    "      \\vdots \\\\\n",
    "      \\varepsilon (2n) \\\\\n",
    "      \\vdots \\\\\n",
    "      \\varepsilon (k)\n",
    "    \\end{array}\n",
    "    \\right]\n",
    "}_{\\varepsilon (k)}\n",
    "$$"
   ]
  },
  {
   "cell_type": "markdown",
   "metadata": {},
   "source": [
    "On obtient donc la régression suivante:\n",
    "\n",
    "$$ y(k) = \\phi (k-1) \\vartheta + \\varepsilon (k) $$\n",
    "\n",
    "avec $k > 2n$, $2n$ étant le nombre de paramètres à identifier."
   ]
  },
  {
   "cell_type": "markdown",
   "metadata": {},
   "source": [
    "Dans le cas particulier d'une intégrale dans le processus, il est possible d'identifier la dérivée de la grandeur qui nous intéresse, puis d'ajouter l'intégrale dans le modèle obtenu."
   ]
  },
  {
   "cell_type": "markdown",
   "metadata": {},
   "source": [
    "## Identification paramétrique pour un modèle linéaire"
   ]
  },
  {
   "cell_type": "markdown",
   "metadata": {},
   "source": [
    "Il existe différentes méthodes d'estimation des paramètres. Citons, par exemple:\n",
    "\n",
    "- les méthodes des moindres carrés\n",
    "- les méthodes basées sur le maximum de vraisemblance\n",
    "- les méthodes basées sur le gradient\n",
    "- les méthodes basées sur la variable instrumentale"
   ]
  },
  {
   "cell_type": "markdown",
   "metadata": {},
   "source": [
    "Seules les méthodes des moindres carrés seront étudiées pour leur simplicité de mise en oeuvre."
   ]
  },
  {
   "cell_type": "markdown",
   "metadata": {},
   "source": [
    "### Méthode des moindres carrés"
   ]
  },
  {
   "cell_type": "markdown",
   "metadata": {},
   "source": [
    "Reprenons la régression linéaire:\n",
    "\n",
    "$$ y(k) = \\phi (k) \\vartheta + \\varepsilon (k) $$"
   ]
  },
  {
   "cell_type": "markdown",
   "metadata": {},
   "source": [
    "L'idée est de minimiser le vecteur $\\varepsilon(k)$ en minimisant le carré de la norme euclidienne du vecteur :\n",
    "\n",
    "$$ J(\\vartheta) = \\| \\varepsilon (k)^2 \\| = \\varepsilon^T (k) \\varepsilon (k) = \\left( y(k) - \\phi(k) \\vartheta \\right)^T \\left( y(k) - \\phi(k) \\vartheta \\right) $$"
   ]
  },
  {
   "cell_type": "markdown",
   "metadata": {},
   "source": [
    "Le vecteur permettant de minimiser $J(\\vartheta)$ est appelé vecteur des paramètres estimé $\\hat{\\vartheta}(k)$ en prenant compte de l'instant $t_k=kh$."
   ]
  },
  {
   "cell_type": "markdown",
   "metadata": {},
   "source": [
    "#### Théorème 11.1\n",
    "En supposant que la matrice d'observations $\\phi(k)$ soit de rang p, le vecteur de paramètres estimé est unique et donné par:\n",
    "\n",
    "$$ \\hat{\\vartheta}(k) = \\left( \\phi^{T}(k) \\phi(k) \\right)^{-1} \\phi^{T}(k) y(k)  $$\n",
    "\n",
    "***"
   ]
  },
  {
   "cell_type": "markdown",
   "metadata": {},
   "source": [
    "Cette méthode part donc du principe que toutes les mesures ont été effectuées en amont, puis qu'on utilise l'algorithme *hors ligne* afin d'estimer les paramètres du processus."
   ]
  },
  {
   "cell_type": "markdown",
   "metadata": {},
   "source": [
    "### Méthode des moindres carrés récurrents"
   ]
  },
  {
   "cell_type": "markdown",
   "metadata": {},
   "source": [
    "Si l'identification doit être effectuée *en ligne*, c'est-à-dire que l'on veut tenir compte des nouvelles mesures lorsqu'elles sont disponibles, la méthode précédente n'est pas efficace."
   ]
  },
  {
   "cell_type": "markdown",
   "metadata": {},
   "source": [
    "L'idée va être d'essayer de tenir compte de l'estimation déjà présente afin de calculer la prochaine estimation. Pour cela on défini la régression linéaire à l'instant $t_{k+1} = (k+1)h$:\n",
    "\n",
    "$$ y(k+1) = \\phi (k+1) \\vartheta + \\varepsilon (k+1) $$"
   ]
  },
  {
   "cell_type": "markdown",
   "metadata": {},
   "source": [
    "Les termes sont redéfinis de la manière suivante, les termes en gras représentant des vecteurs ou matrices:\n",
    "\n",
    "\\begin{align}\n",
    "  & \\mathbf{y}(k+1) = \n",
    "  \\left[\n",
    "  \\begin{array}{c}\n",
    "    \\mathbf{y}(k) \\\\\n",
    "    y(k+1)\n",
    "  \\end{array}\n",
    "  \\right] \\, \\in \\, \\mathbb{R}^{N+1} \\\\\n",
    "  & \\boldsymbol{\\phi}(k+1) = \n",
    "  \\left[\n",
    "  \\begin{array}{c}\n",
    "    \\boldsymbol{\\phi}(k) \\\\\n",
    "    \\phi(k+1)\n",
    "  \\end{array}\n",
    "  \\right] \\, \\in \\, \\mathbb{R}^{(N+1)\\times p} \\\\\n",
    "  & \\boldsymbol{\\varepsilon}(k+1) = \n",
    "  \\left[\n",
    "  \\begin{array}{c}\n",
    "    \\boldsymbol{\\varepsilon}(k) \\\\\n",
    "    \\varepsilon(k+1)\n",
    "  \\end{array}\n",
    "  \\right] \\, \\in \\, \\mathbb{R}^{N+1}\n",
    "\\end{align}"
   ]
  },
  {
   "cell_type": "markdown",
   "metadata": {},
   "source": [
    "#### Théorème 11.2\n",
    "En supposant que la matrice d'observations $\\phi(k)$ soit de rang p, le vecteur de paramètres estimé vérifie l'équation récurrente:\n",
    "\n",
    "$$ \\boldsymbol{\\hat{\\vartheta}}(k+1) = \\boldsymbol{\\hat{\\vartheta}}(k) + \\mathbf{K}(k+1) \\left( y(k+1) - \\phi^T(k+1) \\boldsymbol{\\hat{\\vartheta}}(k) \\right) $$\n",
    "\n",
    "avec:\n",
    "\n",
    "$$ \\mathbf{K}(k+1) = \\frac{\\mathbf{P}(k)\\phi(k+1)}{1+\\phi^T(k+1)\\mathbf{P}(k)\\phi(k+1)} \\, \\in\\, \\mathbb{R}^p $$\n",
    "\n",
    "$$ \\mathbf{P}(k+1) = \\left( \\mathbf{I} - \\mathbf{K}(k+1) \\phi^T(k+1) \\right) \\mathbf{P}(k)\\, \\in \\, \\mathbb{R}^{p\\times p} $$\n",
    "\n",
    "***"
   ]
  },
  {
   "cell_type": "markdown",
   "metadata": {},
   "source": [
    "En pratique, on choisit $\\hat{\\vartheta}(0) = 0$ et $P(0) = \\alpha I$, avec $\\alpha$ très grand; par exemple $\\alpha = 10^4$."
   ]
  },
  {
   "cell_type": "markdown",
   "metadata": {},
   "source": [
    "### Méthode des moindres carrés pondérés"
   ]
  },
  {
   "cell_type": "markdown",
   "metadata": {},
   "source": [
    "Lors du processus d'identification, des soucis peuvent apparaître:\n",
    "\n",
    "- certaines mesures sont très mauvaises\n",
    "- le processus varie un peu en fonction du temps et les échantillons plus anciens deviennent moins pertinents"
   ]
  },
  {
   "cell_type": "markdown",
   "metadata": {},
   "source": [
    "Dans ces conditions, il est préférable de donner moins de poids aux échantillons identifiés comme moins pertinents."
   ]
  },
  {
   "cell_type": "markdown",
   "metadata": {},
   "source": [
    "Une solution à ce problème consiste à introduire une matrice de pondération $W(k) \\in \\mathbb{R}^{N \\times N}$ telle que:\n",
    "\n",
    "\\begin{align}\n",
    "  J(\\vartheta) &= \\| \\varepsilon(k) \\|^2_{W(k)} \\\\\n",
    "  &= \\varepsilon^T(k) W(k) \\varepsilon(k) \\\\\n",
    "  &= \\left( y(k) - \\phi(k) \\vartheta \\right)^T W(k) \\left( y(k) - \\phi(k) \\vartheta \\right)\n",
    "\\end{align}"
   ]
  },
  {
   "cell_type": "markdown",
   "metadata": {},
   "source": [
    "Le vecteur $\\hat{\\vartheta}(k)$ minimisant ce nouveau critère est donné par le théorème suivant."
   ]
  },
  {
   "cell_type": "markdown",
   "metadata": {},
   "source": [
    "#### Théorème 11.3\n",
    "En supposant que la matrice d'observations $\\phi(k)$ soit de rang p et que la matrice de pondération $W(k)$ soit symétrique et définie positive, le vecteur de paramètres estimé qui minimise $J(\\vartheta)$ est unique et donné par:\n",
    "\n",
    "$$ \\hat{\\vartheta}(k) = \\left( \\phi^{T}(k) W(k) \\phi(k) \\right)^{-1} \\phi^{T}(k) W(k) y(k)  $$\n",
    "\n",
    "***"
   ]
  },
  {
   "cell_type": "markdown",
   "metadata": {},
   "source": [
    "La matrice de pondération $W(k)$ est souvent choisie diagonale de la forme suivante:\n",
    "\n",
    "$$ W(k) = \n",
    "\\left[\n",
    "\\begin{array}{ccccc}\n",
    "  \\lambda^{k-1} & 0 & \\cdots & 0 & 0 \\\\\n",
    "  0 & \\lambda^{k-2} & \\cdots & 0 & 0 \\\\\n",
    "  \\vdots & \\vdots & \\vdots & \\vdots & \\vdots \\\\\n",
    "  0 & 0 & \\cdots & \\lambda & 0 \\\\\n",
    "  0 & 0 & \\cdots & 0 & 1\n",
    "\\end{array}\n",
    "\\right] \\qquad \\text{avec}\\; 0 < \\lambda < 1\n",
    "$$"
   ]
  },
  {
   "cell_type": "markdown",
   "metadata": {},
   "source": [
    "Le critère devient, en développant:\n",
    "\n",
    "$$ J(\\vartheta) = \\lambda^{k-1} \\varepsilon^2(1) + \\lambda^{k-2} \\varepsilon^2(2) + \\cdots + \\lambda \\varepsilon^2(k-1) +  \\varepsilon^2(k) $$"
   ]
  },
  {
   "cell_type": "markdown",
   "metadata": {},
   "source": [
    "Le terme $\\lambda$, appelé facteur d'oubli, est en pratique pris dans l'intervalle $[0.95, 0.995]$."
   ]
  },
  {
   "cell_type": "markdown",
   "metadata": {},
   "source": [
    "### Méthode des moindres carrés pondérés récurrents"
   ]
  },
  {
   "cell_type": "markdown",
   "metadata": {},
   "source": [
    "La version récurrente des moindres carrés pondérés demande de redéfinir la matrice de pondération ainsi que le critère à minimiser de la manière suivante:\n",
    "\n",
    "$$ J(\\vartheta) = \\| \\varepsilon(k+1) \\|^2_{W(k+1)} $$\n",
    "\n",
    "$$ \\mathbf{W}(k+1) = \n",
    "\\left[\n",
    "\\begin{array}{cc}\n",
    "  \\mathbf{W}(k) & \\mathbf{0} \\\\\n",
    "  \\mathbf{0}^T & w(k+1)\n",
    "\\end{array}\n",
    "\\right]\n",
    "$$"
   ]
  },
  {
   "cell_type": "markdown",
   "metadata": {},
   "source": [
    "A nouveau, les termes en gras représentent des vecteurs ou des matrices."
   ]
  },
  {
   "cell_type": "markdown",
   "metadata": {},
   "source": [
    "#### Théorème 11.4\n",
    "En supposant que la matrice d'observations $\\phi(k)$ soit de rang p et que la matrice de pondération $W(k+1)$ soit diagonale et définie positive, le vecteur de paramètres estimé vérifie l'équation récurrente:\n",
    "\n",
    "$$ \\boldsymbol{\\hat{\\vartheta}}(k+1) = \\boldsymbol{\\hat{\\vartheta}}(k) + \\mathbf{K}(k+1) \\left( y(k+1) - \\phi^T(k+1) \\boldsymbol{\\hat{\\vartheta}}(k) \\right) $$\n",
    "\n",
    "avec:\n",
    "\n",
    "$$ \\mathbf{K}(k+1) = \\frac{\\mathbf{P}(k)\\phi(k+1)}{\\frac{1}{w(k+1)}+\\phi^T(k+1)\\mathbf{P}(k)\\phi(k+1)} \\, \\in\\, \\mathbb{R}^p $$\n",
    "\n",
    "$$ \\mathbf{P}(k+1) = \\left( \\mathbf{I} - \\mathbf{K}(k+1) \\phi^T(k+1) \\right) \\mathbf{P}(k)\\, \\in \\, \\mathbb{R}^{p\\times p} $$\n",
    "\n",
    "***"
   ]
  },
  {
   "cell_type": "markdown",
   "metadata": {},
   "source": [
    "Si la matrice de pondération est définie comme précédemment, on peut écrire:\n",
    "\n",
    "$$ \\mathbf{W}(k+1) \n",
    "\\left[\n",
    "\\begin{array}{cccccc}\n",
    "  \\lambda^{k} & 0 & \\cdots & 0 & 0 & 0 \\\\\n",
    "  0 & \\lambda^{k-1} & \\cdots & 0 & 0 & 0 \\\\\n",
    "  \\vdots & \\vdots & \\vdots & \\vdots & \\vdots \\\\\n",
    "  0 & 0 & \\cdots & \\lambda^2 & 0 & 0 \\\\\n",
    "  0 & 0 & \\cdots & 0 & \\lambda & 0 \\\\\n",
    "  0 & 0 & \\cdots & 0 & 0 & 1\n",
    "\\end{array}\n",
    "\\right]\n",
    "= \\lambda\n",
    "\\left[\n",
    "\\begin{array}{ccccc}\n",
    "  \\lambda^{k-1} & 0 & \\cdots & 0 & 0 & 0 \\\\\n",
    "  0 & \\lambda^{k-2} & \\cdots & 0 & 0 & 0 \\\\\n",
    "  \\vdots & \\vdots & \\vdots & \\vdots & \\vdots \\\\\n",
    "  0 & 0 & \\cdots & \\lambda & 0 & 0 \\\\\n",
    "  0 & 0 & \\cdots & 0 & 1 & 0 \\\\\n",
    "  0 & 0 & \\cdots & 0 & 0 & \\frac{1}{\\lambda} \\\\\n",
    "\\end{array}\n",
    "\\right]\n",
    "= \\lambda\n",
    "\\left[\n",
    "\\begin{array}{cc}\n",
    "  \\mathbf{W}(k) & \\mathbf{0} \\\\\n",
    "  \\mathbf{0}^T & \\frac{1}{\\lambda}\n",
    "\\end{array}\n",
    "\\right]\n",
    "$$"
   ]
  },
  {
   "cell_type": "markdown",
   "metadata": {},
   "source": [
    "#### Théorème 11.5\n",
    "En supposant que la matrice d'observations $\\phi(k)$ soit de rang p et que la matrice de pondération $W(k+1)$ soit définie comme précédemment, le vecteur de paramètres estimé vérifie l'équation récurrente:\n",
    "\n",
    "$$ \\boldsymbol{\\hat{\\vartheta}}(k+1) = \\boldsymbol{\\hat{\\vartheta}}(k) + \\mathbf{K}(k+1) \\left( y(k+1) - \\phi^T(k+1) \\boldsymbol{\\hat{\\vartheta}}(k) \\right) $$\n",
    "\n",
    "avec:\n",
    "\n",
    "$$ \\mathbf{K}(k+1) = \\frac{\\mathbf{P}(k)\\phi(k+1)}{\\lambda+\\phi^T(k+1)\\mathbf{P}(k)\\phi(k+1)} \\, \\in\\, \\mathbb{R}^p $$\n",
    "\n",
    "$$ \\mathbf{P}(k+1) = \\left( \\mathbf{I} - \\mathbf{K}(k+1) \\phi^T(k+1) \\right) \\frac{\\mathbf{P}(k)}{\\lambda}\\, \\in \\, \\mathbb{R}^{p\\times p} $$\n",
    "\n",
    "***"
   ]
  },
  {
   "cell_type": "markdown",
   "metadata": {},
   "source": [
    "## Séquence d'entrée utilisée pour l'identification"
   ]
  },
  {
   "cell_type": "markdown",
   "metadata": {},
   "source": [
    "Afin d'identifier au mieux le processus, il faut pouvoir observer le maximum de ses modes. Cependant, il ne faut pas non plus trop perturber le fonctionnement nominal du processus. Il importe donc de choisir une entrée possédant un large spectre fréquentiel, tout en ayant une moyenne nulle."
   ]
  },
  {
   "cell_type": "markdown",
   "metadata": {},
   "source": [
    "Le signal binaire pseudo aléatoire (*PRBS* en anglais) est devenu le signal préféré pour cette tâche. Il consiste en un signal carré dont la fréquence varie tout au long de l'essai d'identification. Ce signal est ajouté au signal d'entrée utile."
   ]
  },
  {
   "cell_type": "markdown",
   "metadata": {},
   "source": [
    "Il est souvent généré par un registre à décalage de $N$ bits. La sortie, avant d'être recopiée en entrée du registre, subit une opération $XOR$ avec un bit d'indice $i$. Le principe est illustré dans la figure suivante:"
   ]
  },
  {
   "cell_type": "markdown",
   "metadata": {},
   "source": [
    "![Réalisation d'un SBPA](Images/Chapter11/PRBS_realization.png)"
   ]
  },
  {
   "cell_type": "markdown",
   "metadata": {},
   "source": [
    "La longueur d'une séquence générée de cette manière est notée $L = 2^N - 1$."
   ]
  },
  {
   "cell_type": "markdown",
   "metadata": {},
   "source": [
    "Le tableau suivant donne les caractéristiques d'un SBPA en fonction du nombre de bits:\n",
    "\n",
    "|||||||||||\n",
    "| :-: | :-: | :-: | :-: | :-: | :-: | :-: | :-: | :-: | :-: |\n",
    "| $N$ | $2$ | $3$ | $4$ | $5$ | $6$ | $7$ | $8$ | $9$ | $10$ |\n",
    "| $L$ | $3$ | $7$ | $15$ | $31$ | $63$ | $128$ | $255$ | $511$ | $1023$ |\n",
    "| $i$ | $1$ | $2$ | $3$ | $3$ | $5$ | $4$ | $2,3,4$ | $5$ | $7$ |"
   ]
  },
  {
   "cell_type": "markdown",
   "metadata": {},
   "source": [
    "En pratique, il faut choisir les grandeurs suivantes:\n",
    "\n",
    "- le signal prend les valeurs $[-a, a]$ autour du point de fonctionnement avec $\\|a\\|$ plus grand que le bruit\n",
    "- la durée maximale d'un créneau étant de $NT_h$ avec $T_h$ la période d'horloge du SBPA, il faut $NT_h > T_m$ avec $T_m$ le temps de montée du système\n",
    "- la durée de l'essai doit respecter la condition $T_e > (2^N-1) T_h$ afin de balayer tout le spectre de fréquences\n",
    "- $T_h$ est souvent pris comme un multiple de la période d'échantillonnage $h$"
   ]
  },
  {
   "cell_type": "code",
   "execution_count": 4,
   "metadata": {},
   "outputs": [],
   "source": [
    "def generate_prbs(a, n=8, te=None):\n",
    "    i_dict = {\n",
    "        2: (1,),\n",
    "        3: (2,),\n",
    "        4: (3,),\n",
    "        5: (3,),\n",
    "        6: (5,),\n",
    "        7: (4,),\n",
    "        8: (2, 3, 4,),\n",
    "        9: (5,),\n",
    "        10: (7,),\n",
    "    }\n",
    "    \n",
    "    l = 2 ** n - 1\n",
    "    i_list = i_dict[n]\n",
    "    \n",
    "    if te is None or te <= l:\n",
    "        te = l + 1\n",
    "    \n",
    "    register = l\n",
    "    \n",
    "    for j in range(te):\n",
    "        signal = (register & (2 ** (n - 1))) >> (n - 1)\n",
    "        yield a if signal else -a\n",
    "        \n",
    "        for i in i_list:\n",
    "            signal ^= (register & (2 ** (i - 1))) >> (i - 1)\n",
    "            \n",
    "        register <<= 1\n",
    "        register &= l\n",
    "        register |= signal"
   ]
  },
  {
   "cell_type": "code",
   "execution_count": 5,
   "metadata": {
    "scrolled": true
   },
   "outputs": [],
   "source": [
    "n = 5\n",
    "te = 2 ** n + 1\n",
    "prbs = list(generate_prbs(2, n, te))\n",
    "time = [i for i, _ in enumerate(prbs)]"
   ]
  },
  {
   "cell_type": "code",
   "execution_count": 6,
   "metadata": {
    "scrolled": true
   },
   "outputs": [
    {
     "data": {
      "image/png": "[encoded data removed]",
      "text/plain": [
       "<Figure size 432x288 with 1 Axes>"
      ]
     },
     "metadata": {
      "needs_background": "light"
     },
     "output_type": "display_data"
    }
   ],
   "source": [
    "fig, ax = plt.subplots()\n",
    "ax.step(time, prbs, '.-', where='post', label='prbs')\n",
    "ax.set_xlabel('time [s]')\n",
    "ax.set_ylabel('output')\n",
    "_ = ax.legend()"
   ]
  },
  {
   "cell_type": "markdown",
   "metadata": {},
   "source": [
    "## Exemple"
   ]
  },
  {
   "cell_type": "markdown",
   "metadata": {},
   "source": [
    "Soit le système décrit par l'équation suivante, avec $h=0.025\\, \\mathrm{s}$:\n",
    "\n",
    "$$ G(z) = \\frac{b}{z+a} $$\n",
    "\n",
    "avec $a$ variant brusquement de $[-1, -0.9]$ et $b$ de $[0.095, 0.1]$."
   ]
  },
  {
   "cell_type": "markdown",
   "metadata": {},
   "source": [
    "Appliquer les différentes méthodes d'identification sur ce système."
   ]
  },
  {
   "cell_type": "markdown",
   "metadata": {},
   "source": [
    "### Simulation du système soumis à la SPBA"
   ]
  },
  {
   "cell_type": "code",
   "execution_count": 138,
   "metadata": {},
   "outputs": [],
   "source": [
    "import numpy as np\n",
    "from scipy import signal\n",
    "\n",
    "def generate_coeff(t, coeff_min, coeff_max):\n",
    "    transform = (coeff_min - coeff_max) / 2\n",
    "    \n",
    "    return transform * (signal.square(2 * np.pi * 3 / time[-1] * t) + 1) + coeff_max\n",
    "\n",
    "def process(y, u, t):\n",
    "    a = generate_coeff(t, -1, -0.9)\n",
    "    b = generate_coeff(t, 0.095, 0.1)\n",
    "    \n",
    "    y_k = -a * y + b * u\n",
    "    \n",
    "    return y_k"
   ]
  },
  {
   "cell_type": "code",
   "execution_count": 139,
   "metadata": {},
   "outputs": [],
   "source": [
    "h = 0.025\n",
    "\n",
    "# rising time taking the mean of a\n",
    "tm = -3 / (math.log(0.95) / h)\n",
    "\n",
    "# setup the prbs\n",
    "q = 7\n",
    "th = q * h\n",
    "n = int(tm / th)\n",
    "\n",
    "n_points = 2**n\n",
    "\n",
    "ticks = [i for i in range(q * n_points)]\n",
    "time = [t * h for t in ticks]\n",
    "\n",
    "# initialise y and u for k = 0\n",
    "y_list = [0]\n",
    "u_gen = generate_prbs(1, n)\n",
    "\n",
    "u_list = [next(u_gen)]\n",
    "\n",
    "# run the simulation\n",
    "for t in ticks[1:]:\n",
    "    y = process(y_list[-1], u_list[-1], t * h)\n",
    "    # compute the new prbs value, knowing th = q * h\n",
    "    if not t % q:\n",
    "        u = next(u_gen)\n",
    "    else:\n",
    "        u = u_list[-1]\n",
    "    y_list.append(y)\n",
    "    u_list.append(u)"
   ]
  },
  {
   "cell_type": "code",
   "execution_count": 141,
   "metadata": {},
   "outputs": [
    {
     "data": {
      "image/png": "[encoded data removed]",
      "text/plain": [
       "<Figure size 432x288 with 2 Axes>"
      ]
     },
     "metadata": {
      "needs_background": "light"
     },
     "output_type": "display_data"
    }
   ],
   "source": [
    "fig, axs = plt.subplots(2, 1, constrained_layout=True)\n",
    "axs[0].plot(time, y_list, '-', label='y')\n",
    "axs[1].plot(time, u_list, '-', label='u')\n",
    "axs[0].set_ylabel('y')\n",
    "axs[1].set_ylabel('u')\n",
    "axs[1].set_xlabel('time [s]')\n",
    "_ = axs[0].legend()\n",
    "_ = axs[1].legend()"
   ]
  },
  {
   "cell_type": "markdown",
   "metadata": {},
   "source": [
    "### Identification avec la méthode des moindres carrés"
   ]
  },
  {
   "cell_type": "code",
   "execution_count": null,
   "metadata": {},
   "outputs": [],
   "source": []
  }
 ],
 "metadata": {
  "kernelspec": {
   "display_name": "Python 3",
   "language": "python",
   "name": "python3"
  },
  "language_info": {
   "codemirror_mode": {
    "name": "ipython",
    "version": 3
   },
   "file_extension": ".py",
   "mimetype": "text/x-python",
   "name": "python",
   "nbconvert_exporter": "python",
   "pygments_lexer": "ipython3",
   "version": "3.5.3"
  }
 },
 "nbformat": 4,
 "nbformat_minor": 4
}
