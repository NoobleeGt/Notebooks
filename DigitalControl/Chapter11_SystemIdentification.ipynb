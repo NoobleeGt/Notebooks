{
 "cells": [
  {
   "cell_type": "markdown",
   "metadata": {},
   "source": [
    "# Identification des systèmes"
   ]
  },
  {
   "cell_type": "markdown",
   "metadata": {},
   "source": [
    "## Introduction"
   ]
  },
  {
   "cell_type": "markdown",
   "metadata": {},
   "source": [
    "L'identification d'un système consiste à déterminer un modèle mathématique basé sur les entrées et les sorties de ce système. Ce modèle mathématique doit, en principe, lorsqu'il est soumis aux mêmes entrées, répondre de manière équivalente au système."
   ]
  },
  {
   "cell_type": "markdown",
   "metadata": {},
   "source": [
    "Il existe différents types de modèles:\n",
    "\n",
    "- modèles de connaissance: ces modèles sont déterminés grâce aux lois de la physique; ils sont utiles pour simuler précisément les comportements du système mais sont souvent trop complexes pour être utile à l'automaticien\n",
    "- modèles de conduite: modèle utilisé pour simuler le système dans la plage de fonctionnement utile afin d'aider à la synthèse d'un régulateur"
   ]
  },
  {
   "cell_type": "markdown",
   "metadata": {},
   "source": [
    "Un modèle peut donc être très différent en fonction des besoins."
   ]
  },
  {
   "cell_type": "markdown",
   "metadata": {},
   "source": [
    "En général, on essaie d'établir un modèle simple répondant à nos besoins. Les erreurs de modélisation (modes rapides négligés) et d'identification (erreurs sur le gain, le retard pur...) seront généralement absorbées par la boucle de régulation, d'où l'importance de la robustesse en pratique."
   ]
  },
  {
   "cell_type": "markdown",
   "metadata": {},
   "source": [
    "Il existe deux types de méthodes d'identification:\n",
    "\n",
    "- non paramétrique: le modèle est décrit sous forme de courbe et n'est pas représentable par un ensemble fini de nombres\n",
    "- paramétrique: le modèle est décrit par un ensemble fini de points (ex: fonction de transfert décrite par les coefficients du numérateur et du dénominateur)"
   ]
  },
  {
   "cell_type": "markdown",
   "metadata": {},
   "source": [
    "Dans ce chapitre, nous n'étudierons que les méthodes d'identification paramétriques pouvant se mettre sous la forme d'une régression linéaire."
   ]
  },
  {
   "cell_type": "markdown",
   "metadata": {},
   "source": [
    "## Prétraitement des signaux"
   ]
  },
  {
   "cell_type": "markdown",
   "metadata": {},
   "source": [
    "Afin d'effectuer l'identification dans de bonnes conditions, il convient de faire attention aux éléments suivants:\n",
    "\n",
    "- l'échantillonnage: pour les mêmes raisons que précédemment, la période d'échantillonnage sera choisie telle que $h = T_{95\\%}/N$ avec $30 < N < 60$\n",
    "- filtre antirepliement: il est choisi de telle manière à respecter le théorème de Shannon, soit $\\omega_c < 2/h$\n",
    "- filtrage de la composante continue: le modèle à identifier étant obtenu par la comparaison entre les variations en sortie et en entrée, il est recommandé de filtrer la composante continue via un changement de variable, ou d'utiliser un filtre passe-haut afin de ne garder que les variations\n",
    "- filtrage des bruits de mesure: si, malgré le filtre antirepliement, le bruit de mesure est toujours présent, il convient d'ajouter un filtre passe-bas de constante de temps $\\tau = T_{95\\%}/9$"
   ]
  },
  {
   "cell_type": "markdown",
   "metadata": {},
   "source": [
    "## Classes de modèles"
   ]
  },
  {
   "cell_type": "markdown",
   "metadata": {},
   "source": [
    "Il existe différentes classes de modèles *standards* pour l'identification. On peut citer, par exemple:\n",
    "\n",
    "- les modèles sous forme de fonctions de transfert\n",
    "- les modèles d'état\n",
    "- les modèles à paramètres distribués"
   ]
  },
  {
   "cell_type": "markdown",
   "metadata": {},
   "source": [
    "Nous étudierons principalement les modèles représentés par des fonctions de transfert au vu du contenu des chapitres précédents."
   ]
  },
  {
   "cell_type": "markdown",
   "metadata": {},
   "source": [
    "De manière générale, les modèles représentés par des fonctions de transfert peuvent être représentés par le schéma général suivant:"
   ]
  },
  {
   "cell_type": "markdown",
   "metadata": {},
   "source": [
    "![Modèles sous forme de fonctions de transfert](Images/Chapter11/LTI_models.png)"
   ]
  },
  {
   "cell_type": "markdown",
   "metadata": {},
   "source": [
    "Le modèle représente:\n",
    "\n",
    "- le processus à identifier reçoit le signal $U(z)$ et renvoie le signal $Y(z)$\n",
    "- $G(z)$ représente le processus physique dont $\\hat{Y}(z)$ est une estimation\n",
    "- $E(z)$ représente une perturbation; elle est souvent prise comme un bruit blanc aléatoire\n",
    "- $H(z)$ est la dynamique de la perturbation; elle permet de mieux identifier les perturbations agissant sur le processus"
   ]
  },
  {
   "cell_type": "markdown",
   "metadata": {},
   "source": [
    "Voici quelques classes importantes de modèles de cette catégorie."
   ]
  },
  {
   "cell_type": "markdown",
   "metadata": {},
   "source": [
    "### Modèle ARX"
   ]
  },
  {
   "cell_type": "markdown",
   "metadata": {},
   "source": [
    "Le modèle ARX est décrit par l'équation suivante:\n",
    "\n",
    "$$ y(k) + a_1 y(k-1) + \\cdots + a_n y(k-n) = b_1 u(k-1) + \\cdots + b_m u(k-m) + e(k) $$\n",
    "\n",
    "Il représente une équation aux différences entre la sortie et l'entrée, avec un terme représentant l'erreur d'équation."
   ]
  },
  {
   "cell_type": "markdown",
   "metadata": {},
   "source": [
    "Il peut être mis sous la forme suivante:\n",
    "\n",
    "$$Y(z) = \\frac{B(z)}{A(z)} U(z) + \\frac{1}{A(z)} E(z)$$"
   ]
  },
  {
   "cell_type": "markdown",
   "metadata": {},
   "source": [
    "### Modèle ARMAX"
   ]
  },
  {
   "cell_type": "markdown",
   "metadata": {},
   "source": [
    "Le modèle ARMAX est décrit par l'équation suivante:\n",
    "\n",
    "$$ y(k) + a_1 y(k-1) + \\cdots + a_n y(k-n) = b_1 u(k-1) + \\cdots + b_m u(k-m) + e(k) + c_1 e(k-1) + \\cdots + c_n e(k-l)$$\n",
    "\n",
    "Il représente une équation aux différences entre la sortie et l'entrée, avec plusieurs termes représentant une moyenne ajustée de la perturbation."
   ]
  },
  {
   "cell_type": "markdown",
   "metadata": {},
   "source": [
    "Il peut être mis sous la forme suivante:\n",
    "\n",
    "$$Y(z) = \\frac{B(z)}{A(z)} U(z) + \\frac{C(z)}{A(z)} E(z)$$"
   ]
  },
  {
   "cell_type": "markdown",
   "metadata": {},
   "source": [
    "On peut aussi, en modifiant les termes $U(z)$ et $Y(z)$ par leur différence, ajouter une intégration au modèle. Ce dernier est alors appelé ARIMAX."
   ]
  },
  {
   "cell_type": "markdown",
   "metadata": {},
   "source": [
    "Ce modèle, ajoutant de la flexibilité dans la description des perturbations par rapport au modèle ARX, est devenu le standard le plus utilisé pour le contrôle et l'économétrie (branche étudiant les modèles en économie)."
   ]
  },
  {
   "cell_type": "markdown",
   "metadata": {},
   "source": [
    "### Modèle de Box-Jenkins"
   ]
  },
  {
   "cell_type": "markdown",
   "metadata": {},
   "source": [
    "Le modèle de Box-Jenkins est décrit par l'équation suivante:\n",
    "\n",
    "$$Y(z) = \\frac{B(z)}{A(z)} U(z) + \\frac{C(z)}{A(z)} E(z)$$"
   ]
  },
  {
   "cell_type": "markdown",
   "metadata": {},
   "source": [
    "Ce modèle est très complet car il sépare entièrement la dynamique du processus de la dynamique de la perturbation."
   ]
  },
  {
   "cell_type": "markdown",
   "metadata": {},
   "source": [
    "## Régression linéaire"
   ]
  },
  {
   "cell_type": "markdown",
   "metadata": {},
   "source": [
    "La régression linéaire est définie par l'équation vectorielle suivante:\n",
    "\n",
    "$$ y(k) = \\phi (k) \\vartheta + \\varepsilon (k) $$"
   ]
  },
  {
   "cell_type": "markdown",
   "metadata": {},
   "source": [
    "Dans cette équation, $y(k) \\in \\mathbb{R}^N$ est le vecteur de mesures, $\\vartheta \\in \\mathbb{R}^p$ est le vecteur de paramètres et $\\varepsilon (k) \\in \\mathbb{R}^N$ est le vecteur d'erreurs; $\\phi (k) \\in \\mathbb{R}^{N \\times p}$ est la matrice d'observations."
   ]
  },
  {
   "cell_type": "markdown",
   "metadata": {},
   "source": [
    "Cette équation, qui est une simple équation de droite lorsque la taille des vecteurs vaut 2, permet de modéliser une grande quantité de problèmes physiques."
   ]
  },
  {
   "cell_type": "markdown",
   "metadata": {},
   "source": [
    "#### Exemple 1\n",
    "Prenons la fonction de transfert à identifier suivante:\n",
    "\n",
    "$$ G(s) = \\frac{\\gamma}{\\tau s + 1} $$"
   ]
  },
  {
   "cell_type": "markdown",
   "metadata": {},
   "source": [
    "La réponse impulsionnelle fourni la sortie temporelle suivante:\n",
    "\n",
    "$$ y(t) = \\mathscr{L}^{-1} \\left( G(s) \\right) = \\frac{\\gamma}{\\tau} e^{-\\frac{t}{\\tau}} $$"
   ]
  },
  {
   "cell_type": "markdown",
   "metadata": {},
   "source": [
    "En passant par le logarithme, on obtient:\n",
    "\n",
    "$$ \\ln \\left( \\frac{\\gamma}{\\tau} e^{-\\frac{t}{\\tau}} \\right) = -\\frac{t}{\\tau} + \\ln \\frac{\\gamma}{\\tau} $$"
   ]
  },
  {
   "cell_type": "markdown",
   "metadata": {},
   "source": [
    "Cette dernière équation devient donc une droite avec:\n",
    "\n",
    "- $y = \\ln \\left( \\frac{\\gamma}{\\tau} e^{-\\frac{t}{\\tau}} \\right)$\n",
    "- $a = -\\frac{1}{\\tau}$\n",
    "- $b = \\ln \\frac{\\gamma}{\\tau}$"
   ]
  },
  {
   "cell_type": "markdown",
   "metadata": {},
   "source": [
    "En relevant suffisamment de points, on peut écrire la régression suivante:\n",
    "\n",
    "$$\n",
    "\\left[\n",
    "\\begin{array}{ccc}\n",
    "  \\ln y(0) \\\\\n",
    "  \\ln y(h) \\\\\n",
    "  \\vdots \\\\\n",
    "  \\ln y(kh)\n",
    "\\end{array}\n",
    "\\right]\n",
    "=\n",
    "\\left[\n",
    "\\begin{array}{ccc}\n",
    "  0 & 1 \\\\\n",
    "  h & 1 \\\\\n",
    "  \\vdots \\\\\n",
    "  kh & 1\n",
    "\\end{array}\n",
    "\\right]\n",
    "\\times\n",
    "\\left[\n",
    "\\begin{array}{ccc}\n",
    "  a \\\\\n",
    "  b\n",
    "\\end{array}\n",
    "\\right]\n",
    "$$"
   ]
  },
  {
   "cell_type": "code",
   "execution_count": 81,
   "metadata": {},
   "outputs": [],
   "source": [
    "%matplotlib inline\n",
    "import matplotlib.pyplot as plt\n",
    "plt.style.use('../my_params.mplstyle')\n",
    "\n",
    "import math\n",
    "import random\n",
    "\n",
    "import control\n",
    "from scipy import stats"
   ]
  },
  {
   "cell_type": "code",
   "execution_count": 119,
   "metadata": {},
   "outputs": [
    {
     "name": "stdout",
     "output_type": "stream",
     "text": [
      "Estimated gamma : 2.276528068076745\n",
      "Estimated tau : 9.656316543208929\n"
     ]
    }
   ],
   "source": [
    "gamma = 2.3\n",
    "tau = 10.25\n",
    "\n",
    "G = control.tf(gamma, [tau, 1])\n",
    "\n",
    "time, yout = control.impulse_response(G, [i * 10 for i in range(10)])\n",
    "    \n",
    "y_ln = [math.log(y) for y in yout]\n",
    "\n",
    "# add Box Muller noise to y\n",
    "for i, y in enumerate(y_ln):\n",
    "    x1, x2 = random.random(), random.random()\n",
    "    z = math.sqrt(-2 * math.log(x1)) * math.cos(2 * math.pi * x2)\n",
    "    \n",
    "    k = 1  # change to 0.1, 0.01\n",
    "    \n",
    "    y_ln[i] += k * z\n",
    "    \n",
    "# compute linear regression\n",
    "slope, intercept, r_value, p_value, std_err = stats.linregress(time, y_ln)\n",
    "\n",
    "y_lsq = [slope * t + intercept for t in time]\n",
    "\n",
    "gamma_lsq = - math.exp(intercept) / slope\n",
    "tau_lsq = -1 / slope\n",
    "\n",
    "print('Estimated gamma : {}'.format(gamma_lsq))\n",
    "print('Estimated tau : {}'.format(tau_lsq))"
   ]
  },
  {
   "cell_type": "code",
   "execution_count": 118,
   "metadata": {},
   "outputs": [
    {
     "data": {
      "image/png": "[encoded data removed]",
      "text/plain": [
       "<Figure size 600x375 with 1 Axes>"
      ]
     },
     "metadata": {
      "needs_background": "light"
     },
     "output_type": "display_data"
    }
   ],
   "source": [
    "fig, ax = plt.subplots()\n",
    "ax.plot(time, y_ln, '.', label='y\\_ln')\n",
    "ax.plot(time, y_lsq, '-', label='y\\_lsq')\n",
    "ax.set_xlabel('time [s]')\n",
    "ax.set_ylabel('output')\n",
    "_ = ax.legend()"
   ]
  },
  {
   "cell_type": "markdown",
   "metadata": {},
   "source": [
    "Cette méthode peut sembler intéressante, mais une impulsion de Dirac est en pratique, difficile à mettre en oeuvre.\n",
    "\n",
    "***"
   ]
  },
  {
   "cell_type": "markdown",
   "metadata": {},
   "source": [
    "Ce chapitre n'étant qu'une introduction à l'identification, seuls le modèle ARX, pouvant être décrits par une régression linéaire, sera étudié."
   ]
  },
  {
   "cell_type": "markdown",
   "metadata": {},
   "source": [
    "## Application à l'identification des systèmes dynamiques"
   ]
  },
  {
   "cell_type": "markdown",
   "metadata": {},
   "source": [
    "**Voir Longchamp 11.3**"
   ]
  },
  {
   "cell_type": "markdown",
   "metadata": {},
   "source": [
    "## Identification paramétrique pour un modèle linéaire"
   ]
  },
  {
   "cell_type": "markdown",
   "metadata": {},
   "source": [
    "**Voir Borne 19.3 (Principes, Méthode des moindres carrés, moindres carrés récursifs, moindres carrés pondérés, moindres carrés récursifs pondérés)**"
   ]
  },
  {
   "cell_type": "markdown",
   "metadata": {},
   "source": [
    "## Séquence d'entrée utilisée pour l'identification"
   ]
  },
  {
   "cell_type": "markdown",
   "metadata": {},
   "source": [
    "**Voir Borne 19.4**"
   ]
  }
 ],
 "metadata": {
  "kernelspec": {
   "display_name": "Python 3",
   "language": "python",
   "name": "python3"
  },
  "language_info": {
   "codemirror_mode": {
    "name": "ipython",
    "version": 3
   },
   "file_extension": ".py",
   "mimetype": "text/x-python",
   "name": "python",
   "nbconvert_exporter": "python",
   "pygments_lexer": "ipython3",
   "version": "3.5.3"
  }
 },
 "nbformat": 4,
 "nbformat_minor": 4
}
