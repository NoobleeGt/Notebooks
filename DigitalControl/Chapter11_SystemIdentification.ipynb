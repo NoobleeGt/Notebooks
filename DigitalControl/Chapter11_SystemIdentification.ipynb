{
 "cells": [
  {
   "cell_type": "markdown",
   "metadata": {},
   "source": [
    "# Identification des systèmes"
   ]
  },
  {
   "cell_type": "markdown",
   "metadata": {},
   "source": [
    "## Introduction"
   ]
  },
  {
   "cell_type": "markdown",
   "metadata": {},
   "source": [
    "L'identification d'un système consiste à déterminer un modèle mathématique basé sur les entrées et les sorties de ce système. Ce modèle mathématique doit, en principe, lorsqu'il est soumis aux mêmes entrées, répondre de manière équivalente au système."
   ]
  },
  {
   "cell_type": "markdown",
   "metadata": {},
   "source": [
    "Il existe différents types de modèles:\n",
    "\n",
    "- modèles de connaissance: ces modèles sont déterminés grâce aux lois de la physique; ils sont utiles pour simuler précisément les comportements du système mais sont souvent trop complexes pour être utile à l'automaticien\n",
    "- modèles de conduite: modèle utilisé pour simuler le système dans la plage de fonctionnement utile afin d'aider à la synthèse d'un régulateur"
   ]
  },
  {
   "cell_type": "markdown",
   "metadata": {},
   "source": [
    "Un modèle peut donc être très différent en fonction des besoins."
   ]
  },
  {
   "cell_type": "markdown",
   "metadata": {},
   "source": [
    "En général, on essaie d'établir un modèle simple répondant à nos besoins. Les erreurs de modélisation (modes rapides négligés) et d'identification (erreurs sur le gain, le retard pur...) seront généralement absorbées par la boucle de régulation, d'où l'importance de la robustesse en pratique."
   ]
  },
  {
   "cell_type": "markdown",
   "metadata": {},
   "source": [
    "Il existe deux types de méthodes d'identification:\n",
    "\n",
    "- non paramétrique: le modèle est décrit sous forme de courbe et n'est pas représentable par un ensemble fini de nombres\n",
    "- paramétrique: le modèle est décrit par un ensemble fini de points (ex: fonction de transfert décrite par les coefficients du numérateur et du dénominateur)"
   ]
  },
  {
   "cell_type": "markdown",
   "metadata": {},
   "source": [
    "Dans ce chapitre, nous n'étudierons que les méthodes d'identification paramétriques pouvant se mettre sous la forme d'une régression linéaire."
   ]
  },
  {
   "cell_type": "markdown",
   "metadata": {},
   "source": [
    "## Prétraitement des signaux"
   ]
  },
  {
   "cell_type": "markdown",
   "metadata": {},
   "source": [
    "**Voir Régulation des procédés industriels P. Borne Tome 2, 19.2**"
   ]
  },
  {
   "cell_type": "markdown",
   "metadata": {},
   "source": [
    "## Classes de modèles"
   ]
  },
  {
   "cell_type": "markdown",
   "metadata": {},
   "source": [
    "**Voir System Identification L Ljung, 4.2 page 103 PDF**"
   ]
  },
  {
   "cell_type": "markdown",
   "metadata": {},
   "source": [
    "## Régression linéaire"
   ]
  },
  {
   "cell_type": "markdown",
   "metadata": {},
   "source": [
    "**Voir Longchamp 11.2**"
   ]
  },
  {
   "cell_type": "markdown",
   "metadata": {},
   "source": [
    "## Application à l'identification des systèmes dynamiques"
   ]
  },
  {
   "cell_type": "markdown",
   "metadata": {},
   "source": [
    "**Voir Longchamp 11.3**"
   ]
  },
  {
   "cell_type": "markdown",
   "metadata": {},
   "source": [
    "## Identification paramétrique pour un modèle linéaire"
   ]
  },
  {
   "cell_type": "markdown",
   "metadata": {},
   "source": [
    "**Voir Borne 19.3 (Principes, Méthode des moindres carrés, moindres carrés récursifs, moindres carrés pondérés, moindres carrés récursifs pondérés)**"
   ]
  },
  {
   "cell_type": "markdown",
   "metadata": {},
   "source": [
    "## Séquence d'entrée utilisée pour l'identification"
   ]
  },
  {
   "cell_type": "markdown",
   "metadata": {},
   "source": [
    "**Voir Borne 19.4**"
   ]
  }
 ],
 "metadata": {
  "kernelspec": {
   "display_name": "Python 3",
   "language": "python",
   "name": "python3"
  },
  "language_info": {
   "codemirror_mode": {
    "name": "ipython",
    "version": 3
   },
   "file_extension": ".py",
   "mimetype": "text/x-python",
   "name": "python",
   "nbconvert_exporter": "python",
   "pygments_lexer": "ipython3",
   "version": "3.5.3"
  }
 },
 "nbformat": 4,
 "nbformat_minor": 4
}
