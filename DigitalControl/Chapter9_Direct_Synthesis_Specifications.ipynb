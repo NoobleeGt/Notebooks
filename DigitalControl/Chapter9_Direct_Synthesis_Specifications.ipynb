{
 "cells": [
  {
   "cell_type": "markdown",
   "metadata": {},
   "source": [
    "# 9. Synthèse directe -- Spécifications"
   ]
  },
  {
   "cell_type": "markdown",
   "metadata": {},
   "source": [
    "## 9.1 Introduction"
   ]
  },
  {
   "cell_type": "markdown",
   "metadata": {},
   "source": [
    "Ce chapitre a pour objectif la synthèse d'un régulateur discret directement basée sur un modèle discret de l'installation, sous les formes:\n",
    "\n",
    "- fonction de transfert discrète $H(z)$\n",
    "- réponse harmonique échantillonnée $H(e^{j\\omega h})$, tenant directement compte des convertisseurs"
   ]
  },
  {
   "cell_type": "markdown",
   "metadata": {},
   "source": [
    "Il existe 2 méthodes de synthèse:\n",
    "\n",
    "- par calibrage de la boucle; l'idée est d'étudier la réponse fréquentielle afin d'imposer des marges de stabilité\n",
    "- par placement de pôles; l'idée est l'étude du lieu des pôles afin d'imposer un régime transitoire"
   ]
  },
  {
   "cell_type": "markdown",
   "metadata": {},
   "source": [
    "## 9.2 Performance en régime permanent"
   ]
  },
  {
   "cell_type": "markdown",
   "metadata": {},
   "source": [
    "Lorsque les écarts permanents sont imposés, il est possible d'utiliser les tableaux développés au Chapitre 7 afin de déterminer la structure ainsi que les gains."
   ]
  },
  {
   "cell_type": "markdown",
   "metadata": {},
   "source": [
    "Cependant, une synthèse basée sur les écarts permanents ne tient en aucun compte des aspects de robustesse. Le résultat peut donc être très oscillant ou même instable."
   ]
  },
  {
   "cell_type": "markdown",
   "metadata": {},
   "source": [
    "#### Exemple\n",
    "\n",
    "Soit la fonction de transfert suivante, avec $h=0.025$:\n",
    "\n",
    "$$ H(z) = \\frac{10^{-3}(1.23z + 1.21)}{(z-1)(z-0.95)} $$\n",
    "\n",
    "Les spécifications requièrent un statisme d'asservissement nul et une traînée inférieure ou égale à $0.05$."
   ]
  },
  {
   "cell_type": "markdown",
   "metadata": {},
   "source": [
    "Comme la fonction de transfert contient déjà un intégrateur, l'écart statique d'asservissement sera déjà nul en boucle fermée."
   ]
  },
  {
   "cell_type": "markdown",
   "metadata": {},
   "source": [
    "Le gain permanent du système en boucle ouverte est:\n",
    "\n",
    "$$ \\gamma = \\lim_{z \\rightarrow 1} (z-1) K_p \\frac{10^{-3}(1.23z + 1.21)}{(z-1)(z-0.95)} = 0.049 K_p $$"
   ]
  },
  {
   "cell_type": "markdown",
   "metadata": {},
   "source": [
    "On peut maintenant calculer le gain $K_p$:\n",
    "\n",
    "$$ \\frac{h}{\\gamma} = \\frac{0.51}{K_p} \\leq 0.05 $$\n",
    "\n",
    "On obtient donc l'inégalité $K_p \\geq 10.2$."
   ]
  },
  {
   "cell_type": "markdown",
   "metadata": {},
   "source": [
    "## 9.3 Robustesse de la stabilité"
   ]
  },
  {
   "cell_type": "markdown",
   "metadata": {},
   "source": [
    "Les marges de gain, de phase, de retard et de module permettent de garantir la robustesse de la stabilité du système en boucle fermée. Nous verrons comment synthétiser un régulateur basé sur les marges de stabilité."
   ]
  },
  {
   "cell_type": "markdown",
   "metadata": {},
   "source": [
    "## 9.4 Amortissement du régime transitoire"
   ]
  },
  {
   "cell_type": "markdown",
   "metadata": {},
   "source": [
    "Il est important de garder à l'esprit les faits suivants:\n",
    "\n",
    "- la réponse d'un système possède un régime transitoire et un régime permanent\n",
    "- le régime transitoire fixe la qualité dynamique de la réponse (temps de réponse, dépassement...)\n",
    "- le régime transitoire est décrit par une combinaison linéaire de ses modes, dépendant eux-mêmes des pôles\n",
    "- en boucle fermée, les pôles sont les zéros du polynôme caractéristique, identique pour toutes les fonctions de transfert (voir matrice du Chapitre 5)\n",
    "- la pondération des différents modes dépend des pôles et des zéros; ceci explique pourquoi les différentes fonctions de transfert se comportent différemment ($y(kh)$ n'évolue pas de la même façon pour une consigne ou pour une perturbation)"
   ]
  },
  {
   "cell_type": "markdown",
   "metadata": {},
   "source": [
    "Les modes du régime transitoire prennent l'une de ces 2 formes:\n",
    "\n",
    "- $p^k,\\, p \\in \\mathbb{R}$\n",
    "- $r^k \\cos(k\\omega + \\varphi),\\, p = r e^{j\\omega}$"
   ]
  },
  {
   "cell_type": "markdown",
   "metadata": {},
   "source": [
    "Comme le système est considéré stable, $|p| < 1$"
   ]
  },
  {
   "cell_type": "markdown",
   "metadata": {},
   "source": [
    "### Condition absolue d'amortissement"
   ]
  },
  {
   "cell_type": "markdown",
   "metadata": {},
   "source": [
    "Lorsque $p$ est réel, la réponse impulsionnelle est du type $p^k$."
   ]
  },
  {
   "cell_type": "markdown",
   "metadata": {},
   "source": [
    "Une condition absolue d'amortissement exprime que tout mode $p^k$ jouant sur le régime transitoire doit s'atténuer d'un facteur au moins $a > 1$ en un temps $k_a h$. Les valeurs de $a$ et $k_a$ sont fournies par l'utilisateur. Par exemple, un facteur $a=20$ signifie que le transitoire doit s'amortir dans le temps $k_a h$ d'au moins un facteur 20, soit un amortissement de $95\\%$.\n",
    "\n",
    "\\begin{align}\n",
    "  |p^{k_a}| &\\leq \\frac{1}{a} \\\\\n",
    "  |p|^{k_a} &\\leq \\frac{1}{a} \\\\\n",
    "  \\ln |p| &\\leq -\\frac{\\ln a}{k_a} \\\\\n",
    "  |p| &\\leq e^{-\\frac{\\ln a}{k_a}}\n",
    "\\end{align}  \n",
    "\n",
    "Il faut donc, pour que le système soit amorti dans le temps imposé, que la dernière inégalité soit respectée."
   ]
  },
  {
   "cell_type": "markdown",
   "metadata": {},
   "source": [
    "Lorsque $p$ est complexe, la réponse impulsionnelle est du type $r^k \\cos(k\\omega + \\varphi)$."
   ]
  },
  {
   "cell_type": "markdown",
   "metadata": {},
   "source": [
    "La condition absolue d'amortissement est imposée sur l'amplitude des oscillations; elle s'écrit donc ainsi:\n",
    "\n",
    "$$ r \\leq e^{-\\frac{\\ln a}{k_a}} $$"
   ]
  },
  {
   "cell_type": "markdown",
   "metadata": {},
   "source": [
    "Cela signifie donc que, pour imposer une condition absolue d'amortissement d'une valeur au moins $a$ en un temps $k_a h$, les pôles du système en boucle fermée doivent se trouver à l'intérieur du cercle centré à l'origine de rayon $e^{-\\frac{\\ln a}{k_a}}$. "
   ]
  },
  {
   "cell_type": "markdown",
   "metadata": {},
   "source": [
    "Des valeurs typiques de $a$ et $k_a$, conduisent à des cerlces de rayon:\n",
    "\n",
    "$$ 0.5 \\leq e^{-\\frac{\\ln a}{k_a}} \\leq 0.9 $$"
   ]
  },
  {
   "cell_type": "code",
   "execution_count": 1,
   "metadata": {},
   "outputs": [],
   "source": [
    "%matplotlib inline\n",
    "import matplotlib.pyplot as plt\n",
    "plt.style.use('../my_params.mplstyle')\n",
    "\n",
    "import math"
   ]
  },
  {
   "cell_type": "code",
   "execution_count": 2,
   "metadata": {},
   "outputs": [],
   "source": [
    "def sign(x):\n",
    "    return x / abs(x)\n",
    "\n",
    "def plot_ax(phase_z, magn_z, r, l='-'):\n",
    "    ax = plt.subplot(projection='polar')\n",
    "    ax.plot(phase_z, magn_z, l)\n",
    "    ax.set_rticks([0, r, 1])"
   ]
  },
  {
   "cell_type": "code",
   "execution_count": 3,
   "metadata": {},
   "outputs": [],
   "source": [
    "a = 20\n",
    "ka = 10\n",
    "\n",
    "r = math.exp(-math.log(a)/ka)\n",
    "\n",
    "magn1_z = [r for i in range(101)]\n",
    "phase1_z = [i / 100 * 2 * math.pi for i in range(101)]"
   ]
  },
  {
   "cell_type": "code",
   "execution_count": 4,
   "metadata": {},
   "outputs": [
    {
     "data": {
      "image/png": "[encoded data removed]",
      "text/plain": [
       "<Figure size 432x288 with 1 Axes>"
      ]
     },
     "metadata": {
      "needs_background": "light"
     },
     "output_type": "display_data"
    }
   ],
   "source": [
    "plot_ax(phase1_z, magn1_z, r)"
   ]
  },
  {
   "cell_type": "markdown",
   "metadata": {},
   "source": [
    "Les pôles doivent tous se trouver à l'intérieur du cercle sur la figure."
   ]
  },
  {
   "cell_type": "markdown",
   "metadata": {},
   "source": [
    "### Condition relative d'amortissement"
   ]
  },
  {
   "cell_type": "markdown",
   "metadata": {},
   "source": [
    "Cette fois-ci, au lieu d'imposer une condition sur le temps d'amortissement, la condition est imposée sur le nombre $N$ d'oscillations. Le temps s'écoulant durant $N$ oscillations est noté $k_a h$, où $k_a$ est souvent non entier. Le nombre $k_a$ est donc calculé à partir de $N$:\n",
    "\n",
    "$$ N\\, \\text{tours} = \\omega h k_a = 2\\pi N $$"
   ]
  },
  {
   "cell_type": "markdown",
   "metadata": {},
   "source": [
    "En reprenant le résultat obtenu pour l'amortissement absolu et en remplaçant:\n",
    "\n",
    "$$ r \\leq e^{-\\frac{\\ln a}{2\\pi N} \\omega h} $$"
   ]
  },
  {
   "cell_type": "markdown",
   "metadata": {},
   "source": [
    "Le pôle $p=re^{j\\omega h}$ doit donc respecter la condition:\n",
    "\n",
    "$$ |p| \\leq e^{-\\frac{\\ln a}{2\\pi N} \\omega h} e^{j\\omega h} $$\n",
    "\n",
    "qui correspond à un morceau de spirale logarithmique."
   ]
  },
  {
   "cell_type": "markdown",
   "metadata": {},
   "source": [
    "On rencontre souvent les valeurs de $a=535$ et $N=1$, correspondant à ce qui est appelé une réponse optimale."
   ]
  },
  {
   "cell_type": "code",
   "execution_count": 6,
   "metadata": {},
   "outputs": [],
   "source": [
    "a = 535\n",
    "N = 1\n",
    "\n",
    "h = 1\n",
    "omega = [i / 100 * math.pi / h for i in range(101)]\n",
    "\n",
    "magn2_z = [math.exp(-math.log(a) / (2 * math.pi * N) * o * h) for o in omega]\n",
    "phase2_z = [o * h for o in omega]\n",
    "phase3_z = [-p for p in phase2_z]\n",
    "\n",
    "r = magn2_z[-1]"
   ]
  },
  {
   "cell_type": "code",
   "execution_count": 9,
   "metadata": {},
   "outputs": [
    {
     "data": {
      "image/png": "[encoded data removed]",
      "text/plain": [
       "<Figure size 432x288 with 1 Axes>"
      ]
     },
     "metadata": {
      "needs_background": "light"
     },
     "output_type": "display_data"
    }
   ],
   "source": [
    "plot_ax(phase2_z, magn2_z, r)\n",
    "plot_ax(phase3_z, magn2_z, r)"
   ]
  },
  {
   "cell_type": "markdown",
   "metadata": {},
   "source": [
    "Les pôles doivent tous se trouver à l'intérieur de la forme sur la figure."
   ]
  },
  {
   "cell_type": "markdown",
   "metadata": {},
   "source": [
    "### Condition absolue et relative d'amortissement"
   ]
  },
  {
   "cell_type": "markdown",
   "metadata": {},
   "source": [
    "Souvent, on peut rencontrer les 2 types de conditions en même temps. Les pôles doivent donc appartenir à l'intersection des 2 ensembles (le cercle et la spirale)."
   ]
  },
  {
   "cell_type": "code",
   "execution_count": 10,
   "metadata": {},
   "outputs": [
    {
     "data": {
      "image/png": "[encoded data removed]",
      "text/plain": [
       "<Figure size 432x288 with 1 Axes>"
      ]
     },
     "metadata": {
      "needs_background": "light"
     },
     "output_type": "display_data"
    }
   ],
   "source": [
    "plot_ax(phase1_z, magn1_z, r, l='--')\n",
    "plot_ax(phase2_z, magn2_z, r, l='g-.')\n",
    "plot_ax(phase3_z, magn2_z, r, l='g-.')"
   ]
  },
  {
   "cell_type": "markdown",
   "metadata": {},
   "source": [
    "La synthèse d'un régulateur basée sur les conditions d'amortissement se fait par placement de pôles dans le lieu des pôles."
   ]
  },
  {
   "cell_type": "markdown",
   "metadata": {},
   "source": [
    "On peut remarquer que ces figures ressemblent à celles tracées au Chapitre 5, lors de la transformation des zones du plan $s$ par échantillonnage."
   ]
  },
  {
   "cell_type": "markdown",
   "metadata": {},
   "source": [
    "### Spécifications sur la réponse indicielle"
   ]
  },
  {
   "cell_type": "markdown",
   "metadata": {},
   "source": [
    "Ces spécifications sont déjà connues à ce stade. On y retrouve:\n",
    "\n",
    "- le temps de montée\n",
    "- le temps d'établissement (temps à $X\\%$, avec $X\\in [2, 5]\\%$)\n",
    "- le dépassement\n",
    "- l'écart permanent"
   ]
  },
  {
   "cell_type": "markdown",
   "metadata": {},
   "source": [
    "Ces spécifications peuvent être imposées en asservissement ou en régulation, suivant les besoins."
   ]
  },
  {
   "cell_type": "markdown",
   "metadata": {},
   "source": [
    "## 9.5 Sensibilité"
   ]
  },
  {
   "cell_type": "markdown",
   "metadata": {},
   "source": [
    "La fonction de transfert $G(z)$ modélisant le système est sujette à des imprécisions dues à des erreurs de modélisation et/ou de lentes fluctuations. La structure en boucle fermée doit pouvoir atténuer les effets."
   ]
  },
  {
   "cell_type": "markdown",
   "metadata": {},
   "source": [
    "Le concept de sensibilité d'une fonction $f(z)$ au paramètre $z$ est défini ainsi:\n",
    "\n",
    "$$ \\mathscr{S}_z^f(z) = \\lim_{\\Delta z \\rightarrow 0} \\frac{\\frac{f(z+\\Delta z)-f(z)}{f(z)}}{\\frac{\\Delta z}{z}} = \\frac{\\lim_{\\Delta z \\rightarrow 0} \\frac{f(z+\\Delta z)-f(z)}{f(z)}}{\\frac{\\Delta z}{z}} = \\frac{\\frac{df}{dz}(z)}{\\frac{f(z)}{z}} $$"
   ]
  },
  {
   "cell_type": "markdown",
   "metadata": {},
   "source": [
    "### Montage en asservissement"
   ]
  },
  {
   "cell_type": "markdown",
   "metadata": {},
   "source": [
    "En boucle ouverte, la fonction de transfert s'écrit:\n",
    "\n",
    "$$ \\mathscr{T}_0(G) = KG $$\n",
    "\n",
    "Le régulateur $K$ est supposé ne pas être sujet à des variations car il est numérique."
   ]
  },
  {
   "cell_type": "markdown",
   "metadata": {},
   "source": [
    "La sensibilité du montage aux variations de la fonction de transfert est donnée par:\n",
    "\n",
    "$$ \\mathscr{S}_G^{\\mathscr{T}_0} = \\frac{\\frac{d\\mathscr{T}_0}{dG}(G)}{\\frac{\\mathscr{T}_0(G)}{G}} = \\frac{K}{\\frac{KG}{G}} = 1 $$"
   ]
  },
  {
   "cell_type": "markdown",
   "metadata": {},
   "source": [
    "Une variation ou erreur sur la fonction de transfert se transmet donc intégralement sur le comportement de la boucle ouverte."
   ]
  },
  {
   "cell_type": "markdown",
   "metadata": {},
   "source": [
    "En boucle fermée, on obtient:\n",
    "\n",
    "$$ \\mathscr{T}(G) = \\frac{KG}{1+KG} $$"
   ]
  },
  {
   "cell_type": "markdown",
   "metadata": {},
   "source": [
    "La sensibilité du montage aux variations de la fonction de transfert est donnée par:\n",
    "\n",
    "$$ \\mathscr{S}_G^{\\mathscr{T}}(G) = \\frac{\\frac{d\\mathscr{T}}{dG}(G)}{\\frac{\\mathscr{T}(G)}{G}} = \\frac{\\frac{(1+KG)K-KGK}{(1+KG)^2}}{\\frac{1}{G}\\frac{KG}{1+KG}} = \\frac{1}{1+KG} $$"
   ]
  },
  {
   "cell_type": "markdown",
   "metadata": {},
   "source": [
    "Cette fonction de transfert avait été appelée la fonction de sensibilité. Ce développement montre donc le choix de ce nom."
   ]
  },
  {
   "cell_type": "markdown",
   "metadata": {},
   "source": [
    "Afin d'avoir la sensibilité la plus faible possible aux erreurs de modélisation et/ou variations des paramètres du système, il faut augmenter le gain $K$ ou ajouter un intégrateur dans le système. On revient donc au problème des vases communiquants, montrant qu'une faible sensibilité dans une plage de fréquence donnée est contre-balancée par un pic de sensibilité à plus hautes fréquences, diminuant au passage les marges de stabilité."
   ]
  },
  {
   "cell_type": "markdown",
   "metadata": {},
   "source": [
    "### Montage en régulation"
   ]
  },
  {
   "cell_type": "markdown",
   "metadata": {},
   "source": [
    "La boucle fermée s'écrit:\n",
    "\n",
    "$$ \\frac{G}{1+KG} $$\n",
    "\n",
    "La sensibilité donne donc:\n",
    "\n",
    "$$ \\mathscr{S} = \\frac{\\frac{1+KG-KG}{(1+KG)^2}}{\\frac{1}{G}\\frac{G}{1+KG}} = \\frac{1}{1+KG} $$\n",
    "\n",
    "On retrouve la même fonction de sensibilité que pour le montage en asservissement."
   ]
  },
  {
   "cell_type": "markdown",
   "metadata": {},
   "source": [
    "### Ajout d'un capteur"
   ]
  },
  {
   "cell_type": "markdown",
   "metadata": {},
   "source": [
    "En réalité, le signal de mesure $Y'(z)$ est différent du signal de sortie $Y(z)$ car les capteurs et instruments de mesure ne sont pas parfaits. En ajoutant donc un capteur de fonction de transfert $C(z)$ dans la chaîne de retour, la fonction de transfert en boucle fermée en asservissement devient:\n",
    "\n",
    "$$ \\mathscr{T}(C) = \\frac{KG}{1+KGC} $$"
   ]
  },
  {
   "cell_type": "markdown",
   "metadata": {},
   "source": [
    "La sensibilité du montage aux variations du capteur est:\n",
    "\n",
    "$$ \\mathscr{S}_C^{\\mathscr{T}}(C) = \\frac{\\frac{d\\mathscr{T}}{dC}(C)}{\\frac{\\mathscr{T}(C)}{C}} = \\frac{\\frac{-(KG)^2}{(1+KGC)^2}}{\\frac{1}{C}\\frac{KG}{1+KGC}} = -\\frac{KGC}{1+KGC} = -1 + \\frac{1}{1+KGC} $$"
   ]
  },
  {
   "cell_type": "markdown",
   "metadata": {},
   "source": [
    "En considérant qu'un capteur idéal possède une fonction de transfert $C(z) = 1$, des variations autour de cette valeur nominale donnent:\n",
    "\n",
    "$$ \\mathscr{S}_C^{\\mathscr{T}}(C) = -1 + \\frac{1}{1+KG} $$"
   ]
  },
  {
   "cell_type": "markdown",
   "metadata": {},
   "source": [
    "Comme, en régime harmonique, la fonction de sensibilité doit avoir une faible amplitude afin de garantir de bonnes performances, on se rend compte que la sensibilité du montage au capteur est proche de $-1$. Il est donc très important d'avoir un capteur bien étalonné et très robuste à l'environnement afin de ne pas subir de dérives. Ce capteur est donc un élément onéreux dans la chaîne de rétroaction."
   ]
  },
  {
   "cell_type": "markdown",
   "metadata": {},
   "source": [
    "## 9.6 Fonction de transfert harmonique en boucle fermée"
   ]
  },
  {
   "cell_type": "markdown",
   "metadata": {},
   "source": [
    "Le montage en asservissement est donné par la fonction de transfert:\n",
    "\n",
    "$$ T(z) = \\frac{K(z)G(z)}{1+K(z)G(z)} $$\n",
    "\n",
    "Cette fonction a été appelée fonction de sensibilité complémentaire."
   ]
  },
  {
   "cell_type": "markdown",
   "metadata": {},
   "source": [
    "Cette fonction de transfert représente le lien entre la sortie $Y(z)$ et la consigne $Y_c(z)$. La forme de sa réponse harmonique devrait donc posséder les caractéristiques suivantes:\n",
    "\n",
    "- en basse fréquence, dans une bande de fréquence donnée, le gain doit valoir $0\\, \\mathrm{dB}$ afin de garantir que l'entrée ne soit pas filtrée\n",
    "- en haute fréquence, l'amplitude chute fortement afin d'atténuer les bruits de mesure, qui, pour rappel, ont comme fonction de transfert les reliant à $Y(z)$, $-T(z)$ ainsi que d'augmenter les marges de stabilité (si l'amplitude chute très vite avec l'augmentation de $\\omega$, la courbe reste éloignée du point $-1$)\n",
    "- un pic appelé gain à la résonnance est toléré\n",
    "- lors de sa chute, l'amplitude passe par le point d'amplitude $-3\\, \\mathrm{dB}$, appelé pulsation de coupure; elle donne une idée de la constante de temps du système en boucle fermée"
   ]
  },
  {
   "cell_type": "markdown",
   "metadata": {},
   "source": [
    "L'analyse de la fonction de transfert $T(z)$ nous permet de remarquer que:\n",
    "\n",
    "- lorsque le module de la boucle ouverte $K(e^{j\\omega h})G(e^{j\\omega h})$ est beaucoup plus petit que $1$, les réponses harmoniques de la boucle ouverte et fermée sont proches l'une de l'autre\n",
    "- afin que $\\left|T(e^{j\\omega h})\\right|$ soit constant et égal à $0\\, \\mathrm{dB}$ dans la majeure partie de la bande passante, il faut que le module de $K(e^{j\\omega h})G(e^{j\\omega h})$ soit grand; soit en ajoutant un intégrateur, soit en ayant un gain permanent élevé"
   ]
  },
  {
   "cell_type": "markdown",
   "metadata": {},
   "source": [
    "Afin de synthétiser un régulateur tenant compte de ces recommandations, il faudra faire appel au calibrage de la boucle, la méthode de synthèse fréquentielle."
   ]
  },
  {
   "cell_type": "markdown",
   "metadata": {},
   "source": [
    "#### Remarque\n",
    "\n",
    "Lorsqu'on conçoit un système en boucle fermée, la fréquence d'échantillonnage doit être choisie telle que le système en boucle fermée respecte le théorème de Shannon. Pour cela, il est recommandé de prendre une pulsation d'échantillonnage égale à:\n",
    "\n",
    "$$ \\omega_e = [10 \\dots 20] \\omega_b $$"
   ]
  }
 ],
 "metadata": {
  "kernelspec": {
   "display_name": "Python 3",
   "language": "python",
   "name": "python3"
  },
  "language_info": {
   "codemirror_mode": {
    "name": "ipython",
    "version": 3
   },
   "file_extension": ".py",
   "mimetype": "text/x-python",
   "name": "python",
   "nbconvert_exporter": "python",
   "pygments_lexer": "ipython3",
   "version": "3.5.3"
  }
 },
 "nbformat": 4,
 "nbformat_minor": 4
}
