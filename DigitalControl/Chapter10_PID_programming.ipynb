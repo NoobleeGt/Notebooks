{
 "cells": [
  {
   "cell_type": "markdown",
   "metadata": {},
   "source": [
    "# Programmation d'un régulateur numérique"
   ]
  },
  {
   "cell_type": "markdown",
   "metadata": {},
   "source": [
    "## Généralités"
   ]
  },
  {
   "cell_type": "markdown",
   "metadata": {},
   "source": [
    "Un régulateur numérique est généralement décrit par sa fonction de transfert en z. Partons, en toute généralité, de la fonction de transfert discrète suivante:\n",
    "\n",
    "$$ K(z) = \\frac{U(z)}{E(z)} = \\frac{b_0 z^n + b_1 z^{n-1} + \\dots + b_n}{z^n + a_1 z^{n-1} + \\dots + a_n} $$"
   ]
  },
  {
   "cell_type": "markdown",
   "metadata": {},
   "source": [
    "Sous cette forme, la fonction de transfert est utile pour la synthèse du régulateur, mais pas directement pour la programmation de l'algorithme de commande. Il est plus utile de passer en puissances négatives de z:\n",
    "\n",
    "$$ K(z^{-1}) = \\frac{b_0 + b_1 z^{-1} + \\dots + b_n z^{-n}}{1 + a_1 z^{-1} + \\dots + a_n z^{-n}} $$"
   ]
  },
  {
   "cell_type": "markdown",
   "metadata": {},
   "source": [
    "Il est maintenant facile de convertir la fonction de transfert en algorithme temporel:\n",
    "\n",
    "\\begin{align} \n",
    "  U(z) \\left( 1 + a_1 z^{-1} + \\dots + a_n z^{-n} \\right) &= E(z) \\left( b_0 + b_1 z^{-1} + \\dots + b_n z^{-n} \\right) \\\\\n",
    "  U(z) + a_1 z^{-1} U(z) + \\dots + a_n z^{-n} U(z) &= b_0 E(z) + b_1 z^{-1} E(z) + \\dots + b_n z^{-n} E(z)\n",
    "\\end{align}"
   ]
  },
  {
   "cell_type": "markdown",
   "metadata": {},
   "source": [
    "En se souvenant que $z^{-1}$ représente un retard d'une période d'échantillonnage, on obtient:\n",
    "\n",
    "\\begin{align}\n",
    "  & u(k) + a_1 u(k-1) + \\dots + a_n u(k-n) = b_0 e(k) + b_1 e(k-1) + \\dots + b_n e(k-n) \\\\\n",
    "  & u(k) = -a_1 u(k-1) - \\dots - a_n u(k-n) + b_0 e(k) + b_1 e(k-1) + \\dots + b_n e(k-n)\n",
    "\\end{align}  "
   ]
  },
  {
   "cell_type": "markdown",
   "metadata": {},
   "source": [
    "La forme développée ici, générant une commande à l'instant $t_k$ dépendant de l'écart au même instant, est appelée ***implémentation standard***. Cette forme suppose donc que l'algorithme de commande ne contient pas de retard pur."
   ]
  },
  {
   "cell_type": "markdown",
   "metadata": {},
   "source": [
    "En pratique, par exemple lors de l'utilisation d'un automate programmable (**PLC** ou **PAC**), retard existe entre l'évaluation de l'erreur à l'instant $t_k$ et la mise à jour de la commande. Ce retard, en fonction de la période fixée, peut être soit négligeable par rapport à la période d'échantillonnage, soit proche de la période."
   ]
  },
  {
   "cell_type": "markdown",
   "metadata": {},
   "source": [
    "Il peut aussi arriver d'imposer au processeur de mettre à jour la commande en fin de période, afin de s'assurer d'avoir toujours le même retard entre l'évaluation de l'erreur et la mise à jour de la commande."
   ]
  },
  {
   "cell_type": "markdown",
   "metadata": {},
   "source": [
    "Dans ce dernier cas, on ajoute un retard d'une période d'échantillonnage à la fonction de transfert du régulateur, ce qui donne l'algorithme temporel suivant:\n",
    "\n",
    "$$ u(k) = -a_1 u(k-1) - \\dots - a_n u(k-n) + b_0 e(k-1) + b_1 e(k-1) + \\dots + b_n e(k-n) $$"
   ]
  },
  {
   "cell_type": "markdown",
   "metadata": {},
   "source": [
    "## Algorithme de commande"
   ]
  },
  {
   "cell_type": "markdown",
   "metadata": {},
   "source": [
    "Pour programmer le régulateur, on utilisera l'algorithme suivant:\n",
    "\n",
    "- lors du tick d'horloge, à l'instant $t_k$, la sortie $y(k)$ est mesurée\n",
    "- l'erreur $e(k) = y_c(k) - y(k)$ est alors calculée; la consigne est en général stockée en mémoire \n",
    "- la commande est évaluée grâce à l'algorithme temporel:\n",
    "$$ u(k) = -a_1 u(k-1) - \\dots - a_n u(k-n) + b_0 e(k-1) + b_1 e(k-1) + \\dots + b_n e(k-n) $$\n",
    "où les coefficients $a_i,\\, b_i\\: i = 0, 1, \\dots, n$ sont tirés de la mémoire\n",
    "- la conversion digital-analogique de $u(k)$ peut être effectuée directement après son calcul afin de diminuer le temps de retard\n",
    "-  enfin, on met à jour toutes les variables $u(k-1), u(k-2), \\cdots, u(k-n), e(k-1), e(k-2), \\cdots, e(k-n)$ par $u(k), u(k-1), \\cdots, u(k-n+1), e(k), e(k-1), \\cdots, e(k-n+1)$; cette mise à jour est évidemment effectuée à rebours"
   ]
  },
  {
   "cell_type": "markdown",
   "metadata": {},
   "source": [
    "## Cas du régulateur PID"
   ]
  },
  {
   "cell_type": "markdown",
   "metadata": {},
   "source": [
    "Pour rappel, la seconde méthode d'Euler donne la fonction de transfert du PID mixte suivante:\n",
    "\n",
    "$$ K(z) = K_p \\left( 1 + \\frac{\\frac{h}{T_i}z}{z-1} + \\frac{N(z-1)}{\\left( 1 + N\\frac{h}{T_d} \\right) z - 1} \\right) $$"
   ]
  },
  {
   "cell_type": "markdown",
   "metadata": {},
   "source": [
    "Au lieu d'utiliser l'algorithme général proposé à la section précédente, il est préférable de considérer les 3 actions séparément. Cette astuce permettra de faciliter la gestion du terme intégral, lors de l'ajout des mesures ARW."
   ]
  },
  {
   "cell_type": "markdown",
   "metadata": {},
   "source": [
    "On pose:\n",
    "\n",
    "\\begin{align}\n",
    "  U_i(z) &= \\frac{\\frac{h}{T_i}z}{z-1} E(z) \\\\\n",
    "  U_d(z) &= \\frac{N(z-1)}{\\left( 1 + N\\frac{h}{T_d} \\right) z - 1} E(z)\n",
    "\\end{align}"
   ]
  },
  {
   "cell_type": "markdown",
   "metadata": {},
   "source": [
    "En passant par les puissances négatives de z:\n",
    "\n",
    "\\begin{align}\n",
    "  U_i(z) &= \\frac{\\frac{h}{T_i}}{1-z^{-1}} E(z) \\\\\n",
    "  U_d(z) &= \\frac{N(1-z^{-1})}{\\left( 1 + N\\frac{h}{T_d} \\right) - z^{-1}} E(z)\n",
    "\\end{align}"
   ]
  },
  {
   "cell_type": "markdown",
   "metadata": {},
   "source": [
    "Il en résulte l'algorithme suivant:\n",
    "\n",
    "\\begin{align}\n",
    "  & e(kh) = y_c(kh) - y(kh) \\\\\n",
    "  & u_i(kh) = u_i(kh-h) + \\frac{h}{T_i} e(kh) \\\\\n",
    "  & u_d(kh) = \\frac{T_d}{T_d + Nh} \\left( u_d(kh-h) + N \\left( e(kh) - e(kh-h) \\right) \\right) \\\\\n",
    "  & u(kh) = K_p (e(kh) + u_i(kh) + u_d(kh))\n",
    "\\end{align}"
   ]
  },
  {
   "cell_type": "markdown",
   "metadata": {},
   "source": [
    "### Erreur d'intégration"
   ]
  },
  {
   "cell_type": "markdown",
   "metadata": {},
   "source": [
    "Un souci peut cependant arriver avec l'algorithme présenté ci-dessus. Dans le cas où la période d'échantillonnage est petite, le terme $e(kh) - e(kh-h)$ sera très petit. Les erreurs d'arrondi inhérentes au calcul numérique deviennent alors importantes."
   ]
  },
  {
   "cell_type": "markdown",
   "metadata": {},
   "source": [
    "De plus, le terme $\\frac{h}{T_i} e(kh)$, lorsque la période d'échantillonnage est petite et que $T_i$ est grand, devient tellement petit qu'il est considéré par le processeur comme égal à 0. L'intégral n'a donc plus aucun effet alors que l'écart n'est toujours pas nul. Ce phénomène est appelé ***erreur d'intégration***."
   ]
  },
  {
   "cell_type": "markdown",
   "metadata": {},
   "source": [
    "Une dernière remarque peut être faite par rapport à la période d'échantillonnage. Lorsqu'elle est trop petite, pour des besoins de visualisation et d'historisation des données, il faudra prévoir une plus grosse mémoire afin de stocker toutes ces données, ainsi qu'une bande bassante importante afin de transmettre ces données vers le serveur de stockage. Sans compter aussi le prix du matériel d'acquisition de données qui augmente avec la fréquence d'échantillonnage. Il vaut donc mieux ne pas inutilement diminuer la période d'échantillonnage."
   ]
  },
  {
   "cell_type": "markdown",
   "metadata": {},
   "source": [
    "Afin de résoudre le problème à l'origine de l'erreur d'intégration, l'intégrale peut être modifiée ainsi:\n",
    "\n",
    "\\begin{align}\n",
    "  i(kh) &= i(kh-h) + e(kh) \\\\\n",
    "  u_i(kh) &= \\frac{h}{T_i} i(kh)\n",
    "\\end{align}"
   ]
  },
  {
   "cell_type": "markdown",
   "metadata": {},
   "source": [
    "Cette solution permet de multiplier le terme $h/T_i$ par $i(kh)$, représentant la somme des erreurs depuis le lancement de la commande. Lorsque l'erreur diminue, le terme $i(kh)$ continue d'augmenter. Il en résulte que, même si à certains instants, la commande $u_i(kh)$ ne varie pas, elle continuera d'évoluer aux instants suivants."
   ]
  },
  {
   "cell_type": "markdown",
   "metadata": {},
   "source": [
    "Il faudra par contre stocker la variable $i(kh)$ sur un mot suffisamment long car la somme pourrait amener à un dépassement de capacité."
   ]
  },
  {
   "cell_type": "markdown",
   "metadata": {},
   "source": [
    "### Mesure anti-emballement"
   ]
  },
  {
   "cell_type": "markdown",
   "metadata": {},
   "source": [
    "Pour rappel, la seconde méthode anti-emballement gèle l'intégration lorsque $|u(kh)| > \\mu$:\n",
    "\n",
    "$$ u_i(kh) = u_i(kh-h) $$"
   ]
  },
  {
   "cell_type": "markdown",
   "metadata": {},
   "source": [
    "Il suffit donc de comparer $u(kh)$ à la saturation et, dans le cas où l'inégalité précédente est respectée, ajouter la ligne précédente."
   ]
  },
  {
   "cell_type": "markdown",
   "metadata": {},
   "source": [
    "### Algorithme complet"
   ]
  },
  {
   "cell_type": "markdown",
   "metadata": {},
   "source": [
    "En tenant compte de toutes les mesures précédentes, l'algorithme devient:\n",
    "\n",
    "$$\n",
    "\\begin{align}\n",
    "  & e(kh) = y_c(kh) - y(kh) \\\\\n",
    "  & i(kh) = i(kh-h) + e(kh) \\\\\n",
    "  & u_i(kh) = \\frac{h}{T_i} i(kh) \\\\\n",
    "  & u_d(kh) = \\frac{T_d}{T_d + Nh} \\left( u_d(kh-h) + N \\left( e(kh) - e(kh-h) \\right) \\right) \\\\\n",
    "  & u(kh) = K_p (e(kh) + u_i(kh) + u_d(kh)) \\\\\n",
    "  & \\text{si}\\: |u(kh)| > \\mu \\: \\text{alors}: \\\\\n",
    "  &  \\qquad u_i(kh) = u_i(kh-h) \\\\\n",
    "  &  \\qquad u(kh) = K_p (e(kh) + u_i(kh) + u_d(kh))\n",
    "\\end{align}\n",
    "$$"
   ]
  }
 ],
 "metadata": {
  "kernelspec": {
   "display_name": "Python 3",
   "language": "python",
   "name": "python3"
  },
  "language_info": {
   "codemirror_mode": {
    "name": "ipython",
    "version": 3
   },
   "file_extension": ".py",
   "mimetype": "text/x-python",
   "name": "python",
   "nbconvert_exporter": "python",
   "pygments_lexer": "ipython3",
   "version": "3.5.3"
  }
 },
 "nbformat": 4,
 "nbformat_minor": 4
}
