{
 "cells": [
  {
   "cell_type": "markdown",
   "metadata": {},
   "source": [
    "# Exercice récapitulatif 1"
   ]
  },
  {
   "cell_type": "markdown",
   "metadata": {},
   "source": [
    "## Enoncé"
   ]
  },
  {
   "cell_type": "markdown",
   "metadata": {},
   "source": [
    "Soit le système à commander décrit par la fonction de transfert échantillonnée:\n",
    "\n",
    "$$ G(z) = \\frac{0.8 (z + 0.8)}{(z - 0.7) (z - 0.5)} $$"
   ]
  },
  {
   "cell_type": "markdown",
   "metadata": {},
   "source": [
    "La période d'échantillonnage vaut $h=0.3\\, \\mathrm{s}$. Tracer $|G(e^{j\\omega h})|$ dans un diagramme de Bode. Les spécifications requièrent une marge de phase d'environ $60^\\circ$, aucun statisme d'asservissement et une bande passante en boucle fermée de $2\\, \\mathrm{rad/s}$. Dimensionner un régulateur numérique remplissant ces spécifications. *[Longchamp]*"
   ]
  }
 ],
 "metadata": {
  "kernelspec": {
   "display_name": "Python 3",
   "language": "python",
   "name": "python3"
  },
  "language_info": {
   "codemirror_mode": {
    "name": "ipython",
    "version": 3
   },
   "file_extension": ".py",
   "mimetype": "text/x-python",
   "name": "python",
   "nbconvert_exporter": "python",
   "pygments_lexer": "ipython3",
   "version": "3.7.3"
  }
 },
 "nbformat": 4,
 "nbformat_minor": 4
}
