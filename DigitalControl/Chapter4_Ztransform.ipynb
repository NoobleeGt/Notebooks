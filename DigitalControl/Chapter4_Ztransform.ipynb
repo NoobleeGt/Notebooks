{
 "cells": [
  {
   "cell_type": "markdown",
   "metadata": {},
   "source": [
    "# Transformées en Z"
   ]
  },
  {
   "cell_type": "markdown",
   "metadata": {},
   "source": [
    "## Définitions"
   ]
  },
  {
   "cell_type": "markdown",
   "metadata": {},
   "source": [
    "#### Définition 1\n",
    "\n",
    "La transformée en z d'un signal discret $\\big\\{w(kh)\\big\\}$, dénotée $W(z)$ ou $\\mathscr{Z}\\left\\{w(kh)\\right\\}$, est définie par la série de puissances négatives suivante, où z est une variable complexe:\n",
    "\n",
    "$$ W(z) = \\mathscr{Z}\\big\\{w(kh)\\big\\} = \\sum_{k=0}^{\\infty}w(kh)z^{-k} $$\n",
    "\n",
    "Cette série converge pour $\\|z\\|>r$."
   ]
  },
  {
   "cell_type": "markdown",
   "metadata": {},
   "source": [
    "#### Définition 2\n",
    "\n",
    "La transformée en z inverse d'une fonction $W:\\mathbb{C} \\rightarrow \\mathbb{C}$ est le signal discret $\\big\\{w(kh)\\big\\}$, dénoté $\\mathscr{Z}^{-1}\\big(W(z)\\big)$, tel que $\\mathscr{Z}\\big\\{w(kh)\\big\\}=W(z)$"
   ]
  },
  {
   "cell_type": "markdown",
   "metadata": {},
   "source": [
    "#### Example\n",
    "\n",
    "Le signal discret $\\big\\{w(kh)\\big\\}$ de durée finie est défini ainsi:\n",
    "\n",
    "$$ \\big\\{w(kh)\\big\\} = \\{ 0, \\mathbf{1}, 3, -2, 0, 0 \\}$$\n",
    "\n",
    "L'élément en gras représente la valeur du signal pour $k=0$.\n",
    "\n",
    "Pour $z\\neq0$, la transformée de ce signal est donnée par:\n",
    "\n",
    "$$ \\mathscr{Z}\\{w(kh)\\} = 1 + 3z^{-1} -2z^{-2} $$"
   ]
  },
  {
   "cell_type": "markdown",
   "metadata": {},
   "source": [
    "## 4.2 Propriétés de la transformée en Z"
   ]
  },
  {
   "cell_type": "markdown",
   "metadata": {},
   "source": [
    "Les propriétés de la transformée en Z sont résumées ci-après:\n",
    "\n",
    "#### Linéarité\n",
    "$$ \\mathscr{Z}\\left(\\left\\{w_1(kh)\\right\\}+\\left\\{w_2(kh)\\right\\}\\right) = \\mathscr{Z}\\left\\{w_1(kh)\\right\\}+\\mathscr{Z}\\left\\{w_2(kh)\\right\\} $$\n",
    "$$ \\mathscr{Z}\\left(a\\left\\{w(kh)\\right\\}\\right) = a\\mathscr{Z}\\left\\{w(kh)\\right\\} $$\n",
    "\n",
    "#### Décalages temporels\n",
    "$$ \\mathscr{Z}\\left\\{w(kh-dh)\\right\\} = z^{-d}W(z) $$\n",
    "$$ \\mathscr{Z}\\left\\{w(kh+dh)\\right\\} = z^{d}W(z) - \\sum_{i=0}^{d-1}w(ih)z^{d-i} $$\n",
    "\n",
    "#### Dérivation complexe\n",
    "$$ \\mathscr{Z}\\left\\{kh\\, w(kh)\\right\\} = -hz\\frac{dW}{dz}(z) $$\n",
    "\n",
    "#### Changement d'échelle complexe\n",
    "$$ \\mathscr{Z}\\left\\{a^{kh}w(kh)\\right\\} = W\\left(\\frac{z}{a^h}\\right) $$\n",
    "\n",
    "#### Valeurs initiales et finale\n",
    "$$ w(0) = \\lim_{z \\rightarrow \\infty}W(z) $$\n",
    "$$ \\lim_{k \\rightarrow \\infty} w(kh) = \\lim_{z \\rightarrow 1}(z-1)W(z) $$\n",
    "\n",
    "#### Produit de convolution\n",
    "$$ \\mathscr{Z}\\left\\{\\sum_{l=0}^{k}u(lh)g(kh-lh)\\right\\} = G(z)U(z) $$\n",
    "\n",
    "#### Accumulation\n",
    "$$ \\mathscr{Z}\\left\\{\\sum_{l=0}^{k}w(lh)\\right\\} = \\frac{z}{z-1}W(z) $$\n",
    "\n",
    "#### Différence\n",
    "$$ \\mathscr{Z}\\left\\{w(kh)-w(kh-h)\\right\\} = \\frac{z-1}{z}W(z) $$"
   ]
  },
  {
   "cell_type": "markdown",
   "metadata": {},
   "source": [
    "## 4.3 Table des transformées de Laplace et Z"
   ]
  },
  {
   "cell_type": "markdown",
   "metadata": {},
   "source": [
    "| $$\\quad \\text{N°} \\quad$$ | $$\\quad\\quad\\quad w(t) \\quad\\quad\\quad$$ | $$\\quad\\quad\\quad\\quad \\mathscr{L}\\big(w(t)\\big) \\quad\\quad\\quad\\quad$$ | $$\\quad\\quad w(kh) \\quad\\quad$$ | $$\\quad\\quad \\mathscr{Z}\\big\\{w(kh)\\big\\} \\quad\\quad$$ |\n",
    "| :-: | :-: | :-: | :-: | :-: |\n",
    "| $$\\text{1}$$ | $$\\delta(t)$$ | $$1$$ | | |\n",
    "| $$\\text{2}$$ | | | $$\\Delta(kh)$$ | $$1$$ |\n",
    "| $$\\text{3}$$ | $$1$$ | $$\\frac{1}{s}$$ | $$1$$ | $$\\frac{z}{z-1}$$ |\n",
    "| $$\\text{4}$$ | $$t$$ | $$\\frac{1}{s^2}$$ | $$kh$$ | $$\\frac{hz}{(z-1)^2}$$ |\n",
    "| $$\\text{5}$$ | $$\\frac{1}{2}t^2$$ | $$\\frac{1}{s^3}$$ | $$\\frac{1}{2}(kh)^2$$ | $$\\frac{h^2z(z+1)}{2(z-1)^3}$$ |\n",
    "| $$\\text{6}$$ | $$\\frac{1}{(l-1)!}t^{l-1}$$ | $$\\frac{1}{s^l}$$ | $$\\frac{1}{(l-1)!}(kh)^{l-1}$$ | $$\\lim_{a \\rightarrow 0}\\frac{(-1)^{l-1}}{(l-1)!}\\frac{\\partial^{l-1}}{\\partial{}a^{l-1}}\\left( \\frac{z}{z-e^{-ah}} \\right)$$ |\n",
    "| $$\\text{7}$$ | $$e^{-at}$$ | $$\\frac{1}{s+a}$$ | $$e^{-akh}$$ | $$\\frac{z}{z-e^{-ah}}$$ |\n",
    "| $$\\text{8}$$ | $$te^{-at}$$ | $$\\frac{1}{(s+a)^2}$$ | $$khe^{-akh}$$ | $$\\frac{he^{-ah}z}{(z-e^{-ah})^2}$$ |\n",
    "| $$\\text{9}$$ | $$\\frac{1}{2}t^2e^{-at}$$ | $$\\frac{1}{(s+a)^3}$$ | $$\\frac{1}{2}(kh)^2e^{-akh}$$ | $$\\frac{h^2e^{-ah}z(z-e^{-ah}+2e^{-ah})}{2(z-e^{-ah})^3}$$ |\n",
    "| $$\\text{10}$$ | $$\\frac{1}{(l-1)!}t^{l-1}e^{-at}$$ | $$\\frac{1}{(s+a)^l}$$ | $$\\frac{1}{(l-1)!}(kh)^{l-1}e^{-akh}$$ | $$\\frac{(-1)^{l-1}}{(l-1)!}\\frac{\\partial^{l-1}}{\\partial{}a^{l-1}}\\left( \\frac{z}{z-e^{-ah}} \\right)$$ |\n",
    "| $$\\text{11}$$ | $$\\sin(\\omega{}t)$$ | $$\\frac{\\omega}{s^2+\\omega^2}$$ | $$\\sin(\\omega{}kh)$$ | $$\\frac{\\sin(\\omega{}h)z}{z^2-2\\cos(\\omega{}h)z+1}$$ |\n",
    "| $$\\text{12}$$ | $$\\cos(\\omega{}t)$$ | $$\\frac{s}{s^2+\\omega^2}$$ | $$\\cos(\\omega{}kh)$$ | $$\\frac{z(z-\\cos(\\omega{}h))}{z^2-2\\cos(\\omega{}h)z+1}$$ |\n",
    "| $$\\text{13}$$ | $$e^{-at}\\sin(\\omega{}t)$$ | $$\\frac{\\omega}{(s+a)^2+\\omega^2}$$ | $$e^{-akh}\\sin(\\omega{}kh)$$ | $$\\frac{e^{-ah}\\sin(\\omega{}h)z}{z^2-2e^{-ah}\\cos(\\omega{}h)z+e^{-2ah}}$$ |\n",
    "| $$\\text{14}$$ | $$e^{-at}\\cos(\\omega{}t)$$ | $$\\frac{s+a}{(s+a)^2+\\omega^2}$$ | $$e^{-akh}\\cos(\\omega{}kh)$$ | $$ \\frac{z(z-e^{-ah}\\cos(\\omega{}h))}{z^2-2e^{-ah}\\cos(\\omega{}h)z+e^{-2ah}}$$ |\n",
    "| $$\\text{15}$$ | | | $$a^k$$ | $$\\frac{z}{z-a}$$ |\n",
    "| $$\\text{16}$$ | | | $$ka^{k-1}$$ | $$\\frac{z}{(z-a)^2}$$ |\n",
    "| $$\\text{17}$$ | | | $$\\frac{1}{2}k(k-1)a^{k-2}$$ | $$\\frac{z}{(z-a)^3}$$ |\n",
    "| $$\\text{18}$$ | | | $$\\frac{1}{(l-1)!}\\left(\\prod_{i=0}^{l-2}(k-i)\\right)a^{k-l+1}$$ | $$\\frac{z}{(z-a)^l}$$ |"
   ]
  },
  {
   "cell_type": "markdown",
   "metadata": {},
   "source": [
    "## Calcul de la transformée en Z inverse"
   ]
  },
  {
   "cell_type": "markdown",
   "metadata": {},
   "source": [
    "Soit la transformée en z rationnelle propre définie par:\n",
    "\n",
    "$$ W(z) = \\frac{b_0z^m+b_1z^{m-1}+\\dots+b_m}{z^n+a_1z^{n-1}+\\dots+a_n} \\qquad n \\geq m $$\n",
    "\n",
    "Le dénominateur est dit *monique*, c'est-à-dire que le coefficient du terme d'ordre le plus élevé est $1$."
   ]
  },
  {
   "cell_type": "markdown",
   "metadata": {},
   "source": [
    "Il existe 3 méthodes de calcul de la transformée en Z inverse:\n",
    "\n",
    "- Décomposition en somme de fractions simples\n",
    "- Intégration dans le plan complexe\n",
    "- Inversion numérique\n",
    "  \n",
    "L'intégration dans le plan complexe étant rarement utilisée en pratique, elle ne sera pas montrée ici."
   ]
  },
  {
   "cell_type": "markdown",
   "metadata": {},
   "source": [
    "### Décomposition en sommes de fractions simples"
   ]
  },
  {
   "cell_type": "markdown",
   "metadata": {},
   "source": [
    "#### Exemple\n",
    "\n",
    "$$ W(z) = \\frac{3}{(z+1)(z-2)} $$\n",
    "\n",
    "Afin de faire apparaître un z au numérateur et ainsi obtenir une forme semblable au tableau des transformées, on cherche la décomposition en somme de fractions simples de $W(z)/z$.\n",
    "\n",
    "$$ \\frac{W(z)}{z} = \\frac{3}{z(z+1)(z-2)} $$\n",
    "\n",
    "La décomposition donne:\n",
    "\n",
    "$$ \\frac{W(z)}{z} = -\\frac{1,5}{z}+\\frac{1}{z+1}+\\frac{0,5}{z-2} $$\n",
    "\n",
    "En multipliant par z de chaque côté, on obtient:\n",
    "\n",
    "$$ W(z) = -1,5+\\frac{z}{z+1}+\\frac{0,5z}{z-2} $$\n",
    "\n",
    "D'où, la transformée inverse donne:\n",
    "\n",
    "$$ w(kh) = -1,5\\Delta(kh)+(-1)^k+0,5.2^k $$\n",
    "***"
   ]
  },
  {
   "cell_type": "markdown",
   "metadata": {},
   "source": [
    "### Inversion numérique"
   ]
  },
  {
   "cell_type": "markdown",
   "metadata": {},
   "source": [
    "#### Théorème\n",
    "\n",
    "La transformée en z inverse de W(z) est le signal discret fourni par la récurrence suivante, dans laquelle $a_i = b_i = 0$ lorsque $i \\ge n$:\n",
    "\n",
    "$$ w(kh) = b_k-\\sum_{l=0}^{k-1}w(lh)a_{k-l} \\qquad k \\geq 0 $$\n",
    "\n",
    "***"
   ]
  },
  {
   "cell_type": "markdown",
   "metadata": {},
   "source": [
    "#### Exemple\n",
    "\n",
    "$$ W(z) = \\frac{z^3-2z^2+2z}{z^3-4z^2+5z-2} $$\n",
    "\n",
    "En appliquant le théorème, on obtient successivement:\n",
    "\n",
    "\\begin{align}\n",
    "w(0) &= 1 \\\\\n",
    "w(h) &= -2-1(-4) = 2 \\\\\n",
    "w(2h) &= 2-\\big(1 \\cdot 5 + 2(-4)\\big) = 5 \\\\\n",
    "w(3h) &= 0-\\big(1(-2) + 2 \\cdot 5 + 5(-4)\\big) = 12 \\\\\n",
    "w(4h) &= 0-\\big(1 \\cdot 0 + 2(-2) + 5 \\cdot 5 + 12(-4)\\big) = 27 \\\\\n",
    "\\vdots\n",
    "\\end{align}\n",
    "\n",
    "Soit:\n",
    "\n",
    "$$ \\left\\{ w(kh) \\right\\} = \\{ \\dots, 0, \\mathbf{1}, 2, 5, 12, 27, \\dots \\} $$\n",
    "***"
   ]
  },
  {
   "cell_type": "markdown",
   "metadata": {},
   "source": [
    "Afin d'obtenir le même résultat manuellement, il suffit d'effectuer la division polynômiale du numérateur par le dénominateur de $W(z)$."
   ]
  },
  {
   "cell_type": "markdown",
   "metadata": {},
   "source": [
    "### Importance du cercle unité"
   ]
  },
  {
   "cell_type": "markdown",
   "metadata": {},
   "source": [
    "Le bout de code suivant permet de vérifier aisément l'effet d'un pôle sur le système."
   ]
  },
  {
   "cell_type": "code",
   "execution_count": 3,
   "metadata": {},
   "outputs": [],
   "source": [
    "%matplotlib inline\n",
    "import matplotlib.pyplot as plt\n",
    "plt.style.use('../my_params.mplstyle')"
   ]
  },
  {
   "cell_type": "code",
   "execution_count": 4,
   "metadata": {},
   "outputs": [
    {
     "data": {
      "image/png": "[encoded data removed]",
      "text/plain": [
       "<Figure size 600x375 with 1 Axes>"
      ]
     },
     "metadata": {
      "needs_background": "light"
     },
     "output_type": "display_data"
    },
    {
     "data": {
      "image/png": "[encoded data removed]",
      "text/plain": [
       "<Figure size 600x375 with 1 Axes>"
      ]
     },
     "metadata": {
      "needs_background": "light"
     },
     "output_type": "display_data"
    }
   ],
   "source": [
    "import control\n",
    "\n",
    "G = control.tf([1, 0], [1, -0.5], True)\n",
    "\n",
    "control.pzmap(G)\n",
    "t, y = control.impulse_response(G, T=[i/50 for i in range(10)])                                                        \n",
    "\n",
    "fig, ax = plt.subplots()\n",
    "ax.plot(t, y, '.', label='y')\n",
    "ax.set_xlabel('time [s]')\n",
    "ax.set_ylabel('output')\n",
    "_ = ax.legend()"
   ]
  },
  {
   "cell_type": "markdown",
   "metadata": {},
   "source": [
    "## Fonction de transfert"
   ]
  },
  {
   "cell_type": "markdown",
   "metadata": {},
   "source": [
    "La sortie d'un système discret est calculée, comme en continu, par le produit de convolution:\n",
    "\n",
    "$$ y(kh) = \\sum_{l=0}^{k}u(lh)g(kh-lh) $$\n",
    "\n",
    "avec $y, u, g$, la sortie, l'entrée et la réponse impulsionnelle du système respectivement."
   ]
  },
  {
   "cell_type": "markdown",
   "metadata": {},
   "source": [
    "Par la transformée vue précédemment, on obtient:\n",
    "\n",
    "$$ Y(z) = G(z)U(z) $$\n",
    "\n",
    "La transformée $G(z)$ de la réponse impulsionnelle est appelée **fonction de transfert discrète** du système."
   ]
  },
  {
   "cell_type": "markdown",
   "metadata": {},
   "source": [
    "Cette expression permet de:\n",
    "\n",
    "- calculer la sortie $Y(z)$, lorsque $G(z)$ et $U(z)$ sont connus\n",
    "- estimer la fonction de transfert $G(z)$, lorsque $Y(z)$ et $U(z)$"
   ]
  },
  {
   "cell_type": "markdown",
   "metadata": {},
   "source": [
    "La fonction de transfert discrète permet, comme la fonction de transfert continue, de transformer la relation *entrée-sortie* en relation algébrique. Les règles, déjà bien connues, d'algèbre de schémas blocs, sont donc identiques aux règles algébriques régissant les schémas blocs en continu. Elles ne seront donc pas rappelées ici."
   ]
  },
  {
   "cell_type": "markdown",
   "metadata": {},
   "source": [
    "Lorsque le système est décri par une équation aux différences, la fonction de transfert est calculée à partir du quotient $Y(z)/U(z)$:\n",
    "\n",
    "$$ y(k) + a_1 y(k-1) + \\dots + a_n y(k-n) = b_0 u(k-d) + b_1 u(k-d-1) + \\dots + b_m u(k-d-m) $$\n",
    "\n",
    "Par la transformée en Z, on obtient:\n",
    "\n",
    "\\begin{align}\n",
    "Y(z) + a_1 z^{-1}Y(z) + \\dots + a_n z^{-n}Y(z) &= b_0 z^{-d}U(z) + b_1 z^{-d-1}U(z) + \\dots + b_m z^{-d-m}U(z) \\\\\n",
    "\\left(1 + a_1 z^{-1} + \\dots + a_n z^{-n}\\right)Y(z) &= \\left(b_0 z^{-d} + b_1 z^{-d-1} + \\dots + b_m z^{-d-m}\\right)U(z) \\\\\n",
    "\\frac{Y(z)}{U(z)} &= z^{-d}\\frac{b_0+b_1z^{-1}+\\dots+b_mz^{-m}}{1+a_1z^{-1}+\\dots+a_nz^{-n}} \\\\\n",
    "\\frac{Y(z)}{U(z)} &= \\frac{b_0z^m+b_1z^{m-1}+\\dots+b_m}{z^n+a_1z^{n-1}+\\dots+a_n}\n",
    "\\end{align}\n",
    "\n",
    "La dernière ligne est obtenue en multipliant le numérateur et le dénominateur par $z^n$ et en remplaçant $d$ par $n-m$."
   ]
  },
  {
   "cell_type": "markdown",
   "metadata": {},
   "source": [
    "Comme pour les fonctions de transfert continues, les définitions suivantes sont d'application:\n",
    "\n",
    "- les racines du numérateur sont appelées les zéros du système\n",
    "- les racines du dénominateur sont appelées les pôles du système\n",
    "- le dénominateur est appelé polynôme caractéristique\n",
    "- lorsque qu'un zéro possède un module plus grand que 1, le système est dit à non-minimum de phase\n",
    "- l'ordre du système est défini par le nombre $n$ de ses pôles\n",
    "- la différence entre le nombre de pôles et de zéros $d = n - m$ est appelé surplus de pôles"
   ]
  },
  {
   "cell_type": "markdown",
   "metadata": {},
   "source": [
    "En général, on privilégie la fonction de transfert en fonction de puissances positives de $z$ pour l'analyse du système, et de puissances négatives pour les aspects temps réels."
   ]
  },
  {
   "cell_type": "markdown",
   "metadata": {},
   "source": [
    "#### Exemple 1\n",
    "\n",
    "L'intégrateur numérique est défini par l'équation aux différences suivante:\n",
    "\n",
    "$$ y(k+1) = y(k) + u(k)h $$\n",
    "\n",
    "D'où sa fonction de transfert discrète:\n",
    "\n",
    "$$ G(z) = \\frac{h}{z-1} $$\n",
    "\n",
    "Il possède un pôle et pas de zéro et est d'ordre 1.\n",
    "\n",
    "Le pôle $z=1$ est caractéristique d'un effet intégrateur numérique, de la même manière que le pôle $s=0$ l'est pour l'intégrateur analogique.\n",
    "***"
   ]
  },
  {
   "cell_type": "markdown",
   "metadata": {},
   "source": [
    "#### Exemple 2\n",
    "\n",
    "Le régulateur PI numérique est décrit par l'équation:\n",
    "\n",
    "$$ u(k) - u(k-1) = K_p e(k) + K_p \\left( \\frac{h}{T_i} - 1 \\right) e(k-1) $$\n",
    "\n",
    "Sa fonction de transfert est:\n",
    "\n",
    "$$ K(z) = K_p \\frac{1 + \\left( \\frac{h}{T_i} - 1 \\right) z^{-1}}{1 - z^{-1}} $$\n",
    "\n",
    "Ou encore:\n",
    "\n",
    "$$ K(z) = K_p \\frac{z + \\frac{h}{T_i} - 1}{z - 1} $$\n",
    "***"
   ]
  },
  {
   "cell_type": "markdown",
   "metadata": {},
   "source": [
    "#### Exemple 3\n",
    "\n",
    "La dérivée $\\frac{du}{dt}(kh)$ peut être approximée par:\n",
    "\n",
    "$$ y(kh) = \\frac{u(kh) - u(kh-h)}{h} $$\n",
    "\n",
    "D'où la fonction de transfert:\n",
    "\n",
    "$$ G(z) =  \\frac{Y(z)}{U(z)} = \\frac{1-z^{-1}}{h} $$\n",
    "\n",
    "Ou encore:\n",
    "\n",
    "$$ G(z) = \\frac{z-1}{hz} $$\n",
    "\n",
    "Il possède un zéro $z=1$ et un pôle à l'origine.\n",
    "\n",
    "Le zéro $z=1$ est caractéristique de l'effet dérivateur numérique, de la même manière que le zéro $s=0$ l'est pour le dérivateur analogique.\n",
    "***"
   ]
  },
  {
   "cell_type": "markdown",
   "metadata": {},
   "source": [
    "#### Example 4\n",
    "\n",
    "Un retard pur de $d$ périodes d'échantillonnage s'obtient par:\n",
    "\n",
    "$$ G(z) = z^{-d} = \\frac{1}{z^d} $$\n",
    "\n",
    "Il possède $d$ pôles à l'origine.\n",
    "***"
   ]
  },
  {
   "cell_type": "markdown",
   "metadata": {},
   "source": [
    "La fonction de transfert discrète peut prendre la forme suivante:\n",
    "\n",
    "$$ G(z) = \\frac{B(z)}{(z-1)^l A(z)} $$\n",
    "\n",
    "Elle possède $l$ pôles $z=1$, soit $l$ intégrateurs. L'entier $l$ est appelé le type ou la classe du système."
   ]
  },
  {
   "cell_type": "markdown",
   "metadata": {},
   "source": [
    "On obtient le gain permanent du système par:\n",
    "\n",
    "$$ \\gamma = \\lim_{z \\rightarrow 1} (z-1)^l G(z) = \\frac{B(1)}{A(1)} $$\n",
    "\n",
    "Lorsque $l$ vaut 0, 1 ou 2, le gain est appelé respectivement gain statique, en vitesse ou en accélération."
   ]
  },
  {
   "cell_type": "markdown",
   "metadata": {},
   "source": [
    "Enfin, la transformée en $z$ inverse de $G(z)$ permet de retrouver la réponse impulsionnelle $\\left\\{g(kh)\\right\\}$."
   ]
  }
 ],
 "metadata": {
  "celltoolbar": "Aucun(e)",
  "kernelspec": {
   "display_name": "Python 3",
   "language": "python",
   "name": "python3"
  },
  "language_info": {
   "codemirror_mode": {
    "name": "ipython",
    "version": 3
   },
   "file_extension": ".py",
   "mimetype": "text/x-python",
   "name": "python",
   "nbconvert_exporter": "python",
   "pygments_lexer": "ipython3",
   "version": "3.7.3"
  }
 },
 "nbformat": 4,
 "nbformat_minor": 4
}
