{
 "cells": [
  {
   "cell_type": "markdown",
   "metadata": {},
   "source": [
    "# Table des matières"
   ]
  },
  {
   "cell_type": "markdown",
   "metadata": {},
   "source": [
    "1. Introduction aux systèmes nonlinéaires\n",
    "    1. [Introduction](Chapter1_nonlinear_intro.ipynb)\n",
    "    2. [Introduction à la théorie de Lyapunov](Chapter1_lyapunov_intro.ipynb)\n",
    "2. [Echantillonnage et reconstruction](Chapter2_Sampling_Reconstruction.ipynb)\n",
    "3. [Systèmes discrets](Chapter3_DiscreteSystems.ipynb)\n",
    "4. [Transformées en Z](Chapter4_Ztransform.ipynb)\n",
    "5. [Fonctions de transfert en boucle fermée](Chapter5_TransferFunctionCL.ipynb)\n",
    "6. [Réponse harmonique](Chapter6_FrequencyResponse.ipynb)\n",
    "7. [Stabilité](Chapter7_Stability.ipynb)\n",
    "8. [Numérisation](Chapter8_Numerisation.ipynb)\n",
    "9. Synthèse directe\n",
    "    1. [Spécifications](Chapter9_Direct_Synthesis_Specifications.ipynb)\n",
    "    2. [Synthèse par calibrage de la boucle](Chapter9_Direct_Synthesis_LoopShaping.ipynb)"
   ]
  }
 ],
 "metadata": {
  "kernelspec": {
   "display_name": "Python 3",
   "language": "python",
   "name": "python3"
  },
  "language_info": {
   "codemirror_mode": {
    "name": "ipython",
    "version": 3
   },
   "file_extension": ".py",
   "mimetype": "text/x-python",
   "name": "python",
   "nbconvert_exporter": "python",
   "pygments_lexer": "ipython3",
   "version": "3.5.3"
  }
 },
 "nbformat": 4,
 "nbformat_minor": 4
}
