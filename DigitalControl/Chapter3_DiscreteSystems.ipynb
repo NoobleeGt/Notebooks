{
 "cells": [
  {
   "cell_type": "markdown",
   "metadata": {},
   "source": [
    "# 3. Systèmes discrets"
   ]
  },
  {
   "cell_type": "markdown",
   "metadata": {},
   "source": [
    "## 3.1 Introduction"
   ]
  },
  {
   "cell_type": "markdown",
   "metadata": {},
   "source": [
    "Un système de commande numérique prend la forme du schéma fonctionnel ci-dessous:"
   ]
  },
  {
   "cell_type": "markdown",
   "metadata": {},
   "source": [
    "![Commande numérique](Images/digital_control.svg)"
   ]
  },
  {
   "cell_type": "markdown",
   "metadata": {},
   "source": [
    "Le système fonctionne ainsi:\n",
    "- le signal de sortie continu *PV* du *Système à commander* est converti par le *A-D* en signal numérique (point 1)\n",
    "- ce signal numérique est comparé à une consigne *SP*, non représentée ici car souvent en mémoire, et est transformé en un autre signal numérique (point 2)\n",
    "- le signal numérique au point 2 est converti en signal continu par le *D-A*\n",
    "- le signal continu obtenu *MV* sert à commander le *Système à commander*\n",
    "\n",
    "L'horloge permet d'imposer les instants d'échantillonnage et de calcul de manière périodique."
   ]
  },
  {
   "cell_type": "markdown",
   "metadata": {},
   "source": [
    "La figure peut être interprétée de 2 façons:\n",
    "- l'algorithme reçoit une suite de nombres qu'il transforme en une autre suite de nombres\n",
    "- la mise en série de *D-A*, *Système à commander* et *A-D* constitue une vision échantillonnée du *Système à commander*\n",
    "\n",
    "Quelque soit l'interprétation, on se retrouve avec des éléments échantillonnés dans le système. La transformée de Laplace devient donc inutile. Il faut développer de nouveaux outils."
   ]
  },
  {
   "cell_type": "markdown",
   "metadata": {},
   "source": [
    "## 3.2 Systèmes discrets au repos, linéaires, causals et stationnaires"
   ]
  },
  {
   "cell_type": "markdown",
   "metadata": {},
   "source": [
    "Cette section rappelle des définitions déjà connues. Elle ne sera donc pas détaillée."
   ]
  },
  {
   "cell_type": "markdown",
   "metadata": {},
   "source": [
    "#### Définitions\n",
    "- un système est discret si ses signaux d'entrée et de sortie sont discrets\n",
    "\n",
    "- un système discret est au repos au temps 0 si sa sortie $\\{y(kh) : k \\geq 0 \\}$ est déterminée uniquement par son entrée $\\{u(kh) : k \\geq 0 \\}$\n",
    "\n",
    "- un système discret est linéaire si l'application $\\mathscr{G}$ est linéaire, autrement dit si, quelles que soient les entrées $\\{u(kh)\\}$, $\\{u_1(kh)\\}$ et $\\{u_2(kh)\\}$, et pour tout nombre $a \\in \\mathbb{R}$:\n",
    "\n",
    "$$ \\mathscr{G}\\left(\\left\\{u_1(kh)\\right\\} + \\left\\{u_2(kh)\\right\\}\\right) = \\mathscr{G}\\left(\\left\\{u_1(kh)\\right\\}\\right) + \\mathscr{G}\\left(\\left\\{u_2(kh)\\right\\}\\right) $$\n",
    "$$ \\mathscr{G}\\left(a\\left\\{u(kh)\\right\\}\\right) = a\\mathscr{G}\\left(\\left\\{u(kh)\\right\\}\\right)$$\n",
    "\n",
    "- un système discret est causal si sa sortie $y(k_0h)$ au temps $k_0h$ ne dépend pas des valeurs prises par l'entréée après $k_0h$, c'est-à-dire ne dépend pas de $\\left\\{u(kh) : k > k_0\\right\\}$\n",
    "\n",
    "- l'impulsion unité est le signal discret $\\left\\{\\Delta(kh)\\right\\}$ défini par:\n",
    "\n",
    "$$ \\Delta(kh) = \\left\\{\n",
    "  \\begin{array}{rl}\n",
    "    1 \\qquad si k = 0 \\\\\n",
    "    0 \\qquad si k \\neq 0\n",
    "  \\end{array} \\right. $$\n",
    "  \n",
    "- la réponse $\\mathscr{G}\\left\\{\\Delta(kh-lh)\\right\\} = \\left\\{g(kh, lh)\\right\\}$ d'un système discret à une impulsion unité injectée à l'instant $lh \\geq 0$ est appelée réponse impulsionnelle\n",
    "\n",
    "- un système discret est stationnaire ou invariant si un décalage temporel de l'impulsion unité appliquée à son entrée provoque le même décalage temporel de la sortie:\n",
    "\n",
    "$$ g(kh, lh) = g(kh+dh, lh+dh) \\qquad k+d \\geq 0 \\quad l+d \\geq 0 $$"
   ]
  },
  {
   "cell_type": "markdown",
   "metadata": {},
   "source": [
    "#### Produit de convolution\n",
    "Soit un système discret au repos, linéaire, causal et stationnaire. Alors sa sortie s'exprime comme un produit de convolution entre l'entrée qui lui est appliquée et sa réponse impulsionnelle:\n",
    "\n",
    "\n",
    "$$ y(kh) = \\sum_{l=0}^{k}u(lh)g(kh-lh) $$"
   ]
  },
  {
   "cell_type": "markdown",
   "metadata": {},
   "source": [
    "Voici une version programmée de cet algorithme:"
   ]
  },
  {
   "cell_type": "code",
   "execution_count": 65,
   "metadata": {},
   "outputs": [],
   "source": [
    "%matplotlib inline\n",
    "import matplotlib.pyplot as plt\n",
    "plt.style.use('../my_params.mplstyle')"
   ]
  },
  {
   "cell_type": "code",
   "execution_count": 66,
   "metadata": {},
   "outputs": [],
   "source": [
    "def discrete_conv(u, g):\n",
    "    k_max = len(g) + len(u) - 1\n",
    "    y = [0 for i in range(k_max)]\n",
    "    \n",
    "    for k in range(k_max):\n",
    "        for l in range(k+1):\n",
    "            y[k] += (u[l] if l < len(u) else 0) * (g[k-l] if k-l < len(g) else 0)\n",
    "    \n",
    "    return y"
   ]
  },
  {
   "cell_type": "code",
   "execution_count": 67,
   "metadata": {},
   "outputs": [],
   "source": [
    "u = [1, 3, -2]\n",
    "g = [1.5, -1, 0.5]\n",
    "\n",
    "y = discrete_conv(u, g)\n",
    "\n",
    "time = [i for i in range(len(y))]"
   ]
  },
  {
   "cell_type": "code",
   "execution_count": 68,
   "metadata": {},
   "outputs": [
    {
     "name": "stdout",
     "output_type": "stream",
     "text": [
      "u = [1, 3, -2]\n",
      "g = [1.5, -1, 0.5]\n",
      "y = [1.5, 3.5, -5.5, 3.5, -1.0]\n"
     ]
    }
   ],
   "source": [
    "print('u = {}'.format(u))\n",
    "print('g = {}'.format(g))\n",
    "print('y = {}'.format(y))"
   ]
  },
  {
   "cell_type": "code",
   "execution_count": 69,
   "metadata": {},
   "outputs": [
    {
     "data": {
      "image/png": "[encoded data removed]",
      "text/plain": [
       "<Figure size 720x432 with 2 Axes>"
      ]
     },
     "metadata": {
      "needs_background": "light"
     },
     "output_type": "display_data"
    }
   ],
   "source": [
    "fig, axs = plt.subplots(2, 1, constrained_layout=True)\n",
    "axs[0].plot(time[:len(u)], u, '.', label='u')\n",
    "axs[1].plot(time, y, '.', label='y')\n",
    "axs[0].set_yticks(u)\n",
    "axs[1].set_yticks(y)\n",
    "\n",
    "for i in range(len(axs)):\n",
    "    axs[i].set_xlabel('time')\n",
    "    axs[i].set_xticks(time)\n",
    "    axs[i].set_xticklabels([])\n",
    "    axs[i].legend()"
   ]
  },
  {
   "cell_type": "markdown",
   "metadata": {},
   "source": [
    "L'idée est de considérer $\\left\\{u(kh)\\right\\}$ comme une suite d'impulsions. Comme le système est linéaire, la sortie $\\left\\{y(kh)\\right\\}$ vaudra la somme des sorties du système aux différentes impulsions constituant l'entrée."
   ]
  },
  {
   "cell_type": "markdown",
   "metadata": {},
   "source": [
    "#### Exemple"
   ]
  },
  {
   "cell_type": "code",
   "execution_count": 71,
   "metadata": {},
   "outputs": [
    {
     "name": "stdout",
     "output_type": "stream",
     "text": [
      "[1.5, 3.5, -5.5, 3.5, -1.0]\n"
     ]
    }
   ],
   "source": [
    "u1 = [1, 0, 0]\n",
    "u2 = [0, 3, 0]\n",
    "u3 = [0, 0, -2]\n",
    "\n",
    "y1 = discrete_conv(u1, g)\n",
    "y2 = discrete_conv(u2, g)\n",
    "y3 = discrete_conv(u3, g)\n",
    "\n",
    "yt = [y_1 + y_2 + y_3 for y_1, y_2, y_3 in zip(y1, y2, y3)]\n",
    "print(yt)"
   ]
  },
  {
   "cell_type": "markdown",
   "metadata": {},
   "source": [
    "On retrouve la même sortie que précédemment."
   ]
  },
  {
   "cell_type": "markdown",
   "metadata": {},
   "source": [
    "## 3.3 Systèmes représentés par des équations aux différences"
   ]
  },
  {
   "cell_type": "markdown",
   "metadata": {},
   "source": [
    "#### Définition\n",
    "\n",
    "$$ y(k+n) + a_1 y(k+n-1) + \\dots + a_n y(k) = b_0 u(k+m) + b_1 u(k+m-1) + \\dots + b_m u(k) $$\n",
    "\n",
    "avec $a_i, b_j \\in \\mathbb{R}$, $u(k)$ l'entrée et $y(k)$ la sortie.\n",
    "\n",
    "En retardant les signaux de $n$ périodes d'échantillonnage, et en posant $d=n-m$, on obtient, après développement:\n",
    "\n",
    "$$ y(k) + a_1 y(k-1) + \\dots + a_n y(k-n) = b_0 u(k-d) + b_1 u(k-d-1) + \\dots + b_m u(k-d-m) $$\n",
    "\n"
   ]
  },
  {
   "cell_type": "markdown",
   "metadata": {},
   "source": [
    "La plupart des systèmes discrets en commande numérique sont régis par des équations aux différences."
   ]
  },
  {
   "cell_type": "markdown",
   "metadata": {},
   "source": [
    "#### Exemple\n",
    "Prenons comme exemple un régulateur PI numérique. Sa sortie $u(k)$ à l'instant kh est donnée par:\n",
    "\n",
    "$$ u(k) = K_p \\left( e(k) + \\frac{1}{T_i} \\sum_{l=0}^{k-1}e(l)h \\right) $$\n",
    "\n",
    "En effet, à un instant $kh$ donné, la commande vaut la somme de l'action proportionnelle et de l'action intégrale. La première est proportionnelle à l'erreur instantanée, et la seconde est proportionnelle à la somme des erreurs depuis le lancement de la commande ($k=0$) jusqu'à l'erreur à l'instant précédent. L'intégrale numérique génère donc un retard d'une période d'échantillonnage."
   ]
  },
  {
   "cell_type": "markdown",
   "metadata": {},
   "source": [
    "Ecrivons cette même équation, mais à l'instant $k-1$:\n",
    "\n",
    "$$ u(k-1) = K_p \\left( e(k-1) + \\frac{1}{T_i} \\sum_{l=0}^{k-2}e(l)h \\right) $$\n",
    "\n",
    "En soustrayant les 2 formulations, on obtient:\n",
    "\n",
    "$$ u(k) - u(k-1) = K_p \\left( e(k) - e(k-1) + \\frac{h}{T_i}e(k-1) \\right) $$\n",
    "\n",
    "L'équation est donc d'ordre 1 suivante:\n",
    "\n",
    "$$ u(k) - u(k-1) = K_p e(k) + K_p \\left(\\frac{h}{T_i} - 1\\right)e(k-1) $$"
   ]
  },
  {
   "cell_type": "markdown",
   "metadata": {},
   "source": [
    "Lorsque $d=n-m \\ge 0$, une entrée quelconque $u(k)$ ne prendra effet que $d$ périodes d'échantillonnages plus tard. Le système est donc bien causal et $d$ est appelé surplus de pôles ou degré relatif."
   ]
  },
  {
   "cell_type": "markdown",
   "metadata": {},
   "source": [
    "#### Remarque\n",
    "Un retard pur échantillonné est donné par l'équation aux différences suivante:\n",
    "\n",
    "$$ y(k) = u(k-d) $$\n",
    "\n",
    "avec $d$ un retard de $d$ périodes d'échantillonnages.\n",
    "\n",
    "Il est à remarquer qu'un retard pur discret est facile à prendre en compte, contrairement à un retard pur continu. En effet, le retard pur discret peut être décrit par une équation aux différences alors qu'un retard pur analogique ne peut pas être décrit par une équation différentielle.\n",
    "\n",
    "Il faut tout de même ajouter qu'un retard pur discret ne peut qu'être multiple de la période d'échantillonnage $h$. Si le retard pur analogique correspondant n'est pas multiple de la période d'échantillonnage, une erreur sur le retard sera commise lors de la numérisation."
   ]
  },
  {
   "cell_type": "markdown",
   "metadata": {},
   "source": [
    "## 3.4 Opérateurs avance et retard"
   ]
  },
  {
   "cell_type": "markdown",
   "metadata": {},
   "source": [
    "#### Définitions\n",
    "- L'opérateur avance $q$ est l'application qui, au signal discret $\\left\\{w(kh)\\right\\}$, fait correspondre le signal discret $q\\left\\{w(kh)\\right\\} = \\left\\{w(kh+h)\\right\\}$\n",
    "- L'opérateur retard $q$ est l'application qui, au signal discret $\\left\\{w(kh)\\right\\}$, fait correspondre le signal discret $q^{-1}\\left\\{w(kh)\\right\\} = \\left\\{w(kh-h)\\right\\}$"
   ]
  },
  {
   "cell_type": "markdown",
   "metadata": {},
   "source": [
    "Les équations aux différences précédentes peuvent être réécrites ainsi:\n",
    "\n",
    "$$ q^n y(k) + a_1 q^{n-1} y(k) + \\dots + a_n y(k) = b_0 q^m u(k) + b_1 q^{m-1} u(k) + \\dots + b_m u(k) $$\n",
    "\n",
    "$$ y(k) + a_1 q^{-1} y(k) + \\dots + a_n q^{-n} y(k) = b_0 q^{-d} u(k) + b_1 q^{-d-1} u(k) + \\dots + b_m q^{-d-m} u(k) $$\n",
    "\n",
    "Ou:\n",
    "\n",
    "$$ \\left(q^n + a_1 q^{n-1} + \\dots + a_n \\right)y(k) = \\left(b_0 q^m + b_1 q^{m-1} + \\dots + b_m \\right)u(k) $$\n",
    "\n",
    "$$ \\left(1 + a_1 q^{-1} + \\dots + a_n q^{-n} \\right)y(k) = \\left(b_0 q^{-d} + b_1 q^{-d-1} + \\dots + b_m q^{-d-m} \\right)u(k) $$"
   ]
  }
 ],
 "metadata": {
  "kernelspec": {
   "display_name": "Python 3",
   "language": "python",
   "name": "python3"
  },
  "language_info": {
   "codemirror_mode": {
    "name": "ipython",
    "version": 3
   },
   "file_extension": ".py",
   "mimetype": "text/x-python",
   "name": "python",
   "nbconvert_exporter": "python",
   "pygments_lexer": "ipython3",
   "version": "3.5.3"
  }
 },
 "nbformat": 4,
 "nbformat_minor": 4
}
