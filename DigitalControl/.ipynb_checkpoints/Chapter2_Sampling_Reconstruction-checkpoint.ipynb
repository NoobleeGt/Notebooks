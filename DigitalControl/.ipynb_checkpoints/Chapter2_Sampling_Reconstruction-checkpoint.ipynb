{
 "cells": [
  {
   "cell_type": "markdown",
   "metadata": {
    "slideshow": {
     "slide_type": "slide"
    }
   },
   "source": [
    "# Echantillonnage et reconstruction"
   ]
  },
  {
   "cell_type": "markdown",
   "metadata": {
    "slideshow": {
     "slide_type": "slide"
    }
   },
   "source": [
    "## Introduction"
   ]
  },
  {
   "cell_type": "markdown",
   "metadata": {
    "slideshow": {
     "slide_type": "subslide"
    }
   },
   "source": [
    "#### Définitions\n",
    "\n",
    "- L'échantillonnage est la transformation d'un signal analogique en une suite de ses valeurs prises à des instants bien définis\n",
    "- La reconstruction est la conversion d'un signal échantillonné en un signal continu, défini en tout temps"
   ]
  },
  {
   "cell_type": "markdown",
   "metadata": {
    "slideshow": {
     "slide_type": "subslide"
    }
   },
   "source": [
    "En pratique, l'échantillonnage est effectué via des convertisseurs analogiques-numériques (CAN, ou en anglais ADC), alors que la reconstruction est effectuée via des convertisseurs numériques-analogiques (CNA, ou en anglais DAC)."
   ]
  },
  {
   "cell_type": "markdown",
   "metadata": {
    "slideshow": {
     "slide_type": "slide"
    }
   },
   "source": [
    "## Echantillonnage"
   ]
  },
  {
   "cell_type": "markdown",
   "metadata": {
    "slideshow": {
     "slide_type": "slide"
    }
   },
   "source": [
    "Un signal continu est un signal défini à tout instant. On ne parle donc pas de continuité d'une fonction au sens mathématique du terme."
   ]
  },
  {
   "cell_type": "markdown",
   "metadata": {
    "slideshow": {
     "slide_type": "subslide"
    }
   },
   "source": [
    "#### Exemple 1\n",
    "Représentons une exponentielle décroissante (fonction continue) ainsi qu'un signal carré (fonction discontinue). "
   ]
  },
  {
   "cell_type": "code",
   "execution_count": 1,
   "metadata": {
    "slideshow": {
     "slide_type": "subslide"
    }
   },
   "outputs": [],
   "source": [
    "%matplotlib inline\n",
    "import matplotlib.pyplot as plt\n",
    "plt.style.use('../my_params.mplstyle')\n",
    "\n",
    "import math"
   ]
  },
  {
   "cell_type": "code",
   "execution_count": 2,
   "metadata": {
    "slideshow": {
     "slide_type": "subslide"
    }
   },
   "outputs": [],
   "source": [
    "time = [i*50/10000 for i in range(10001)]\n",
    "\n",
    "signal_1 = [math.exp(-0.1*t) for t in time]\n",
    "signal_2 = [1 if (t < 10 or (t > 25 and t < 30)) else 0 for t in time]"
   ]
  },
  {
   "cell_type": "code",
   "execution_count": 3,
   "metadata": {
    "slideshow": {
     "slide_type": "subslide"
    }
   },
   "outputs": [
    {
     "data": {
      "image/png": "[encoded data removed]",
      "text/plain": [
       "<Figure size 432x288 with 1 Axes>"
      ]
     },
     "metadata": {
      "needs_background": "light"
     },
     "output_type": "display_data"
    }
   ],
   "source": [
    "fig, ax = plt.subplots()\n",
    "ax.plot(time, signal_1, '-', label='signal\\_1')\n",
    "ax.plot(time, signal_2, '--', label='signal\\_2')\n",
    "ax.set_xlabel('time [s]')\n",
    "_ = ax.legend()"
   ]
  },
  {
   "cell_type": "markdown",
   "metadata": {
    "slideshow": {
     "slide_type": "subslide"
    }
   },
   "source": [
    "Malgré la discontinuité mathématique du signal *signal_2*, il est bien défini à tout instant et donc est dit *continu*."
   ]
  },
  {
   "cell_type": "markdown",
   "metadata": {
    "slideshow": {
     "slide_type": "slide"
    }
   },
   "source": [
    "Un signal discret est un signal défini à des instants précis uniquement. Entre les instants $t_k, k \\in Z$, le signal n'existe pas. Autrement dit, ce signal n'existe presque jamais!"
   ]
  },
  {
   "cell_type": "markdown",
   "metadata": {
    "slideshow": {
     "slide_type": "subslide"
    }
   },
   "source": [
    "#### Exemple 2\n",
    "Reprenons notre exponentielle décroissante (*signal_1*) que l'on va échantillonner toutes les $5s$."
   ]
  },
  {
   "cell_type": "code",
   "execution_count": 6,
   "metadata": {
    "slideshow": {
     "slide_type": "subslide"
    }
   },
   "outputs": [
    {
     "data": {
      "image/png": "[encoded data removed]",
      "text/plain": [
       "<Figure size 432x288 with 1 Axes>"
      ]
     },
     "metadata": {
      "needs_background": "light"
     },
     "output_type": "display_data"
    }
   ],
   "source": [
    "s_time = [t for t in time if not t%5]\n",
    "\n",
    "s_signal_1 = [math.exp(-0.1*t) for t in s_time]\n",
    "\n",
    "fig, ax = plt.subplots()\n",
    "ax.plot(s_time, s_signal_1, '.', label='s\\_signal\\_1')\n",
    "ax.set_xlabel('time [s]')\n",
    "_ = ax.legend()"
   ]
  },
  {
   "cell_type": "markdown",
   "metadata": {
    "slideshow": {
     "slide_type": "subslide"
    }
   },
   "source": [
    "Le signal n'existe que pour les valeurs de $t \\in \\{0, 5, 10, \\dots\\}$.\n",
    "\n",
    "Attention tout de même qu'un signal discret ou échantillonné n'est pas forcément numérique!"
   ]
  },
  {
   "cell_type": "markdown",
   "metadata": {
    "slideshow": {
     "slide_type": "slide"
    }
   },
   "source": [
    "En général, l'échantillonnage n'est que la première étape vers la numérisation du signal afin que ce dernier soit traité par un PC. Pour cela, le signal discret doit être transformé en nombre représentable dans la mémoire de l'ordinateur. Seulement, ce dernier possède en général un nombre de bits de codage fini. Ce qui implique qu'il n'est pas capable de représenter n'importe quel nombre. Ce phénomène est appelé la quantification."
   ]
  },
  {
   "cell_type": "markdown",
   "metadata": {
    "slideshow": {
     "slide_type": "subslide"
    }
   },
   "source": [
    "#### Exemple 3\n",
    "Afin de mesurer une température, on utilise un capteur permettant de mesurer une plage de température de $0\\dots100\\,^\\circ{}\\mathrm{C}$. Ce dernier renvoie une information en $4\\dots20\\,\\mathrm{mA}$ vers un convertisseur AN. Prenons successivement un CAN 12 bits et 8 bits."
   ]
  },
  {
   "cell_type": "code",
   "execution_count": 16,
   "metadata": {
    "slideshow": {
     "slide_type": "subslide"
    }
   },
   "outputs": [],
   "source": [
    "def capteur(signal, s_min, s_max):\n",
    "    return signal / (s_max - s_min) * 16 + 4\n",
    "    \n",
    "def CAN(signal, s_min, s_max, bits):\n",
    "    print('Convertisseur CAN {} bits'.format(bits))\n",
    "    resolution_mA = (s_max - s_min) / (2 ** bits)\n",
    "    resolution_C = 100 / (2 ** bits)\n",
    "    print('La résolution vaut {} mA, soit {} °C'.format(resolution_mA, resolution_C))\n",
    "    \n",
    "    n_signal = [int(s / resolution_mA) * resolution_mA for s in signal]\n",
    "    print('Les valeurs stockées en mémoire, après reconversion en 4...20 mA sont:')\n",
    "    print(n_signal)\n",
    "    print('\\n')\n",
    "    \n",
    "    return n_signal"
   ]
  },
  {
   "cell_type": "code",
   "execution_count": 20,
   "metadata": {
    "slideshow": {
     "slide_type": "subslide"
    }
   },
   "outputs": [
    {
     "name": "stdout",
     "output_type": "stream",
     "text": [
      "Le signal mesuré par le capteur est:\n",
      "[4.16, 4.0970449055540215, 4.058860710587431, 4.035700825623749, 4.021653645317858, 4.013133599779824, 4.007965930938858, 4.004831581347571, 4.002930502222197, 4.001777439446119, 4.001078071519854]\n",
      "\n",
      "\n",
      "Convertisseur CAN 12 bits\n",
      "La résolution vaut 0.00390625 mA, soit 0.0244140625 °C\n",
      "Les valeurs stockées en mémoire, après reconversion en 4...20 mA sont:\n",
      "[4.15625, 4.09375, 4.05859375, 4.03515625, 4.01953125, 4.01171875, 4.0078125, 4.00390625, 4.0, 4.0, 4.0]\n",
      "\n",
      "\n",
      "Convertisseur CAN 8 bits\n",
      "La résolution vaut 0.0625 mA, soit 0.390625 °C\n",
      "Les valeurs stockées en mémoire, après reconversion en 4...20 mA sont:\n",
      "[4.125, 4.0625, 4.0, 4.0, 4.0, 4.0, 4.0, 4.0, 4.0, 4.0, 4.0]\n",
      "\n",
      "\n"
     ]
    }
   ],
   "source": [
    "c_signal_1 = [capteur(s, 0, 100) for s in s_signal_1]\n",
    "print('Le signal mesuré par le capteur est:')\n",
    "print(c_signal_1)\n",
    "print('\\n')\n",
    "\n",
    "n_signal_1_12 = CAN(c_signal_1, 4, 20, 12)\n",
    "n_signal_1_8 = CAN(c_signal_1, 4, 20, 8)"
   ]
  },
  {
   "cell_type": "code",
   "execution_count": 21,
   "metadata": {
    "slideshow": {
     "slide_type": "subslide"
    }
   },
   "outputs": [
    {
     "data": {
      "image/png": "[encoded data removed]",
      "text/plain": [
       "<Figure size 432x288 with 1 Axes>"
      ]
     },
     "metadata": {
      "needs_background": "light"
     },
     "output_type": "display_data"
    }
   ],
   "source": [
    "fig, ax = plt.subplots()\n",
    "ax.plot(s_time, c_signal_1, '.', label='c\\_signal\\_1')\n",
    "ax.plot(s_time, n_signal_1_12, '.', label='n\\_signal\\_1\\_12')\n",
    "ax.plot(s_time, n_signal_1_8, '.', label='n\\_signal\\_1\\_8')\n",
    "ax.set_xlabel('time [s]')\n",
    "_ = ax.legend()"
   ]
  },
  {
   "cell_type": "markdown",
   "metadata": {
    "slideshow": {
     "slide_type": "subslide"
    }
   },
   "source": [
    "Il est à remarquer que le signal *n_signal_1_8* comprend une énorme erreur. De plus, l'effet est nonlinéaire. En effet, il est à remarquer que toutes les valeurs en-dessous de $4.06\\,\\mathrm{mA}$ sont remplacées par $4\\,\\mathrm{mA}$."
   ]
  },
  {
   "cell_type": "markdown",
   "metadata": {
    "slideshow": {
     "slide_type": "slide"
    }
   },
   "source": [
    "Evidemment, l'exemple a été choisi afin de bien visualiser l'effet de la quantification car le capteur possède un calibre bien trop grand par rapport à la mesure effectuée."
   ]
  },
  {
   "cell_type": "markdown",
   "metadata": {
    "slideshow": {
     "slide_type": "subslide"
    }
   },
   "source": [
    "Dans la suite, nous supposerons que le phénomène de quantification n'intervient pas. Cette hypothèse est réaliste car, de nos jours, les convertisseurs sont suffisamment précis et, de ce fait, l'erreur est négligeable et peut être considérée comme une faible perturbation gérée par la robustesse du régulateur."
   ]
  },
  {
   "cell_type": "markdown",
   "metadata": {
    "slideshow": {
     "slide_type": "subslide"
    }
   },
   "source": [
    "Nous supposerons aussi que l'échantillonnage est périodique. La période d'échantillonnage sera notée $h\\ge0$, la fréquence $f_e=1/h$ et la pulsation d'échantillonnage $\\omega_e=2\\pi f_e$."
   ]
  },
  {
   "cell_type": "markdown",
   "metadata": {
    "slideshow": {
     "slide_type": "slide"
    }
   },
   "source": [
    "## Théorème d'échantillonnage"
   ]
  },
  {
   "cell_type": "markdown",
   "metadata": {
    "slideshow": {
     "slide_type": "slide"
    }
   },
   "source": [
    "Le théorème d'échantillonnage est rappelé ci-dessous."
   ]
  },
  {
   "cell_type": "markdown",
   "metadata": {
    "slideshow": {
     "slide_type": "subslide"
    }
   },
   "source": [
    "#### Théorème\n",
    "Un signal analogique $w(t)$ dont la transformée de Fourier est nulle à l'extérieur de l'intervalle $[-\\omega_0, \\omega_0]$ est parfaitement défini par ses valeurs échantillonnées $\\{w(kh)\\}$ si la pulsation d'échantillonnage satisfait l'égalité:\n",
    "\n",
    "$$ \\omega_e \\ge 2\\omega_0 $$\n",
    "\n",
    "La relation fournissant alors $w(t)$ est:\n",
    "\n",
    "$$ w(t) = \\sum_{k=-\\infty}^\\infty w(kh)\\frac{sin\\frac{\\omega_e(t-kh)}{2}}{\\frac{\\omega_e(t-kh)}{2}}$$"
   ]
  },
  {
   "cell_type": "markdown",
   "metadata": {
    "slideshow": {
     "slide_type": "subslide"
    }
   },
   "source": [
    "Ce théorème nous fournit 2 informations importantes:\n",
    "\n",
    "- $\\omega_N = \\omega_e/2$, appelée la pulsation de Nyquist, est très importante pour s'assurer que le signal échantillonné représente bien le signal continu\n",
    "- pour reconstruire un signal nous avons besoin de connaître tous les échantillons passés et futurs"
   ]
  },
  {
   "cell_type": "markdown",
   "metadata": {
    "slideshow": {
     "slide_type": "subslide"
    }
   },
   "source": [
    "Le chapitre discutant de la réponse harmonique permettra de comprendre l'effet d'une mauvaise fréquence d'échantillonnage."
   ]
  },
  {
   "cell_type": "markdown",
   "metadata": {
    "slideshow": {
     "slide_type": "slide"
    }
   },
   "source": [
    "## Filtre de garde"
   ]
  },
  {
   "cell_type": "markdown",
   "metadata": {
    "slideshow": {
     "slide_type": "slide"
    }
   },
   "source": [
    "Le théorème de la section 2.3 nous a appris que pour échantillonner un signal, il faut prendre une fréquence d'échantillonnage $\\omega_e\\ge 2\\omega_0$, sachant que l'ensemble du spectre fréquentiel du signal à échantilloner se situe dans la plage $[-\\omega_0, \\omega_0]$."
   ]
  },
  {
   "cell_type": "markdown",
   "metadata": {
    "slideshow": {
     "slide_type": "subslide"
    }
   },
   "source": [
    "En pratique, les bruits de mesures à hautes fréquences viennent élargir le spectre du signal à échantillonner, ce qui peut engendrer des soucis."
   ]
  },
  {
   "cell_type": "markdown",
   "metadata": {
    "slideshow": {
     "slide_type": "slide"
    }
   },
   "source": [
    "#### Exemple 4\n",
    "Un signal carré est bruité par une sinusoïde de fréquence $0.9\\,\\mathrm{Hz}$ et échantillonné à $f_e=1\\,\\mathrm{Hz}$."
   ]
  },
  {
   "cell_type": "code",
   "execution_count": 22,
   "metadata": {
    "slideshow": {
     "slide_type": "subslide"
    }
   },
   "outputs": [],
   "source": [
    "time = [i * 30 / 30000 for i in range(30001)]\n",
    "\n",
    "signal = [1 if t <= 15 else -1 for t in time]\n",
    "bruit = [0.2 * math.sin(2 * math.pi * 0.9 * t) for t in time]\n",
    "\n",
    "signal_bruit = [s + b for s, b in zip(signal, bruit)]"
   ]
  },
  {
   "cell_type": "code",
   "execution_count": 23,
   "metadata": {
    "slideshow": {
     "slide_type": "subslide"
    }
   },
   "outputs": [
    {
     "data": {
      "image/png": "[encoded data removed]",
      "text/plain": [
       "<Figure size 432x288 with 1 Axes>"
      ]
     },
     "metadata": {
      "needs_background": "light"
     },
     "output_type": "display_data"
    }
   ],
   "source": [
    "fig, ax = plt.subplots()\n",
    "ax.plot(time, signal_bruit, '-', label='signal\\_bruit')\n",
    "ax.set_xlabel('time [s]')\n",
    "_ = ax.legend()"
   ]
  },
  {
   "cell_type": "code",
   "execution_count": 44,
   "metadata": {
    "slideshow": {
     "slide_type": "subslide"
    }
   },
   "outputs": [],
   "source": [
    "h = 1\n",
    "\n",
    "n = int(time[-1] / h)\n",
    "\n",
    "s_time = [i * time[-1] / n for i in range(n+1)]\n",
    "\n",
    "s_signal = [1 if t <= 15 else -1 for t in s_time]\n",
    "s_bruit = [0.2 * math.sin(2 * math.pi * 0.9 * t) for t in s_time]\n",
    "\n",
    "s_signal_bruit = [s + b for s, b in zip(s_signal, s_bruit)]"
   ]
  },
  {
   "cell_type": "code",
   "execution_count": 45,
   "metadata": {
    "slideshow": {
     "slide_type": "subslide"
    }
   },
   "outputs": [
    {
     "data": {
      "image/png": "[encoded data removed]",
      "text/plain": [
       "<Figure size 432x288 with 1 Axes>"
      ]
     },
     "metadata": {
      "needs_background": "light"
     },
     "output_type": "display_data"
    }
   ],
   "source": [
    "fig, ax = plt.subplots()\n",
    "ax.plot(s_time, s_signal_bruit, '.', label='s\\_signal\\_bruit')\n",
    "ax.set_xlabel('time [s]')\n",
    "_ = ax.legend()"
   ]
  },
  {
   "cell_type": "markdown",
   "metadata": {
    "slideshow": {
     "slide_type": "subslide"
    }
   },
   "source": [
    "Il est facile de remarquer qu'on obtient un signal dont la sinusoïde bruitée possède une période de $10\\,\\mathrm{s}$, soit une fréquence de $0.1\\,\\mathrm{Hz}$. Le signal est donc complètement déformé à cause d'une mauvaise fréquence d'échantillonnage, qui devrait être supérieure à $1.8\\,\\mathrm{Hz}$."
   ]
  },
  {
   "cell_type": "markdown",
   "metadata": {
    "slideshow": {
     "slide_type": "subslide"
    }
   },
   "source": [
    "Pour résoudre ce problème, on ajoute souvent, avant l'échantillonnage, un filtre passe-bas, appelé filtre de garde, de type Butterworth ou Bessel d'ordre 2, 4 ou 6."
   ]
  },
  {
   "cell_type": "markdown",
   "metadata": {
    "slideshow": {
     "slide_type": "subslide"
    }
   },
   "source": [
    "Soit le filtre de Butterworth d'ordre 4:\n",
    "\n",
    "$$ G(s) = \\frac{1}{\\left(\\frac{s}{\\omega_b}\\right)^4 + 2.6131\\left(\\frac{s}{\\omega_b}\\right)^3 + 3.4142\\left(\\frac{s}{\\omega_b}\\right)^2 + 2.6131\\frac{s}{\\omega_b} + 1} $$\n",
    "\n",
    "avec $\\omega_b=2\\pi\\, 0.3\\,\\mathrm{rad/s}$."
   ]
  },
  {
   "cell_type": "markdown",
   "metadata": {
    "slideshow": {
     "slide_type": "subslide"
    }
   },
   "source": [
    "Le signal avant échantillonnage devient:"
   ]
  },
  {
   "cell_type": "code",
   "execution_count": 47,
   "metadata": {
    "slideshow": {
     "slide_type": "subslide"
    }
   },
   "outputs": [],
   "source": [
    "import control\n",
    "\n",
    "wb = 2 * math.pi * 0.3\n",
    "\n",
    "num = [1]\n",
    "den = [1 / (wb**4), 2.6131 / (wb**3), 3.4142 / (wb**2), 2.6131 / wb, 1]\n",
    "G = control.tf(num, den)\n",
    "\n",
    "_, f_signal_bruit, _ = control.forced_response(G, T=time, U=signal_bruit)"
   ]
  },
  {
   "cell_type": "code",
   "execution_count": 48,
   "metadata": {
    "slideshow": {
     "slide_type": "subslide"
    }
   },
   "outputs": [
    {
     "data": {
      "image/png": "[encoded data removed]",
      "text/plain": [
       "<Figure size 432x288 with 1 Axes>"
      ]
     },
     "metadata": {
      "needs_background": "light"
     },
     "output_type": "display_data"
    }
   ],
   "source": [
    "fig, ax = plt.subplots()\n",
    "ax.plot(time, f_signal_bruit, '-', label='f\\_signal\\_bruit')\n",
    "ax.set_xlabel('time [s]')\n",
    "_ = ax.legend()"
   ]
  },
  {
   "cell_type": "markdown",
   "metadata": {
    "slideshow": {
     "slide_type": "subslide"
    }
   },
   "source": [
    "Le bruit sur le signal carré disparaît presque entièrement. Le signal carré est par contre aussi filtré, ce qui le déforme un peu."
   ]
  },
  {
   "cell_type": "markdown",
   "metadata": {
    "slideshow": {
     "slide_type": "subslide"
    }
   },
   "source": [
    "Après échantillonnage de ce nouveau signal, on obtient:"
   ]
  },
  {
   "cell_type": "code",
   "execution_count": 49,
   "metadata": {
    "slideshow": {
     "slide_type": "subslide"
    }
   },
   "outputs": [],
   "source": [
    "s_f_signal_bruit = [s for t, s in zip(time, f_signal_bruit) if t in s_time]"
   ]
  },
  {
   "cell_type": "code",
   "execution_count": 50,
   "metadata": {
    "slideshow": {
     "slide_type": "subslide"
    }
   },
   "outputs": [
    {
     "data": {
      "image/png": "[encoded data removed]",
      "text/plain": [
       "<Figure size 432x288 with 1 Axes>"
      ]
     },
     "metadata": {
      "needs_background": "light"
     },
     "output_type": "display_data"
    }
   ],
   "source": [
    "fig, ax = plt.subplots()\n",
    "ax.plot(s_time, s_f_signal_bruit, '.', label='s\\_f\\_signal\\_bruit')\n",
    "ax.set_xlabel('time [s]')\n",
    "_ = ax.legend()"
   ]
  },
  {
   "cell_type": "markdown",
   "metadata": {
    "slideshow": {
     "slide_type": "subslide"
    }
   },
   "source": [
    "Le résultat de l'échantillonnage représente maintenant beaucoup mieux le signal analogique. Cependant, la déformation du signal par le filtre étant assez importante, il faudra intégrer le filtre dans le système à réguler."
   ]
  },
  {
   "cell_type": "markdown",
   "metadata": {
    "slideshow": {
     "slide_type": "slide"
    }
   },
   "source": [
    "## Reconstruction"
   ]
  },
  {
   "cell_type": "markdown",
   "metadata": {
    "slideshow": {
     "slide_type": "subslide"
    }
   },
   "source": [
    "La reconstruction par le théorème de Shannon a besoin de tous les échantillons passés et futurs ($[-\\infty, \\infty]$). Cela est bien entendu impossible."
   ]
  },
  {
   "cell_type": "markdown",
   "metadata": {
    "slideshow": {
     "slide_type": "subslide"
    }
   },
   "source": [
    "En pratique, on utilise un bloqueur afin de transformer un signal discret en signal continu. Il existe différents ordres de bloqueur, le plus utilisé étant le bloqueur d'ordre zéro (BOZ ou, en anglais, ZOH):\n",
    "\n",
    "$$ w(t) = w(kh) \\qquad t \\in [kh, kh+h[ $$"
   ]
  },
  {
   "cell_type": "markdown",
   "metadata": {
    "slideshow": {
     "slide_type": "subslide"
    }
   },
   "source": [
    "#### Exemple 5\n",
    "Après passage dans un BOZ, le signal filtré et échantillonné précédent ressemble à:"
   ]
  },
  {
   "cell_type": "code",
   "execution_count": 51,
   "metadata": {
    "slideshow": {
     "slide_type": "subslide"
    }
   },
   "outputs": [
    {
     "data": {
      "image/png": "[encoded data removed]",
      "text/plain": [
       "<Figure size 432x288 with 1 Axes>"
      ]
     },
     "metadata": {
      "needs_background": "light"
     },
     "output_type": "display_data"
    }
   ],
   "source": [
    "fig, ax = plt.subplots()\n",
    "ax.step(s_time, s_f_signal_bruit, '.', where='post', label='s\\_f\\_signal\\_bruit')\n",
    "ax.plot(time, f_signal_bruit, '-', label='f\\_signal\\_bruit')\n",
    "ax.set_xlabel('time [s]')\n",
    "_ = ax.legend()"
   ]
  },
  {
   "cell_type": "markdown",
   "metadata": {
    "slideshow": {
     "slide_type": "slide"
    }
   },
   "source": [
    "## Choix de la période d'échantillonnage"
   ]
  },
  {
   "cell_type": "markdown",
   "metadata": {
    "slideshow": {
     "slide_type": "subslide"
    }
   },
   "source": [
    "En commande numérique, il n'est pas possible de se suffire de la condition minimum du théorème de Shannon pour 2 raisons:\n",
    "\n",
    "- la reconstruction de Shannon n'est pas employée en pratique; le BOZ ne peut se rapprocher du vrai signal que si on possède suffisamment d'échantillons (voir exemple 5)\n",
    "- Aucun signal physique n'est à bande limitée et un filtre de garde passe-bas parfait est irréalisable\n",
    "\n",
    "De ce fait, l'hypothèse du théorème de Shannon n'est jamais vérifiée. On choisira généralement:\n",
    "\n",
    "$$ \\omega_e = 10 \\dots 20 \\omega_0 $$"
   ]
  },
  {
   "cell_type": "markdown",
   "metadata": {
    "slideshow": {
     "slide_type": "subslide"
    }
   },
   "source": [
    "Le tableau suivant donne un ordre de grandeur pour différents domaines:\n",
    "\n",
    "| Signal à échantillonner | Période d'échantillonnage h |\n",
    "|---|---|\n",
    "| Courant dans les entraînements électriques | $$50 \\dots 100\\, \\mathrm{\\mu{}s}$$ |\n",
    "| Position en robotique | $$0.2 \\dots 1\\, \\mathrm{ms}$$ |\n",
    "| Position en machine-outil | $$0.5 \\dots 10\\, \\mathrm{ms}$$ |\n",
    "| Débit | $$1 \\dots 3\\, \\mathrm{s}$$ |\n",
    "| Pression | $$1 \\dots 5\\, \\mathrm{s}$$ |\n",
    "| Niveau | $$5 \\dots 10\\, \\mathrm{s}$$ |\n",
    "| Température | $$10 \\dots 45\\, \\mathrm{s}$$ |"
   ]
  }
 ],
 "metadata": {
  "celltoolbar": "Diaporama",
  "kernelspec": {
   "display_name": "Python 3",
   "language": "python",
   "name": "python3"
  },
  "language_info": {
   "codemirror_mode": {
    "name": "ipython",
    "version": 3
   },
   "file_extension": ".py",
   "mimetype": "text/x-python",
   "name": "python",
   "nbconvert_exporter": "python",
   "pygments_lexer": "ipython3",
   "version": "3.5.3"
  }
 },
 "nbformat": 4,
 "nbformat_minor": 4
}
