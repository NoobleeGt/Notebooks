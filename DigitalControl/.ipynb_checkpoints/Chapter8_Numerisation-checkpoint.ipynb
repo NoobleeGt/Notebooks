{
 "cells": [
  {
   "cell_type": "markdown",
   "metadata": {},
   "source": [
    "# Numérisation"
   ]
  },
  {
   "cell_type": "markdown",
   "metadata": {},
   "source": [
    "## Introduction"
   ]
  },
  {
   "cell_type": "markdown",
   "metadata": {},
   "source": [
    "Il existe différentes filières pour obtenir un régulateur numérique:\n",
    "\n",
    "1. En numérisant un régulateur analogique obtenu par:\n",
    "    - Méthode expérimentale (Ziegler & Nichols)\n",
    "    - Synthèse analogique partant d'un essai harmonique analogique ou via un modèle physique\n",
    "2. En effectuant une synthèse directe à partir:\n",
    "    - Du modèle obtenu par échantillonnage du modèle physique\n",
    "    - D'un essai harmonique discret\n",
    "    - D'un modèle obtenu par identification paramétrique"
   ]
  },
  {
   "cell_type": "markdown",
   "metadata": {},
   "source": [
    "Ce chapitre se concentre sur la numérisation d'un régulateur analogique."
   ]
  },
  {
   "cell_type": "markdown",
   "metadata": {},
   "source": [
    "## Numérisation d'un régulateur analogique"
   ]
  },
  {
   "cell_type": "markdown",
   "metadata": {},
   "source": [
    "### Echantillonnage du régulateur analogique"
   ]
  },
  {
   "cell_type": "markdown",
   "metadata": {},
   "source": [
    "Cette première méthode se base sur l'approximation qu'un bloc $A-D$ suivi immédiatement d'un bloc $D-A$ ne crée aucune distorsion entre le signal d'entrée et de sortie. Ceci est bien évidemment faux, comme montré au chapitre 6, car le convertisseur $D-A$ génère un retard d'une demi-période d'échantillonnage."
   ]
  },
  {
   "cell_type": "markdown",
   "metadata": {},
   "source": [
    "On obtient alors le schéma suivant:"
   ]
  },
  {
   "cell_type": "markdown",
   "metadata": {},
   "source": [
    "<img src=\"Images/Chapter8/control_loop_stoz.png\">"
   ]
  },
  {
   "cell_type": "markdown",
   "metadata": {},
   "source": [
    "#### Exemple\n",
    "\n",
    "Soit un PID mixte analogique dont la dérivée est filtrée:\n",
    "\n",
    "$$ K(s) = K_p \\left( 1 + \\frac{1}{T_i s} + \\frac{T_d s}{\\frac{T_d}{N}s+1} \\right) $$"
   ]
  },
  {
   "cell_type": "markdown",
   "metadata": {},
   "source": [
    "En appliquant la transformation par échantillonnage, on obtient:\n",
    "\n",
    "$$ K'(z) = K_p \\left( 1 + \\frac{\\frac{h}{T_i}}{z-1} + \\frac{N(z-1)}{z-e^{-N\\frac{h}{T_d}}} \\right) $$\n",
    "***"
   ]
  },
  {
   "cell_type": "markdown",
   "metadata": {},
   "source": [
    "### Approximations numériques"
   ]
  },
  {
   "cell_type": "markdown",
   "metadata": {},
   "source": [
    "Il est possible, en repartant des équations différentielles, d'obtenir d'autres approximations."
   ]
  },
  {
   "cell_type": "markdown",
   "metadata": {},
   "source": [
    "#### Première méthode d'Euler"
   ]
  },
  {
   "cell_type": "markdown",
   "metadata": {},
   "source": [
    "La dérivée d'une grandeur est donnée par, à un instant $k$:\n",
    "\n",
    "$$ \\dot{u}(kh) = \\lim_{h \\rightarrow 0} \\frac{u(kh+h) - u(kh)}{h} $$\n",
    "\n",
    "En utilisant la transformée en $z$, on obtient:\n",
    "\n",
    "$$ \\mathscr{Z} \\left\\{ \\dot{u}(kh) \\right\\} = \\frac{z U(z) - U(z)}{h} = \\frac{z-1}{h} U(z) $$\n",
    "\n",
    "Comme la transformée de Laplace de la dérivée d'une grandeur analogique correspond à:\n",
    "\n",
    "$$ \\mathscr{L} \\left\\{ \\dot{u}(t) \\right\\} = s U(s) $$\n",
    "\n",
    "On a la transformation suivante:\n",
    "\n",
    "$$ s = \\frac{z-1}{h} $$"
   ]
  },
  {
   "cell_type": "markdown",
   "metadata": {},
   "source": [
    "#### Exemple\n",
    "\n",
    "En appliquant la méthode au régulateur PID, on obtient:\n",
    "\n",
    "$$ K'(z) = K_p \\left( 1 + \\frac{\\frac{h}{T_i}}{z-1} + \\frac{N(z-1)}{z-(1-N\\frac{h}{T_d})} \\right) $$\n",
    "***"
   ]
  },
  {
   "cell_type": "markdown",
   "metadata": {},
   "source": [
    "#### Seconde méthode d'Euler"
   ]
  },
  {
   "cell_type": "markdown",
   "metadata": {},
   "source": [
    "La dérivée d'une grandeur est donnée par, à un instant $k$:\n",
    "\n",
    "$$ \\dot{u}(kh) = \\lim_{h \\rightarrow 0} \\frac{u(kh) - u(kh-h)}{h} $$\n",
    "\n",
    "En utilisant la transformée en $z$, on obtient:\n",
    "\n",
    "$$ \\mathscr{Z} \\left\\{ \\dot{u}(kh) \\right\\} = \\frac{U(z) - z^{-1} U(z)}{h} = \\frac{1-z^{-1}}{h} U(z) $$\n",
    "\n",
    "Comme la transformée de Laplace de la dérivée d'une grandeur analogique correspond à:\n",
    "\n",
    "$$ \\mathscr{L} \\left\\{ \\dot{u}(t) \\right\\} = s U(s) $$\n",
    "\n",
    "On a la transformation suivante:\n",
    "\n",
    "$$ s = \\frac{1-z^{-1}}{h} = \\frac{z-1}{hz} $$"
   ]
  },
  {
   "cell_type": "markdown",
   "metadata": {},
   "source": [
    "#### Exemple\n",
    "\n",
    "En appliquant la méthode au régulateur PID, on obtient:\n",
    "\n",
    "$$ K'(z) = K_p \\left( 1 + \\frac{\\frac{h}{T_i}z}{z-1} + \\frac{N(z-1)}{(1+N\\frac{h}{T_d})z-1} \\right) $$\n",
    "***"
   ]
  },
  {
   "cell_type": "markdown",
   "metadata": {},
   "source": [
    "#### Méthode de Tustin"
   ]
  },
  {
   "cell_type": "markdown",
   "metadata": {},
   "source": [
    "Cette fois-ci, on part de l'équation différentielle dont on intègre $n$ fois chaque membre afin de faire disparaître toute dérivée (avec $n$ l'ordre du système)."
   ]
  },
  {
   "cell_type": "markdown",
   "metadata": {
    "slideshow": {
     "slide_type": "slide"
    }
   },
   "source": [
    "La méthode de Tustin consiste à approximer les intégrales par la règle des trapèzes:\n",
    "\n",
    "\\begin{align}\n",
    "  i(kh) &= \\int_0^{kh}u(\\tau)d\\tau \\\\\n",
    "  i(kh) &= i(kh-h) + \\frac{h}{2} \\left( u(kh-h) + u(kh) \\right)\n",
    "\\end{align}\n",
    "\n",
    "Par la transformée en $z$, on obtient:\n",
    "\n",
    "\\begin{align}\n",
    "  I(z) - z^{-1} I(z) &= \\frac{h}{2} \\left( z^{-1} U(z) + U(z) \\right) \\\\\n",
    "  \\frac{z-1}{z} I(z) &= \\frac{h}{2} \\left( \\frac{1+z}{z} \\right) U(z) \\\\\n",
    "  I(z) &= \\frac{h}{2} \\left( \\frac{z+1}{z-1} \\right) U(z)\n",
    "\\end{align}"
   ]
  },
  {
   "cell_type": "markdown",
   "metadata": {
    "slideshow": {
     "slide_type": "slide"
    }
   },
   "source": [
    "Comme la transformée de Laplace de l'intégrale d'une grandeur analogique correspond à:\n",
    "\n",
    "$$ \\mathscr{L} \\left\\{ \\int u(t) \\right\\} = \\frac{1}{s} U(s) $$\n",
    "\n",
    "On a la transformation suivante:\n",
    "\n",
    "$$ s = \\frac{2}{h} \\left( \\frac{z-1}{z+1} \\right) $$"
   ]
  },
  {
   "cell_type": "markdown",
   "metadata": {},
   "source": [
    "#### Exemple\n",
    "\n",
    "En appliquant la méthode au régulateur PID, on obtient:\n",
    "\n",
    "$$ K'(z) = K_p \\left( 1 + \\frac{\\frac{h}{2 T_i}(z+1)}{z-1} + \\frac{N(z-1)}{(1+N\\frac{h}{2 T_d})z-(1-N\\frac{h}{2 T_d})} \\right) $$\n",
    "***"
   ]
  },
  {
   "cell_type": "markdown",
   "metadata": {},
   "source": [
    "Le schéma ci-dessous permet de visualiser la transformation du demi-plan gauche $s$ dans le plan $z$."
   ]
  },
  {
   "cell_type": "markdown",
   "metadata": {},
   "source": [
    "<img src=\"Images/Chapter8/numerisation_stoz_plan.png\">"
   ]
  },
  {
   "cell_type": "markdown",
   "metadata": {},
   "source": [
    "Les transformations montrent:\n",
    "\n",
    "- La première méthode d'Euler peut transformer des pôles stables en $s$ en des pôles instables en $z$; elle est donc à déconseiller\n",
    "- La seconde méthode d'Euler transforme un régulateur BIBO stable en un autre régulateur BIBO stable; il permet en plus d'éviter d'avoir des modes sonnettes dus à des pôles dans la partie gauche du cercle unité\n",
    "- La méthode de Tustin transforme l'entièreté du demi-plan gauche à l'intérieur du cercle unité complet; un régulateur BIBO stable le restera"
   ]
  },
  {
   "cell_type": "markdown",
   "metadata": {},
   "source": [
    "#### Commentaires\n",
    "\n",
    "Il faut noter les problématiques suivantes:\n",
    "\n",
    "- pour espérer obtenir un comportement correct, il faut que la période d'échantillonnage soit très petite\n",
    "- une trop petite période d'échantillonnage demande du matériel spécifique coûteux, et peu engendrer des problèmes numériques\n",
    "- le retard généré par les convertisseurs ainsi que la quantification n'étant pas pris en compte, il faut s'attendre à une dégradation des performances\n",
    "- les approximations numériques commettent des erreurs équivalentes à des erreurs de modélisations; les marges de stabilité sont dégradées"
   ]
  },
  {
   "cell_type": "markdown",
   "metadata": {},
   "source": [
    "On peut essayer de réduire l'effet des convertisseurs en ajoutant un retard pur analogique équivalent à une demi-période d'échantillonnage dans le modèle analogique du système afin de modéliser l'ensemble \"convertisseurs/système\"."
   ]
  },
  {
   "cell_type": "markdown",
   "metadata": {},
   "source": [
    "## Régulateur PID numérique"
   ]
  },
  {
   "cell_type": "markdown",
   "metadata": {},
   "source": [
    "### Forme position"
   ]
  },
  {
   "cell_type": "markdown",
   "metadata": {},
   "source": [
    "Le PID numérique \"standard\" est décrit par la fonction de transfert discrète suivante, en utilisant la seconde méthode d'Euler:\n",
    "\n",
    "$$ K'(z) = K_p \\left( 1 + \\frac{\\frac{h}{T_i}z}{z-1} + \\frac{N(z-1)}{(1+N\\frac{h}{T_d})z-1} \\right) $$"
   ]
  },
  {
   "cell_type": "markdown",
   "metadata": {},
   "source": [
    "En voici une représentation en schéma bloc:"
   ]
  },
  {
   "cell_type": "markdown",
   "metadata": {},
   "source": [
    "<img src=\"Images/Chapter8/mixt_PID.png\">"
   ]
  },
  {
   "cell_type": "markdown",
   "metadata": {},
   "source": [
    "Pour rappel, les paramètres sont:\n",
    "\n",
    "- $K_p$ : gain proportionnel, augmente la rapidité et la précision mais diminue la stabilité\n",
    "- $T_i$ : constante de temps d'intégration, augmente la précision mais diminue la stabilité\n",
    "- $T_d$ : constante de temps de dérivation, augmente la stabilité\n",
    "- $N$ : coefficient de filtrage sur la dérivée, $\\in [3 \\dots 20]$"
   ]
  },
  {
   "cell_type": "markdown",
   "metadata": {},
   "source": [
    "Les régulateurs P, PI et PD sont obtenus en supprimant la branche non voulue:\n",
    "\n",
    "\\begin{align}\n",
    "  K(z) &= K_p \\\\\n",
    "  K(z) &= K_p \\left( 1 + \\frac{\\frac{h}{T_i}z}{z-1} \\right) \\\\\n",
    "  K(z) &= K_p \\left( 1 + \\frac{N(z-1)}{(1+N\\frac{h}{T_d})z-1} \\right)\n",
    "\\end{align}"
   ]
  },
  {
   "cell_type": "markdown",
   "metadata": {},
   "source": [
    "### Forme incrémentale"
   ]
  },
  {
   "cell_type": "markdown",
   "metadata": {},
   "source": [
    "La forme incrémentale est parfois implémentée, permettant de calculer $\\Delta u(kh)$:\n",
    "\n",
    "\\begin{align}\n",
    "  \\Delta U(z) &= \\mathscr{Z}\\left\\{ \\Delta u(kh) \\right\\} = (1 - z^{-1}) U(z) = (1 - z^{-1}) K(z) E(z) \\\\\n",
    "  &= \\frac{z-1}{z} K_p \\left( 1 + \\frac{\\frac{h}{T_i}z}{z-1} + \\frac{N(z-1)}{(1+N\\frac{h}{T_d})z-1} \\right) E(z) \\\\\n",
    "  &= K_p \\left( \\frac{z-1}{z} + \\frac{h}{T_i} + \\frac{N(z^2-2z+1)}{(1+N\\frac{h}{T_d})z^2-z} \\right) E(z)\n",
    "\\end{align}"
   ]
  },
  {
   "cell_type": "markdown",
   "metadata": {},
   "source": [
    "On en tire la fonction de transfert du régulateur incrémental:\n",
    "\n",
    "$$ K_i(z) = \\frac{\\Delta U(z)}{E(z)} = K_p \\left( \\frac{z-1}{z} + \\frac{h}{T_i} + \\frac{N(z^2-2z+1)}{(1+N\\frac{h}{T_d})z^2-z} \\right) $$"
   ]
  },
  {
   "cell_type": "markdown",
   "metadata": {},
   "source": [
    "Il faut bien évidemment, avant d'appliquer la commande au système, calculer $u(kh) = u(kh-h) + \\Delta u(kh)$."
   ]
  },
  {
   "cell_type": "markdown",
   "metadata": {},
   "source": [
    "### Forme à dérivation séparée"
   ]
  },
  {
   "cell_type": "markdown",
   "metadata": {},
   "source": [
    "Un gros inconvénient de la dérivée appliquée à l'erreur est qu'elle génère de grosses commandes dues à un échelon de consigne. Une façon de filtrer ces sauts est d'appliquer la dérivée directement sur la sortie y(kh)."
   ]
  },
  {
   "cell_type": "markdown",
   "metadata": {},
   "source": [
    "<img src=\"Images/Chapter8/mixt_PID_separated_derivative.png\" width=\"800\">"
   ]
  },
  {
   "cell_type": "markdown",
   "metadata": {},
   "source": [
    "### Forme non filtrée"
   ]
  },
  {
   "cell_type": "markdown",
   "metadata": {},
   "source": [
    "Le PID théorique est en général étudié sans filtre sur la dérivée. Sa fonction de transfert analogique est:\n",
    "    \n",
    "$$ K(s) = K_p \\left( 1 + \\frac{1}{T_i s} + T_d s \\right) $$"
   ]
  },
  {
   "cell_type": "markdown",
   "metadata": {},
   "source": [
    "Cependant, ce PID analogique est irréalisable en pratique car la dérivée est non causale. Par contre, sa forme numérique, par la seconde méthode d'Euler, donne:\n",
    "\n",
    "$$ K(z) = K_p \\left( 1 + \\frac{\\frac{h}{T_i}z}{z-1} + \\frac{T_d}{h} \\frac{z-1}{z} \\right) $$\n",
    "\n",
    "Cette fonction de transfert est réalisable en pratique."
   ]
  },
  {
   "cell_type": "markdown",
   "metadata": {},
   "source": [
    "### Structures"
   ]
  },
  {
   "cell_type": "markdown",
   "metadata": {},
   "source": [
    "Les structures vues jusqu'à présent sont mixtes. Il existe différentes structures, dont la parallèle et la série."
   ]
  },
  {
   "cell_type": "markdown",
   "metadata": {},
   "source": [
    "#### Parallèle"
   ]
  },
  {
   "cell_type": "markdown",
   "metadata": {},
   "source": [
    "La structure parallèle découple les actions. Sa fonction de transfert discrète est:\n",
    "\n",
    "$$ K(z) = K_p + \\frac{\\frac{h}{T_i}z}{z-1} + \\frac{T_d}{h} \\frac{z-1}{z} $$"
   ]
  },
  {
   "cell_type": "markdown",
   "metadata": {},
   "source": [
    "<img src=\"Images/Chapter8/parallel_PID.png\" width=\"800\">"
   ]
  },
  {
   "cell_type": "markdown",
   "metadata": {},
   "source": [
    "#### Série"
   ]
  },
  {
   "cell_type": "markdown",
   "metadata": {},
   "source": [
    "La structure série est donnée par:\n",
    "\n",
    "$$ K(z) = K_p \\left( 1 + \\frac{\\frac{h}{T_i}z}{z-1} \\right) \\left( 1 + \\frac{T_d}{h} \\frac{z-1}{z} \\right) $$"
   ]
  },
  {
   "cell_type": "markdown",
   "metadata": {},
   "source": [
    "<img src=\"Images/Chapter8/serial_PID.png\">"
   ]
  },
  {
   "cell_type": "markdown",
   "metadata": {},
   "source": [
    "Même si cette structure est peu rencontrée en pratique, elle possède un atout intéressant: les zéros de la fonction de transfert dépendent séparement des actions intégrales et dérivées! Ceci simplifiera grandement les calculs lors de la synthèse."
   ]
  },
  {
   "cell_type": "markdown",
   "metadata": {},
   "source": [
    "Cependant, comme on croise plus souvent la forme mixte, on doit pouvoir convertir la forme série en forme mixte."
   ]
  },
  {
   "cell_type": "markdown",
   "metadata": {},
   "source": [
    "La fonction de transfert peut s'écrire:\n",
    "\n",
    "$$ K(z) = K_p \\left( 1 + \\frac{\\frac{h}{T_i}z}{z-1} + \\frac{T_d}{h} \\frac{z-1}{z} + \\frac{T_d}{T_i} \\right) $$\n",
    "\n",
    "Si $T_d$ est plus petit que $T_i$, la fonction de transfert devient celle d'une structure mixte. "
   ]
  },
  {
   "cell_type": "markdown",
   "metadata": {},
   "source": [
    "Par contre, si ce n'est pas le cas, on a:\n",
    "\n",
    "\\begin{align}\n",
    "K(z) &= K_p \\left( 1 + \\frac{T_d}{T_i} + \\frac{\\frac{h}{T_i}z}{z-1} + \\frac{T_d}{h} \\frac{z-1}{z} \\right) \\\\\n",
    "     &= K_p \\frac{T_i + T_d}{T_i} \\left( 1 + \\frac{\\frac{h}{T_i + T_d}z}{z-1} + \\frac{\\frac{T_i T_d}{T_i + T_d}}{h} \\frac{z-1}{z} \\right) \n",
    "\\end{align}"
   ]
  },
  {
   "cell_type": "markdown",
   "metadata": {},
   "source": [
    "En redéfinissant les termes ainsi:\n",
    "\n",
    "\\begin{align}\n",
    "  K'_p &= K_p \\frac{T_i + T_d}{Ti} \\\\\n",
    "  T'_i &= T_i + T_d \\\\\n",
    "  T'_d &= \\frac{T_i T_d}{T_i + T_d}\n",
    "\\end{align}"
   ]
  },
  {
   "cell_type": "markdown",
   "metadata": {},
   "source": [
    "La fonction de transfert devient donc:\n",
    "\n",
    "$$ K(z) = K'_p \\left( 1 + \\frac{\\frac{h}{T'_i}z}{z-1} + \\frac{T'_d}{h} \\frac{z-1}{z} \\right) $$"
   ]
  },
  {
   "cell_type": "markdown",
   "metadata": {},
   "source": [
    "Elle correspond bien à une structure mixte. On peut donc profiter de sa propriété afin de choisir les actions intégrales et dérivées séparement, puis transformer les paramètres afin de pouvoir paramétrer les régulateurs industriels, souvent mixtes."
   ]
  },
  {
   "cell_type": "markdown",
   "metadata": {},
   "source": [
    "### Mesures anti-emballement de l'intégrateur"
   ]
  },
  {
   "cell_type": "markdown",
   "metadata": {},
   "source": [
    "L'action intégrale possède la caractéristique d'accumuler l'erreur en fonction du temps. Elle a donc tendance, au fur et à mesure du temps, à augmenter la commande à fournir au système. "
   ]
  },
  {
   "cell_type": "markdown",
   "metadata": {},
   "source": [
    "Ceci peut causer des problèmes si le système ne réagit pas suffisamment vite pour une quelconque raison. En effet, l'intégrale augmentera l'action intégrale jusqu'à atteindre la saturation de l'actionneur. A partir de ce moment-là, même si l'intégrale continue d'augmenter, l'action réelle, elle, reste constante. On entre dans une zone non-linéaire."
   ]
  },
  {
   "cell_type": "markdown",
   "metadata": {},
   "source": [
    "Le problème qui arrive ensuite est le suivant: afin de retourner dans la zone linéaire de l'actuateur, il faut vider l'intégrale... ce qui ne peut se faire qu'en inversant le signe de l'erreur, et donc, en créant un dépassement de la consigne. Ce dépassement sera d'autant plus grand que l'intégrale était trop pleine. Le système en boucle fermé possèdera donc d'énormes oscillations."
   ]
  },
  {
   "cell_type": "markdown",
   "metadata": {},
   "source": [
    "Cet effet s'appelle l'emballement de l'intégrateur (en anglais, *integral windup* ou *reset windup*)."
   ]
  },
  {
   "cell_type": "markdown",
   "metadata": {},
   "source": [
    "Il existe beaucoup de littérature sur le sujet, tellement ce problème est important. Nous nous restreindrons aux mesures les plus simples à comprendre et mettre en oeuvre. Ces méthodes sont appelées les mesures anti-emballement ou anti-saturation de l'intégrateur (en anglais, *antireset windup*)."
   ]
  },
  {
   "cell_type": "markdown",
   "metadata": {},
   "source": [
    "On suppose que la saturation de l'actionneur est symétrique et décrite par:\n",
    "\n",
    "$$\n",
    "u_e(kh) = \\left\\{\n",
    "\\begin{array}{ll}\n",
    "  \\mu & \\quad \\text{si}\\, u(kh) > \\mu \\\\\n",
    "  u(kh) & \\quad \\text{si}\\, u(kh) \\in [-\\mu, \\mu] \\\\\n",
    "  -\\mu & \\quad \\text{si}\\, u(kh) < -\\mu\n",
    "\\end{array}\n",
    "\\right.\n",
    "$$"
   ]
  },
  {
   "cell_type": "markdown",
   "metadata": {},
   "source": [
    "#### Première méthode\n",
    "Cette première méthode est appelée intégration conditionnelle. Elle consiste à activer l'intégration lorsque l'écart est plus petit qu'une constante donnée:\n",
    "\n",
    "$$\n",
    "u_i(kh) = \\left\\{\n",
    "\\begin{array}{ll}\n",
    "  0 & \\quad \\text{si}\\, |e(kh)| > \\epsilon \\\\\n",
    "  u_i(kh-h) + \\frac{h}{T_i}e(kh) & \\quad \\text{si}\\, |e(kh)| \\leq \\epsilon\n",
    "\\end{array}\n",
    "\\right.\n",
    "$$\n",
    "\n",
    "Le souci de cette méthode est qu'il faut déterminer $\\epsilon$ par simulation ou expérimentalement."
   ]
  },
  {
   "cell_type": "markdown",
   "metadata": {},
   "source": [
    "#### Seconde méthode\n",
    "La seconde méthode consiste à geler l'intégration dès que la commande atteint la saturation $|u(kh)| > \\mu$:\n",
    "\n",
    "$$ u_i(kh) = u_i(kh-h) $$\n",
    "\n",
    "$$ u(kh) = K_p \\left( e(kh) + u_i(kh) + u_d(kh) \\right) $$"
   ]
  },
  {
   "cell_type": "markdown",
   "metadata": {},
   "source": [
    "Il existe d'autres méthodes plus complexes. On peut citer, par exemple:\n",
    "\n",
    "- la mesure anti-emballement standard\n",
    "- la méthode de Franklin-Powell\n",
    "- la méthode d'Aström-Wittenmark"
   ]
  }
 ],
 "metadata": {
  "celltoolbar": "Diaporama",
  "kernelspec": {
   "display_name": "Python 3",
   "language": "python",
   "name": "python3"
  },
  "language_info": {
   "codemirror_mode": {
    "name": "ipython",
    "version": 3
   },
   "file_extension": ".py",
   "mimetype": "text/x-python",
   "name": "python",
   "nbconvert_exporter": "python",
   "pygments_lexer": "ipython3",
   "version": "3.7.3"
  }
 },
 "nbformat": 4,
 "nbformat_minor": 4
}
