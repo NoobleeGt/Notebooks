{
 "cells": [
  {
   "cell_type": "markdown",
   "metadata": {},
   "source": [
    "# Exercice récapitulatif"
   ]
  },
  {
   "cell_type": "markdown",
   "metadata": {},
   "source": [
    "Supposons qu'un four industriel soit décrit par l'équation différentielle non-linéaire suivante:\n",
    "\n",
    "$$ \\frac{d^{2}y}{dt^{2}} + 15\\frac{dy}{dt}\\left|\\frac{dy}{dt}\\right| + 0.5y^{1.5} = u $$"
   ]
  },
  {
   "cell_type": "markdown",
   "metadata": {},
   "source": [
    "Ce four travaille autour de $300\\,^{\\circ}\\mathrm{C}$. L'opérateur vous signale tout de même qu'il arrive souvent de modifier le point de fonctionnement dans une plage de $\\pm 10 \\%$."
   ]
  },
  {
   "cell_type": "markdown",
   "metadata": {},
   "source": [
    "L'opérateur vous informe aussi que la procédure est de laisser le four chauffer pendant $50\\, \\mathrm{s}$ avant d'effectuer une quelconque action."
   ]
  },
  {
   "cell_type": "markdown",
   "metadata": {},
   "source": [
    "Il vous est demandé de:\n",
    "\n",
    "1. vérifier la stabilité du système non-linéaire\n",
    "2. linéairiser le système autour du point de fonctionnement et discrétiser le système obtenu\n",
    "3. vérifier la stabilité du système discret\n",
    "4. synthétiser un régulateur afin d'avoir un temps de réponse 2 fois plus petit, un écart statique nul et des marges suffisantes\n",
    "5. appliquer le régulateur au système non-linéaire en respectant les consignes de l'opérateur\n",
    "6. identifier le système non-linéaire autour du point de fonctionnement et comparer le modèle obtenu avec le modèle obtenu par linéarisation"
   ]
  }
 ],
 "metadata": {
  "kernelspec": {
   "display_name": "Python 3",
   "language": "python",
   "name": "python3"
  },
  "language_info": {
   "codemirror_mode": {
    "name": "ipython",
    "version": 3
   },
   "file_extension": ".py",
   "mimetype": "text/x-python",
   "name": "python",
   "nbconvert_exporter": "python",
   "pygments_lexer": "ipython3",
   "version": "3.7.3"
  }
 },
 "nbformat": 4,
 "nbformat_minor": 4
}
