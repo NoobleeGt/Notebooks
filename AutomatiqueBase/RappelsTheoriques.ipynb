{
 "cells": [
  {
   "cell_type": "markdown",
   "metadata": {},
   "source": [
    "# Rappels théoriques"
   ]
  },
  {
   "cell_type": "markdown",
   "metadata": {},
   "source": [
    "## Définitions"
   ]
  },
  {
   "cell_type": "markdown",
   "metadata": {},
   "source": [
    "Voici quelques définitions importantes à la suite de l'activité:\n",
    "\n",
    "- signal: c'est une grandeur mesurable porteuse d'une information; il peut être continu, discret ou numérique\n",
    "- système: il transforme des signaux d'entrées en signaux de sorties; un système est délimité par des hypothèses (par exemple: étudier la loi d'Ohm sur une résistance sous-entend souvent que les variations de température et de pression, que les perturbations électromagnétiques et que la variation de résistance en fonction du courant sont négligeables; une autre étude pourrait vérifier la sensibilité de la loi d'Ohm a ces paramètres, et il faut alors ajouter des signaux supplémentaires et élargir les limites du système)"
   ]
  },
  {
   "cell_type": "markdown",
   "metadata": {},
   "source": [
    "## Concept de base"
   ]
  },
  {
   "cell_type": "markdown",
   "metadata": {},
   "source": [
    "L'idée d'une commande automatique est de fournir une énergie au système afin de le forcer à adopter un comportement voulu."
   ]
  },
  {
   "cell_type": "markdown",
   "metadata": {},
   "source": [
    "Il existe 2 problématiques en automatique:\n",
    "\n",
    "- asservissement: on veut poursuivre une consigne (exemple: refroidissement de l'acier suivant une courbe précise de température)\n",
    "- régulation: on veut rejeter les perturbations (exemple: garder une température de confort dans un local quel que soit la température extérieure ou le nombre de personnes)"
   ]
  },
  {
   "cell_type": "markdown",
   "metadata": {},
   "source": [
    "Les 2 problématiques, malgré leurs différences, se résolvent avec les mêmes outils mathématiques."
   ]
  },
  {
   "cell_type": "markdown",
   "metadata": {},
   "source": [
    "### Commande en boucle ouverte"
   ]
  },
  {
   "cell_type": "markdown",
   "metadata": {},
   "source": [
    "La commande en boucle ouverte consiste à mettre en place un système qui fournit une commande à un système sans avoir accès à un retour de l'information:"
   ]
  },
  {
   "cell_type": "markdown",
   "metadata": {},
   "source": [
    "<img src=\"./Images/RappelsTheoriques/commande_bo.png\" alt=\"Commande en boucle ouverte\" width=600>"
   ]
  },
  {
   "cell_type": "markdown",
   "metadata": {},
   "source": [
    "Cette commande est simple à mettre en oeuvre mais possède un gros inconvénient: en cas de perturbation, il est impossible de garantir que la sortie du système soit égale à la consigne désirée."
   ]
  },
  {
   "cell_type": "markdown",
   "metadata": {},
   "source": [
    "Prenons un exemple: supposons qu'en mettant une tension de 110V sur un moteur, il tourne à la moitié de sa vitesse nominale. Cependant, si la charge mécanique augmente, pour cette même tension, la vitesse diminuera. Sans mesure de la vitesse, mon système ne pourra jamais compenser la perte de vitesse due à l'augmentation de la charge."
   ]
  },
  {
   "cell_type": "markdown",
   "metadata": {},
   "source": [
    "Cette commande doit alors être reservée aux systèmes simples et sous environnement contrôlé."
   ]
  },
  {
   "cell_type": "markdown",
   "metadata": {},
   "source": [
    "### Commande en boucle fermée"
   ]
  },
  {
   "cell_type": "markdown",
   "metadata": {},
   "source": [
    "La commande en boucle fermée profite du retour d'information pour compenser tout effet indésirable influençant la sortie du système:"
   ]
  },
  {
   "cell_type": "markdown",
   "metadata": {},
   "source": [
    "<img src=\"./Images/RappelsTheoriques/commande_bf.png\" alt=\"Commande en boucle fermée\" width=800>"
   ]
  },
  {
   "cell_type": "markdown",
   "metadata": {},
   "source": [
    "### Exemple"
   ]
  },
  {
   "cell_type": "markdown",
   "metadata": {},
   "source": [
    "Au laboratoire d'électrotechnique, des tests ont été effectués sur la génératrice CC et il avait été remarqué que, lorsque la charge électrique augmente aux bornes de la génératrice, la tension diminue."
   ]
  },
  {
   "cell_type": "markdown",
   "metadata": {},
   "source": [
    "Cependant, dans une application réelle, la tension doit rester constante. Il a donc été décidé d'effectuer un essai en régulation, dans lequel le courant d'excitation est modifié de telle sorte que la tension soit constante quelle que soit la charge."
   ]
  },
  {
   "cell_type": "markdown",
   "metadata": {},
   "source": [
    "Une courbe, appelée caractéristique de réglage, mettant le courant d'excitation en fonction du courant d'armature, a été tracée."
   ]
  },
  {
   "cell_type": "markdown",
   "metadata": {},
   "source": [
    "Il est intéressant d'analyser cet exemple."
   ]
  },
  {
   "cell_type": "markdown",
   "metadata": {},
   "source": [
    "Au laboratoire, pendant la manipulation, l'essai a bien été effectué en boucle fermée. En effet, la tension de sortie de la génératrice était visible grâce à un voltmètre. Un étudiant, voyant que la tension du voltmètre est plus petite que la tension voulue de 220V, augmentait le courant d'excitation afin de corriger la baisse de tension."
   ]
  },
  {
   "cell_type": "markdown",
   "metadata": {},
   "source": [
    "Cependant, à quoi sert réellement la courbe obtenue? Elle est appelée caractéristique de réglage, mais peut-on réellement s'en servir pour réaliser une commande de tension?"
   ]
  },
  {
   "cell_type": "markdown",
   "metadata": {},
   "source": [
    "La réponse à cette question est *non*."
   ]
  },
  {
   "cell_type": "markdown",
   "metadata": {},
   "source": [
    "La raison est que cette courbe n'est valide que pour une vitesse de rotation donnée. Si la vitesse diminue, la tension d'une génératrice étant proportionnelle à sa vitesse, il faut augmenter encore plus le courant d'excitation pour une charge donnée si on veut espérer atteindre la tension voulue."
   ]
  },
  {
   "cell_type": "markdown",
   "metadata": {},
   "source": [
    "La situation est montrée à la figure suivante:"
   ]
  },
  {
   "cell_type": "markdown",
   "metadata": {},
   "source": [
    "<img src=\"./Images/RappelsTheoriques/commande_gcc.png\" alt=\"Commande d'une génératrice par la caractéristique de réglage.\" width=500>"
   ]
  },
  {
   "cell_type": "markdown",
   "metadata": {},
   "source": [
    "Pour une vitesse donnée, la génératrice fournit à une charge électrique une tension $U$ et un courant $I_a$. Le capteur de courant mesure $I_a$ et par la caractéristique de réglage, le système sait qu'il doit appliquer le courant d'excitation $I_{ex}$ correspondant au courant $I_a$ mesuré."
   ]
  },
  {
   "cell_type": "markdown",
   "metadata": {},
   "source": [
    "Cependant, si la vitesse change, rien ne garanti que le courant $I_{ex}$ fourni par la caractéristique de réglage soit suffisant (saturation magnétique, réaction d'induit,...)."
   ]
  },
  {
   "cell_type": "markdown",
   "metadata": {},
   "source": [
    "Malgré qu'en apparence, le système semble être en boucle fermée, il est en réalité en boucle ouverte car la grandeur à contrôler, ici la tension $U$, n'est pas prise en compte par la commande."
   ]
  },
  {
   "cell_type": "markdown",
   "metadata": {},
   "source": [
    "### Schéma général"
   ]
  },
  {
   "cell_type": "markdown",
   "metadata": {},
   "source": [
    "Le schéma suivant représente un système de commande en boucle fermée:"
   ]
  },
  {
   "cell_type": "markdown",
   "metadata": {},
   "source": [
    "<img src=\"./Images/RappelsTheoriques/commande_bf_gen.png\" alt=\"Schéma général d'une commande en boucle fermée\" width=600>"
   ]
  },
  {
   "cell_type": "markdown",
   "metadata": {},
   "source": [
    "On y retrouve:\n",
    "\n",
    "- $SP$: Set Point ou la consigne; c'est l'objectif à atteindre\n",
    "- $\\varepsilon$: l'écart entre la consigne et la sortie du système en fonction du temps\n",
    "- $MV$: Manipulated Value ou la commande; c'est le signal injecté dans le système permettant de le faire réagir\n",
    "- $PV$: Process Value ou la sortie du système; c'est la sortie du système\n",
    "- $DV$: Disturbance Value ou la perturbation"
   ]
  },
  {
   "cell_type": "markdown",
   "metadata": {},
   "source": [
    "En pratique, le capteur peut soit être englobé dans le système, soit être placé dans la boucle de retour."
   ]
  },
  {
   "cell_type": "markdown",
   "metadata": {},
   "source": [
    "## Caractéristiques d'un système de commande automatique"
   ]
  },
  {
   "cell_type": "markdown",
   "metadata": {},
   "source": [
    "Plusieurs raisons peuvent justifier la mise en place d'un système de commande automatique:\n",
    "\n",
    "- rapidité: maîtriser la vitesse d'évolution du système\n",
    "- précision: maîtriser la tolérance autour de la valeur voulue\n",
    "- stabilité: s'assurer que le système retourne à son point d'équilibre en cas de perturbation sur les entrées\n",
    "- robustesse: s'assurer que le système reste stable même si les paramètres du systèmes changent"
   ]
  },
  {
   "cell_type": "markdown",
   "metadata": {},
   "source": [
    "Celles-ci forment les caractéristiques d'un système de commande automatique en boucle fermée. La conception d'un système en boucle fermée consistera souvent à trouver le meilleur compromis entre ces caractéristiques permettant de remplir les contraintes du cahier des charges."
   ]
  }
 ],
 "metadata": {
  "kernelspec": {
   "display_name": "Python 3",
   "language": "python",
   "name": "python3"
  },
  "language_info": {
   "codemirror_mode": {
    "name": "ipython",
    "version": 3
   },
   "file_extension": ".py",
   "mimetype": "text/x-python",
   "name": "python",
   "nbconvert_exporter": "python",
   "pygments_lexer": "ipython3",
   "version": "3.7.3"
  }
 },
 "nbformat": 4,
 "nbformat_minor": 4
}
