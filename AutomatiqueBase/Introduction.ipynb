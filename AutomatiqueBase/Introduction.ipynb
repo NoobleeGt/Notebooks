{
 "cells": [
  {
   "cell_type": "markdown",
   "metadata": {},
   "source": [
    "# Introduction"
   ]
  },
  {
   "cell_type": "markdown",
   "metadata": {},
   "source": [
    "Le laboratoire d'automatique vise à donner les bases fondamentales à l'analyse des systèmes linéaires et des problèmes d'asservissement et de régulation."
   ]
  },
  {
   "cell_type": "markdown",
   "metadata": {},
   "source": [
    "Ce laboratoire complète l'activité \"Automatique de Base\" dispensée sur le même quadrimestre."
   ]
  },
  {
   "cell_type": "markdown",
   "metadata": {},
   "source": [
    "Le laboratoire est constitué des séances suivantes:\n",
    "\n",
    "- Modélisation d'un système linéaire\n",
    "- Analyse temporelle et fréquentielle\n",
    "- Tests de régulateurs\n",
    "- Synthèse fréquentielle\n",
    "- Synthèse empirique"
   ]
  },
  {
   "cell_type": "markdown",
   "metadata": {},
   "source": [
    "Un compte-rendu de tout ce qui a été réalisé au laboratoire est attendu en dernière séance."
   ]
  },
  {
   "cell_type": "markdown",
   "metadata": {},
   "source": [
    "Un test a lieu en dernière séance."
   ]
  },
  {
   "cell_type": "markdown",
   "metadata": {},
   "source": [
    "La note finale du laboratoire est constituée:\n",
    "\n",
    "- de la note du rapport valant 50%\n",
    "- de la note du test valant 50%"
   ]
  }
 ],
 "metadata": {
  "kernelspec": {
   "display_name": "Python 3",
   "language": "python",
   "name": "python3"
  },
  "language_info": {
   "codemirror_mode": {
    "name": "ipython",
    "version": 3
   },
   "file_extension": ".py",
   "mimetype": "text/x-python",
   "name": "python",
   "nbconvert_exporter": "python",
   "pygments_lexer": "ipython3",
   "version": "3.7.3"
  }
 },
 "nbformat": 4,
 "nbformat_minor": 4
}
