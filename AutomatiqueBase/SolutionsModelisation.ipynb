{
 "cells": [
  {
   "cell_type": "markdown",
   "metadata": {},
   "source": [
    "# Solutions Modélisation"
   ]
  },
  {
   "cell_type": "markdown",
   "metadata": {},
   "source": [
    "#### Exercice 1"
   ]
  },
  {
   "cell_type": "markdown",
   "metadata": {},
   "source": [
    "1. Déterminez la fonction de transfert lorsque l'entrée est la tension $u_{in}(t)$ et la sortie est $u_{out}(t)$"
   ]
  },
  {
   "cell_type": "markdown",
   "metadata": {},
   "source": [
    "Le schéma électrique est rappelé ici:"
   ]
  },
  {
   "cell_type": "markdown",
   "metadata": {},
   "source": [
    "<img src=\"./Images/Modelisation/circuit_double_rc.png\" alt=\"Circuit double RC\" width=500>"
   ]
  },
  {
   "cell_type": "markdown",
   "metadata": {},
   "source": [
    "La fonction de transfert peut être obtenue par les lois des mailles et les relations tensions/courants sur chaque élément:"
   ]
  },
  {
   "cell_type": "markdown",
   "metadata": {},
   "source": [
    "$$ \n",
    "  \\left\\{ \\begin{array}{l}\n",
    "    u_{in}(t) = R_1 (i_{C_1}(t) + i_{C_2}(t)) + R_2 i_{C_2}(t) + u_{out}(t) \\\\\n",
    "    u_{C_1}(t) = R_2 i_{C_2}(t) + u_{out}(t) \\\\\n",
    "    i_{C_1}(t) = C_1 \\dfrac{du_{C_1}(t)}{dt} \\\\\n",
    "    i_{C_2}(t) = C_2 \\dfrac{du_{out}(t)}{dt}\n",
    "  \\end{array} \\right.  \n",
    "$$"
   ]
  },
  {
   "cell_type": "markdown",
   "metadata": {},
   "source": [
    "En utilisant les relations tensions/courants, on obtient successivement:"
   ]
  },
  {
   "cell_type": "markdown",
   "metadata": {},
   "source": [
    "\\begin{align}\n",
    "  u_{in}(t) &= R_1 \\left(C_1 \\dfrac{du_{C_1}(t)}{dt} + C_2 \\dfrac{du_{out}(t)}{dt}\\right) + R_2 C_2 \\dfrac{du_{out}(t)}{dt} + u_{out}(t) \\\\\n",
    "  &= R_1 \\left(C_1 \\dfrac{d\\left( R_2 i_{C_2}(t) + u_{out}(t) \\right)}{dt} + C_2 \\dfrac{du_{out}(t)}{dt}\\right) + R_2 C_2 \\dfrac{du_{out}(t)}{dt} + u_{out}(t) \\\\\n",
    "  &= R_1 \\left(C_1 \\dfrac{d\\left( R_2 C_2 \\dfrac{du_{out}(t)}{dt} + u_{out}(t) \\right)}{dt} + C_2 \\dfrac{du_{out}(t)}{dt}\\right) + R_2 C_2 \\dfrac{du_{out}(t)}{dt} + u_{out}(t) \\\\\n",
    "  &= R_1 C_1 \\dfrac{d\\left( R_2 C_2 \\dfrac{du_{out}(t)}{dt} + u_{out}(t) \\right)}{dt} + R_1 C_2 \\dfrac{du_{out}(t)}{dt} + R_2 C_2 \\dfrac{du_{out}(t)}{dt} + u_{out}(t) \\\\\n",
    "  &= R_1 C_1 \\dfrac{d \\left( R_2 C_2 \\dfrac{du_{out}(t)}{dt} \\right)}{dt} + R_1 C_1 \\dfrac{d u_{out}(t)}{dt} + R_1 C_2 \\dfrac{du_{out}(t)}{dt} + R_2 C_2 \\dfrac{du_{out}(t)}{dt} + u_{out}(t) \\\\\n",
    "  &= R_1 R_2 C_1 C_2 \\dfrac{d^2 u_{out}(t)}{dt^2} + (R_1 C_1  + R_1 C_2 + R_2 C_2) \\dfrac{du_{out}(t)}{dt} + u_{out}(t) \\\\\n",
    "\\end{align}"
   ]
  },
  {
   "cell_type": "markdown",
   "metadata": {},
   "source": [
    "A ce stade, il ne reste qu'à passer dans le domaine de Laplace:"
   ]
  },
  {
   "cell_type": "markdown",
   "metadata": {},
   "source": [
    "\\begin{align}\n",
    "  U_{in}(s) &= R_1 R_2 C_1 C_2 s^2 U_{out}(s) + (R_1 C_1  + R_1 C_2 + R_2 C_2) s U_{out}(s) + U_{out}(s) \\\\\n",
    "  \\frac{U_{out}(s)}{U_{in}(s)} &= \\frac{1}{R_1 R_2 C_1 C_2 s^2 + (R_1 C_1  + R_1 C_2 + R_2 C_2) s + 1} \\\\\n",
    "  H(s) &= \\frac{1}{R_1 R_2 C_1 C_2 s^2 + (R_1 C_1  + R_1 C_2 + R_2 C_2) s + 1}\n",
    "\\end{align}"
   ]
  },
  {
   "cell_type": "markdown",
   "metadata": {},
   "source": [
    "En remplaçant par les valeurs données, on a:"
   ]
  },
  {
   "cell_type": "markdown",
   "metadata": {},
   "source": [
    "$$ H(s) = \\frac{1}{2.4 s^2 + 9.1 s + 1} $$"
   ]
  },
  {
   "cell_type": "markdown",
   "metadata": {},
   "source": [
    "---"
   ]
  },
  {
   "cell_type": "markdown",
   "metadata": {},
   "source": [
    "2. Calculez la sortie $u_{out}(t)$ pour $u_{in}(t)$ égal à un échelon unité"
   ]
  },
  {
   "cell_type": "markdown",
   "metadata": {},
   "source": [
    "Les pôles de la fonction de transfert peuvent être obtenus de différentes manières. Ce calcul étant élémentaire, utilisons une fonction pour l'obtenir:"
   ]
  },
  {
   "cell_type": "code",
   "execution_count": 4,
   "metadata": {},
   "outputs": [
    {
     "name": "stdout",
     "output_type": "stream",
     "text": [
      "[-3.67839255 -0.11327412]\n"
     ]
    }
   ],
   "source": [
    "import numpy as np\n",
    "\n",
    "print(np.roots([2.4, 9.1, 1]))"
   ]
  },
  {
   "cell_type": "markdown",
   "metadata": {},
   "source": [
    "L'expression de $U_{out}(s)$ est alors:"
   ]
  },
  {
   "cell_type": "markdown",
   "metadata": {},
   "source": [
    "\\begin{align}\n",
    "  U_{out}(s) &= \\frac{1}{2.4 (s + 3.6784) (s + 0.1133)} U_{in}(s) \\\\\n",
    "  &= \\frac{1}{2.4 (s + 3.6784) (s + 0.1133)} \\frac{1}{s}\n",
    "\\end{align}"
   ]
  },
  {
   "cell_type": "markdown",
   "metadata": {},
   "source": [
    "La décomposition en sommes de fractions simples doit donner:"
   ]
  },
  {
   "cell_type": "markdown",
   "metadata": {},
   "source": [
    "$$ U_{out}(s) = \\frac{1}{2.4 (s + 3.6784) (s + 0.1133) s} = \\frac{A}{s + 3.6784} + \\frac{B}{s + 0.1133} + \\frac{C}{s} $$"
   ]
  },
  {
   "cell_type": "markdown",
   "metadata": {},
   "source": [
    "Par le calcul des limites, on obtient:"
   ]
  },
  {
   "cell_type": "markdown",
   "metadata": {},
   "source": [
    "\\begin{align}\n",
    "  A &= \\lim_{s \\rightarrow -3.6784} U_{out}(s) * (s + 3.6784) \\\\\n",
    "  &= \\lim_{s \\rightarrow -3.6784} \\frac{(s + 3.6784)}{2.4 (s + 3.6784) (s + 0.1133) s} \\\\\n",
    "  &= \\lim_{s \\rightarrow -3.6784} \\frac{1}{2.4 (s + 0.1133) s} \\\\\n",
    "  &= 0.0318\n",
    "\\end{align}"
   ]
  },
  {
   "cell_type": "markdown",
   "metadata": {},
   "source": [
    "\\begin{align}\n",
    "  B &= \\lim_{s \\rightarrow -0.1133} U_{out}(s) * (s + 0.1133) \\\\\n",
    "  &= \\lim_{s \\rightarrow -0.1133} \\frac{(s + 0.1133)}{2.4 (s + 3.6784) (s + 0.1133) s} \\\\\n",
    "  &= \\lim_{s \\rightarrow -0.1133} \\frac{1}{2.4 (s + 3.6784)} \\\\\n",
    "  &= -1.0315\n",
    "\\end{align}"
   ]
  },
  {
   "cell_type": "markdown",
   "metadata": {},
   "source": [
    "\\begin{align}\n",
    "  C &= \\lim_{s \\rightarrow 0} U_{out}(s) * s \\\\\n",
    "  &= \\lim_{s \\rightarrow 0} \\frac{s}{2.4 (s + 3.6784) (s + 0.1133) s} \\\\\n",
    "  &= \\lim_{s \\rightarrow 0} \\frac{1}{2.4 (s + 3.6784) (s + 0.1133)} \\\\\n",
    "  &= 1\n",
    "\\end{align}"
   ]
  },
  {
   "cell_type": "markdown",
   "metadata": {},
   "source": [
    "La décomposition donne:"
   ]
  },
  {
   "cell_type": "markdown",
   "metadata": {},
   "source": [
    "$$ U_{out}(s) = \\frac{0.0318}{s + 3.6784} + \\frac{-1.0315}{s + 0.1133} + \\frac{1}{s} $$"
   ]
  },
  {
   "cell_type": "markdown",
   "metadata": {},
   "source": [
    "En passant par la transformée inverse, on obtient finalement:"
   ]
  },
  {
   "cell_type": "markdown",
   "metadata": {},
   "source": [
    "$$ u_{out}(t) = 0.0318 e^{-3.6784 t} - 1.0315 e^{-0.1133 t} + 1 $$"
   ]
  },
  {
   "cell_type": "markdown",
   "metadata": {},
   "source": [
    "---"
   ]
  },
  {
   "cell_type": "markdown",
   "metadata": {},
   "source": [
    "#### Exercice 2"
   ]
  },
  {
   "cell_type": "markdown",
   "metadata": {},
   "source": [
    "L'équation différentielle donne:"
   ]
  },
  {
   "cell_type": "markdown",
   "metadata": {},
   "source": [
    "$$ M \\ddot{x} = F - k x - b \\dot{x} $$"
   ]
  },
  {
   "cell_type": "markdown",
   "metadata": {},
   "source": [
    "Par la transformée de Laplace, on a:"
   ]
  },
  {
   "cell_type": "markdown",
   "metadata": {},
   "source": [
    "\\begin{align}\n",
    "  M s^2 X(s) &= F(s) - k X(s) - b s X(s) \\\\\n",
    "  \\frac{X(s)}{F(s)} &= \\frac{1}{M s^2 + b s + k}\n",
    "\\end{align}"
   ]
  }
 ],
 "metadata": {
  "kernelspec": {
   "display_name": "Python 3",
   "language": "python",
   "name": "python3"
  },
  "language_info": {
   "codemirror_mode": {
    "name": "ipython",
    "version": 3
   },
   "file_extension": ".py",
   "mimetype": "text/x-python",
   "name": "python",
   "nbconvert_exporter": "python",
   "pygments_lexer": "ipython3",
   "version": "3.7.3"
  }
 },
 "nbformat": 4,
 "nbformat_minor": 4
}
