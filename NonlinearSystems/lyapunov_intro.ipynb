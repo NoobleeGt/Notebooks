{
 "cells": [
  {
   "cell_type": "markdown",
   "metadata": {
    "slideshow": {
     "slide_type": "slide"
    }
   },
   "source": [
    "# 2. Introduction to Lyapunov theory"
   ]
  },
  {
   "cell_type": "markdown",
   "metadata": {
    "slideshow": {
     "slide_type": "subslide"
    }
   },
   "source": [
    "We define a nonlinear system as following:\n",
    "$$ \\dot{x} = f(x, t) $$\n",
    "with $x$ the state of the system and $t$ the time"
   ]
  },
  {
   "cell_type": "markdown",
   "metadata": {
    "slideshow": {
     "slide_type": "subslide"
    }
   },
   "source": [
    "When $f()$ explicitly depends on time $t$, the system is said to be non-autonomous (or time-varying); otherwise, if $f()$ doesn't depend on time $t$, the system is said to be autonomous (or time-invariant).\n",
    "This definition holds for open-loop and closed-loop systems. In the following, we will stick to autonomous systems because of their simplicity."
   ]
  },
  {
   "cell_type": "markdown",
   "metadata": {
    "slideshow": {
     "slide_type": "slide"
    }
   },
   "source": [
    "## 2.1 Equilibrium"
   ]
  },
  {
   "cell_type": "markdown",
   "metadata": {
    "slideshow": {
     "slide_type": "subslide"
    }
   },
   "source": [
    "A basic definition of an equilibrium point would be: \"if the system starts there, it stays there\".\n",
    "$$ f(x_{eq}) = 0 $$"
   ]
  },
  {
   "cell_type": "markdown",
   "metadata": {
    "slideshow": {
     "slide_type": "slide"
    }
   },
   "source": [
    "### Example 2.1\n",
    "Let's consider a simple pendulum equation:\n",
    "$$ MR^2\\ddot{\\theta} + b\\dot{\\theta} + MgR\\sin{\\theta} = 0 $$\n",
    "with the terms corresponding respectively to inertia, damping and gravity."
   ]
  },
  {
   "cell_type": "markdown",
   "metadata": {
    "slideshow": {
     "slide_type": "subslide"
    }
   },
   "source": [
    "Letting $x_1 = \\theta$ and $x_2 = \\dot{\\theta}$, we obtain the following state-space equation"
   ]
  },
  {
   "cell_type": "markdown",
   "metadata": {
    "slideshow": {
     "slide_type": "subslide"
    }
   },
   "source": [
    "\\begin{align}\n",
    "\\dot{x_1} &= x_2 \\\\\n",
    "\\dot{x_2} &= -\\frac{b}{MR^2}x_2 - \\frac{g}{R}\\sin{x_1}\n",
    "\\end{align}"
   ]
  },
  {
   "cell_type": "markdown",
   "metadata": {
    "slideshow": {
     "slide_type": "subslide"
    }
   },
   "source": [
    "The equilibrium points are given by $\\dot{x_1} = \\dot{x_2} = 0$. Which will lead to the points $(0+2k\\pi, 0)$ and $(\\pi+2k\\pi, 0)$ for $k \\in Z$. Physically, this means that the equilibrium points are the vertical up and down positions."
   ]
  },
  {
   "cell_type": "markdown",
   "metadata": {
    "slideshow": {
     "slide_type": "slide"
    }
   },
   "source": [
    "## 2.2 Stability"
   ]
  },
  {
   "cell_type": "markdown",
   "metadata": {
    "slideshow": {
     "slide_type": "subslide"
    }
   },
   "source": [
    "In linear systems, the notion of stability is quite simple. A system can be:\n",
    "- stable: for any initial state, the system will converge to its equilibrium point exponentially\n",
    "- unstable: for any initial state, the system will blow up and the state will tend to infinity exponentially\n",
    "- marginally stable: neither stable or unstable; this stability state is not robust"
   ]
  },
  {
   "cell_type": "markdown",
   "metadata": {
    "slideshow": {
     "slide_type": "subslide"
    }
   },
   "source": [
    "Nonlinear systems having more complex behaviour, we will have to define different concepts of stability."
   ]
  },
  {
   "cell_type": "markdown",
   "metadata": {
    "slideshow": {
     "slide_type": "subslide"
    }
   },
   "source": [
    "We usually not talk about system stability but stability of equilibrium points. This is because a nonlinear system can have multiple equilibria or limit cycles. Each region of the state-space will then have a different stability behaviour. In the following, we will always consider the origin as the equilibrium point ($x = 0$)."
   ]
  },
  {
   "cell_type": "markdown",
   "metadata": {
    "slideshow": {
     "slide_type": "slide"
    }
   },
   "source": [
    "### Definitions"
   ]
  },
  {
   "cell_type": "markdown",
   "metadata": {
    "slideshow": {
     "slide_type": "subslide"
    }
   },
   "source": [
    "The equilibrium point x = 0 is:\n",
    "- stable if, $\\forall{}\\: R > 0, \\exists{}\\: r > 0$ such that $\\|x(0)\\| < r \\implies{}\\: \\forall{}\\: t \\geq 0, \\|x(t)\\| < R$\n",
    "- unstable if it is not stable; that means if there exists at least one $R$ such that for every $r > 0, \\|x(t)\\| > R$ eventually (for t > T)\n",
    "- asymptotically stable if it is stable and if $\\exists{}\\: r > 0$ such that $\\|x(0)\\| < r \\implies{}\\: x(t) \\rightarrow 0$ as $t \\rightarrow  \\infty$\n",
    "- exponentially stable if $\\exists{}\\: \\alpha > 0, \\lambda > 0$ such that $\\forall{}\\: t > 0, \\|x(t)\\| \\leq \\alpha \\|x(0)\\| e^{-\\lambda{}t}$ for $\\|x(0)\\| < r$"
   ]
  },
  {
   "cell_type": "markdown",
   "metadata": {
    "slideshow": {
     "slide_type": "subslide"
    }
   },
   "source": [
    "All these definitions suppose that $\\|x(0)\\| < r$, which means that the equilibrium point is locally stable. If $r \\rightarrow \\infty$, that is, for any initial state, the equilibrium point is said to be globally stable."
   ]
  },
  {
   "cell_type": "markdown",
   "metadata": {
    "slideshow": {
     "slide_type": "slide"
    }
   },
   "source": [
    "## 2.3 Linearisation"
   ]
  },
  {
   "cell_type": "markdown",
   "metadata": {
    "slideshow": {
     "slide_type": "subslide"
    }
   },
   "source": [
    "Lyapunov's linearisation method shows how the stability of the equilibrium of a nonlinear system and the stability of the linearisation around that equilibrium point are related. This serves as a justification for using linear control theory on a nonlinear system."
   ]
  },
  {
   "cell_type": "markdown",
   "metadata": {
    "slideshow": {
     "slide_type": "subslide"
    }
   },
   "source": [
    "Using Taylor expansion on the nonlinear autonomous system equation, we obtain\n",
    "$$ \\dot{x} = f(0) + \\left( \\frac{\\partial{f}}{\\partial{x}} \\right)_{x=0}\\: x + f_{hot}(x) $$\n",
    "where $f(0)=0$ and hot stands for high order terms.\n",
    "Neglecting the higher order terms of the Taylor expansion, and replacing $f(0)$ by its value, the equation simplifies to\n",
    "$$ \\dot{x} = \\left( \\frac{\\partial{f}}{\\partial{x}} \\right)_{x=0}\\: x $$\n",
    "or, by defining the matrix $A = \\left( \\frac{\\partial{f}}{\\partial{x}} \\right)_{x=0}$, we have\n",
    "$$ \\dot{x} = Ax $$\n",
    "which is the well known state equation of a linear system without input."
   ]
  },
  {
   "cell_type": "markdown",
   "metadata": {
    "slideshow": {
     "slide_type": "subslide"
    }
   },
   "source": [
    "In the more general case where the nonlinear system has a control input $u$, the system is defined\n",
    "$$ \\dot{x} = f(x, u) $$\n",
    "and the Taylor expansion for $x = u = 0$ gives\n",
    "$$ \\dot{x} = f(0, 0) + \\left( \\frac{\\partial{f}}{\\partial{x}} \\right)_{(x=0, u=0)}\\: x + \\left( \\frac{\\partial{f}}{\\partial{u}} \\right)_{(x=0, u=0)}\\: u + f_{hot}(x, u) $$\n",
    "Again, neglecting the higher order terms and $f(0, 0) = 0$, we obtain\n",
    "$$ \\dot{x} = \\left( \\frac{\\partial{f}}{\\partial{x}} \\right)_{(x=0, u=0)}\\: x + \\left( \\frac{\\partial{f}}{\\partial{u}} \\right)_{(x=0, u=0)}\\: u $$\n",
    "or, by defining the matrix $A = \\left( \\frac{\\partial{f}}{\\partial{x}} \\right)_{(x=0, u=0)}$ and $B = \\left( \\frac{\\partial{f}}{\\partial{u}} \\right)_{(x=0, u=0)}$ we have\n",
    "$$ \\dot{x} = Ax + Bu $$\n",
    "which is the well known state equation of a linear system."
   ]
  },
  {
   "cell_type": "markdown",
   "metadata": {
    "slideshow": {
     "slide_type": "subslide"
    }
   },
   "source": [
    "It is then easy to obtain the linear approximation of the nonlinear system at a given point by computing the Jacobian matrix A with respect to x and B with respect to u. In practice, it is easier to obtain the linear approximation by neglecting any term of order higher than 1 in the dynamics."
   ]
  },
  {
   "cell_type": "markdown",
   "metadata": {
    "slideshow": {
     "slide_type": "slide"
    }
   },
   "source": [
    "### Example 2.2"
   ]
  },
  {
   "cell_type": "markdown",
   "metadata": {
    "slideshow": {
     "slide_type": "subslide"
    }
   },
   "source": [
    "Let's consider the following system\n",
    "\\begin{align}\n",
    "\\dot{x_1} &= x_2^2 + x_1 \\cos x_2 \\\\\n",
    "\\dot{x_2} &= x_2 + (x_1 + 1)x_1 + x_1 \\sin x_2\n",
    "\\end{align}"
   ]
  },
  {
   "cell_type": "markdown",
   "metadata": {
    "slideshow": {
     "slide_type": "subslide"
    }
   },
   "source": [
    "#### Method 1: Computing the Jacobian"
   ]
  },
  {
   "cell_type": "markdown",
   "metadata": {
    "slideshow": {
     "slide_type": "subslide"
    }
   },
   "source": [
    "The Jacobian matrix with respect to x is given by\n",
    "$$ A =\n",
    "\\begin{pmatrix}\n",
    "\\frac{\\partial f_1}{\\partial x_1} & \\frac{\\partial f_1}{\\partial x_2} \\\\\n",
    "\\frac{\\partial f_2}{\\partial x_1} & \\frac{\\partial f_2}{\\partial x_2}\n",
    "\\end{pmatrix}\n",
    "$$\n",
    "Computing each derivative, we have\n",
    "\\begin{align}\n",
    "\\frac{\\partial f_1}{x_1} &= \\cos x_2 \\\\\n",
    "\\frac{\\partial f_1}{x_2} &= 2x_2 - x_1 \\sin x_2 \\\\\n",
    "\\frac{\\partial f_2}{x_1} &= 2x_1 + 1 + \\sin x_2 \\\\\n",
    "\\frac{\\partial f_2}{x_2} &= 1 + x_1 \\cos x_2\n",
    "\\end{align}\n",
    "By evaluating these expressions for $x=0$ we obtain the system\n",
    "$$ \\dot{x} = \n",
    "\\begin{pmatrix}\n",
    "1 & 0 \\\\\n",
    "1 & 1\n",
    "\\end{pmatrix}\n",
    "x\n",
    "$$"
   ]
  },
  {
   "cell_type": "markdown",
   "metadata": {
    "slideshow": {
     "slide_type": "subslide"
    }
   },
   "source": [
    "#### Method 2: Neglecting higher order terms"
   ]
  },
  {
   "cell_type": "markdown",
   "metadata": {
    "slideshow": {
     "slide_type": "subslide"
    }
   },
   "source": [
    "Before doing anything, we start by approximating $\\cos x = 1$ and $\\sin x = x$ for small x. We obtain the following system\n",
    "\\begin{align}\n",
    "\\dot{x_1} &= x_2^2 + x_1 \\\\\n",
    "\\dot{x_2} &= x_2 + (x_1 + 1)x_1 + x_1 x_2\n",
    "\\end{align}\n",
    "We can now neglect all terms higher than order 1 to obtain\n",
    "\\begin{align}\n",
    "\\dot{x_1} &= x_1 \\\\\n",
    "\\dot{x_2} &= x_2 + x_1\n",
    "\\end{align}\n",
    "which gives the linear system\n",
    "$$ \\dot{x} = \n",
    "\\begin{pmatrix}\n",
    "1 & 0 \\\\\n",
    "1 & 1\n",
    "\\end{pmatrix}\n",
    "x\n",
    "$$"
   ]
  },
  {
   "cell_type": "markdown",
   "metadata": {
    "slideshow": {
     "slide_type": "subslide"
    }
   },
   "source": [
    "The example above shows that the second method saves a lot of computations."
   ]
  },
  {
   "cell_type": "markdown",
   "metadata": {
    "slideshow": {
     "slide_type": "slide"
    }
   },
   "source": [
    "### Lyapunov's linearisation method"
   ]
  },
  {
   "cell_type": "markdown",
   "metadata": {
    "slideshow": {
     "slide_type": "subslide"
    }
   },
   "source": [
    "The following result shows how the stability of the linear approximation relates to that of the nonlinear system."
   ]
  },
  {
   "cell_type": "markdown",
   "metadata": {
    "slideshow": {
     "slide_type": "subslide"
    }
   },
   "source": [
    "- If the linear approximation is strictly stable (all eigenvalues have a strictly negative real part), then the equilibrium point of the nonlinear system is asymptotically stable\n",
    "- If the linear approximation is unstable (at least one eigenvalue has a strictly positive real part), then the equilibrium point of the nonlinear system is unstable\n",
    "- If the linear approximation is marginally stable (the eigenvalues have their real part negative or equal to 0), we cannot conclude anything"
   ]
  },
  {
   "cell_type": "markdown",
   "metadata": {
    "slideshow": {
     "slide_type": "slide"
    }
   },
   "source": [
    "### Example 2.3"
   ]
  },
  {
   "cell_type": "markdown",
   "metadata": {
    "slideshow": {
     "slide_type": "subslide"
    }
   },
   "source": [
    "Let's take our first example but without any input $u$\n",
    "$$ \\dot{v} = -|v|v $$\n",
    "This system is stable because when $v < 0$, $\\dot{v} > 0$ which makes $v$ increase, and when $v > 0$, $\\dot{v} < 0$ which makes $v$ decrease. This system is, by intuition, at least globally asymptotically stable.\n",
    "Linearisation gives\n",
    "$$ \\dot{v} = 0 $$\n",
    "which has a zero eigenvalue (pole)."
   ]
  },
  {
   "cell_type": "markdown",
   "metadata": {
    "slideshow": {
     "slide_type": "subslide"
    }
   },
   "source": [
    "Now, let's take the same system but with a slight difference\n",
    "$$ \\dot{v} = |v|v $$\n",
    "This system is stable because when $v < 0$, $\\dot{v} < 0$ which makes $v$ decrease further, and when $v > 0$, $\\dot{v} > 0$ which makes $v$ increase further. This system is, by intuition, unstable.\n",
    "Linearisation gives\n",
    "$$ \\dot{v} = 0 $$\n",
    "which has a zero eigenvalue (pole)."
   ]
  },
  {
   "cell_type": "markdown",
   "metadata": {
    "slideshow": {
     "slide_type": "subslide"
    }
   },
   "source": [
    "We cannot conclude anything when the linear approximation is marginally stable."
   ]
  },
  {
   "cell_type": "markdown",
   "metadata": {
    "slideshow": {
     "slide_type": "subslide"
    }
   },
   "source": [
    "This example shows that, because linearisation neglects higher order terms, the local behaviour has to be \"robust\" so that the effect of nonlinear terms cannot modify the stability of the linear part of the system. Because marginal stability is not robust (a slight change in any parameter of the system can make the system stable or unstable), the nonlinear terms near the equilibrium point will decide whether that slight change will make the system stable or unstable."
   ]
  }
 ],
 "metadata": {
  "celltoolbar": "Diaporama",
  "kernelspec": {
   "display_name": "Python 3",
   "language": "python",
   "name": "python3"
  },
  "language_info": {
   "codemirror_mode": {
    "name": "ipython",
    "version": 3
   },
   "file_extension": ".py",
   "mimetype": "text/x-python",
   "name": "python",
   "nbconvert_exporter": "python",
   "pygments_lexer": "ipython3",
   "version": "3.5.3"
  }
 },
 "nbformat": 4,
 "nbformat_minor": 4
}
