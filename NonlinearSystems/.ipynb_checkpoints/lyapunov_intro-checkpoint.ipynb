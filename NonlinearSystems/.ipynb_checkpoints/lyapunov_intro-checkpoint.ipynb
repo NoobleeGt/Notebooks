{
 "cells": [
  {
   "cell_type": "markdown",
   "metadata": {},
   "source": [
    "# 2. Introduction to Lyapunov theory"
   ]
  },
  {
   "cell_type": "markdown",
   "metadata": {},
   "source": [
    "We define a nonlinear system as following:\n",
    "$$ \\dot{x} = f(x, t) $$\n",
    "with $x$ the state of the system and $t$ the time\n"
   ]
  },
  {
   "cell_type": "markdown",
   "metadata": {},
   "source": [
    "When $f()$ explicitly depends on time $t$, the system is said to be non-autonomous (or time-varying); otherwise, if $f()$ doesn't depend on time $t$, the system is said to be autonomous (or time-invariant).\n",
    "This definition holds for open-loop and closed-loop systems. In the following, we will stick to autonomous systems because of their simplicity."
   ]
  },
  {
   "cell_type": "markdown",
   "metadata": {},
   "source": [
    "## 2.1 Equilibrium"
   ]
  },
  {
   "cell_type": "markdown",
   "metadata": {},
   "source": [
    "A basic definition of an equilibrium point would be: \"if the system starts there, it stays there\".\n",
    "$$ f(x_{eq}) = 0 $$\n"
   ]
  },
  {
   "cell_type": "markdown",
   "metadata": {},
   "source": [
    "### Example 2.1\n",
    "Let's consider a simple pendulum equation:\n",
    "$$ MR^2\\ddot{\\theta} + b\\dot{\\theta} + MgR\\sin{\\theta} = 0 $$\n",
    "with the terms corresponding respectively to inertia, damping and gravity."
   ]
  },
  {
   "cell_type": "code",
   "execution_count": null,
   "metadata": {},
   "outputs": [],
   "source": []
  }
 ],
 "metadata": {
  "kernelspec": {
   "display_name": "Python 3",
   "language": "python",
   "name": "python3"
  },
  "language_info": {
   "codemirror_mode": {
    "name": "ipython",
    "version": 3
   },
   "file_extension": ".py",
   "mimetype": "text/x-python",
   "name": "python",
   "nbconvert_exporter": "python",
   "pygments_lexer": "ipython3",
   "version": "3.5.3"
  }
 },
 "nbformat": 4,
 "nbformat_minor": 4
}
