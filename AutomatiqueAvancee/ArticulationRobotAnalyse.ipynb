{
 "cells": [
  {
   "cell_type": "markdown",
   "metadata": {},
   "source": [
    "# Articulation Robot Analyse"
   ]
  },
  {
   "cell_type": "markdown",
   "metadata": {},
   "source": [
    "Soit une articulation robotique représentée ci-dessous:"
   ]
  },
  {
   "cell_type": "markdown",
   "metadata": {},
   "source": [
    "<img src=\"./Images/ArticulationRobot/articulation.png\" alt=\"Image articulation\" width=150>"
   ]
  },
  {
   "cell_type": "markdown",
   "metadata": {},
   "source": [
    "L'articulation est motorisée en son axe de rotation et possède un frottement au sein de l'articulation. Elle possède les caractéristiques suivantes:\n",
    "\n",
    "- la masse vaut $m=0.36\\, \\mathrm{kg}$\n",
    "- la demi-longueur de l'articulation vaut $l=0.451\\, \\mathrm{m}$\n",
    "- le coefficient de frottement vaut $b=10$."
   ]
  },
  {
   "cell_type": "markdown",
   "metadata": {},
   "source": [
    "On demande ce qui suit:\n",
    "\n",
    "1. Etablir le modèle d'état non-linéaire du système\n",
    "2. Linéariser le modèle autour du point de fonctionnement $\\theta=45\\, ^\\circ$ et $\\dot{\\theta}=0\\, \\mathrm{rad/s}$\n",
    "3. Discrétiser le système avec une période d'échantillonnage $h=10\\, \\mathrm{ms}$\n",
    "4. Calculer les valeurs propres du système discret et en déduire la stabilité\n",
    "5. Vérifier la gouvernabilité du système et déterminer la forme canonique de gouvernabilité\n",
    "6. Vérifier l'observabilité du système et déterminer la forme canonique d'observabilité"
   ]
  },
  {
   "cell_type": "markdown",
   "metadata": {},
   "source": [
    "---"
   ]
  },
  {
   "cell_type": "code",
   "execution_count": 16,
   "metadata": {},
   "outputs": [],
   "source": [
    "%matplotlib inline\n",
    "import matplotlib.pyplot as plt\n",
    "plt.style.use('../my_params.mplstyle')\n",
    "\n",
    "import numpy as np\n",
    "import scipy.integrate as spint\n",
    "import control"
   ]
  },
  {
   "cell_type": "markdown",
   "metadata": {},
   "source": [
    "1. Etablir le modèle d'état non-linéaire du système"
   ]
  },
  {
   "cell_type": "markdown",
   "metadata": {},
   "source": [
    "L'équation différentielle est obtenue aisément:"
   ]
  },
  {
   "cell_type": "markdown",
   "metadata": {},
   "source": [
    "$$ J\\frac{d\\omega}{dt} = C - b\\omega - mgl\\sin{\\theta} $$"
   ]
  },
  {
   "cell_type": "markdown",
   "metadata": {},
   "source": [
    "En choisissant $x_1=\\theta$, $x_2=\\omega$, $u=C$, $y=\\theta$, on a:"
   ]
  },
  {
   "cell_type": "markdown",
   "metadata": {},
   "source": [
    "$$ \n",
    "\\left\\{ \\begin{array}{l}\n",
    "  \\dot{x}_1 = x_2 \\\\\n",
    "  \\dot{x}_2 = -\\dfrac{mgl}{J} \\sin{x_1} - \\dfrac{b}{J}x_2 + \\dfrac{1}{J}u \\\\\n",
    "  y = x_1\n",
    "\\end{array} \\right. \n",
    "$$"
   ]
  },
  {
   "cell_type": "markdown",
   "metadata": {},
   "source": [
    "Le code suivant permet de simuler l'articulation pour un couple donné:"
   ]
  },
  {
   "cell_type": "code",
   "execution_count": 17,
   "metadata": {},
   "outputs": [],
   "source": [
    "class Articulation:\n",
    "    def __init__(self, m, l, b):\n",
    "        self.m = m\n",
    "        self.l = l\n",
    "        self.b = b\n",
    "        \n",
    "        self.J = m * l ** 2\n",
    "\n",
    "    def x_prime(self, t, x, u):\n",
    "        dx1_dt = x[1]\n",
    "        dx2_dt = (-self.m * self.l * 9.81 * np.sin(x[0]) - self.b * x[1] + u) / self.J \n",
    "\n",
    "        return [dx1_dt, dx2_dt]"
   ]
  },
  {
   "cell_type": "code",
   "execution_count": 18,
   "metadata": {},
   "outputs": [],
   "source": [
    "artic_robot = Articulation(0.36, 0.451, 10)\n",
    "\n",
    "t_span = (0, 50)\n",
    "x_init = [0, 0]\n",
    "\n",
    "t_eval = np.linspace(t_span[0], t_span[1], 10001)\n",
    "\n",
    "u = 1.12"
   ]
  },
  {
   "cell_type": "code",
   "execution_count": 19,
   "metadata": {},
   "outputs": [],
   "source": [
    "sol = spint.solve_ivp(artic_robot.x_prime, t_span, x_init, t_eval=t_eval, args=(u,))"
   ]
  },
  {
   "cell_type": "code",
   "execution_count": 20,
   "metadata": {},
   "outputs": [
    {
     "data": {
      "image/png": "[encoded data removed]",
      "text/plain": [
       "<Figure size 600x375 with 3 Axes>"
      ]
     },
     "metadata": {
      "needs_background": "light"
     },
     "output_type": "display_data"
    }
   ],
   "source": [
    "fig, axs = plt.subplots(3, 1, constrained_layout=True)\n",
    "axs[0].plot(sol.t, [u for _ in sol.t])\n",
    "axs[1].plot(sol.t, sol.y[0] * 180 / np.pi)\n",
    "axs[2].plot(sol.t, sol.y[1])\n",
    "axs[0].set_title('Articulation soumise à un couple extérieur')\n",
    "axs[0].set_ylabel('C [Nm]')\n",
    "axs[1].set_ylabel(r'$\\theta$ [rad]')\n",
    "axs[2].set_ylabel(r'$\\dot{\\theta}$ [rad/s]')\n",
    "axs[2].set_xlabel('Temps [s]')\n",
    "axs[0].grid(True)\n",
    "axs[1].grid(True)\n",
    "axs[2].grid(True)"
   ]
  },
  {
   "cell_type": "markdown",
   "metadata": {},
   "source": [
    "---"
   ]
  },
  {
   "cell_type": "markdown",
   "metadata": {},
   "source": [
    "2. Linéariser le modèle autour du point de fonctionnement $\\theta=45\\, ^\\circ$ et $\\dot{\\theta}=0\\, \\mathrm{rad/s}$"
   ]
  },
  {
   "cell_type": "markdown",
   "metadata": {},
   "source": [
    "En appliquant la linéarisation, on obtient les dérivées partielles suivantes:"
   ]
  },
  {
   "cell_type": "markdown",
   "metadata": {},
   "source": [
    "\\begin{align}\n",
    "  &\\frac{\\partial f_1}{\\partial x_1} = 0 \\qquad \\frac{\\partial f_1}{\\partial x_2} = 1 \\qquad \\frac{\\partial f_1}{\\partial u} = 0 \\\\\n",
    "  &\\frac{\\partial f_2}{\\partial x_1} = -\\frac{mgl}{J} \\cos{\\bar{x}_1} \\qquad \\frac{\\partial f_2}{\\partial x_2} = -\\frac{b}{J} \\qquad \\frac{\\partial f_2}{\\partial u} = \\frac{1}{J} \\\\\n",
    "  &\\frac{\\partial g}{\\partial x_1} = 1 \\qquad \\frac{\\partial g}{\\partial x_2} = 0 \\qquad \\frac{\\partial g_1}{\\partial u} = 0 \\\\\n",
    "\\end{align}"
   ]
  },
  {
   "cell_type": "markdown",
   "metadata": {},
   "source": [
    "On obtient alors le modèle d'état continu linéaire suivant:"
   ]
  },
  {
   "cell_type": "markdown",
   "metadata": {},
   "source": [
    "$$\n",
    "\\left\\{ \\begin{array}{l}\n",
    "  \\dot{\\mathbf{x}} =\n",
    "  \\left[ \\begin{array}{cc}\n",
    "    0 & 1 \\\\\n",
    "    -15.38 & -136.57 \\\\\n",
    "  \\end{array} \\right] \\mathbf{x} +\n",
    "  \\left[ \\begin{array}{c}\n",
    "    0 \\\\\n",
    "    13.66 \\\\\n",
    "  \\end{array} \\right] u \\\\\n",
    "  \\mathbf{y} =\n",
    "  \\left[ \\begin{array}{cc}\n",
    "    1 & 0 \\\\\n",
    "  \\end{array} \\right] \\mathbf{x} +\n",
    "  \\left[ \\begin{array}{c}\n",
    "    0\n",
    "  \\end{array} \\right] u\n",
    "\\end{array} \\right.\n",
    "$$"
   ]
  },
  {
   "cell_type": "code",
   "execution_count": 21,
   "metadata": {},
   "outputs": [],
   "source": [
    "A = [[0, 1], [-15.38, -136.57]]\n",
    "B = [[0], [13.66]]\n",
    "C = [[1, 0]]\n",
    "D = [[0]]\n",
    "\n",
    "h = 0.01\n",
    "\n",
    "ar_lin = control.StateSpace(A, B, C, D)"
   ]
  },
  {
   "cell_type": "markdown",
   "metadata": {},
   "source": [
    "---"
   ]
  },
  {
   "cell_type": "markdown",
   "metadata": {},
   "source": [
    "3. Discrétiser le système avec une période d'échantillonnage $h=10\\, \\mathrm{ms}$"
   ]
  },
  {
   "cell_type": "markdown",
   "metadata": {},
   "source": [
    "La matrice $\\mathbf{F}$ est d'abord calculée par la formule suivante:"
   ]
  },
  {
   "cell_type": "markdown",
   "metadata": {},
   "source": [
    "$$ \\mathbf{F} = \\mathrm{e}^{\\mathbf{A}h} $$"
   ]
  },
  {
   "cell_type": "markdown",
   "metadata": {},
   "source": [
    "Une manière de calculer cette matrice serait en exploitant le théorème de Caley-Hamilton."
   ]
  },
  {
   "cell_type": "markdown",
   "metadata": {},
   "source": [
    "Tout d'abord, il faut calculer les valeurs propres de $\\mathbf{A}$:"
   ]
  },
  {
   "cell_type": "markdown",
   "metadata": {},
   "source": [
    "\\begin{align}\n",
    "  \\det (\\lambda \\mathbf{I} - \\mathbf{A}) &= \n",
    "  \\det \\left( \\left[ \\begin{array}{cc}\n",
    "    \\lambda & -1 \\\\\n",
    "    15.38 & \\lambda + 136.57\n",
    "  \\end{array} \\right] \\right) \\\\\n",
    "  &= \\lambda^2 + 136.57 \\lambda + 15.38 \\\\\n",
    "  \\Rightarrow &\\left\\{ \\begin{array}{l}\n",
    "    \\lambda_1 = -136.46 \\\\\n",
    "    \\lambda_2 = -0.1127\n",
    "  \\end{array} \\right.\n",
    "\\end{align}"
   ]
  },
  {
   "cell_type": "markdown",
   "metadata": {},
   "source": [
    "Ensuite, en imposant que $\\mathrm{e}^{\\lambda_i t}$ soit égal au polynôme $r_0 \\lambda_i + r_1$, on trouve les coefficients du polynôme caractéristique de $\\mathrm{e}^{\\lambda_i t}$:"
   ]
  },
  {
   "cell_type": "markdown",
   "metadata": {},
   "source": [
    "\\begin{align}\n",
    "  &\\left\\{ \\begin{array}{ll}\n",
    "    \\mathrm{e}^{-136.46t} = -136.46 r_0 + r_1 \\\\\n",
    "    \\mathrm{e}^{-0.1127t} = -0.1127 r_0 + r_1\n",
    "  \\end{array} \\right. \\\\\n",
    "  &\\left\\{ \\begin{array}{ll}\n",
    "    r_1 = \\mathrm{e}^{-136.46t} + 136.46 r_0  \\\\\n",
    "    \\mathrm{e}^{-0.1127t} = -0.1127 r_0 + \\mathrm{e}^{-136.46t} + 136.46 r_0\n",
    "  \\end{array} \\right. \\\\\n",
    "  &\\left\\{ \\begin{array}{ll}\n",
    "    r_0 = \\frac{1}{136.35} (\\mathrm{e}^{-0.1127t} - \\mathrm{e}^{-136.46t}) \\\\\n",
    "    r_1 = \\mathrm{e}^{-136.46t} + \\frac{136.46}{136.35} (\\mathrm{e}^{-0.1127t} - \\mathrm{e}^{-136.46t})\n",
    "  \\end{array} \\right. \\\\\n",
    "\\end{align}"
   ]
  },
  {
   "cell_type": "markdown",
   "metadata": {},
   "source": [
    "Il ne reste plus qu'à évaluer la fonction $\\mathrm{e}^{\\mathbf{A} t}$:"
   ]
  },
  {
   "cell_type": "markdown",
   "metadata": {},
   "source": [
    "\\begin{align}\n",
    "  \\mathrm{e}^{\\mathbf{A} t} &= \\frac{1}{136.35} (\\mathrm{e}^{-0.1127t} - \\mathrm{e}^{-136.46t}) \\mathbf{A} + \\left( \\mathrm{e}^{-136.46t} + \\frac{136.46}{136.35} (\\mathrm{e}^{-0.1127t} - \\mathrm{e}^{-136.46t}) \\right) \\mathbf{I} \\\\\n",
    "  &= \\left[ \\begin{array}{cc}\n",
    "    \\mathrm{e}^{-136.46t} + \\frac{136.46}{136.35} (\\mathrm{e}^{-0.1127t} - \\mathrm{e}^{-136.46t}) & \\frac{1}{136.35} (\\mathrm{e}^{-0.1127t} - \\mathrm{e}^{-136.46t}) \\\\\n",
    "    \\frac{-15.38}{136.35} (\\mathrm{e}^{-0.1127t} - \\mathrm{e}^{-136.46t}) & \\frac{-136.57}{136.35} (\\mathrm{e}^{-0.1127t} - \\mathrm{e}^{-136.46t}) + \\mathrm{e}^{-136.46t} + \\frac{136.46}{136.35} (\\mathrm{e}^{-0.1127t} - \\mathrm{e}^{-136.46t})\n",
    "  \\end{array} \\right]\n",
    "\\end{align}"
   ]
  },
  {
   "cell_type": "markdown",
   "metadata": {},
   "source": [
    "En remplaçant $t$ par $h = 10\\, \\mathrm{ms}$, on obtient:"
   ]
  },
  {
   "cell_type": "markdown",
   "metadata": {},
   "source": [
    "$$\n",
    "  \\mathbf{F} = \\mathrm{e}^{\\mathbf{A} h} = \\left[ \\begin{array}{cc}\n",
    "    0.9994 & 0.00545 \\\\\n",
    "    -0.0839 & 0.2548\n",
    "  \\end{array} \\right]\n",
    "$$"
   ]
  },
  {
   "cell_type": "markdown",
   "metadata": {},
   "source": [
    "La matrice $\\mathbf{G}$ est obtenue par la formule suivante:"
   ]
  },
  {
   "cell_type": "markdown",
   "metadata": {},
   "source": [
    "$$ \\mathbf{G} = \\int_{0}^{h} \\mathrm{e}^{\\mathbf{A}\\eta} d\\eta \\mathbf{B} $$"
   ]
  },
  {
   "cell_type": "markdown",
   "metadata": {},
   "source": [
    "En reprenant le résultat obtenu précédemment, on a:"
   ]
  },
  {
   "cell_type": "markdown",
   "metadata": {},
   "source": [
    "\\begin{align}\n",
    "  \\mathbf{G} &= \\int_{0}^{h} \\left[ \\begin{array}{cc}\n",
    "    \\mathrm{e}^{-136.46\\eta} + \\frac{136.46}{136.35} (\\mathrm{e}^{-0.1127\\eta} - \\mathrm{e}^{-136.46\\eta}) & \\frac{1}{136.35} (\\mathrm{e}^{-0.1127\\eta} - \\mathrm{e}^{-136.46\\eta}) \\\\\n",
    "    \\frac{-15.38}{136.35} (\\mathrm{e}^{-0.1127\\eta} - \\mathrm{e}^{-136.46\\eta}) & \\frac{-136.57}{136.35} (\\mathrm{e}^{-0.1127\\eta} - \\mathrm{e}^{-136.46\\eta}) + \\mathrm{e}^{-136.46\\eta} + \\frac{136.46}{136.35} (\\mathrm{e}^{-0.1127\\eta} - \\mathrm{e}^{-136.46\\eta})\n",
    "  \\end{array} \\right] \\left[ \\begin{array}{c}\n",
    "    0 \\\\\n",
    "    13.66\n",
    "  \\end{array} \\right] d\\eta \\\\\n",
    "  &= \\left[ \\begin{array}{c}\n",
    "    \\frac{0.1}{136.35} (\\frac{1}{-0.1127}\\mathrm{e}^{-0.1127\\eta} - \\frac{1}{-136.46}\\mathrm{e}^{-136.46\\eta}) \\\\\n",
    "    \\frac{-13.657}{136.35} (\\frac{1}{-0.1127}\\mathrm{e}^{-0.1127\\eta} - \\frac{1}{-136.46}\\mathrm{e}^{-136.46\\eta}) + \\frac{0.1}{-136.46}\\mathrm{e}^{-136.46\\eta} + \\frac{13.646}{136.35} (\\frac{1}{-0.1127}\\mathrm{e}^{-0.1127\\eta} - \\frac{1}{-136.46}\\mathrm{e}^{-136.46\\eta})\n",
    "  \\end{array} \\right]_0^h \\\\\n",
    "  &= \\left[ \\begin{array}{c}\n",
    "    4.55*10^{-4} \\\\\n",
    "    0.0745\n",
    "  \\end{array} \\right]\n",
    "\\end{align}"
   ]
  },
  {
   "cell_type": "markdown",
   "metadata": {},
   "source": [
    "Le modèle d'état discret devient donc:"
   ]
  },
  {
   "cell_type": "markdown",
   "metadata": {},
   "source": [
    "$$\n",
    "\\left\\{ \\begin{array}{l}\n",
    "  \\mathbf{x}(k+1) =\n",
    "  \\left[ \\begin{array}{cc}\n",
    "    0.9994 & 0.00545 \\\\\n",
    "    -0.0839 & 0.2548\n",
    "  \\end{array} \\right] \\mathbf{x}(k) +\n",
    "  \\left[ \\begin{array}{c}\n",
    "    4.55*10^{-4} \\\\\n",
    "    0.0745\n",
    "  \\end{array} \\right] u(k) \\\\\n",
    "  \\mathbf{y}(k) =\n",
    "  \\left[ \\begin{array}{cc}\n",
    "    1 & 0\n",
    "  \\end{array} \\right] \\mathbf{x}(k) +\n",
    "  \\left[ \\begin{array}{c}\n",
    "    0\n",
    "  \\end{array} \\right] u(k)\n",
    "\\end{array} \\right.\n",
    "$$"
   ]
  },
  {
   "cell_type": "code",
   "execution_count": 22,
   "metadata": {},
   "outputs": [
    {
     "name": "stdout",
     "output_type": "stream",
     "text": [
      "A = [[ 0.99948806  0.00545224]\n",
      " [-0.0838555   0.25487525]]\n",
      "\n",
      "B = [[0.00045469]\n",
      " [0.07447764]]\n",
      "\n",
      "C = [[1. 0.]]\n",
      "\n",
      "D = [[0.]]\n",
      "\n",
      "dt = 0.01\n",
      "\n"
     ]
    }
   ],
   "source": [
    "ar_lin_d = control.c2d(ar_lin, h)\n",
    "\n",
    "print(ar_lin_d)"
   ]
  },
  {
   "cell_type": "markdown",
   "metadata": {},
   "source": [
    "---"
   ]
  },
  {
   "cell_type": "markdown",
   "metadata": {},
   "source": [
    "4. Calculer les valeurs propres du système discret et en déduire la stabilité"
   ]
  },
  {
   "cell_type": "markdown",
   "metadata": {},
   "source": [
    "Le calcul des valeurs propres se fait aisément:"
   ]
  },
  {
   "cell_type": "markdown",
   "metadata": {},
   "source": [
    "\\begin{align}\n",
    "  \\det (\\lambda \\mathbf{I} - \\mathbf{F}) &= \\left[ \\begin{array}{cc}\n",
    "    \\lambda - 0.9994 & -0.00545 \\\\\n",
    "    0.0839 & \\lambda - 0.2548\n",
    "  \\end{array} \\right] \\\\\n",
    "  &= (\\lambda - 0.9994) (\\lambda - 0.2548) + 0.0839 * 0.00545 \\\\\n",
    "  &= \\lambda^2 - 1.2542 \\lambda + 0.2551 \\\\\n",
    "  &\\Rightarrow \\left\\{ \\begin{array}{l}\n",
    "    \\lambda_1 = 0.9988 \\\\\n",
    "    \\lambda_2 = 0.2554\n",
    "  \\end{array} \\right.\n",
    "\\end{align}"
   ]
  },
  {
   "cell_type": "markdown",
   "metadata": {},
   "source": [
    "Les valeurs propres étant réelles, positives et inférieures à 1, la conclusion tirée est que le système échantillonné avec une cadence $h=0.01\\, \\mathrm{s}$ est asymptotiquement stable autour de ce point de fonctionnement pour un couple donné. De plus, la dynamique est asymptotique (non-oscillatoire) et ne possède pas de mode sonnette."
   ]
  },
  {
   "cell_type": "code",
   "execution_count": 23,
   "metadata": {},
   "outputs": [
    {
     "name": "stdout",
     "output_type": "stream",
     "text": [
      "[0.99887354 0.25548977]\n"
     ]
    }
   ],
   "source": [
    "print(np.linalg.eig(ar_lin_d.A)[0])"
   ]
  },
  {
   "cell_type": "markdown",
   "metadata": {},
   "source": [
    "---"
   ]
  },
  {
   "cell_type": "markdown",
   "metadata": {},
   "source": [
    "5. Vérifier la gouvernabilité du système et déterminer la forme canonique de gouvernabilité"
   ]
  },
  {
   "cell_type": "markdown",
   "metadata": {},
   "source": [
    "La gouvernabilité du système se vérifie par le rang de la matrice de gouvernabilité donnée par:"
   ]
  },
  {
   "cell_type": "markdown",
   "metadata": {},
   "source": [
    "\\begin{align}\n",
    "  \\mathscr{C} &= \\left[ \\begin{array}{cc}\n",
    "    \\mathbf{G} & \\mathbf{G} \\mathbf{F}\n",
    "  \\end{array} \\right] \\\\\n",
    "  &= \\left[ \\begin{array}{cc}\n",
    "    4.55*10^{-4} & 0.0008608 \\\\\n",
    "    0.0745 & 0.01894\n",
    "  \\end{array} \\right] \\\\\n",
    "\\end{align}"
   ]
  },
  {
   "cell_type": "markdown",
   "metadata": {},
   "source": [
    "Il ne reste qu'à vérifier si le rang de cette matrice vaut 2. Pour cela, il suffit de vérifier que son déterminant est différent de 0. Dans le cas contraire, le système n'est pas gouvernable. "
   ]
  },
  {
   "cell_type": "markdown",
   "metadata": {},
   "source": [
    "$$ \\det{\\mathscr{C}} = -5.551 * 10^{-5} \\neq 0 $$"
   ]
  },
  {
   "cell_type": "markdown",
   "metadata": {},
   "source": [
    "Le système est gouvernable."
   ]
  },
  {
   "cell_type": "code",
   "execution_count": 24,
   "metadata": {},
   "outputs": [
    {
     "name": "stdout",
     "output_type": "stream",
     "text": [
      "La matrice de gouvernabilité est: \n",
      "[[0.00045469 0.00086052]\n",
      " [0.07447764 0.01894438]]\n",
      "Le rang de la matrice C est 2\n"
     ]
    }
   ],
   "source": [
    "Com = control.ctrb(ar_lin_d.A, ar_lin_d.B)\n",
    "print('La matrice de gouvernabilité est: ')\n",
    "print(Com)\n",
    "print('Le rang de la matrice C est {}'.format(np.linalg.matrix_rank(Com)))"
   ]
  },
  {
   "cell_type": "markdown",
   "metadata": {},
   "source": [
    "Afin d'obtenir la forme canonique commandable, il faut d'abord déterminer la matrice de passage $\\mathbf{M}$ telle que $\\mathbf{x}(k) = \\mathbf{M}^{-1} \\mathbf{x}'(k)$."
   ]
  },
  {
   "cell_type": "markdown",
   "metadata": {},
   "source": [
    "\\begin{align}\n",
    "  \\mathbf{M} = \\left[ \\begin{array}{c}\n",
    "    \\mathbf{t}_n \\\\\n",
    "    \\mathbf{t}_n \\mathbf{F}\n",
    "  \\end{array} \\right] \\\\\n",
    "\\end{align}"
   ]
  },
  {
   "cell_type": "markdown",
   "metadata": {},
   "source": [
    "Dans cette expression, $\\mathbf{t}_n$ représente la dernière ligne de la matrice $\\mathscr{C}^{-1}$."
   ]
  },
  {
   "cell_type": "markdown",
   "metadata": {},
   "source": [
    "Les calculs étant assez longs, la suite est effectuée numériquement."
   ]
  },
  {
   "cell_type": "code",
   "execution_count": 25,
   "metadata": {},
   "outputs": [
    {
     "name": "stdout",
     "output_type": "stream",
     "text": [
      "A = [[ 7.93530848e-17  1.00000000e+00]\n",
      " [-2.55201972e-01  1.25436331e+00]]\n",
      "\n",
      "B = [[1.11022302e-16]\n",
      " [1.00000000e+00]]\n",
      "\n",
      "C = [[0.00029018 0.00045469]]\n",
      "\n",
      "D = [[0.]]\n",
      "\n",
      "dt = 0.01\n",
      "\n"
     ]
    }
   ],
   "source": [
    "tn = np.linalg.inv(Com)[-1].reshape(2, 1)\n",
    "M = np.concatenate((tn.T, tn.T @ ar_lin_d.A))\n",
    "\n",
    "M_inv = np.linalg.inv(M)\n",
    "F_com = M @ ar_lin_d.A @ M_inv\n",
    "G_com = M @ ar_lin_d.B\n",
    "C_com = ar_lin_d.C @ M_inv\n",
    "\n",
    "ar_lin_g = control.StateSpace(F_com, G_com, C_com, D, h)\n",
    "\n",
    "print(ar_lin_g)"
   ]
  },
  {
   "cell_type": "markdown",
   "metadata": {},
   "source": [
    "Le modèle d'état sous sa forme canonique gouvernable s'écrit finalement:"
   ]
  },
  {
   "cell_type": "markdown",
   "metadata": {},
   "source": [
    "$$\n",
    "\\left\\{ \\begin{array}{l}\n",
    "  \\mathbf{x}'(k+1) =\n",
    "  \\left[ \\begin{array}{cc}\n",
    "    0 & 1 \\\\\n",
    "    -0.2552 & 1.2544\n",
    "  \\end{array} \\right] \\mathbf{x}'(k) +\n",
    "  \\left[ \\begin{array}{c}\n",
    "    0 \\\\\n",
    "    1\n",
    "  \\end{array} \\right] u(k) \\\\\n",
    "  \\mathbf{y}(k) =\n",
    "  \\left[ \\begin{array}{cc}\n",
    "    0.00029 & 0.0004547\n",
    "  \\end{array} \\right] \\mathbf{x}'(k) +\n",
    "  \\left[ \\begin{array}{c}\n",
    "    0\n",
    "  \\end{array} \\right] u(k)\n",
    "\\end{array} \\right.\n",
    "$$"
   ]
  },
  {
   "cell_type": "code",
   "execution_count": 26,
   "metadata": {},
   "outputs": [
    {
     "name": "stdout",
     "output_type": "stream",
     "text": [
      "(A = [[ 1.25436331 -0.25520197]\n",
      " [ 1.          0.        ]]\n",
      "\n",
      "B = [[1.]\n",
      " [0.]]\n",
      "\n",
      "C = [[0.00045469 0.00029018]]\n",
      "\n",
      "D = [[0.]]\n",
      "\n",
      "dt = 0.01\n",
      ", matrix([[ 0.00000000e+00,  1.00000000e+00],\n",
      "        [ 1.00000000e+00, -1.11022302e-16]]))\n"
     ]
    }
   ],
   "source": [
    "print(control.canonical_form(ar_lin_g, 'reachable'))"
   ]
  },
  {
   "cell_type": "markdown",
   "metadata": {},
   "source": [
    "---"
   ]
  },
  {
   "cell_type": "markdown",
   "metadata": {},
   "source": [
    "6. Vérifier l'observabilité du système et déterminer la forme canonique d'observabilité"
   ]
  },
  {
   "cell_type": "markdown",
   "metadata": {},
   "source": [
    "L'observabilité du système se vérifie par le rang de la matrice d'observabilité donnée par:"
   ]
  },
  {
   "cell_type": "markdown",
   "metadata": {},
   "source": [
    "\\begin{align}\n",
    "  \\mathscr{O} &= \\left[ \\begin{array}{c}\n",
    "    \\mathbf{C} \\\\ \n",
    "    \\mathbf{F} \\mathbf{C}\n",
    "  \\end{array} \\right] \\\\\n",
    "  &= \\left[ \\begin{array}{cc}\n",
    "    1 & 0 \\\\\n",
    "    0.9994 & 0.00545\n",
    "  \\end{array} \\right] \\\\\n",
    "\\end{align}"
   ]
  },
  {
   "cell_type": "markdown",
   "metadata": {},
   "source": [
    "Il ne reste qu'à vérifier si le rang de cette matrice vaut 2. Pour cela, il suffit de vérifier que son déterminant est différent de 0. Dans le cas contraire, le système n'est pas observable. "
   ]
  },
  {
   "cell_type": "markdown",
   "metadata": {},
   "source": [
    "Il est facile de remarquer que la matrice carrée formée par $\\mathbf{C}$ possède un déterminant non nul. Le rang de la matrice $\\mathscr{O}$ est donc de 2. Le système est observable."
   ]
  },
  {
   "cell_type": "code",
   "execution_count": 27,
   "metadata": {},
   "outputs": [
    {
     "name": "stdout",
     "output_type": "stream",
     "text": [
      "La matrice d'observabilité est: \n",
      "[[1.         0.        ]\n",
      " [0.99948806 0.00545224]]\n",
      "Le rang de la matrice O est 2\n"
     ]
    }
   ],
   "source": [
    "Obs = control.obsv(ar_lin_d.A, ar_lin_d.C)\n",
    "print('La matrice d\\'observabilité est: ')\n",
    "print(Obs)\n",
    "print('Le rang de la matrice O est {}'.format(np.linalg.matrix_rank(Obs)))"
   ]
  },
  {
   "cell_type": "markdown",
   "metadata": {},
   "source": [
    "Afin d'obtenir la forme canonique commandable, il faut d'abord déterminer la matrice de passage $\\mathbf{P}$ telle que $\\mathbf{x}(k) = \\mathbf{P} \\mathbf{x}'(k)$."
   ]
  },
  {
   "cell_type": "markdown",
   "metadata": {},
   "source": [
    "\\begin{align}\n",
    "  \\mathbf{P} = \\left[ \\begin{array}{cccc}\n",
    "    \\mathbf{u}_n & \\mathbf{F} \\mathbf{u}_n \\\\\n",
    "  \\end{array} \\right]\n",
    "\\end{align}"
   ]
  },
  {
   "cell_type": "markdown",
   "metadata": {},
   "source": [
    "Dans cette expression, $\\mathbf{u}_n$ représente la dernière colonne de la matrice $\\mathscr{O}^{-1}$."
   ]
  },
  {
   "cell_type": "markdown",
   "metadata": {},
   "source": [
    "Les calculs étant assez longs, la suite est effectuée numériquement."
   ]
  },
  {
   "cell_type": "code",
   "execution_count": 28,
   "metadata": {},
   "outputs": [
    {
     "name": "stdout",
     "output_type": "stream",
     "text": [
      "A = [[ 3.99477108e-16 -2.55201972e-01]\n",
      " [ 1.00000000e+00  1.25436331e+00]]\n",
      "\n",
      "B = [[0.00029018]\n",
      " [0.00045469]]\n",
      "\n",
      "C = [[0. 1.]]\n",
      "\n",
      "D = [[0.]]\n",
      "\n",
      "dt = 0.01\n",
      "\n"
     ]
    }
   ],
   "source": [
    "un = np.linalg.inv(Obs)[:, -1]\n",
    "P = np.concatenate((un, ar_lin_d.A @ un), axis=1)\n",
    "\n",
    "P_inv = np.linalg.pinv(P)\n",
    "\n",
    "F_obs = P_inv @ ar_lin_d.A @ P\n",
    "G_obs = P_inv @ ar_lin_d.B\n",
    "C_obs = ar_lin_d.C @ P\n",
    "\n",
    "ar_lin_o = control.StateSpace(F_obs, G_obs, C_obs, np.array(0), h)\n",
    "\n",
    "print(ar_lin_o)"
   ]
  },
  {
   "cell_type": "markdown",
   "metadata": {},
   "source": [
    "Le modèle d'état sous sa forme canonique gouvernable s'écrit finalement:"
   ]
  },
  {
   "cell_type": "markdown",
   "metadata": {},
   "source": [
    "$$\n",
    "\\left\\{ \\begin{array}{l}\n",
    "  \\mathbf{x}'(k+1) =\n",
    "  \\left[ \\begin{array}{cc}\n",
    "    0 & -0.2552 \\\\\n",
    "    1 & 1.2544\n",
    "  \\end{array} \\right] \\mathbf{x}'(k) +\n",
    "  \\left[ \\begin{array}{c}\n",
    "    0.00029 \\\\\n",
    "    0.0004547\n",
    "  \\end{array} \\right] u(k) \\\\\n",
    "  \\mathbf{y}(k) =\n",
    "  \\left[ \\begin{array}{cc}\n",
    "    0 & 1\n",
    "  \\end{array} \\right] \\mathbf{x}'(k) +\n",
    "  \\left[ \\begin{array}{c}\n",
    "    0\n",
    "  \\end{array} \\right] u(k)\n",
    "\\end{array} \\right.\n",
    "$$"
   ]
  },
  {
   "cell_type": "code",
   "execution_count": 29,
   "metadata": {},
   "outputs": [
    {
     "name": "stdout",
     "output_type": "stream",
     "text": [
      "(A = [[ 1.25436331  1.        ]\n",
      " [-0.25520197  0.        ]]\n",
      "\n",
      "B = [[0.00045469]\n",
      " [0.00029018]]\n",
      "\n",
      "C = [[1. 0.]]\n",
      "\n",
      "D = [[0.]]\n",
      "\n",
      "dt = 0.01\n",
      ", matrix([[ 0.00029018,  0.00045469],\n",
      "        [-0.00048003,  0.00029018]]))\n"
     ]
    }
   ],
   "source": [
    "print(control.canonical_form(ar_lin_g, 'observable'))"
   ]
  }
 ],
 "metadata": {
  "kernelspec": {
   "display_name": "Python 3",
   "language": "python",
   "name": "python3"
  },
  "language_info": {
   "codemirror_mode": {
    "name": "ipython",
    "version": 3
   },
   "file_extension": ".py",
   "mimetype": "text/x-python",
   "name": "python",
   "nbconvert_exporter": "python",
   "pygments_lexer": "ipython3",
   "version": "3.7.3"
  }
 },
 "nbformat": 4,
 "nbformat_minor": 4
}
