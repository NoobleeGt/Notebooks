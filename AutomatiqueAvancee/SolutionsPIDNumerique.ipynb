{
 "cells": [
  {
   "cell_type": "markdown",
   "metadata": {},
   "source": [
    "# Solutions PID Numérique"
   ]
  },
  {
   "cell_type": "markdown",
   "metadata": {},
   "source": [
    "- Discrétiser un PI mixte"
   ]
  },
  {
   "cell_type": "markdown",
   "metadata": {},
   "source": [
    "La fonction de transfert d'un PI mixte est la suivante:"
   ]
  },
  {
   "cell_type": "markdown",
   "metadata": {},
   "source": [
    "$$ \\frac{U(s)}{E(s)} = K_p \\left( 1 + \\frac{1}{T_i s} \\right) $$"
   ]
  },
  {
   "cell_type": "markdown",
   "metadata": {},
   "source": [
    "Afin de gérer l'intégrale de manière indépendante, discrétisons les actions séparemment. Le PI mixte sera alors calculé ainsi:"
   ]
  },
  {
   "cell_type": "markdown",
   "metadata": {},
   "source": [
    "\\begin{align}\n",
    "  U_p(s) &= E(s) \\\\\n",
    "  U_i(s) &= \\frac{E(s)}{T_i s} \\\\\n",
    "  U(s) &= K_p (U_p(s) + U_i(s))\n",
    "\\end{align}"
   ]
  },
  {
   "cell_type": "markdown",
   "metadata": {},
   "source": [
    "La discrétisation de $U_p(s)$ donne:"
   ]
  },
  {
   "cell_type": "markdown",
   "metadata": {},
   "source": [
    "$$ u_p(k) = e(k) $$"
   ]
  },
  {
   "cell_type": "markdown",
   "metadata": {},
   "source": [
    "La discrétisation de $U_i(s)$ donne:"
   ]
  },
  {
   "cell_type": "markdown",
   "metadata": {},
   "source": [
    "\\begin{align}\n",
    "  U_i(s) &= \\frac{E(s)}{T_i s} \\\\\n",
    "  T_i s U_i(s) &= E(s) \\\\\n",
    "  T_i \\frac{du_i(t)}{dt} &= e(t) \\\\\n",
    "  T_i \\frac{u_i(k) - u_i(k-1)}{h} &= e(k) \\\\\n",
    "  u_i(k) &= \\frac{h}{T_i}e(k) + u_i(k-1)\n",
    "\\end{align}"
   ]
  },
  {
   "cell_type": "markdown",
   "metadata": {},
   "source": [
    "Le régulateur PI mixte devient alors:"
   ]
  },
  {
   "cell_type": "markdown",
   "metadata": {},
   "source": [
    "\\begin{align}\n",
    "  u(k) &= K_p ( u_p(k) + u_i(k) ) \\\\\n",
    "  &= K_p \\left( e(k) + \\frac{h}{T_i} e(k) + u_i(k-1) \\right)\n",
    "\\end{align}"
   ]
  },
  {
   "cell_type": "markdown",
   "metadata": {},
   "source": [
    "- Ecrire le pseudo code en gérant l'erreur d'intégration et l'anti-emballement"
   ]
  },
  {
   "cell_type": "markdown",
   "metadata": {},
   "source": [
    "L'équation aux différences précédentes peut engendrer des erreurs d'intégrations. En développant le termine $u_i(k-1)$, l'intégrale devient:"
   ]
  },
  {
   "cell_type": "markdown",
   "metadata": {},
   "source": [
    "\\begin{align}\n",
    "  u_i(k) &= \\frac{h}{T_i}e(k) + u_i(k-1) \\\\\n",
    "  u_i(k) &= \\frac{h}{T_i}e(k) + \\frac{h}{T_i}e(k-1) + u_i(k-2) \\\\\n",
    "  u_i(k) &= \\frac{h}{T_i}e(k) + \\frac{h}{T_i}e(k-1) + \\frac{h}{T_i}e(k-2) + u_i(k-3) \\\\\n",
    "  \\vdots \\\\\n",
    "  u_i(k) &= \\frac{h}{T_i}e(k) + \\frac{h}{T_i}e(k-1) + \\frac{h}{T_i}e(k-2) + \\dots + \\frac{h}{T_i}e(0)\n",
    "\\end{align}"
   ]
  },
  {
   "cell_type": "markdown",
   "metadata": {},
   "source": [
    "En mettant $\\frac{h}{T_i}$ en évidence, on obtient:"
   ]
  },
  {
   "cell_type": "markdown",
   "metadata": {},
   "source": [
    "$$ u_i(k) = \\frac{h}{T_i} ( e(k) + e(k-1) + e(k-2) + \\dots + e(0) ) $$"
   ]
  },
  {
   "cell_type": "markdown",
   "metadata": {},
   "source": [
    "Il est donc possible d'accumuler les erreurs dans une variable intermédiaire:"
   ]
  },
  {
   "cell_type": "markdown",
   "metadata": {},
   "source": [
    "\\begin{align}\n",
    "  i(k) &= i(k-1) + e(k) \\\\\n",
    "  u_i(k) &= \\frac{h}{T_i} i(k)\n",
    "\\end{align}"
   ]
  },
  {
   "cell_type": "markdown",
   "metadata": {},
   "source": [
    "Le pseudo code complet est alors:"
   ]
  },
  {
   "cell_type": "markdown",
   "metadata": {},
   "source": [
    "\\begin{align}\n",
    "  &e(k) = sp(k) - pv(k) \\\\\n",
    "  &i(k) = i(k-1) + e(k) \\\\\n",
    "  &u_i(k) = \\frac{h}{T_i} i(k) \\\\\n",
    "  &u(k) = K_p (u_p(k) + u_i(k)) \\\\\n",
    "  &\\text{si}\\, |u(k)| > \\mu: \\\\\n",
    "  &\\quad i(k) = i(k-1) \\\\\n",
    "  &\\quad u_i(k) = \\frac{h}{T_i} i(k) \\\\\n",
    "  &\\quad u(k) = K_p (u_p(k) + u_i(k))\n",
    "\\end{align}"
   ]
  },
  {
   "cell_type": "markdown",
   "metadata": {},
   "source": [
    "- Programmer le régulateur sur Arduino"
   ]
  },
  {
   "cell_type": "markdown",
   "metadata": {},
   "source": [
    "- Tester le régulateur"
   ]
  }
 ],
 "metadata": {
  "kernelspec": {
   "display_name": "Python 3",
   "language": "python",
   "name": "python3"
  },
  "language_info": {
   "codemirror_mode": {
    "name": "ipython",
    "version": 3
   },
   "file_extension": ".py",
   "mimetype": "text/x-python",
   "name": "python",
   "nbconvert_exporter": "python",
   "pygments_lexer": "ipython3",
   "version": "3.7.3"
  }
 },
 "nbformat": 4,
 "nbformat_minor": 4
}
