{
 "cells": [
  {
   "cell_type": "markdown",
   "metadata": {},
   "source": [
    "# Solutions PID Numérique"
   ]
  },
  {
   "cell_type": "markdown",
   "metadata": {},
   "source": [
    "- Discrétiser un PI mixte"
   ]
  },
  {
   "cell_type": "markdown",
   "metadata": {},
   "source": [
    "La fonction de transfert d'un PI mixte est la suivante:"
   ]
  },
  {
   "cell_type": "markdown",
   "metadata": {},
   "source": [
    "$$ \\frac{U(s)}{E(s)} = K_p \\left( 1 + \\frac{1}{T_i s} \\right) $$"
   ]
  },
  {
   "cell_type": "markdown",
   "metadata": {},
   "source": [
    "Afin de gérer l'intégrale de manière indépendante, discrétisons les actions séparemment. Le PI mixte sera alors calculé ainsi:"
   ]
  },
  {
   "cell_type": "markdown",
   "metadata": {},
   "source": [
    "\\begin{align}\n",
    "  U_p(s) &= E(s) \\\\\n",
    "  U_i(s) &= \\frac{E(s)}{T_i s} \\\\\n",
    "  U(s) &= K_p (U_p(s) + U_i(s))\n",
    "\\end{align}"
   ]
  },
  {
   "cell_type": "markdown",
   "metadata": {},
   "source": [
    "La discrétisation de $U_p(s)$ donne:"
   ]
  },
  {
   "cell_type": "markdown",
   "metadata": {},
   "source": [
    "$$ u_p(k) = e(k) $$"
   ]
  },
  {
   "cell_type": "markdown",
   "metadata": {},
   "source": [
    "La discrétisation de $U_i(s)$ donne:"
   ]
  },
  {
   "cell_type": "markdown",
   "metadata": {},
   "source": [
    "\\begin{align}\n",
    "  U_i(s) &= \\frac{E(s)}{T_i s} \\\\\n",
    "  T_i s U_i(s) &= E(s) \\\\\n",
    "  T_i \\frac{du_i(t)}{dt} &= e(t) \\\\\n",
    "  T_i \\frac{u_i(k) - u_i(k-1)}{h} &= e(k) \\\\\n",
    "  u_i(k) &= \\frac{h}{T_i}e(k) + u_i(k-1)\n",
    "\\end{align}"
   ]
  },
  {
   "cell_type": "markdown",
   "metadata": {},
   "source": [
    "Le régulateur PI mixte devient alors:"
   ]
  },
  {
   "cell_type": "markdown",
   "metadata": {},
   "source": [
    "\\begin{align}\n",
    "  u(k) &= K_p ( u_p(k) + u_i(k) ) \\\\\n",
    "  &= K_p \\left( e(k) + \\frac{h}{T_i} e(k) + u_i(k-1) \\right)\n",
    "\\end{align}"
   ]
  },
  {
   "cell_type": "markdown",
   "metadata": {},
   "source": [
    "- Ecrire le pseudo code en gérant l'erreur d'intégration et l'anti-emballement"
   ]
  },
  {
   "cell_type": "markdown",
   "metadata": {},
   "source": [
    "L'équation aux différences précédentes peut engendrer des erreurs d'intégrations. En développant le termine $u_i(k-1)$, l'intégrale devient:"
   ]
  },
  {
   "cell_type": "markdown",
   "metadata": {},
   "source": [
    "\\begin{align}\n",
    "  u_i(k) &= \\frac{h}{T_i}e(k) + u_i(k-1) \\\\\n",
    "  u_i(k) &= \\frac{h}{T_i}e(k) + \\frac{h}{T_i}e(k-1) + u_i(k-2) \\\\\n",
    "  u_i(k) &= \\frac{h}{T_i}e(k) + \\frac{h}{T_i}e(k-1) + \\frac{h}{T_i}e(k-2) + u_i(k-3) \\\\\n",
    "  \\vdots \\\\\n",
    "  u_i(k) &= \\frac{h}{T_i}e(k) + \\frac{h}{T_i}e(k-1) + \\frac{h}{T_i}e(k-2) + \\dots + \\frac{h}{T_i}e(0)\n",
    "\\end{align}"
   ]
  },
  {
   "cell_type": "markdown",
   "metadata": {},
   "source": [
    "En mettant $\\frac{h}{T_i}$ en évidence, on obtient:"
   ]
  },
  {
   "cell_type": "markdown",
   "metadata": {},
   "source": [
    "$$ u_i(k) = \\frac{h}{T_i} ( e(k) + e(k-1) + e(k-2) + \\dots + e(0) ) $$"
   ]
  },
  {
   "cell_type": "markdown",
   "metadata": {},
   "source": [
    "Il est donc possible d'accumuler les erreurs dans une variable intermédiaire:"
   ]
  },
  {
   "cell_type": "markdown",
   "metadata": {},
   "source": [
    "\\begin{align}\n",
    "  i(k) &= i(k-1) + e(k) \\\\\n",
    "  u_i(k) &= \\frac{h}{T_i} i(k)\n",
    "\\end{align}"
   ]
  },
  {
   "cell_type": "markdown",
   "metadata": {},
   "source": [
    "Le pseudo code complet est alors:"
   ]
  },
  {
   "cell_type": "markdown",
   "metadata": {},
   "source": [
    "\\begin{align}\n",
    "  &e(k) = sp(k) - pv(k) \\\\\n",
    "  &i(k) = i(k-1) + e(k) \\\\\n",
    "  &u_i(k) = \\frac{h}{T_i} i(k) \\\\\n",
    "  &u(k) = K_p (u_p(k) + u_i(k)) \\\\\n",
    "  &\\text{si}\\, |u(k)| > \\mu: \\\\\n",
    "  &\\quad i(k) = i(k-1) \\\\\n",
    "  &\\quad u_i(k) = \\frac{h}{T_i} i(k) \\\\\n",
    "  &\\quad u(k) = K_p (u_p(k) + u_i(k))\n",
    "\\end{align}"
   ]
  },
  {
   "cell_type": "markdown",
   "metadata": {},
   "source": [
    "- Programmer le régulateur sur Arduino"
   ]
  },
  {
   "cell_type": "markdown",
   "metadata": {},
   "source": [
    "Le code se trouve dans le sketch \"moteur.ino\"."
   ]
  },
  {
   "cell_type": "markdown",
   "metadata": {},
   "source": [
    "- Tester le régulateur"
   ]
  },
  {
   "cell_type": "markdown",
   "metadata": {},
   "source": [
    "En appliquant le régulateur, on obtient le résultat suivant:"
   ]
  },
  {
   "cell_type": "code",
   "execution_count": 1,
   "metadata": {},
   "outputs": [],
   "source": [
    "%matplotlib inline\n",
    "import matplotlib.pyplot as plt\n",
    "plt.style.use('../my_params.mplstyle')"
   ]
  },
  {
   "cell_type": "code",
   "execution_count": 9,
   "metadata": {},
   "outputs": [],
   "source": [
    "t = []\n",
    "pv = []\n",
    "\n",
    "with open('./Moteur/vitesse_bf_convert.csv', 'r') as isf:\n",
    "    for line in isf:\n",
    "        line_list = line[:-1].split(',')\n",
    "        t.append(float(line_list[0]))\n",
    "        pv.append(float(line_list[2]))\n",
    "\n",
    "sp = [200 * 5 / 1023 if t_i < 0.21 else 512 * 5 / 1023 for t_i in t]"
   ]
  },
  {
   "cell_type": "code",
   "execution_count": 11,
   "metadata": {},
   "outputs": [
    {
     "data": {
      "image/png": "[encoded data removed]",
      "text/plain": [
       "<Figure size 600x375 with 1 Axes>"
      ]
     },
     "metadata": {
      "needs_background": "light"
     },
     "output_type": "display_data"
    }
   ],
   "source": [
    "fig, ax = plt.subplots()\n",
    "ax.plot(t, sp, label='SP')\n",
    "ax.plot(t, pv, label='PV')\n",
    "ax.set_title('Motor control using PI on Arduino')\n",
    "ax.set_xlabel('time [s]')\n",
    "ax.set_ylabel('Speed [V]')\n",
    "ax.legend()\n",
    "ax.grid(True, which='both')"
   ]
  },
  {
   "cell_type": "markdown",
   "metadata": {},
   "source": [
    "Malheureusement, l'oscilloscope n'a pas enregistré suffisamment de points pour pouvoir visualiser correctement SP et MV."
   ]
  }
 ],
 "metadata": {
  "kernelspec": {
   "display_name": "Python 3",
   "language": "python",
   "name": "python3"
  },
  "language_info": {
   "codemirror_mode": {
    "name": "ipython",
    "version": 3
   },
   "file_extension": ".py",
   "mimetype": "text/x-python",
   "name": "python",
   "nbconvert_exporter": "python",
   "pygments_lexer": "ipython3",
   "version": "3.7.3"
  }
 },
 "nbformat": 4,
 "nbformat_minor": 4
}
