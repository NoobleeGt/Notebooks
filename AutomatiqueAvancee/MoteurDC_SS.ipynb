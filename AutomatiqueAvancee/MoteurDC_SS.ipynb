{
 "cells": [
  {
   "cell_type": "markdown",
   "metadata": {},
   "source": [
    "# Moteur DC"
   ]
  },
  {
   "cell_type": "markdown",
   "metadata": {},
   "source": [
    "Soit le moteur DC de fonction de transfert:"
   ]
  },
  {
   "cell_type": "markdown",
   "metadata": {},
   "source": [
    "$$ H(s) = \\frac{0.92}{0.3s + 1} \\frac{1.658}{s} $$"
   ]
  },
  {
   "cell_type": "markdown",
   "metadata": {},
   "source": [
    "On demande ce qui suit:\n",
    "\n",
    "1. Déterminer le modèle d'état échantillonné pour $h=10\\, \\mathrm{ms}$ avec $y$ la position angulaire du moteur\n",
    "2. Vérifier la stabilité du système échantillonné\n",
    "3. Vérifier si le système est commandable et transformer le modèle sous la forme canonique commandable\n",
    "4. Vérifier si le système est observable et transformer le modèle sous la forme canonique observable"
   ]
  },
  {
   "cell_type": "markdown",
   "metadata": {},
   "source": [
    "---"
   ]
  },
  {
   "cell_type": "code",
   "execution_count": 1,
   "metadata": {},
   "outputs": [],
   "source": [
    "%matplotlib inline\n",
    "import matplotlib.pyplot as plt\n",
    "plt.style.use('../my_params.mplstyle')\n",
    "\n",
    "import numpy as np\n",
    "import scipy.integrate as spint\n",
    "import control"
   ]
  },
  {
   "cell_type": "markdown",
   "metadata": {},
   "source": [
    "1. Déterminer le modèle d'état échantillonné pour $h=10\\, \\mathrm{ms}$"
   ]
  },
  {
   "cell_type": "markdown",
   "metadata": {},
   "source": [
    "L'équation différentielle est obtenue à partir de la fonction de transfert:"
   ]
  },
  {
   "cell_type": "markdown",
   "metadata": {},
   "source": [
    "\\begin{align}\n",
    "  \\Theta(s) \\left(0.3 s^2 + s \\right) &= 1.52536\\; U(s) \\\\\n",
    "  0.3 \\frac{d^2\\theta(t)}{dt^2} + \\frac{d\\theta(t)}{dt} &= 1.52536\\; u(t) \\\\\n",
    "  \\frac{d^2\\theta(t)}{dt^2} &= - 3.33333\\; \\frac{d\\theta(t)}{dt} + 5.0845\\; u(t)\n",
    "\\end{align}"
   ]
  },
  {
   "cell_type": "markdown",
   "metadata": {},
   "source": [
    "Le modèle d'état analogique obtenu est alors:"
   ]
  },
  {
   "cell_type": "markdown",
   "metadata": {},
   "source": [
    "$$\n",
    "  \\left\\{ \\begin{array}{l}\n",
    "    \\left[ \\begin{array}{c}\n",
    "      \\dot{x}_1 \\\\\n",
    "      \\dot{x}_2 \n",
    "    \\end{array} \\right] = \\left[ \\begin{array}{cc}\n",
    "      0 & 1 \\\\\n",
    "      0 & -3.33333 \n",
    "    \\end{array} \\right] \\left[ \\begin{array}{c}\n",
    "      x_1 \\\\\n",
    "      x_2\n",
    "    \\end{array} \\right] + \\left[ \\begin{array}{c}\n",
    "      0 \\\\\n",
    "      5.0845\n",
    "    \\end{array} \\right] u \\\\\n",
    "    y = \\left[ \\begin{array}{cc}\n",
    "      1 & 0\n",
    "    \\end{array} \\right] \\left[ \\begin{array}{c}\n",
    "      x_1 \\\\\n",
    "      x_2\n",
    "    \\end{array} \\right] + 0\\; u\n",
    "  \\end{array} \\right.\n",
    "$$"
   ]
  },
  {
   "cell_type": "markdown",
   "metadata": {},
   "source": [
    "A partir de cette expression, le reste peut être effectué numériquement:"
   ]
  },
  {
   "cell_type": "code",
   "execution_count": 2,
   "metadata": {},
   "outputs": [
    {
     "name": "stdout",
     "output_type": "stream",
     "text": [
      "A = [[1.         0.00983517]\n",
      " [0.         0.96721613]]\n",
      "\n",
      "B = [[0.00025142]\n",
      " [0.05000692]]\n",
      "\n",
      "C = [[1. 0.]]\n",
      "\n",
      "D = [[0.]]\n",
      "\n",
      "dt = 0.01\n",
      "\n"
     ]
    }
   ],
   "source": [
    "A = np.array([[0, 1], [0, -3.33333]])\n",
    "B = np.array([[0], [5.0845]])\n",
    "C = np.array([1, 0])\n",
    "D = 0\n",
    "\n",
    "h = 0.01\n",
    "\n",
    "motor_ss = control.ss(A, B, C, D)\n",
    "motor_ss_d = control.c2d(motor_ss, h)\n",
    "\n",
    "print(motor_ss_d)"
   ]
  },
  {
   "cell_type": "markdown",
   "metadata": {},
   "source": [
    "#### Remarque:"
   ]
  },
  {
   "cell_type": "markdown",
   "metadata": {},
   "source": [
    "Il est possible en général de faire calculer un modèle d'état directement à partir d'une fonction de transfert:"
   ]
  },
  {
   "cell_type": "code",
   "execution_count": 3,
   "metadata": {},
   "outputs": [
    {
     "name": "stdout",
     "output_type": "stream",
     "text": [
      "A = [[-3.33333333 -0.        ]\n",
      " [ 1.          0.        ]]\n",
      "\n",
      "B = [[1.]\n",
      " [0.]]\n",
      "\n",
      "C = [[0.         5.08453333]]\n",
      "\n",
      "D = [[0.]]\n",
      "\n"
     ]
    }
   ],
   "source": [
    "print(control.tf2ss(1.52536, [0.3, 1, 0]))"
   ]
  },
  {
   "cell_type": "markdown",
   "metadata": {},
   "source": [
    "On retrouve une description équivalente à celle déterminée à la main."
   ]
  },
  {
   "cell_type": "markdown",
   "metadata": {},
   "source": [
    "---"
   ]
  },
  {
   "cell_type": "markdown",
   "metadata": {},
   "source": [
    "2. Vérifier la stabilité du système échantillonné"
   ]
  },
  {
   "cell_type": "markdown",
   "metadata": {},
   "source": [
    "Il suffit pour cela de calculer et analyser les valeurs propres de la matrice $\\mathbf{F}$:"
   ]
  },
  {
   "cell_type": "code",
   "execution_count": 4,
   "metadata": {},
   "outputs": [
    {
     "name": "stdout",
     "output_type": "stream",
     "text": [
      "[1.         0.96721613]\n"
     ]
    }
   ],
   "source": [
    "print(np.linalg.eig(motor_ss_d.A)[0])"
   ]
  },
  {
   "cell_type": "markdown",
   "metadata": {},
   "source": [
    "Les 2 pôles étant réels positifs, il n'y a pas de mode sonnette ni d'oscillations. Par contre, le système possède bien une intégration et un pôle asymptotiquement stable. Un état est donc stable et l'autre à la limite de stabilité."
   ]
  },
  {
   "cell_type": "markdown",
   "metadata": {},
   "source": [
    "---"
   ]
  },
  {
   "cell_type": "markdown",
   "metadata": {},
   "source": [
    "3. Vérifier si le système est commandable et transformer le modèle sous la forme canonique commandable"
   ]
  },
  {
   "cell_type": "markdown",
   "metadata": {},
   "source": [
    "Calculons la matrice de gouvernabilité:"
   ]
  },
  {
   "cell_type": "code",
   "execution_count": 5,
   "metadata": {},
   "outputs": [
    {
     "name": "stdout",
     "output_type": "stream",
     "text": [
      "Le système est gouvernable\n"
     ]
    }
   ],
   "source": [
    "Com = control.ctrb(motor_ss_d.A, motor_ss_d.B)\n",
    "print('Le système est gouvernable' if np.linalg.matrix_rank(Com) == 2 else 'Le système n\\'est pas gouvernable')"
   ]
  },
  {
   "cell_type": "code",
   "execution_count": 6,
   "metadata": {},
   "outputs": [
    {
     "name": "stdout",
     "output_type": "stream",
     "text": [
      "(A = [[ 1.96721613 -0.96721613]\n",
      " [ 1.          0.        ]]\n",
      "\n",
      "B = [[1.]\n",
      " [0.]]\n",
      "\n",
      "C = [[0.00025142 0.00024865]]\n",
      "\n",
      "D = [[0.]]\n",
      "\n",
      "dt = 0.01\n",
      ", matrix([[1999.72315998,    9.94306902],\n",
      "        [1999.72315998,  -10.05416258]]))\n"
     ]
    }
   ],
   "source": [
    "motor_ss_d_g = control.canonical_form(motor_ss_d, 'reachable')\n",
    "print(motor_ss_d_g)"
   ]
  },
  {
   "cell_type": "markdown",
   "metadata": {},
   "source": [
    "---"
   ]
  },
  {
   "cell_type": "markdown",
   "metadata": {},
   "source": [
    "4. Vérifier si le système est observable et transformer le modèle sous la forme canonique observable"
   ]
  },
  {
   "cell_type": "markdown",
   "metadata": {},
   "source": [
    "Calculons la matrice d'observabilité:"
   ]
  },
  {
   "cell_type": "code",
   "execution_count": 7,
   "metadata": {},
   "outputs": [
    {
     "name": "stdout",
     "output_type": "stream",
     "text": [
      "Le système est observable\n"
     ]
    }
   ],
   "source": [
    "Obs = control.obsv(motor_ss_d.A, motor_ss_d.C)\n",
    "print('Le système est observable' if np.linalg.matrix_rank(Obs) == 2 else 'Le système n\\'est pas observable')"
   ]
  },
  {
   "cell_type": "code",
   "execution_count": 8,
   "metadata": {},
   "outputs": [
    {
     "name": "stdout",
     "output_type": "stream",
     "text": [
      "(A = [[ 1.96721613  1.        ]\n",
      " [-0.96721613  0.        ]]\n",
      "\n",
      "B = [[0.00025142]\n",
      " [0.00024865]]\n",
      "\n",
      "C = [[1. 0.]]\n",
      "\n",
      "D = [[0.]]\n",
      "\n",
      "dt = 0.01\n",
      ", matrix([[ 1.        ,  0.        ],\n",
      "        [-0.96721613,  0.00983517]]))\n"
     ]
    }
   ],
   "source": [
    "motor_ss_d_g = control.canonical_form(motor_ss_d, 'observable')\n",
    "print(motor_ss_d_g)"
   ]
  }
 ],
 "metadata": {
  "kernelspec": {
   "display_name": "Python 3",
   "language": "python",
   "name": "python3"
  },
  "language_info": {
   "codemirror_mode": {
    "name": "ipython",
    "version": 3
   },
   "file_extension": ".py",
   "mimetype": "text/x-python",
   "name": "python",
   "nbconvert_exporter": "python",
   "pygments_lexer": "ipython3",
   "version": "3.7.3"
  }
 },
 "nbformat": 4,
 "nbformat_minor": 4
}
