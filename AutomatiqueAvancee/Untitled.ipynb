{
 "cells": [
  {
   "cell_type": "markdown",
   "metadata": {},
   "source": [
    "# Articulation Robot"
   ]
  },
  {
   "cell_type": "markdown",
   "metadata": {},
   "source": [
    "Soit une articulation robotique représentée ci-dessous:"
   ]
  },
  {
   "cell_type": "markdown",
   "metadata": {},
   "source": [
    "<img src=\"\" alt=\"Image articulation\" width=600>"
   ]
  },
  {
   "cell_type": "markdown",
   "metadata": {},
   "source": [
    "L'articulation est motorisée en son axe de rotation et possède un frottement au sein de l'articulation. Le coefficient de frottement vaut $b=10$."
   ]
  },
  {
   "cell_type": "markdown",
   "metadata": {},
   "source": [
    "On demande ce qui suit:\n",
    "\n",
    "1. Etablir le modèle d'état non-linéaire du système\n",
    "2. Linéariser le modèle autour du point de fonctionnement $\\theta=45\\, ^\\circ$ et $\\dot{\\theta}=0\\, \\mathrm{rad/s}$\n",
    "3. Discrétiser le système avec une période d'échantillonnage $h=10\\, \\mathrm{ms}$\n",
    "4. Calculer les valeurs propres du système discret et en déduire la stabilité\n",
    "5. Vérifier la gouvernabilité du système et de déterminer la forme canonique de gouvernabilité\n",
    "6. Vérifier l'observabilité du système et de déterminer la forme canonique d'observabilité"
   ]
  },
  {
   "cell_type": "markdown",
   "metadata": {},
   "source": [
    "---"
   ]
  },
  {
   "cell_type": "code",
   "execution_count": 4,
   "metadata": {},
   "outputs": [],
   "source": [
    "%matplotlib inline\n",
    "import matplotlib.pyplot as plt\n",
    "plt.style.use('../my_params.mplstyle')\n",
    "\n",
    "import numpy as np\n",
    "import scipy.integrate as spint\n",
    "import control"
   ]
  },
  {
   "cell_type": "markdown",
   "metadata": {},
   "source": [
    "1. Etablir le modèle d'état non-linéaire du système"
   ]
  },
  {
   "cell_type": "markdown",
   "metadata": {},
   "source": [
    "L'équation différentielle est obtenue aisément:"
   ]
  },
  {
   "cell_type": "markdown",
   "metadata": {},
   "source": [
    "$$ J\\frac{d\\omega}{dt} = C - b\\omega - mgl\\sin{\\theta} $$"
   ]
  },
  {
   "cell_type": "markdown",
   "metadata": {},
   "source": [
    "En choisissant $x_1=\\theta$, $x_2=\\omega$, $u=C$, $y_1=\\theta$ et $y_2=\\omega$, on a:"
   ]
  },
  {
   "cell_type": "markdown",
   "metadata": {},
   "source": [
    "$$ \n",
    "\\left\\{ \\begin{array}{l}\n",
    "  \\dot{x}_1 = x_2 \\\\\n",
    "  \\dot{x}_2 = -\\dfrac{mgl}{J} \\sin{x_1} - \\dfrac{b}{J}x_2 + \\dfrac{1}{J}u \\\\\n",
    "  y_1 = x_1 \\\\\n",
    "  y_2 = x_2 \\\\\n",
    "\\end{array} \\right. \n",
    "$$"
   ]
  },
  {
   "cell_type": "markdown",
   "metadata": {},
   "source": [
    "Le code suivant permet de simuler l'articulation pour un couple donné:"
   ]
  },
  {
   "cell_type": "code",
   "execution_count": 41,
   "metadata": {},
   "outputs": [],
   "source": [
    "class Articulation:\n",
    "    def __init__(self, m, l, b):\n",
    "        self.m = m\n",
    "        self.l = l\n",
    "        self.b = b\n",
    "        \n",
    "        self.J = m * l ** 2\n",
    "\n",
    "    def x_prime(self, t, x, u):\n",
    "        dx1_dt = x[1]\n",
    "        dx2_dt = (-self.m * self.l * 9.81 * np.sin(x[0]) - self.b * x[1] + u) / self.J \n",
    "\n",
    "        return [dx1_dt, dx2_dt]"
   ]
  },
  {
   "cell_type": "code",
   "execution_count": 71,
   "metadata": {},
   "outputs": [],
   "source": [
    "artic_robot = Articulation(0.36, 0.451, 10)\n",
    "\n",
    "t_span = (0, 50)\n",
    "x_init = [0, 0]\n",
    "\n",
    "t_eval = np.linspace(t_span[0], t_span[1], 10001)\n",
    "\n",
    "u = 1.12"
   ]
  },
  {
   "cell_type": "code",
   "execution_count": 72,
   "metadata": {},
   "outputs": [],
   "source": [
    "sol = spint.solve_ivp(artic_robot.x_prime, t_span, x_init, t_eval=t_eval, args=(u,))"
   ]
  },
  {
   "cell_type": "code",
   "execution_count": 75,
   "metadata": {},
   "outputs": [
    {
     "data": {
      "text/plain": [
       "[<matplotlib.lines.Line2D at 0x7f3fbf3ed160>]"
      ]
     },
     "execution_count": 75,
     "metadata": {},
     "output_type": "execute_result"
    },
    {
     "data": {
      "image/png": "[encoded data removed]",
      "text/plain": [
       "<Figure size 600x375 with 2 Axes>"
      ]
     },
     "metadata": {
      "needs_background": "light"
     },
     "output_type": "display_data"
    }
   ],
   "source": [
    "fig, axs = plt.subplots(2, 1, constrained_layout=True)\n",
    "axs[0].plot(sol.t, sol.y[0] * 180 / np.pi)\n",
    "axs[1].plot(sol.t, sol.y[1])"
   ]
  },
  {
   "cell_type": "markdown",
   "metadata": {},
   "source": [
    "---"
   ]
  },
  {
   "cell_type": "markdown",
   "metadata": {},
   "source": [
    "2. Linéariser le modèle autour du point de fonctionnement $\\theta=45\\, ^\\circ$ et $\\dot{\\theta}=0\\, \\mathrm{rad/s}$"
   ]
  },
  {
   "cell_type": "markdown",
   "metadata": {},
   "source": [
    "En appliquant la linéarisation, on obtient les dérivées partielles suivantes:"
   ]
  },
  {
   "cell_type": "markdown",
   "metadata": {},
   "source": [
    "\\begin{align}\n",
    "  &\\frac{\\partial f_1}{\\partial x_1} = 0 \\qquad \\frac{\\partial f_1}{\\partial x_2} = 1 \\qquad \\frac{\\partial f_1}{\\partial u} = 0 \\\\\n",
    "  &\\frac{\\partial f_2}{\\partial x_1} = -\\frac{mgl}{J} \\cos{\\bar{x}_1} \\qquad \\frac{\\partial f_2}{\\partial x_2} = -\\frac{b}{J} \\qquad \\frac{\\partial f_2}{\\partial u} = \\frac{1}{J} \\\\\n",
    "  &\\frac{\\partial g_1}{\\partial x_1} = 1 \\qquad \\frac{\\partial g_1}{\\partial x_2} = 0 \\qquad \\frac{\\partial g_1}{\\partial u} = 0 \\\\\n",
    "  &\\frac{\\partial g_2}{\\partial x_1} = 0 \\qquad \\frac{\\partial g_2}{\\partial x_2} = 1 \\qquad \\frac{\\partial g_2}{\\partial u} = 0 \\\\\n",
    "\\end{align}"
   ]
  },
  {
   "cell_type": "markdown",
   "metadata": {},
   "source": [
    "On obtient alors le modèle d'état continu linéaire suivant:"
   ]
  },
  {
   "cell_type": "markdown",
   "metadata": {},
   "source": [
    "$$\n",
    "\\left\\{ \\begin{array}{l}\n",
    "  \\dot{\\mathbf{x}} =\n",
    "  \\left[ \\begin{array}{cc}\n",
    "    0 & 1 \\\\\n",
    "    -15.38 & -136.57 \\\\\n",
    "  \\end{array} \\right] \\mathbf{x} +\n",
    "  \\left[ \\begin{array}{c}\n",
    "    0 \\\\\n",
    "    0.1 \\\\\n",
    "  \\end{array} \\right] u \\\\\n",
    "  \\mathbf{y} =\n",
    "  \\left[ \\begin{array}{cc}\n",
    "    1 & 0 \\\\\n",
    "    0 & 1 \\\\\n",
    "  \\end{array} \\right] \\mathbf{x} +\n",
    "  \\left[ \\begin{array}{c}\n",
    "    0 \\\\\n",
    "    0 \\\\\n",
    "  \\end{array} \\right] u\n",
    "\\end{array} \\right.\n",
    "$$"
   ]
  },
  {
   "cell_type": "markdown",
   "metadata": {},
   "source": [
    "3. Discrétiser le système avec une période d'échantillonnage $h=10\\, \\mathrm{ms}$"
   ]
  },
  {
   "cell_type": "markdown",
   "metadata": {},
   "source": [
    "4. Calculer les valeurs propres du système discret et en déduire la stabilité"
   ]
  },
  {
   "cell_type": "markdown",
   "metadata": {},
   "source": [
    "5. Vérifier la gouvernabilité du système et de déterminer la forme canonique de gouvernabilité"
   ]
  },
  {
   "cell_type": "markdown",
   "metadata": {},
   "source": [
    "6. Vérifier l'observabilité du système et de déterminer la forme canonique d'observabilité"
   ]
  }
 ],
 "metadata": {
  "kernelspec": {
   "display_name": "Python 3",
   "language": "python",
   "name": "python3"
  },
  "language_info": {
   "codemirror_mode": {
    "name": "ipython",
    "version": 3
   },
   "file_extension": ".py",
   "mimetype": "text/x-python",
   "name": "python",
   "nbconvert_exporter": "python",
   "pygments_lexer": "ipython3",
   "version": "3.7.3"
  }
 },
 "nbformat": 4,
 "nbformat_minor": 4
}
