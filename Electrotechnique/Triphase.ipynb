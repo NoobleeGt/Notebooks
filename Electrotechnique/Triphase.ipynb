{
 "cells": [
  {
   "cell_type": "markdown",
   "metadata": {},
   "source": [
    "# Mesures en triphasé équilibré"
   ]
  },
  {
   "cell_type": "markdown",
   "metadata": {},
   "source": [
    "## Rappel monophasé"
   ]
  },
  {
   "cell_type": "markdown",
   "metadata": {},
   "source": [
    "Un circuit électrique monophasé simple peut être schématisé ainsi:"
   ]
  },
  {
   "cell_type": "markdown",
   "metadata": {},
   "source": [
    "<img src=\"Images/Triphase/circuit_mono.png\" alt=\"Circuit électrique monophasé\" width=\"400\">"
   ]
  },
  {
   "cell_type": "markdown",
   "metadata": {},
   "source": [
    "Dans ce schéma, on retrouve:\n",
    "\n",
    "- la source de tension U\n",
    "- une impédance Z\n",
    "- un ampèremètre pour la mesure du courant I\n",
    "- un voltmètre pour la mesure de la tension U\n",
    "- un wattmètre pour la mesure de puissance active W"
   ]
  },
  {
   "cell_type": "markdown",
   "metadata": {},
   "source": [
    "La tension alternative est décrite par $u(t)=U_{max}\\sin (\\omega t + \\varphi)$. La valeur efficace de la tension, notée $U_{eff}$ ou simplement $U$, est donnée par $U=\\frac{U_{max}}{\\sqrt{2}}$."
   ]
  },
  {
   "cell_type": "markdown",
   "metadata": {},
   "source": [
    "Le courant alternatif est défini de la même manière que la tension."
   ]
  },
  {
   "cell_type": "markdown",
   "metadata": {},
   "source": [
    "L'impédance est définie par la loi d'Ohm généralisée $U=Z*I$, où $Z$ est un nombre complexe défini par $Z=R+jX$."
   ]
  },
  {
   "cell_type": "markdown",
   "metadata": {},
   "source": [
    "Enfin, il existe 3 puissances en alternatif, définies ainsi:\n",
    "\n",
    "- la puissance apparente: $S=U*I\\; \\mathrm{[VA]}$\n",
    "- la puissance active: $P=U*I*\\cos(\\varphi)\\; \\mathrm{[W]}$\n",
    "- la puissance réactive: $Q=U*I*\\sin(\\varphi)\\; \\mathrm{[VAR]}$"
   ]
  },
  {
   "cell_type": "markdown",
   "metadata": {},
   "source": [
    "## Triphasé"
   ]
  },
  {
   "cell_type": "markdown",
   "metadata": {},
   "source": [
    "### Source triphasée"
   ]
  },
  {
   "cell_type": "markdown",
   "metadata": {},
   "source": [
    "Une source triphasée est composée de 3 source monophasées câblées soit en étoile, soit en triangle, comme sur la figure suivante:"
   ]
  },
  {
   "cell_type": "markdown",
   "metadata": {},
   "source": [
    "<img src=\"Images/Triphase/source_triphase.png\" alt=\"Source triphasée équilibrée\" width=\"700\">"
   ]
  },
  {
   "cell_type": "markdown",
   "metadata": {},
   "source": [
    "Les tensions sont définies par les équations suivantes:\n",
    "\n",
    "\\begin{align}\n",
    "  u_1(t) &= U_{max}\\sin(\\omega t) \\\\\n",
    "  u_2(t) &= U_{max}\\sin(\\omega t + \\frac{2\\pi}{3}) \\\\\n",
    "  u_3(t) &= U_{max}\\sin(\\omega t - \\frac{2\\pi}{3})\n",
    "\\end{align}"
   ]
  },
  {
   "cell_type": "markdown",
   "metadata": {},
   "source": [
    "Lorsque les 3 tensions sont égales et déphasées de $\\frac{2\\pi}{3}$ les unes par rapport aux autres, on dit que la source est équilibrée. Si l'une de ces 2 conditions n'est pas respectée, la source est dite déséquilibrée."
   ]
  },
  {
   "cell_type": "markdown",
   "metadata": {},
   "source": [
    "Sur la figure, on aperçoit que la source en étoile possède 3 fils (3 lignes + 1 neutre), alors que la source en triangle ne possède que les 3 lignes."
   ]
  },
  {
   "cell_type": "markdown",
   "metadata": {},
   "source": [
    "La tension aux bornes d'une source est appelée tension simple ou tension de phase, alors que la tension aux bornes de 2 lignes est appelée tension composée ou tension de ligne."
   ]
  },
  {
   "cell_type": "markdown",
   "metadata": {},
   "source": [
    "La définition précédente implique donc que:\n",
    "\n",
    "- pour la source en étoile, la tension de ligne $U_l$ est plus grande que la tension de phase $U_{ph}$ et vaut $U_l=\\sqrt{3}U_{ph}$\n",
    "- pour la source en triangle, la tension de ligne et la tension de phase sont identiques: $U_l = U_{ph}$"
   ]
  },
  {
   "cell_type": "markdown",
   "metadata": {},
   "source": [
    "### Charge triphasée"
   ]
  },
  {
   "cell_type": "markdown",
   "metadata": {},
   "source": [
    "Une charge triphasée est composée de 3 charges monophasées câblées soit en étoile, soit en triangle, comme sur la figure suivante:"
   ]
  },
  {
   "cell_type": "markdown",
   "metadata": {},
   "source": [
    "<img src=\"Images/Triphase/charge_triphase.png\" alt=\"Charge triphasée équilibrée\" width=\"800\">"
   ]
  },
  {
   "cell_type": "markdown",
   "metadata": {},
   "source": [
    "Les charges monophasées sont données par leur impédance $Z$. Lorsque les 3 charges possèdent la même impédance, la charge est dite équilibrée. Dans le cas contraire, elle est dite déséquilibrée."
   ]
  },
  {
   "cell_type": "markdown",
   "metadata": {},
   "source": [
    "Tout comme pour les sources triphasées, la tension aux bornes d'une charge monophasée est appelée tension de phase, alors que la tension aux bornes de 2 lignes est appelées tension de ligne."
   ]
  },
  {
   "cell_type": "markdown",
   "metadata": {},
   "source": [
    "Le courant passant à travers une ligne d'alimentation est appelé courant de ligne. Le courant passant à travers une charge est appelé courant de phase."
   ]
  },
  {
   "cell_type": "markdown",
   "metadata": {},
   "source": [
    "La définition précédente implique donc que:\n",
    "\n",
    "- pour la charge en triangle, le courant de ligne $I_l$ est plus grand que le courant de phase $I_{ph}$ et vaut $I_l=\\sqrt{3}I_{ph}$\n",
    "- pour la charge en étoile, le courant de ligne et le courant de phase sont identiques: $I_l=I_{ph}$"
   ]
  },
  {
   "cell_type": "markdown",
   "metadata": {},
   "source": [
    "### Circuit triphasé"
   ]
  },
  {
   "cell_type": "markdown",
   "metadata": {},
   "source": [
    "Un circuit triphasé est consitué au moins d'une source triphasée et d'une charge triphasée. Chacun des composant peut être câblé soit en étoile soit en triangle, ce qui fait 4 configurations différentes."
   ]
  },
  {
   "cell_type": "markdown",
   "metadata": {},
   "source": [
    "En pratique, le câblage de la source est souvent inintéressant car, ce qui importe, c'est le fait qu'on possède les 3 lignes (avec éventuellement le neutre), et la valeur de $U_l$, la tension de ligne. "
   ]
  },
  {
   "cell_type": "markdown",
   "metadata": {},
   "source": [
    "Afin qu'un circuit triphasé soit équilibré, il faut que la source ainsi que les charges soient équilibrées. Si un élément possède un déséquilibre, le circuit eniter sera dit déséquilibré."
   ]
  },
  {
   "cell_type": "markdown",
   "metadata": {},
   "source": [
    "Dans un circuit triphasé, les puissances sont définies ainsi:\n",
    "\n",
    "\\begin{align}\n",
    "  S &= 3U_{ph}I_{ph} = \\sqrt{3} U_l I_l \\\\\n",
    "  P &= 3U_{ph}I_{ph}\\cos(\\varphi) = \\sqrt{3} U_l I_l \\cos(\\varphi) \\\\\n",
    "  Q &= 3U_{ph}I_{ph}\\sin(\\varphi) = \\sqrt{3} U_l I_l \\sin(\\varphi)\n",
    "\\end{align}"
   ]
  },
  {
   "cell_type": "markdown",
   "metadata": {},
   "source": [
    "### Mesure de puissance"
   ]
  },
  {
   "cell_type": "markdown",
   "metadata": {},
   "source": [
    "En monophasé, la puissance active est mesurée à l'aide d'un wattmètre. Donc, lorsqu'on possède 2 fils, on utilise 1 wattmètre. En étendant la méthode, nous pouvons dire que pour un circuit possédant $N$ fils, il faut $N-1$ wattmètres."
   ]
  },
  {
   "cell_type": "markdown",
   "metadata": {},
   "source": [
    "La méthode la plus connue est la méthode des 2 wattmètres, représentée dans la figure suivante:"
   ]
  },
  {
   "cell_type": "markdown",
   "metadata": {},
   "source": [
    "<img src=\"Images/Triphase/methodes_2_wattmetres.png\" alt=\"Circuit triphasé équilibré\" width=\"800\">"
   ]
  },
  {
   "cell_type": "markdown",
   "metadata": {},
   "source": [
    "La puissance active totale vaut la somme des puissances indiquées par les 2 wattmètres, en tenant compte des signes de la mesure: $P_{3\\varphi}=P_{W_1}+P_{W_2}$"
   ]
  },
  {
   "cell_type": "markdown",
   "metadata": {},
   "source": [
    "### Câblage des charges "
   ]
  },
  {
   "cell_type": "markdown",
   "metadata": {},
   "source": [
    "En pratique, les charges triphasées possèdent des borniers semblables à ceux sur la figure suivante:"
   ]
  },
  {
   "cell_type": "markdown",
   "metadata": {},
   "source": [
    "<img src=\"Images/Triphase/bornier_triphase.png\" alt=\"Bornier d'une charge triphasée\" width=\"600\">"
   ]
  },
  {
   "cell_type": "markdown",
   "metadata": {},
   "source": [
    "La figure suivante montre les câblages étoile et triangle réalisés sur ces borniers."
   ]
  },
  {
   "cell_type": "markdown",
   "metadata": {},
   "source": [
    "<img src=\"Images/Triphase/cablage_bornier.png\" alt=\"Borniers câblés en étoile et triangle\" width=\"800\">"
   ]
  }
 ],
 "metadata": {
  "kernelspec": {
   "display_name": "Python 3",
   "language": "python",
   "name": "python3"
  },
  "language_info": {
   "codemirror_mode": {
    "name": "ipython",
    "version": 3
   },
   "file_extension": ".py",
   "mimetype": "text/x-python",
   "name": "python",
   "nbconvert_exporter": "python",
   "pygments_lexer": "ipython3",
   "version": "3.7.3"
  }
 },
 "nbformat": 4,
 "nbformat_minor": 4
}
