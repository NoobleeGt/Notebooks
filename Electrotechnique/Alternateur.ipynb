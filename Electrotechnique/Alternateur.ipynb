{
 "cells": [
  {
   "cell_type": "markdown",
   "metadata": {},
   "source": [
    "# Alternateur triphasé"
   ]
  },
  {
   "cell_type": "markdown",
   "metadata": {},
   "source": [
    "L'alternateur triphasé est une machine synchrone fonctionnant en génératrice. La machine synchrone est une machine tournante et réversible fonctionnant en alternatif."
   ]
  },
  {
   "cell_type": "markdown",
   "metadata": {},
   "source": [
    "## Construction"
   ]
  },
  {
   "cell_type": "markdown",
   "metadata": {},
   "source": [
    "La machine synchrone est constituée d'un stator triphasé et d'un rotor, comme toutes les machines tournantes."
   ]
  },
  {
   "cell_type": "markdown",
   "metadata": {},
   "source": [
    "### Stator"
   ]
  },
  {
   "cell_type": "markdown",
   "metadata": {},
   "source": [
    "Le stator de la machine synchrone est semblable à celui de la machine asynchrone. Il est rappelé dans la figure ci-dessous:"
   ]
  },
  {
   "cell_type": "markdown",
   "metadata": {},
   "source": [
    "<img src=\"Images/MAS/stator_triphase.png\" alt=\"Stator de machine triphasée\" width=\"300\">"
   ]
  },
  {
   "cell_type": "markdown",
   "metadata": {},
   "source": [
    "### Rotor"
   ]
  },
  {
   "cell_type": "markdown",
   "metadata": {},
   "source": [
    "Le rotor existe sous 2 formes:\n",
    "\n",
    "- le rotor à pôles lisses\n",
    "- le rotor à pôles saillants"
   ]
  },
  {
   "cell_type": "markdown",
   "metadata": {},
   "source": [
    "Le rotor à pôles lisses consiste simplement en un rotor possédant des encoches, dans lesquelles sont insérés des conducteurs."
   ]
  },
  {
   "cell_type": "markdown",
   "metadata": {},
   "source": [
    "Le rotor à pôles saillants, par contre, possède des pôles magnétiques visibles. La figure suivante représente un rotor à une paire de pôles:"
   ]
  },
  {
   "cell_type": "markdown",
   "metadata": {},
   "source": [
    "<img src=\"Images/Alternateur/rotor_saillant.png\" alt=\"Rotor à pôles saillants\" width=\"300\">"
   ]
  },
  {
   "cell_type": "markdown",
   "metadata": {},
   "source": [
    "## Fonctionnement"
   ]
  },
  {
   "cell_type": "markdown",
   "metadata": {},
   "source": [
    "L'alternateur a pour objectif de transformer une source d'énergie mécanique en source d'énergie électrique triphasée équilibrée."
   ]
  },
  {
   "cell_type": "markdown",
   "metadata": {},
   "source": [
    "### A vide"
   ]
  },
  {
   "cell_type": "markdown",
   "metadata": {},
   "source": [
    "Le fonctionnement de l'alternateur à vide est illustré à la figure suivante:"
   ]
  },
  {
   "cell_type": "markdown",
   "metadata": {},
   "source": [
    "<img src=\"Images/Alternateur/alternateur_vide.png\" alt=\"Fonctionnement de l'alternateur à vide\" width=\"300\">"
   ]
  },
  {
   "cell_type": "markdown",
   "metadata": {},
   "source": [
    "L'alternateur est d'abord mis en rotation par un couple extérieur. Une fois l'accélération terminée, l'alternateur tourne à vitesse constante $\\omega_r$."
   ]
  },
  {
   "cell_type": "markdown",
   "metadata": {},
   "source": [
    "Un courant continu, appelé courant d'excitation, est injecté dans les conducteurs du rotor. Un flux constant est donc généré par le rotor."
   ]
  },
  {
   "cell_type": "markdown",
   "metadata": {},
   "source": [
    "Les conducteurs du stator se retrouvent alors dans un flux tournant, générant une force électromotrice (tension) à leurs bornes. Les bobines du stator ne perçoivent que la composante consinusoïdale du flux."
   ]
  },
  {
   "cell_type": "markdown",
   "metadata": {},
   "source": [
    "Comme le flux tourne à vitesse constante, les bobines voient un flux cosinusoïdal les traversant. Par la loi de Lenz-Faraday, on a:\n",
    "\n",
    "$$ E = -N\\frac{d\\Phi}{dt} $$\n",
    "\n",
    "La tension générée au stator est donc sinusoïdale, de fréquence $\\omega = \\omega_r$."
   ]
  },
  {
   "cell_type": "markdown",
   "metadata": {},
   "source": [
    "Comme le stator possède 3 bobines décalées spatialement de $\\frac{2\\pi}{3}$, chaque bobine verra le même flux la traverser, retardé de $\\frac{2\\pi}{3}$. La tension triphasée générée est donc bien équilibrée."
   ]
  },
  {
   "cell_type": "markdown",
   "metadata": {},
   "source": [
    "#### Cas de paires de pôles multiples"
   ]
  },
  {
   "cell_type": "markdown",
   "metadata": {},
   "source": [
    "Dans le cas d'un nombre de paires de pôles supérieur à 1 ($p>1$), on peut aisément montrer que la pulsation de la tension générée sera égale à:\n",
    "\n",
    "$$ \\omega = p*\\omega_r $$"
   ]
  },
  {
   "cell_type": "markdown",
   "metadata": {},
   "source": [
    "La figure suivante montre un rotor à 2 paires de pôles:"
   ]
  },
  {
   "cell_type": "markdown",
   "metadata": {},
   "source": [
    "<img src=\"Images/Alternateur/rotor_saillant_2p.png\" alt=\"Rotor à pôles saillants à 2 paires de pôles\" width=\"200\">"
   ]
  },
  {
   "cell_type": "markdown",
   "metadata": {},
   "source": [
    "On remarque qu'il ne suffit plus que d'un demi-tour avant que le stator ne voit à nouveau la même configuration magnétique."
   ]
  },
  {
   "cell_type": "markdown",
   "metadata": {},
   "source": [
    "### En charge"
   ]
  },
  {
   "cell_type": "markdown",
   "metadata": {},
   "source": [
    "Lorsque l'alternateur est mis en charge, un courant se met à circuler depuis le stator vers la charge triphasée."
   ]
  },
  {
   "cell_type": "markdown",
   "metadata": {},
   "source": [
    "Ce courant génère à son tour un champ magnétique: on appelle ce phénomène *la réaction d'induit*."
   ]
  },
  {
   "cell_type": "markdown",
   "metadata": {},
   "source": [
    "En alternatif, il existe 3 cas de charges:\n",
    "\n",
    "- Résistif\n",
    "- Inductif\n",
    "- Capacitif"
   ]
  },
  {
   "cell_type": "markdown",
   "metadata": {},
   "source": [
    "La figure suivante représente l'alternateur dans les différents cas de charge:"
   ]
  },
  {
   "cell_type": "markdown",
   "metadata": {},
   "source": [
    "<img src=\"Images/Alternateur/alternateur_charge.png\" alt=\"Fonctionnement de l'alternateur en charge\" width=\"400\">"
   ]
  },
  {
   "cell_type": "markdown",
   "metadata": {},
   "source": [
    "Analysons chaque cas de charge séparément."
   ]
  },
  {
   "cell_type": "markdown",
   "metadata": {},
   "source": [
    "#### Charge résistive"
   ]
  },
  {
   "cell_type": "markdown",
   "metadata": {},
   "source": [
    "La méthodologie appliquée est la suivante:\n",
    "\n",
    "- la réaction d'induit dépend de l'intensité du courant d'armature $I$\n",
    "- le courant $I$ étant sinusoïdal, la réaction d'induit varie sinusoïdalement en fonction du temps; elle possède donc un maximum\n",
    "- l'effet maximal de la réaction d'induit est perçu lorsque le courant circulant dans un conducteur est maximum"
   ]
  },
  {
   "cell_type": "markdown",
   "metadata": {},
   "source": [
    "Cherchons donc le conducteur dans lequel circule le courant maximum."
   ]
  },
  {
   "cell_type": "markdown",
   "metadata": {},
   "source": [
    "Tout d'abord, il est à remarquer que dans la situation proposée dans la figure, la tension est maximale sortante sur le conducteur $b$ et maximale entrante sur le conducteur $b'$. La tension ne dépendant pas de la charge, cette affirmation sera aussi vraie dans les cas suivants."
   ]
  },
  {
   "cell_type": "markdown",
   "metadata": {},
   "source": [
    "Comme le courant et la tension sont en phase dans une charge résistive, cela signifie qu'à l'instant représenté dans la figure, le courant est sortat en $b$. La réaction d'induit est représentée par la ligne de champ orangée."
   ]
  },
  {
   "cell_type": "markdown",
   "metadata": {},
   "source": [
    "On retrouve le cas d'une génératrice DC; le haut de la machine se magnétise alors que le bas se démagnétise. A cause de la saturation du matériau, la démagnétisation a un effet plus important que la magnétisation. Le flux total diminue donc."
   ]
  },
  {
   "cell_type": "markdown",
   "metadata": {},
   "source": [
    "#### Charge inductive"
   ]
  },
  {
   "cell_type": "markdown",
   "metadata": {},
   "source": [
    "Cette fois-ci, le courant est en retard de $\\frac{\\pi}{2}$ par rapport à la tension. Comme la machine ne possède qu'une paire de pôles, les angles mécaniques et électriques sont égaux. Le courant maximal se trouve donc sur le conducteur $a$."
   ]
  },
  {
   "cell_type": "markdown",
   "metadata": {},
   "source": [
    "Le champ représenté en rouge montre une réaction d'induit fortement démagnétisante; les lignes de champ générées s'opposent au flux principal dans le rotor et dans le stator."
   ]
  },
  {
   "cell_type": "markdown",
   "metadata": {},
   "source": [
    "#### Charge capacitive"
   ]
  },
  {
   "cell_type": "markdown",
   "metadata": {},
   "source": [
    "Cette fois-ci, le courant est en avance de $\\frac{\\pi}{2}$ par rapport à la tension. Comme la machine ne possède qu'une paire de pôles, les angles mécaniques et électriques sont égaux. Le courant maximal se trouve donc sur le conducteur $a'$."
   ]
  },
  {
   "cell_type": "markdown",
   "metadata": {},
   "source": [
    "Le champ représenté en vert montre une réaction d'induit magnétisante; les lignes de champ générées s'ajoutent au flux principal dans le rotor et dans le stator. Cependant, à cause de la saturation du matériau, la réaction d'induit sera limitée."
   ]
  },
  {
   "cell_type": "markdown",
   "metadata": {},
   "source": [
    "#### Résumé"
   ]
  },
  {
   "cell_type": "markdown",
   "metadata": {},
   "source": [
    "L'effet de la réaction en fonction du cas de charge est résumé dans le tableau suivant:\n",
    "\n",
    "| Charge | Réaction d'induit |\n",
    "| :-: | :-: |\n",
    "| R | démagnétisante |\n",
    "| L | démagnétisante ++ |\n",
    "| C | magnétisante |"
   ]
  },
  {
   "cell_type": "markdown",
   "metadata": {},
   "source": [
    "## Schéma équivalent"
   ]
  },
  {
   "cell_type": "markdown",
   "metadata": {},
   "source": [
    "Tout comme pour les autres machines, la machine synchrone est représentée par un schéma électrique équivalent. Ce dernier représente *une phase de l'étoile équivalente de la machine synchrone*."
   ]
  },
  {
   "cell_type": "markdown",
   "metadata": {},
   "source": [
    "Le schéma équivalent est donné dans la figure suivante:"
   ]
  },
  {
   "cell_type": "markdown",
   "metadata": {},
   "source": [
    "<img src=\"Images/Alternateur/schema_equivalent.png\" alt=\"Schéma équivalent de l'alternateur\" width=\"300\">"
   ]
  },
  {
   "cell_type": "markdown",
   "metadata": {},
   "source": [
    "Ce schéma est très simple. Il ne possède que 2 éléments:\n",
    "\n",
    "- $E$: la force électromotrice (tension) générée par les bobines statoriques\n",
    "- $X_S$: la réactance synchrone, représentant l'inductance de fuite du stator et la réaction d'induit, mises en série"
   ]
  },
  {
   "cell_type": "markdown",
   "metadata": {},
   "source": [
    "La résistance statorique étant généralement faible comparée à $X_S$, elle est négligée dans le schéma équivalent."
   ]
  }
 ],
 "metadata": {
  "kernelspec": {
   "display_name": "Python 3",
   "language": "python",
   "name": "python3"
  },
  "language_info": {
   "codemirror_mode": {
    "name": "ipython",
    "version": 3
   },
   "file_extension": ".py",
   "mimetype": "text/x-python",
   "name": "python",
   "nbconvert_exporter": "python",
   "pygments_lexer": "ipython3",
   "version": "3.7.3"
  },
  "latex_metadata": {
   "affiliation": "Stanford University",
   "author": "M H Goerz",
   "title": "An example notebook"
  }
 },
 "nbformat": 4,
 "nbformat_minor": 4
}
