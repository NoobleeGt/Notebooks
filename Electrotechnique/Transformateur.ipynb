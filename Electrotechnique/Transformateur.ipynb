{
 "cells": [
  {
   "cell_type": "markdown",
   "metadata": {},
   "source": [
    "# Transformateur monophasé"
   ]
  },
  {
   "cell_type": "markdown",
   "metadata": {},
   "source": [
    "Un transformateur est une machine électrique statique réversible permettant la conversion d'un niveau de tension alternative à un autre niveau de tension alternative."
   ]
  },
  {
   "cell_type": "markdown",
   "metadata": {},
   "source": [
    "Un transformateur ne peut pas fonctionner en continu!"
   ]
  },
  {
   "cell_type": "markdown",
   "metadata": {},
   "source": [
    "## Construction"
   ]
  },
  {
   "cell_type": "markdown",
   "metadata": {},
   "source": [
    "Un transformateur est constitué d'un circuit magnétique fermé et de 2 bobines, comme sur la figure suivante:"
   ]
  },
  {
   "cell_type": "markdown",
   "metadata": {},
   "source": [
    "<img src=\"Images/Transfo/transfo_mono.png\" alt=\"Transformateur monophasé\" width=\"400\">"
   ]
  },
  {
   "cell_type": "markdown",
   "metadata": {},
   "source": [
    "Le schéma contient les éléments suivants:\n",
    "\n",
    "- un circuit magnétique fermé\n",
    "- une bobine du côté primaire, composée de $N_1$ spires\n",
    "- une bobine du côté secondaire, composée de $N_2$ spires"
   ]
  },
  {
   "cell_type": "markdown",
   "metadata": {},
   "source": [
    "## Fonctionnement"
   ]
  },
  {
   "cell_type": "markdown",
   "metadata": {},
   "source": [
    "Le transformateur doit être alimenté du côté primaire par une source de tension alternative."
   ]
  },
  {
   "cell_type": "markdown",
   "metadata": {},
   "source": [
    "On suppose le transformateur idéal, c'est-à-dire:\n",
    "\n",
    "- les bobines ont une résistance $R$ nulle\n",
    "- le coefficient d'auto-inductance $L$ des bobines est infini\n",
    "- le matériau magnétique possède une réluctance magnétique $\\mathscr{R}$ nulle"
   ]
  },
  {
   "cell_type": "markdown",
   "metadata": {},
   "source": [
    "### A vide"
   ]
  },
  {
   "cell_type": "markdown",
   "metadata": {},
   "source": [
    "Le fonctionnement du transformateur à vide est illustré à la figure suivante:"
   ]
  },
  {
   "cell_type": "markdown",
   "metadata": {},
   "source": [
    "<img src=\"Images/Transfo/transfo_vide.png\" alt=\"Fonctionnement du transformateur à vide\" width=\"500\">"
   ]
  },
  {
   "cell_type": "markdown",
   "metadata": {},
   "source": [
    "Tout d'abord, la tension d'alimentation $U_1$ étant sinusoïdale, un flux est généré par la bobine au primaire par la loi de Lenz-Faraday:\n",
    "\n",
    "$$ E_1 = -N_1 \\frac{d\\Phi_0}{dt} $$"
   ]
  },
  {
   "cell_type": "markdown",
   "metadata": {},
   "source": [
    "Le matériau étant idéal, le flux est intégralement capté par le circuit magnétique. La bobine secondaire voit donc le flux la traverser."
   ]
  },
  {
   "cell_type": "markdown",
   "metadata": {},
   "source": [
    "Comme le flux est variable, ue tension est générée au secondaire, toujours par la même loi de Lenz-Faraday:\n",
    "\n",
    "$$ E_2 = -N_2 \\frac{d\\Phi_0}{dt} $$"
   ]
  },
  {
   "cell_type": "markdown",
   "metadata": {},
   "source": [
    "Les tensions primaires et secondaires sont donc liées entre-elles par le flux magnétique. En isolant la variation de flux des formules précédentes, on obtient:\n",
    "\n",
    "$$ -\\frac{d\\Phi_0}{dt} = \\frac{E_1}{N_1} = \\frac{E_2}{N_2} $$"
   ]
  },
  {
   "cell_type": "markdown",
   "metadata": {},
   "source": [
    "On obtient donc le résultat suivant:\n",
    "\n",
    "$$ \\frac{E_1}{E_2} = \\frac{N_1}{N_2} = k $$\n",
    "\n",
    "La constante $k$ est appelée rapport de transformation."
   ]
  },
  {
   "cell_type": "markdown",
   "metadata": {},
   "source": [
    "Il est à remarquer qu'à ce stade de l'étude, le transformateur étant idéal et à vide, aucun courant ne circule ni au primaire, ni au secondaire."
   ]
  },
  {
   "cell_type": "markdown",
   "metadata": {},
   "source": [
    "### En charge"
   ]
  },
  {
   "cell_type": "markdown",
   "metadata": {},
   "source": [
    "Le fonctionnement du transformateur en charge est illustré dans la figure suivante:"
   ]
  },
  {
   "cell_type": "markdown",
   "metadata": {},
   "source": [
    "<img src=\"Images/Transfo/transfo_charge.png\" alt=\"Fonctionnement du transformateur en charge\" width=\"500\">"
   ]
  },
  {
   "cell_type": "markdown",
   "metadata": {},
   "source": [
    "En connectant une charge électrique (ici une ampoule), un courant $I_2$ se met à circuler dans le secondaire."
   ]
  },
  {
   "cell_type": "markdown",
   "metadata": {},
   "source": [
    "Ce courant $I_2$ génère un flux $\\Phi_2$ s'opposant à ce qui lui a donné naissance. Autrement, dit, il est dirigé dans le sens opposé à $\\Phi_0$."
   ]
  },
  {
   "cell_type": "markdown",
   "metadata": {},
   "source": [
    "Le flux magnétique totale au sein du circuit magnétique semble, à ce stade, avoir diminué. Or, il se trouve que le flux ne peux pas diminuer car la loi de Lenz-Faraday impose une proportionnalité entre $U_1$ et $\\Phi$."
   ]
  },
  {
   "cell_type": "markdown",
   "metadata": {},
   "source": [
    "Afin de retourner à l'équilibre et ainsi respecter la loi de Lenz-Faraday, un courant $I_1$ circule au primaire, permettant de générer un flux $\\Phi_1$ annulant le flux $\\Phi_2$."
   ]
  },
  {
   "cell_type": "markdown",
   "metadata": {},
   "source": [
    "Le transformateur fonctionne donc à flux constant."
   ]
  },
  {
   "cell_type": "markdown",
   "metadata": {},
   "source": [
    "Comme le transformateur est considéré idéal, la puissance au primaire est intégralement passée au secondaire. On peut donc écrire:\n",
    "\n",
    "$$ E_1 I_1 = E_2 I_2 $$"
   ]
  },
  {
   "cell_type": "markdown",
   "metadata": {},
   "source": [
    "On en tire donc que:\n",
    "\n",
    "$$ \\frac{E_1}{E_2} = \\frac{I_2}{I_1} = \\frac{N_1}{N_2} = k $$"
   ]
  },
  {
   "cell_type": "markdown",
   "metadata": {},
   "source": [
    "## Transformateur réel"
   ]
  },
  {
   "cell_type": "markdown",
   "metadata": {},
   "source": [
    "### Pertes"
   ]
  },
  {
   "cell_type": "markdown",
   "metadata": {},
   "source": [
    "Le transformateur réel possède différentes imperfections, menant aux pertes suivantes:\n",
    "\n",
    "- pertes Joules au primaire et au secondaire\n",
    "- pertes par flux de fuite\n",
    "- pertes fer (par hystérésis et courant de Foucault)"
   ]
  },
  {
   "cell_type": "markdown",
   "metadata": {},
   "source": [
    "### Schéma équivalent"
   ]
  },
  {
   "cell_type": "markdown",
   "metadata": {},
   "source": [
    "Afin de modéliser le transformateur, on représente son fonctionnement par un circuit électrique équivalent. L'idée est que ce circuit permette d'estimer, pour une charge donnée, les pertes dans le transformateur ainsi que la chute de tension entre primaire et secondaire."
   ]
  },
  {
   "cell_type": "markdown",
   "metadata": {},
   "source": [
    "Ce circuit électrique est appelé *schéma électrique équivalent du transformateur, vu du primaire*. Il est aussi possible de représenter le schéma équivalent vu du secondaire."
   ]
  },
  {
   "cell_type": "markdown",
   "metadata": {},
   "source": [
    "La figure suivante représente le schéma équivalent:"
   ]
  },
  {
   "cell_type": "markdown",
   "metadata": {},
   "source": [
    "<img src=\"Images/Transfo/schema_equivalent_transfo.png\" alt=\"Schéma équivalent du transformateur\" width=\"600\">"
   ]
  },
  {
   "cell_type": "markdown",
   "metadata": {},
   "source": [
    "Dans ce schéma, on retrouve:\n",
    "\n",
    "- $R_1$, la résistance des enroulements au primaire\n",
    "- $X_1$, la réactance de fuite du primaire\n",
    "- $R_{\\mu}$, les pertes fer (hystérésis et courant de foucault)\n",
    "- $X_{\\mu}$, la réactance magnétisante\n",
    "- $X_2'$, la réactance de fuite du secondaire, ramenée au primaire\n",
    "- $R_2'$, la résistance du secondaire, ramenée au primaire"
   ]
  },
  {
   "cell_type": "markdown",
   "metadata": {},
   "source": [
    "On peut démontrer que les éléments du secondaire ont été transformés de la manière suivante:\n",
    "\n",
    "\\begin{align}\n",
    "  U_2' &= k U_2 \\\\\n",
    "  I_2' &= \\frac{I_2}{k} \\\\\n",
    "  R_2' &= k^2 R_2 \\\\\n",
    "  X_2' &= k^2 X_2\n",
    "\\end{align}"
   ]
  },
  {
   "cell_type": "markdown",
   "metadata": {},
   "source": [
    "En général, le courant circulant dans les branches $R_{\\mu}$ et $X_{\\mu}$ est tellement faible qu'on se permet la simplification suivante:"
   ]
  },
  {
   "cell_type": "markdown",
   "metadata": {},
   "source": [
    "<img src=\"Images/Transfo/schema_equivalent_simpl.png\" alt=\"Schéma équivalent simplifié du transformateur\" width=\"500\">"
   ]
  },
  {
   "cell_type": "markdown",
   "metadata": {},
   "source": [
    "Dans ce schéma, $R_s=R_1+R_2'$ et $X_s=X_1+X_2'$."
   ]
  },
  {
   "cell_type": "markdown",
   "metadata": {},
   "source": [
    "## Détermination des paramètres du schéma équivalent"
   ]
  },
  {
   "cell_type": "markdown",
   "metadata": {},
   "source": [
    "A partir du schéma équivalent simplifié, il est possible d'estimer les paramètres à partir d'essais expérimentaux."
   ]
  },
  {
   "cell_type": "markdown",
   "metadata": {},
   "source": [
    "### Essai à vide"
   ]
  },
  {
   "cell_type": "markdown",
   "metadata": {},
   "source": [
    "Lors d'un essai à vide, le courant $I_2'$ est nul et le schéma équivalent simplifié devient:"
   ]
  },
  {
   "cell_type": "markdown",
   "metadata": {},
   "source": [
    "<img src=\"Images/Transfo/essai_vide.png\" alt=\"Essai à vide\" width=\"300\">"
   ]
  },
  {
   "cell_type": "markdown",
   "metadata": {},
   "source": [
    "En mesurant la tension $U_2'$, le courant $I_1$ et la puissance active $P$, on obtient $R_{\\mu}$ et $X_{\\mu}$ par les formules suivantes:\n",
    "\n",
    "\\begin{align}\n",
    "  R_{\\mu} &= \\frac{U_2'^2}{P} \\\\\n",
    "  X_{\\mu} &= \\frac{U_2'^2}{Q}\n",
    "\\end{align}"
   ]
  },
  {
   "cell_type": "markdown",
   "metadata": {},
   "source": [
    "L'essai est effectué à tension nominale."
   ]
  },
  {
   "cell_type": "markdown",
   "metadata": {},
   "source": [
    "### Essai en court-circuit"
   ]
  },
  {
   "cell_type": "markdown",
   "metadata": {},
   "source": [
    "Lors d'un essai en court-circuit, le courant $I_2'$ étant bien plus important que le courant dans les branches $R_{\\mu}$ et $X_{\\mu}$, le schéma devient:"
   ]
  },
  {
   "cell_type": "markdown",
   "metadata": {},
   "source": [
    "<img src=\"Images/Transfo/essai_cc.png\" alt=\"Essai en court-circuit\" width=\"300\">"
   ]
  },
  {
   "cell_type": "markdown",
   "metadata": {},
   "source": [
    "En mesurant la tension $U_1$, le courant $I_2'$ et la puissance $P$, on obtient $R_s$ et $X_s$ par les formules suivantes:\n",
    "\n",
    "\\begin{align}\n",
    "  R_s &= \\frac{P}{I_2'^2} \\\\\n",
    "  X_s &= \\frac{Q}{I_2'^2}\n",
    "\\end{align}"
   ]
  }
 ],
 "metadata": {
  "kernelspec": {
   "display_name": "Python 3",
   "language": "python",
   "name": "python3"
  },
  "language_info": {
   "codemirror_mode": {
    "name": "ipython",
    "version": 3
   },
   "file_extension": ".py",
   "mimetype": "text/x-python",
   "name": "python",
   "nbconvert_exporter": "python",
   "pygments_lexer": "ipython3",
   "version": "3.7.3"
  }
 },
 "nbformat": 4,
 "nbformat_minor": 4
}
